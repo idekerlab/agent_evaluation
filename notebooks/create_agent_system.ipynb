{
 "cells": [
  {
   "cell_type": "markdown",
   "metadata": {},
   "source": [
    "# Notebook for create multiple agent for hypothesis\n",
    "\n",
    "1 agent for summarize imformation from the gene list (similar to the one we used for the llm eval paper)\n",
    "\n",
    "1 agent fact-check the find references.\n",
    "\n",
    "1 agent to create a pathway knowledge graph (following the INDRA terms)\n",
    "\n",
    "1 agent to create hypothesis statement summarizing known information \n",
    "\n",
    "    * additional agent to check novelty (that should be context specific), \n",
    "        * Is the hypothesis already supported in the form of paper? \n",
    "        * If no, likly novel \n",
    "        * If yes, Is it in the same context? if no, also novel (more plausible hypothesis if in a similar context but not this specific context), if yes, then not novel \n",
    "\n",
    "1 agent to propose experiments\n",
    "\n",
    "\n",
    "\n",
    "Use generalized context but add one specific sentence to differentiate:\n",
    "\n",
    "For fact summarization: \"In this instance, your task is to provide a factual summary of the known facts based on given information. Stick to well-established, scientifically accepted information without speculation.\"\n",
    "\n",
    "For knowledge graph creation: \"In this instance, your task is to create a knowledge graph representing the relationships and interactions between the given entities, focusing on functional or physical associations, regulatory relationships, and pathway involvements in the given biological context.\"\n",
    "\n",
    "For hypothesis generation: \"In this instance, your task is to generate creative yet scientifically plausible hypotheses about potential new functions for the given genes. While your ideas should be grounded in biological principles, you're encouraged to propose novel connections and functions.\"\n",
    "\n"
   ]
  },
  {
   "cell_type": "code",
   "execution_count": 1,
   "metadata": {},
   "outputs": [
    {
     "name": "stdout",
     "output_type": "stream",
     "text": [
      "/Users/clara.h/Documents/git_src/agent_evaluation/notebooks\n",
      "/Users/clara.h/Documents/git_src/agent_evaluation\n",
      "['/Users/clara.h/Documents/git_src/agent_evaluation/notebooks', '/Users/clara.h/anaconda3/envs/agent_eval/lib/python311.zip', '/Users/clara.h/anaconda3/envs/agent_eval/lib/python3.11', '/Users/clara.h/anaconda3/envs/agent_eval/lib/python3.11/lib-dynload', '', '/Users/clara.h/anaconda3/envs/agent_eval/lib/python3.11/site-packages', '/Users/clara.h/anaconda3/envs/agent_eval/lib/python3.11/site-packages/setuptools/_vendor', '/Users/clara.h/Documents/git_src/agent_evaluation']\n"
     ]
    }
   ],
   "source": [
    "import sys\n",
    "import os\n",
    "\n",
    "# Add the parent directory of the current script to the Python path\n",
    "cwd = os.getcwd()\n",
    "dirname = os.path.dirname(cwd)\n",
    "print(cwd)\n",
    "print(dirname)\n",
    "sys.path.append(dirname)\n",
    "\n",
    "print(sys.path)"
   ]
  },
  {
   "cell_type": "code",
   "execution_count": 6,
   "metadata": {},
   "outputs": [],
   "source": [
    "# Load database\n",
    "\n",
    "from models.analysis_plan import AnalysisPlan\n",
    "from services.analysisrunner import AnalysisRunner\n",
    "from app.sqlite_database import SqliteDatabase\n",
    "from app.config import load_database_uri\n",
    "%reload_ext autoreload\n",
    "%autoreload 2\n",
    "\n",
    "database_uri = load_database_uri()\n",
    "db = SqliteDatabase(database_uri)"
   ]
  },
  {
   "cell_type": "markdown",
   "metadata": {},
   "source": [
    "### check available LLMs"
   ]
  },
  {
   "cell_type": "code",
   "execution_count": 7,
   "metadata": {},
   "outputs": [
    {
     "data": {
      "text/plain": [
       "{'GPT_4o_t0': 'llm_e7742ff2-83ac-4dd7-b7e7-cedb0a0dd2cd',\n",
       " 'Claude3.5_sonnet_t0': 'llm_ab57131f-b207-4583-86a6-e33b8644a189'}"
      ]
     },
     "execution_count": 7,
     "metadata": {},
     "output_type": "execute_result"
    }
   ],
   "source": [
    "llm_specs = db.find(\"llm\")\n",
    "llm_mappings = {}\n",
    "for llm_spec in llm_specs:\n",
    "    llm_id = llm_spec[\"object_id\"]\n",
    "    llm_properties = llm_spec[\"properties\"]\n",
    "    # print(llm_properties)       \n",
    "    # only for temperature = 0\n",
    "    if llm_properties[\"temperature\"] != '0':\n",
    "        continue\n",
    "    llm_name = llm_properties[\"name\"]\n",
    "    llm_mappings[llm_name] = llm_id\n",
    "\n",
    "llm_mappings"
   ]
  },
  {
   "cell_type": "markdown",
   "metadata": {},
   "source": [
    "## the gene set function summarization agent "
   ]
  },
  {
   "cell_type": "code",
   "execution_count": 18,
   "metadata": {},
   "outputs": [
    {
     "data": {
      "text/plain": [
       "\"You are an advanced researcher specializing in molecular biology, part of a multi-agent system designed to analyze scientific information. Your ultimate goal is to contribute to the development of plausible, actionable hypotheses for research and potential therapies. Your specific task will vary and may include summarizing facts, verifying information, creating knowledge graphs, or generating hypotheses. Always base your responses on well-established scientific knowledge and peer-reviewed research. Clearly distinguish between verified facts and theoretical concepts. If information is uncertain or speculative, explicitly state so. Maintain scientific rigor in all tasks. If presented with nonsensical, non-scientific, or non-factual questions, respond with \\\\'Unknown\\\\'.\""
      ]
     },
     "execution_count": 18,
     "metadata": {},
     "output_type": "execute_result"
    }
   ],
   "source": [
    "def templateIO(file):\n",
    "    with open(file, \"r\") as f:\n",
    "        return f.read()\n",
    "\n",
    "# load the multiagent context file \n",
    "context = templateIO(\"../prompts/contexts/multiagent_context.txt\") \n",
    "context"
   ]
  },
  {
   "cell_type": "code",
   "execution_count": 49,
   "metadata": {},
   "outputs": [
    {
     "data": {
      "text/plain": [
       "{'gene_set_summarizer1_GPT_4o_t0': {'context': \"You are an advanced researcher specializing in molecular biology, part of a multi-agent system designed to analyze scientific information. Your ultimate goal is to contribute to the development of plausible, actionable hypotheses for research and potential therapies. Your specific task will vary and may include summarizing facts, verifying information, creating knowledge graphs, or generating hypotheses. Always base your responses on well-established scientific knowledge and peer-reviewed research. Clearly distinguish between verified facts and theoretical concepts. If information is uncertain or speculative, explicitly state so. Maintain scientific rigor in all tasks. If presented with nonsensical, non-scientific, or non-factual questions, respond with \\\\'Unknown\\\\'.\",\n",
       "  'prompt_template': '<data>\\n{data}\\n</data>\\n\\n<experiment_description>\\nThe genes/proteins that were identified as described:\\n{experiment_description}\\n</experiment_description>\\n\\n<biological_context>\\nThe biological context is: {biological_context}\\n</biological_context>\\n\\n<task>\\nWrite a concise yet comprehensive overview of the biological roles performed by the provided set of genes or proteins, adhering to the given biological context (if provided).\\n</task>\\n\\n<detailed_instructions>\\nReview the provided list of genes/proteins and experiment description\\nReview your knowledge of these proteins\\' functions, cellular locations, and known interactions or pathways. \\nBase your analysis only on well-established factual information from your training data and avoid making speculative statements. \\nThink step by step to develop ideas for how they may be working together, considering the biological context provided (if any). \\nAvoid vague and overly general statements such as \\'the proteins are involved in various/ multiple cellular processes\\'.\\nPlease note which proteins are not included in common functions and mechanisms. Or if a protein\\'s role in the given context is not well-established, state this explicitly.\\n\\nIf more than one biological processes are involved, for each:\\na. Create a concise yet descriptive name that captures the specific mechanism.\\nb. List the proteins involved using official HGNC gene symbols.\\nc. Provide a detailed analysis of how these proteins interact and function together in this process.You may consider, but are not limited to:\\n    - Specific protein-protein interactions\\n    - Post-translational modifications \\n    - Regulatory relationships\\n    - Upstream and downstream pathways and theircomponents\\n    - Subcellular localization relevant to the process\\n\\nUse the output format described below to output your analysis as a JSON object that associates process names with (1) a list of official HGNC gene symbols (participating proteins) and (2) supporting analysis text. ONLY output the JSON object.\\n</detailed_instructions>\\n\\n<output_format>\\n{{\\n    \"SIRT1-centered stress response\": {{\\n    \"proteins\": [\"SIRT1\", \"JNK\", \"MTOR\"],\\n    \"analysis\": \"SIRT1 acts as a hub in stress response regulation, with its activity modulated by multiple post translational modifications. JNK phosphorylates SIRT1, activating its deacetylase activity in response to oxidative stress. MTOR also phosphorylates SIRT1, but suppress its deacetylase activity.\"\\n    }},\\n    \"SIRT1-PARP1 mediated DNA damage response via NBS1\":{{\\n    \"proteins\": [\"SIRT1\", \"PARP1\", \"ATM\", \"NBS1\"],\\n    \"analysis\": \"SIRT1 and PARP1 are involved in the DNA damage response. PARP1 binds to ATM in response to DNA damage, leading to ATM activation. Activated ATM phosphorylates NBS1, activating its response to DNA damage response. Meanwhile, SIRT1 deacetylates NBS1, maintaining its active state to ensure effective DNA damage response \"\\n    }}\\n}}\\n</output_format>\\n\\n<guidelines>\\n- Stick to factual information.\\n- Be specific and concise.\\n- If you can\\'t identify clear processes or relationships, state this explicitly as \\\\\\'system of unrelated proteins\\\\\\'.\\n- Include an \\\\\\'Unrelated or unclear proteins\\\\\\' section if there are list of proteins or individual proteins that are not clearly related with other proteins or not clearly related to the biological context.\\n- If no biological context is provided but seems necessary, add your proposed biological context in parentheses after the name, i.e. \\\\\"DNA Repair (Chemotherapy response)\\\\\".\\n</guidelines>',\n",
       "  'llm_id': 'llm_e7742ff2-83ac-4dd7-b7e7-cedb0a0dd2cd',\n",
       "  'description': 'Multi agent system -gene_set_summarizer1- using GPT_4o_t0'},\n",
       " 'gene_set_summarizer1_Claude3.5_sonnet_t0': {'context': \"You are an advanced researcher specializing in molecular biology, part of a multi-agent system designed to analyze scientific information. Your ultimate goal is to contribute to the development of plausible, actionable hypotheses for research and potential therapies. Your specific task will vary and may include summarizing facts, verifying information, creating knowledge graphs, or generating hypotheses. Always base your responses on well-established scientific knowledge and peer-reviewed research. Clearly distinguish between verified facts and theoretical concepts. If information is uncertain or speculative, explicitly state so. Maintain scientific rigor in all tasks. If presented with nonsensical, non-scientific, or non-factual questions, respond with \\\\'Unknown\\\\'.\",\n",
       "  'prompt_template': '<data>\\n{data}\\n</data>\\n\\n<experiment_description>\\nThe genes/proteins that were identified as described:\\n{experiment_description}\\n</experiment_description>\\n\\n<biological_context>\\nThe biological context is: {biological_context}\\n</biological_context>\\n\\n<task>\\nWrite a concise yet comprehensive overview of the biological roles performed by the provided set of genes or proteins, adhering to the given biological context (if provided).\\n</task>\\n\\n<detailed_instructions>\\nReview the provided list of genes/proteins and experiment description\\nReview your knowledge of these proteins\\' functions, cellular locations, and known interactions or pathways. \\nBase your analysis only on well-established factual information from your training data and avoid making speculative statements. \\nThink step by step to develop ideas for how they may be working together, considering the biological context provided (if any). \\nAvoid vague and overly general statements such as \\'the proteins are involved in various/ multiple cellular processes\\'.\\nPlease note which proteins are not included in common functions and mechanisms. Or if a protein\\'s role in the given context is not well-established, state this explicitly.\\n\\nIf more than one biological processes are involved, for each:\\na. Create a concise yet descriptive name that captures the specific mechanism.\\nb. List the proteins involved using official HGNC gene symbols.\\nc. Provide a detailed analysis of how these proteins interact and function together in this process.You may consider, but are not limited to:\\n    - Specific protein-protein interactions\\n    - Post-translational modifications \\n    - Regulatory relationships\\n    - Upstream and downstream pathways and theircomponents\\n    - Subcellular localization relevant to the process\\n\\nUse the output format described below to output your analysis as a JSON object that associates process names with (1) a list of official HGNC gene symbols (participating proteins) and (2) supporting analysis text. ONLY output the JSON object.\\n</detailed_instructions>\\n\\n<output_format>\\n{{\\n    \"SIRT1-centered stress response\": {{\\n    \"proteins\": [\"SIRT1\", \"JNK\", \"MTOR\"],\\n    \"analysis\": \"SIRT1 acts as a hub in stress response regulation, with its activity modulated by multiple post translational modifications. JNK phosphorylates SIRT1, activating its deacetylase activity in response to oxidative stress. MTOR also phosphorylates SIRT1, but suppress its deacetylase activity.\"\\n    }},\\n    \"SIRT1-PARP1 mediated DNA damage response via NBS1\":{{\\n    \"proteins\": [\"SIRT1\", \"PARP1\", \"ATM\", \"NBS1\"],\\n    \"analysis\": \"SIRT1 and PARP1 are involved in the DNA damage response. PARP1 binds to ATM in response to DNA damage, leading to ATM activation. Activated ATM phosphorylates NBS1, activating its response to DNA damage response. Meanwhile, SIRT1 deacetylates NBS1, maintaining its active state to ensure effective DNA damage response \"\\n    }}\\n}}\\n</output_format>\\n\\n<guidelines>\\n- Stick to factual information.\\n- Be specific and concise.\\n- If you can\\'t identify clear processes or relationships, state this explicitly as \\\\\\'system of unrelated proteins\\\\\\'.\\n- Include an \\\\\\'Unrelated or unclear proteins\\\\\\' section if there are list of proteins or individual proteins that are not clearly related with other proteins or not clearly related to the biological context.\\n- If no biological context is provided but seems necessary, add your proposed biological context in parentheses after the name, i.e. \\\\\"DNA Repair (Chemotherapy response)\\\\\".\\n</guidelines>',\n",
       "  'llm_id': 'llm_ab57131f-b207-4583-86a6-e33b8644a189',\n",
       "  'description': 'Multi agent system -gene_set_summarizer1- using Claude3.5_sonnet_t0'}}"
      ]
     },
     "execution_count": 49,
     "metadata": {},
     "output_type": "execute_result"
    }
   ],
   "source": [
    "# create the agents \n",
    "from glob import glob\n",
    "\n",
    "\n",
    "prompt_template_file = '../prompts/analysts/gene_set_summarizer.txt'\n",
    "prompt_template = templateIO(prompt_template_file)\n",
    "# create analyst_specs\n",
    "analyst_specs = {}\n",
    "\n",
    "context = templateIO(\"../prompts/contexts/multiagent_context.txt\") \n",
    "analyst_name = \"gene_set_summarizer1\" #updated the summarizer prompt examples, so make new agents\n",
    "# analyst_name = \" \".join(analyst_name)\n",
    "\n",
    "# updating existing agents with new prompts\n",
    "\n",
    "for llm in llm_mappings.keys(): # just use Claude3.5 and GPT4o at t = 0 for deterministic results\n",
    "    # print(analyst_name, llm)\n",
    "    name = f\"{analyst_name}_{llm}\"\n",
    "    analyst_specs[name] = {\n",
    "        \"context\": context,\n",
    "        \"prompt_template\": prompt_template,\n",
    "        \"llm_id\": llm_mappings[llm],\n",
    "        \"description\": \"Multi agent system -\" + analyst_name + \"- using \" + llm\n",
    "    }\n",
    "\n",
    "analyst_specs\n"
   ]
  },
  {
   "cell_type": "code",
   "execution_count": 50,
   "metadata": {},
   "outputs": [],
   "source": [
    "Update_existing_agents = True"
   ]
  },
  {
   "cell_type": "code",
   "execution_count": 51,
   "metadata": {},
   "outputs": [
    {
     "name": "stdout",
     "output_type": "stream",
     "text": [
      "Updating agent: gene_set_summarizer1_GPT_4o_t0\n",
      "Updating agent: gene_set_summarizer1_Claude3.5_sonnet_t0\n"
     ]
    }
   ],
   "source": [
    "from models.agent import Agent\n",
    "\n",
    "existing_agents = db.find(\"agent\")\n",
    "existing_agent_names = [agent[\"properties\"][\"name\"] for agent in existing_agents]\n",
    "analysts = {}\n",
    "# existing_agent_names \n",
    "if Update_existing_agents:\n",
    "    for name, spec in analyst_specs.items():\n",
    "        \n",
    "        if name in existing_agent_names:\n",
    "            print(f\"Updating agent: {name}\")\n",
    "            agent_id = [agent[\"object_id\"] for agent in existing_agents if agent[\"properties\"][\"name\"] == name][0]\n",
    "            agent = Agent.load(db, agent_id)\n",
    "            # print(vars(agent))  \n",
    "            agent.update(**spec)\n",
    "            analysts[name] = agent\n",
    "        else:\n",
    "            print(f\"Creating new agent: {name}\")\n",
    "            analyst = Agent.create(db, spec[\"llm_id\"], spec[\"context\"], spec[\"prompt_template\"], name=name, description=spec.get('description'))\n",
    "            analysts[name] = analyst\n",
    "else:\n",
    "    for name, spec in analyst_specs.items():\n",
    "        print(f\"Creating new agent: {name}\")\n",
    "        analyst = Agent.create(db, \n",
    "                    spec[\"llm_id\"], \n",
    "                    spec[\"context\"],\n",
    "                    spec[\"prompt_template\"],\n",
    "                    name=name,\n",
    "                    description=spec.get('description'))\n",
    "        analysts[name] = analyst"
   ]
  },
  {
   "cell_type": "code",
   "execution_count": 52,
   "metadata": {},
   "outputs": [
    {
     "data": {
      "text/plain": [
       "['agent_2d22abf4-2a8d-4791-98fd-9c4dbfbfb091',\n",
       " 'agent_1f0838f5-6e49-4344-89ee-6cbbc3c51a6a',\n",
       " 'agent_2d22abf4-2a8d-4791-98fd-9c4dbfbfb091',\n",
       " 'agent_1f0838f5-6e49-4344-89ee-6cbbc3c51a6a']"
      ]
     },
     "execution_count": 52,
     "metadata": {},
     "output_type": "execute_result"
    }
   ],
   "source": [
    "\n",
    "for agent in analysts.values():\n",
    "    agent_ids.append(agent.object_id)\n",
    "\n",
    "agent_ids"
   ]
  },
  {
   "cell_type": "code",
   "execution_count": 47,
   "metadata": {},
   "outputs": [
    {
     "name": "stdout",
     "output_type": "stream",
     "text": [
      "analysis_plan_1bd74da5-bc5e-4cca-9434-9f7680ac0280\n",
      "{'db': <app.sqlite_database.SqliteDatabase object at 0x1068ea510>, 'name': 'gene_set_summarizer_w_upreg_proteins_24hr', 'agent_ids': ['agent_2d22abf4-2a8d-4791-98fd-9c4dbfbfb091', 'agent_1f0838f5-6e49-4344-89ee-6cbbc3c51a6a'], 'dataset_id': 'dataset_9cf93b1a-c7af-4084-a5d7-a6d668995247', 'n_hypotheses_per_agent': '1', 'biological_context': 'gene set summarizer using upregulated proteins at 24hr timepoint\\n                                    ', 'description': None, 'object_id': 'analysis_plan_1bd74da5-bc5e-4cca-9434-9f7680ac0280', 'created': {'name': 'gene_set_summarizer_w_upreg_proteins_24hr', 'agent_ids': ['agent_2d22abf4-2a8d-4791-98fd-9c4dbfbfb091', 'agent_1f0838f5-6e49-4344-89ee-6cbbc3c51a6a'], 'dataset_id': 'dataset_9cf93b1a-c7af-4084-a5d7-a6d668995247', 'n_hypotheses_per_agent': '1', 'description': 'gene set summarizer using upregulated proteins at 24hr timepoint\\n                                    ', 'created': '09.09.2024 13:43:52'}}\n"
     ]
    }
   ],
   "source": [
    "dataset_id = 'dataset_9cf93b1a-c7af-4084-a5d7-a6d668995247' # just dengue 24hr upregulated proteins,\n",
    "\n",
    "a_plan_name = \"gene_set_summarizer_w_upreg_proteins_24hr\"\n",
    "\n",
    "analysis_plan = AnalysisPlan.create(db, a_plan_name, \n",
    "                                    agent_ids, \n",
    "                                    dataset_id, \n",
    "                                    n_hypotheses_per_agent='1', \n",
    "                                    description=\n",
    "                                    '''gene set summarizer using upregulated proteins at 24hr timepoint\n",
    "                                    '''\n",
    "                                    )\n",
    "print(analysis_plan.object_id)\n",
    "print(vars(analysis_plan)) \n",
    "# "
   ]
  },
  {
   "cell_type": "code",
   "execution_count": 53,
   "metadata": {},
   "outputs": [
    {
     "name": "stdout",
     "output_type": "stream",
     "text": [
      "analysis_run_4422911f-301f-4cfb-9e29-4c5c7e5429b6\n",
      "{'db': <app.sqlite_database.SqliteDatabase object at 0x1068ea510>, 'analysis_plan_id': 'analysis_plan_1bd74da5-bc5e-4cca-9434-9f7680ac0280', 'agent_ids': ['agent_2d22abf4-2a8d-4791-98fd-9c4dbfbfb091', 'agent_1f0838f5-6e49-4344-89ee-6cbbc3c51a6a', 'agent_2d22abf4-2a8d-4791-98fd-9c4dbfbfb091', 'agent_1f0838f5-6e49-4344-89ee-6cbbc3c51a6a'], 'dataset_id': 'dataset_9cf93b1a-c7af-4084-a5d7-a6d668995247', 'n_hypotheses_per_agent': '1', 'hypothesis_ids': [], 'biological_context': 'Dengue Virus infection seeking for direct host-based therapeutic targets to inhibit dengue virus replication.', 'description': None, 'run_log': '', 'attempts': {'agent_2d22abf4-2a8d-4791-98fd-9c4dbfbfb091': [], 'agent_1f0838f5-6e49-4344-89ee-6cbbc3c51a6a': []}, 'status': 'pending', 'object_id': 'analysis_run_4422911f-301f-4cfb-9e29-4c5c7e5429b6', 'name': 'none', 'user_ids': {'analysis_plan_id': 'analysis_plan_1bd74da5-bc5e-4cca-9434-9f7680ac0280', 'agent_ids': ['agent_2d22abf4-2a8d-4791-98fd-9c4dbfbfb091', 'agent_1f0838f5-6e49-4344-89ee-6cbbc3c51a6a', 'agent_2d22abf4-2a8d-4791-98fd-9c4dbfbfb091', 'agent_1f0838f5-6e49-4344-89ee-6cbbc3c51a6a'], 'dataset_id': 'dataset_9cf93b1a-c7af-4084-a5d7-a6d668995247', 'n_hypotheses_per_agent': '1', 'hypothesis_ids': [], 'biological_context': 'Dengue Virus infection seeking for direct host-based therapeutic targets to inhibit dengue virus replication.', 'description': None, 'attempts': {'agent_2d22abf4-2a8d-4791-98fd-9c4dbfbfb091': [], 'agent_1f0838f5-6e49-4344-89ee-6cbbc3c51a6a': []}, 'name': 'gene_set_summarizer_w_upreg_proteins_24hr - Run 2', 'user_ids': [], 'status': 'pending', 'created': '09.09.2024 13:53:28'}, 'created': 'gene_set_summarizer_w_upreg_proteins_24hr - Run 2'}\n",
      "1 new hypothesis generated by agent agent_2d22abf4-2a8d-4791-98fd-9c4dbfbfb091.\n",
      "1 new hypothesis generated by agent agent_1f0838f5-6e49-4344-89ee-6cbbc3c51a6a.\n",
      "No more hypotheses needed.\n",
      "\n"
     ]
    }
   ],
   "source": [
    "\n",
    "analysis_run = analysis_plan.generate_analysis_run(biological_context=\"Dengue Virus infection seeking for direct host-based therapeutic targets to inhibit dengue virus replication.\")\n",
    "print(analysis_run.object_id)\n",
    "print(vars(analysis_run))\n",
    "\n",
    "runner = AnalysisRunner(db, analysis_run.object_id)\n",
    "result = runner.run()\n",
    "print(result)"
   ]
  },
  {
   "cell_type": "markdown",
   "metadata": {},
   "source": [
    "## fact checker"
   ]
  },
  {
   "cell_type": "code",
   "execution_count": 8,
   "metadata": {},
   "outputs": [
    {
     "name": "stdout",
     "output_type": "stream",
     "text": [
      "['hypothesis_af2039a4-fd9d-4902-8d4f-8a84636e95f8', 'hypothesis_7c1beae8-a192-46f5-9d3f-3ab81752a8b2'] ['agent_2d22abf4-2a8d-4791-98fd-9c4dbfbfb091', 'agent_1f0838f5-6e49-4344-89ee-6cbbc3c51a6a', 'agent_2d22abf4-2a8d-4791-98fd-9c4dbfbfb091', 'agent_1f0838f5-6e49-4344-89ee-6cbbc3c51a6a']\n"
     ]
    }
   ],
   "source": [
    "from models.analysis_run import AnalysisRun\n",
    "# load the analysis run \n",
    "analysis_run = AnalysisRun.load(db, \"analysis_run_4422911f-301f-4cfb-9e29-4c5c7e5429b6\")\n",
    "hypothesis = analysis_run.hypothesis_ids\n",
    "agent = analysis_run.agent_ids\n",
    "\n",
    "print(hypothesis, agent)\n"
   ]
  },
  {
   "cell_type": "code",
   "execution_count": 9,
   "metadata": {},
   "outputs": [
    {
     "name": "stdout",
     "output_type": "stream",
     "text": [
      "{\n",
      "  \"Interferon-Stimulated Gene (ISG) Antiviral Response\": {\n",
      "    \"proteins\": [\"IFIH1\", \"IFIT1\", \"IFIT2\", \"IFIT3\", \"MX1\", \"MX2\", \"OAS1\", \"RIGI\"],\n",
      "    \"analysis\": \"These proteins are part of the interferon-stimulated gene (ISG) response, which is crucial in the innate immune defense against viral infections, including dengue virus. IFIH1 (also known as MDA5) and RIGI (RIG-I) are cytoplasmic pattern recognition receptors that detect viral RNA, triggering the production of type I interferons. The IFIT family proteins (IFIT1, IFIT2, IFIT3) are induced by interferons and have various antiviral functions, including inhibition of viral protein synthesis and sequestration of viral nucleic acids. MX1 and MX2 are GTPases that interfere with viral replication, particularly for RNA viruses. OAS1 is activated by double-stranded RNA and produces 2'-5' oligoadenylates, which activate RNase L to degrade viral RNA. Together, these proteins form a coordinated antiviral response aimed at inhibiting dengue virus replication at multiple stages of its lifecycle.\"\n",
      "  },\n",
      "  \"Nucleotide Metabolism in Antiviral Response\": {\n",
      "    \"proteins\": [\"CMPK2\", \"NT5C3A\"],\n",
      "    \"analysis\": \"CMPK2 and NT5C3A are involved in nucleotide metabolism, which can play a role in the antiviral response. CMPK2 is a mitochondrial nucleotide monophosphate kinase that is induced by interferons and may contribute to mitochondrial DNA depletion during the antiviral response. NT5C3A is a pyrimidine 5'-nucleotidase that can modulate intracellular nucleotide pools. Changes in nucleotide metabolism can affect viral replication, as viruses rely on host cell nucleotides for their own genome replication. The upregulation of these enzymes may represent a host strategy to alter nucleotide availability and potentially inhibit dengue virus replication.\"\n",
      "  },\n",
      "  \"Cellular Stress Response and Redox Regulation\": {\n",
      "    \"proteins\": [\"PRKACA\", \"TXNRD2\"],\n",
      "    \"analysis\": \"PRKACA (Protein Kinase A Catalytic Subunit Alpha) and TXNRD2 (Thioredoxin Reductase 2) are involved in cellular stress response and redox regulation, which can be important during viral infections. PRKACA is a key component of the cAMP-dependent protein kinase signaling pathway, which can modulate various cellular processes including immune responses. TXNRD2 is a mitochondrial enzyme involved in maintaining cellular redox homeostasis and protecting against oxidative stress. Viral infections, including dengue, can induce oxidative stress in host cells, and the upregulation of TXNRD2 may represent a protective mechanism. These proteins may contribute to the overall cellular response to dengue virus infection by modulating signaling pathways and maintaining cellular integrity under stress conditions.\"\n",
      "  }\n",
      "}\n"
     ]
    }
   ],
   "source": [
    "from models.hypothesis import Hypothesis\n",
    "hypothesis_text = Hypothesis.load(db, hypothesis[1]).hypothesis_text # I like the sonnet version better \n",
    "print(hypothesis_text)"
   ]
  },
  {
   "cell_type": "code",
   "execution_count": 10,
   "metadata": {},
   "outputs": [
    {
     "name": "stdout",
     "output_type": "stream",
     "text": [
      "{'Interferon-Stimulated Gene (ISG) Antiviral Response': {'proteins': ['IFIH1', 'IFIT1', 'IFIT2', 'IFIT3', 'MX1', 'MX2', 'OAS1', 'RIGI'], 'analysis': \"These proteins are part of the interferon-stimulated gene (ISG) response, which is crucial in the innate immune defense against viral infections, including dengue virus. IFIH1 (also known as MDA5) and RIGI (RIG-I) are cytoplasmic pattern recognition receptors that detect viral RNA, triggering the production of type I interferons. The IFIT family proteins (IFIT1, IFIT2, IFIT3) are induced by interferons and have various antiviral functions, including inhibition of viral protein synthesis and sequestration of viral nucleic acids. MX1 and MX2 are GTPases that interfere with viral replication, particularly for RNA viruses. OAS1 is activated by double-stranded RNA and produces 2'-5' oligoadenylates, which activate RNase L to degrade viral RNA. Together, these proteins form a coordinated antiviral response aimed at inhibiting dengue virus replication at multiple stages of its lifecycle.\"}, 'Nucleotide Metabolism in Antiviral Response': {'proteins': ['CMPK2', 'NT5C3A'], 'analysis': \"CMPK2 and NT5C3A are involved in nucleotide metabolism, which can play a role in the antiviral response. CMPK2 is a mitochondrial nucleotide monophosphate kinase that is induced by interferons and may contribute to mitochondrial DNA depletion during the antiviral response. NT5C3A is a pyrimidine 5'-nucleotidase that can modulate intracellular nucleotide pools. Changes in nucleotide metabolism can affect viral replication, as viruses rely on host cell nucleotides for their own genome replication. The upregulation of these enzymes may represent a host strategy to alter nucleotide availability and potentially inhibit dengue virus replication.\"}, 'Cellular Stress Response and Redox Regulation': {'proteins': ['PRKACA', 'TXNRD2'], 'analysis': 'PRKACA (Protein Kinase A Catalytic Subunit Alpha) and TXNRD2 (Thioredoxin Reductase 2) are involved in cellular stress response and redox regulation, which can be important during viral infections. PRKACA is a key component of the cAMP-dependent protein kinase signaling pathway, which can modulate various cellular processes including immune responses. TXNRD2 is a mitochondrial enzyme involved in maintaining cellular redox homeostasis and protecting against oxidative stress. Viral infections, including dengue, can induce oxidative stress in host cells, and the upregulation of TXNRD2 may represent a protective mechanism. These proteins may contribute to the overall cellular response to dengue virus infection by modulating signaling pathways and maintaining cellular integrity under stress conditions.'}}\n"
     ]
    }
   ],
   "source": [
    "from models.hypothesis import Hypothesis\n",
    "import json\n",
    "import re\n",
    "\n",
    "def parse_hypothesis(text):\n",
    "    # Use regex to extract the JSON part of the text\n",
    "    json_match = re.search(r'{.*}', text, re.DOTALL)\n",
    "    \n",
    "    if not json_match:\n",
    "        raise ValueError(\"No JSON structure found in the provided text.\")\n",
    "    \n",
    "    # Extract the JSON string\n",
    "    json_str = json_match.group(0)\n",
    "    \n",
    "    # Parse the JSON string into a Python dictionary\n",
    "    try:\n",
    "        parsed_data = json.loads(json_str)\n",
    "    except json.JSONDecodeError as e:\n",
    "        raise ValueError(f\"Error decoding JSON: {e}\")\n",
    "    \n",
    "    return parsed_data\n",
    "\n",
    "hypothesis_text = Hypothesis.load(db, hypothesis[1]).hypothesis_text\n",
    "\n",
    "# Parse the hypothesis data\n",
    "parsed_hypothesis = parse_hypothesis(hypothesis_text)\n",
    "\n",
    "# Output the parsed JSON data\n",
    "print(parsed_hypothesis)"
   ]
  },
  {
   "cell_type": "code",
   "execution_count": 12,
   "metadata": {},
   "outputs": [
    {
     "name": "stdout",
     "output_type": "stream",
     "text": [
      "Interferon-Stimulated Gene (ISG) Antiviral Response\n",
      "['IFIH1', 'IFIT1', 'IFIT2', 'IFIT3', 'MX1', 'MX2', 'OAS1', 'RIGI']\n",
      "These proteins are part of the interferon-stimulated gene (ISG) response, which is crucial in the innate immune defense against viral infections, including dengue virus. IFIH1 (also known as MDA5) and RIGI (RIG-I) are cytoplasmic pattern recognition receptors that detect viral RNA, triggering the production of type I interferons. The IFIT family proteins (IFIT1, IFIT2, IFIT3) are induced by interferons and have various antiviral functions, including inhibition of viral protein synthesis and sequestration of viral nucleic acids. MX1 and MX2 are GTPases that interfere with viral replication, particularly for RNA viruses. OAS1 is activated by double-stranded RNA and produces 2'-5' oligoadenylates, which activate RNase L to degrade viral RNA. Together, these proteins form a coordinated antiviral response aimed at inhibiting dengue virus replication at multiple stages of its lifecycle.\n",
      "Nucleotide Metabolism in Antiviral Response\n",
      "['CMPK2', 'NT5C3A']\n",
      "CMPK2 and NT5C3A are involved in nucleotide metabolism, which can play a role in the antiviral response. CMPK2 is a mitochondrial nucleotide monophosphate kinase that is induced by interferons and may contribute to mitochondrial DNA depletion during the antiviral response. NT5C3A is a pyrimidine 5'-nucleotidase that can modulate intracellular nucleotide pools. Changes in nucleotide metabolism can affect viral replication, as viruses rely on host cell nucleotides for their own genome replication. The upregulation of these enzymes may represent a host strategy to alter nucleotide availability and potentially inhibit dengue virus replication.\n",
      "Cellular Stress Response and Redox Regulation\n",
      "['PRKACA', 'TXNRD2']\n",
      "PRKACA (Protein Kinase A Catalytic Subunit Alpha) and TXNRD2 (Thioredoxin Reductase 2) are involved in cellular stress response and redox regulation, which can be important during viral infections. PRKACA is a key component of the cAMP-dependent protein kinase signaling pathway, which can modulate various cellular processes including immune responses. TXNRD2 is a mitochondrial enzyme involved in maintaining cellular redox homeostasis and protecting against oxidative stress. Viral infections, including dengue, can induce oxidative stress in host cells, and the upregulation of TXNRD2 may represent a protective mechanism. These proteins may contribute to the overall cellular response to dengue virus infection by modulating signaling pathways and maintaining cellular integrity under stress conditions.\n"
     ]
    }
   ],
   "source": [
    "# get proteins \n",
    "for key, value in parsed_hypothesis.items():\n",
    "    print(key)\n",
    "    proteins = value[\"proteins\"]\n",
    "    print(proteins)   \n",
    "    analysis = value[\"analysis\"]\n",
    "    print(analysis)"
   ]
  },
  {
   "cell_type": "code",
   "execution_count": 14,
   "metadata": {},
   "outputs": [
    {
     "data": {
      "text/plain": [
       "'gene_set_summarizer1_GPT_4o_t0'"
      ]
     },
     "execution_count": 14,
     "metadata": {},
     "output_type": "execute_result"
    }
   ],
   "source": [
    "from models.agent import Agent\n",
    "Agent.load(db, agent[1]).name"
   ]
  },
  {
   "cell_type": "code",
   "execution_count": null,
   "metadata": {},
   "outputs": [],
   "source": []
  },
  {
   "cell_type": "code",
   "execution_count": 15,
   "metadata": {},
   "outputs": [
    {
     "name": "stdout",
     "output_type": "stream",
     "text": [
      "Query:  \n",
      "I would like to search PubMed to find supporting evidence for the statements in a paragraph. Extract 3-5 keywords from the given paragraph, focusing specifically on gene/protein functions, biological processes, or pathways. \n",
      "\n",
      "Example paragraph:  Involvement of pattern recognition receptors: TLR1, TLR2, and TLR3 are part of the Toll-like receptor family, which recognize pathogen-associated molecular patterns and initiate innate immune responses. NOD2 and NLRP3 are intracellular sensors that also contribute to immune activation.\n",
      "Example response: pattern recognition, receptors, intracellular, Toll-like receptor\n",
      "\n",
      "Follow these guidelines:\n",
      "\n",
      "1. Prioritize high-level terms that describe the overall function or role of the genes/proteins mentioned.\n",
      "2. Include key biological processes or pathways that are central to the paragraph's theme.\n",
      "3. Consider important molecular targets or interactions mentioned (e.g., viral components).\n",
      "4. Avoid overly specific molecular mechanisms or individual protein names.\n",
      "5. Do not include gene symbols or names as keywords.\n",
      "6. Do not include the same keyword or similar concept more than once.\n",
      "7. Order keywords by their relevance to gene function, from most to least important.\n",
      "\n",
      "Return the keywords as a comma-separated list without spaces. If no suitable functional keywords are found, return \"Unknown\".\n",
      "\n",
      "Please find keywords for this paragraph:\n",
      "CMPK2 and NT5C3A are involved in nucleotide metabolism, which can play a role in the antiviral response. CMPK2 is a mitochondrial nucleotide monophosphate kinase that is induced by interferons and may contribute to mitochondrial DNA depletion during the antiviral response. NT5C3A is a pyrimidine 5'-nucleotidase that can modulate intracellular nucleotide pools. Changes in nucleotide metabolism can affect viral replication, as viruses rely on host cell nucleotides for their own genome replication. The upregulation of these enzymes may represent a host strategy to alter nucleotide availability and potentially inhibit dengue virus replication.\n",
      "    \n",
      "Result:  nucleotide metabolism,antiviral response,mitochondrial function,intracellular nucleotide pools,viral replication\n"
     ]
    }
   ],
   "source": [
    "from services.reference_checker import get_functions_from_paragraph\n",
    "\n",
    "%reload_ext autoreload\n",
    "%autoreload 2\n",
    "\n",
    "functions = get_functions_from_paragraph(db, parsed_hypothesis[list(parsed_hypothesis.keys())[1]], agent[1], verbose=True)"
   ]
  },
  {
   "cell_type": "code",
   "execution_count": 16,
   "metadata": {},
   "outputs": [
    {
     "data": {
      "text/plain": [
       "['intracellular nucleotide pools',\n",
       " 'nucleotide metabolism',\n",
       " 'antiviral response',\n",
       " 'mitochondrial function',\n",
       " 'viral replication']"
      ]
     },
     "execution_count": 16,
     "metadata": {},
     "output_type": "execute_result"
    }
   ],
   "source": [
    "functions"
   ]
  },
  {
   "cell_type": "code",
   "execution_count": 17,
   "metadata": {},
   "outputs": [
    {
     "name": "stdout",
     "output_type": "stream",
     "text": [
      "Extracting keywords from paragraph\n",
      "Paragraph:\n",
      "CMPK2 and NT5C3A are involved in nucleotide metabolism, which can play a role in the antiviral response. CMPK2 is a mitochondrial nucleotide monophosphate kinase that is induced by interferons and may contribute to mitochondrial DNA depletion during the antiviral response. NT5C3A is a pyrimidine 5'-nucleotidase that can modulate intracellular nucleotide pools. Changes in nucleotide metabolism can affect viral replication, as viruses rely on host cell nucleotides for their own genome replication. The upregulation of these enzymes may represent a host strategy to alter nucleotide availability and potentially inhibit dengue virus replication.\n",
      "===========================================================================\n",
      "Query:  \n",
      "I would like to search PubMed to find supporting evidence for the statements in a paragraph. Extract 3-5 keywords from the given paragraph, focusing specifically on gene/protein functions, biological processes, or pathways. \n",
      "\n",
      "Example paragraph:  Involvement of pattern recognition receptors: TLR1, TLR2, and TLR3 are part of the Toll-like receptor family, which recognize pathogen-associated molecular patterns and initiate innate immune responses. NOD2 and NLRP3 are intracellular sensors that also contribute to immune activation.\n",
      "Example response: pattern recognition, receptors, intracellular, Toll-like receptor\n",
      "\n",
      "Follow these guidelines:\n",
      "\n",
      "1. Prioritize high-level terms that describe the overall function or role of the genes/proteins mentioned.\n",
      "2. Include key biological processes or pathways that are central to the paragraph's theme.\n",
      "3. Consider important molecular targets or interactions mentioned (e.g., viral components).\n",
      "4. Avoid overly specific molecular mechanisms or individual protein names.\n",
      "5. Do not include gene symbols or names as keywords.\n",
      "6. Do not include the same keyword or similar concept more than once.\n",
      "7. Order keywords by their relevance to gene function, from most to least important.\n",
      "\n",
      "Return the keywords as a comma-separated list without spaces. If no suitable functional keywords are found, return \"Unknown\".\n",
      "\n",
      "Please find keywords for this paragraph:\n",
      "CMPK2 and NT5C3A are involved in nucleotide metabolism, which can play a role in the antiviral response. CMPK2 is a mitochondrial nucleotide monophosphate kinase that is induced by interferons and may contribute to mitochondrial DNA depletion during the antiviral response. NT5C3A is a pyrimidine 5'-nucleotidase that can modulate intracellular nucleotide pools. Changes in nucleotide metabolism can affect viral replication, as viruses rely on host cell nucleotides for their own genome replication. The upregulation of these enzymes may represent a host strategy to alter nucleotide availability and potentially inhibit dengue virus replication.\n",
      "    \n",
      "Result:  nucleotide metabolism,antiviral response,mitochondrial function,intracellular nucleotide pools,viral replication\n",
      "PubMed Keywords:  (CMPK2[Title/Abstract] OR NT5C3A[Title/Abstract]) AND (intracellular nucleotide pools[Title/Abstract] OR nucleotide metabolism[Title/Abstract] OR antiviral response[Title/Abstract] OR mitochondrial function[Title/Abstract] OR viral replication[Title/Abstract])\n",
      "Serching paper with keywords...\n",
      "4 references are queried\n",
      "Title:  RNA-Seq Revealed a Circular RNA-microRNA-mRNA Regulatory Network in Hantaan Virus Infection.\n",
      "Abstract:  Hantaan virus (HTNV), a Hantavirus serotype that is prevalent in Asia, causes hemorrhagic fever with renal syndrome (HFRS) with high mortality in human race. However, the pathogenesis of HTNV infection remains elusive. Circular RNAs (circRNAs), a new type of non-coding RNAs, play a crucial role in various pathogenic processes. Nevertheless, circRNA expression profiles and their effects on pathogenesis of HTNV infection are still completely unknown. In the present study, RNA sequencing was performed to analyze the circRNA, microRNA (miRNA), and mRNA expression profiles in HTNV-infected and mock-infected human umbilical vein endothelial cells (HUVECs). A total of 70 circRNAs, 66 miRNAs, and 788 mRNAs were differently expressed. Several differentially expressed RNAs were validated by RT-qPCR. Moreover, we verified that some differentially expressed RNAs, such as circ_0000479, miR-149-5p, miR-330-5p, miR-411-3p, RIG-I, CMPK2, PARP10, and GBP1, promoted or inhibited HTNV replication. Gene Ontology (GO) and Kyoto Encyclopedia of Genes and Genomes (KEGG) enrichment analysis demonstrated that the host genes of differentially expressed circRNAs were principally involved in the innate immune response, the type I interferon (IFN) signaling pathway, and the cytokine-mediated signaling pathway. Additionally, the circRNA-miRNA-mRNA regulatory network was integrally analyzed. The data showed that there were many circRNA-miRNA-mRNA interactions in HTNV infection. By dual-luciferase reporter assay, we confirmed that circ_0000479 indirectly regulated RIG-I expression by sponging miR-149-5p, hampering viral replication. This study for the first time presents a comprehensive overview of circRNAs induced by HTNV and reveals that a network of enriched circRNAs and circRNA-associated competitive endogenous RNAs (ceRNAs) is involved in the regulation of HTNV infection, thus offering new insight into the mechanisms underlying HTNV-host interaction.\n",
      "Genes:  CMPK2\n",
      " \n",
      "Title:  A Link Between Mitochondrial Dysfunction and the Immune Microenvironment of Salivary Glands in Primary Sjogren's Syndrome.\n",
      "Abstract:  Primary Sjogren's syndrome (pSS) is a slowly progressive, inflammatory autoimmune disease characterized by lymphocytic infiltration into salivary and lacrimal glands. It becomes more recognized that morphology alterations of epithelial mitochondria are involved in altered cellular bioenergetics in pSS patients. The integrated analysis of the mitochondrial role in the pathogenesis and aberrant immune microenvironment in pSS remains unknown.\n",
      "Genes:  \n",
      " \n",
      "Title:  Cmpk2 regulates mitochondrial function in glucocorticoid-induced osteoblast senescence and affects glucocorticoid-inhibited osteoblast differentiation.\n",
      "Abstract:  Mitochondrial dysfunction plays a crucial role in the development of glucocorticoid-induced osteoporosis (GIO). Cytidine monophosphate kinase 2 (Cmpk2), an essential mitochondria-associated gene, promotes the production of free mitochondrial DNA, which leads to the formation of inflammasome-mediated inflammatory factors. However, the specific role of Cmpk2 in GIO remains unclear. In this study, we report that glucocorticoids induce cellular senescence within the bone, particularly in bone marrow mesenchymal stem cells and preosteoblasts. We discovered that glucocorticoids cause mitochondrial dysfunction in preosteoblasts, increasing cellular senescence. Moreover, we observed elevated expression of Cmpk2 in preosteoblasts following glucocorticoid exposure. Inhibiting Cmpk2 expression alleviates glucocorticoid-induced cellular senescence and promotes osteogenic differentiation by improving mitochondrial function. Our study uncovers new mechanisms underlying glucocorticoid-induced senescence in stem cells and preosteoblasts, highlighting the potential of inhibiting the mitochondrial gene Cmpk2 to reduce senescence and enhance osteogenic differentiation. This finding offers a potential therapeutic approach for the treatment of GIO.\n",
      "Genes:  CMPK2\n",
      " \n",
      "Title:  CMPK2 restricts Zika virus replication by inhibiting viral translation.\n",
      "Abstract:  Flaviviruses continue to emerge as global health threats. There are currently no Food and Drug Administration (FDA) approved antiviral treatments for flaviviral infections. Therefore, there is a pressing need to identify host and viral factors that can be targeted for effective therapeutic intervention. Type I interferon (IFN-I) production in response to microbial products is one of the host's first line of defense against invading pathogens. Cytidine/uridine monophosphate kinase 2 (CMPK2) is a type I interferon-stimulated gene (ISG) that exerts antiviral effects. However, the molecular mechanism by which CMPK2 inhibits viral replication is unclear. Here, we report that CMPK2 expression restricts Zika virus (ZIKV) replication by specifically inhibiting viral translation and that IFN-I- induced CMPK2 contributes significantly to the overall antiviral response against ZIKV. We demonstrate that expression of CMPK2 results in a significant decrease in the replication of other pathogenic flaviviruses including dengue virus (DENV-2), Kunjin virus (KUNV) and yellow fever virus (YFV). Importantly, we determine that the N-terminal domain (NTD) of CMPK2, which lacks kinase activity, is sufficient to restrict viral translation. Thus, its kinase function is not required for CMPK2's antiviral activity. Furthermore, we identify seven conserved cysteine residues within the NTD as critical for CMPK2 antiviral activity. Thus, these residues may form an unknown functional site in the NTD of CMPK2 contributing to its antiviral function. Finally, we show that mitochondrial localization of CMPK2 is required for its antiviral effects. Given its broad antiviral activity against flaviviruses, CMPK2 is a promising potential pan-flavivirus inhibitor.\n",
      "Genes:  CMPK2\n",
      " \n",
      "Search matching abstract for remained genes:  CMPK2,NT5C3A\n",
      "Current search containing genes:  CMPK2\n",
      "Query: \n",
      " \n",
      "I have a paragraph that was separated into sentences. Each sentence is indexed.\n",
      "Paragraph:\n",
      "{0: 'CMPK2 and NT5C3A are involved in nucleotide metabolism, which can play a role in the antiviral response', 1: 'CMPK2 is a mitochondrial nucleotide monophosphate kinase that is induced by interferons and may contribute to mitochondrial DNA depletion during the antiviral response', 2: \"NT5C3A is a pyrimidine 5'-nucleotidase that can modulate intracellular nucleotide pools\", 3: 'Changes in nucleotide metabolism can affect viral replication, as viruses rely on host cell nucleotides for their own genome replication', 4: 'The upregulation of these enzymes may represent a host strategy to alter nucleotide availability and potentially inhibit dengue virus replication'}\n",
      "\n",
      "and the title of the paper:\n",
      "RNA-Seq Revealed a Circular RNA-microRNA-mRNA Regulatory Network in Hantaan Virus Infection.\n",
      "\n",
      "The abstract associated with the paper is:\n",
      "Hantaan virus (HTNV), a Hantavirus serotype that is prevalent in Asia, causes hemorrhagic fever with renal syndrome (HFRS) with high mortality in human race. However, the pathogenesis of HTNV infection remains elusive. Circular RNAs (circRNAs), a new type of non-coding RNAs, play a crucial role in various pathogenic processes. Nevertheless, circRNA expression profiles and their effects on pathogenesis of HTNV infection are still completely unknown. In the present study, RNA sequencing was performed to analyze the circRNA, microRNA (miRNA), and mRNA expression profiles in HTNV-infected and mock-infected human umbilical vein endothelial cells (HUVECs). A total of 70 circRNAs, 66 miRNAs, and 788 mRNAs were differently expressed. Several differentially expressed RNAs were validated by RT-qPCR. Moreover, we verified that some differentially expressed RNAs, such as circ_0000479, miR-149-5p, miR-330-5p, miR-411-3p, RIG-I, CMPK2, PARP10, and GBP1, promoted or inhibited HTNV replication. Gene Ontology (GO) and Kyoto Encyclopedia of Genes and Genomes (KEGG) enrichment analysis demonstrated that the host genes of differentially expressed circRNAs were principally involved in the innate immune response, the type I interferon (IFN) signaling pathway, and the cytokine-mediated signaling pathway. Additionally, the circRNA-miRNA-mRNA regulatory network was integrally analyzed. The data showed that there were many circRNA-miRNA-mRNA interactions in HTNV infection. By dual-luciferase reporter assay, we confirmed that circ_0000479 indirectly regulated RIG-I expression by sponging miR-149-5p, hampering viral replication. This study for the first time presents a comprehensive overview of circRNAs induced by HTNV and reveals that a network of enriched circRNAs and circRNA-associated competitive endogenous RNAs (ceRNAs) is involved in the regulation of HTNV infection, thus offering new insight into the mechanisms underlying HTNV-host interaction.\n",
      "\n",
      "Please analyze whether this abstract directly supports any assertion in the paragraph. \n",
      "Follow these steps:\n",
      "\n",
      "- For each indexed sentence, state whether it is directly supported by findings in the abstract or the title.\n",
      "- Consider a sentence supported if the abstract or title provides evidence that aligns with the main idea or key points of the sentence, even if specific descriptors (like \"key\", \"crucial\", \"important\") are not exactly matched.\n",
      "- If a sentence is supported, quote the complete sentence(s) from the abstract or the title that provides this support.\n",
      "- If a sentence is not supported, briefly explain why.\n",
      "- After analyzing all sentences, decide whether the abstract or the title directly supports any parts of the paragraph describing the functions or processes of certain genes or proteins.\n",
      "    - If any sentence supports the paragraph, print \"yes\" at the beginning of your response. And provide a dictionary containing indexes for the supported sentences and the list of quoted sentences from the supporting abstract\n",
      "    - e.g.,'Yes \n",
      " supporting sentences: {\"1\": [\"A variety of viruses can induce the expression of IFIT3, which in turn inhibits the replication of viruses, with the underlying mechanism showing its crucial role in antiviral innate immunity.\"], \"3\": [\"<quoted abstract text>\"]}'\n",
      "    - If no sentences are supported at all,  print \"no\" at the beginning of your response.\n",
      "    - Follow your Yes/No response and dictionary (if applicable), then you can provide your detailed analysis.  \n",
      "        \n",
      "Result: \n",
      " Yes\n",
      "supporting sentences: {\"1\": [\"Moreover, we verified that some differentially expressed RNAs, such as circ_0000479, miR-149-5p, miR-330-5p, miR-411-3p, RIG-I, CMPK2, PARP10, and GBP1, promoted or inhibited HTNV replication.\"]}\n",
      "\n",
      "Detailed analysis:\n",
      "\n",
      "0. \"CMPK2 and NT5C3A are involved in nucleotide metabolism, which can play a role in the antiviral response\": Not directly supported by the abstract. While CMPK2 is mentioned, its role in nucleotide metabolism and antiviral response is not explicitly stated.\n",
      "\n",
      "1. \"CMPK2 is a mitochondrial nucleotide monophosphate kinase that is induced by interferons and may contribute to mitochondrial DNA depletion during the antiviral response\": Partially supported by the abstract. The abstract mentions CMPK2 in the context of viral replication, but does not provide details about its function or induction by interferons.\n",
      "\n",
      "2. \"NT5C3A is a pyrimidine 5'-nucleotidase that can modulate intracellular nucleotide pools\": Not supported by the abstract. NT5C3A is not mentioned in the abstract.\n",
      "\n",
      "3. \"Changes in nucleotide metabolism can affect viral replication, as viruses rely on host cell nucleotides for their own genome replication\": Not directly supported by the abstract. While the abstract discusses viral replication, it does not specifically mention the role of nucleotide metabolism.\n",
      "\n",
      "4. \"The upregulation of these enzymes may represent a host strategy to alter nucleotide availability and potentially inhibit dengue virus replication\": Not supported by the abstract. The abstract focuses on Hantaan virus, not dengue virus, and does not discuss nucleotide availability as a host strategy.\n",
      "\n",
      "The abstract directly supports only a small part of the paragraph, specifically mentioning CMPK2 in the context of viral replication. However, it does not provide detailed information about the functions or processes of CMPK2 or NT5C3A as described in the paragraph. The abstract focuses on the role of circular RNAs, microRNAs, and mRNAs in Hantaan virus infection, which is different from the main focus of the given paragraph.\n"
     ]
    },
    {
     "ename": "TypeError",
     "evalue": "unhashable type: 'DictionaryElement'",
     "output_type": "error",
     "traceback": [
      "\u001b[0;31m---------------------------------------------------------------------------\u001b[0m",
      "\u001b[0;31mTypeError\u001b[0m                                 Traceback (most recent call last)",
      "Cell \u001b[0;32mIn[17], line 7\u001b[0m\n\u001b[1;32m      4\u001b[0m get_ipython()\u001b[38;5;241m.\u001b[39mrun_line_magic(\u001b[38;5;124m'\u001b[39m\u001b[38;5;124mautoreload\u001b[39m\u001b[38;5;124m'\u001b[39m, \u001b[38;5;124m'\u001b[39m\u001b[38;5;124m2\u001b[39m\u001b[38;5;124m'\u001b[39m)\n\u001b[1;32m      6\u001b[0m email \u001b[38;5;241m=\u001b[39m \u001b[38;5;124m'\u001b[39m\u001b[38;5;124mmhu@health.ucsd.edu\u001b[39m\u001b[38;5;124m'\u001b[39m\n\u001b[0;32m----> 7\u001b[0m ref_dict \u001b[38;5;241m=\u001b[39m get_references_for_paragraph(db, parsed_hypothesis[\u001b[38;5;28mlist\u001b[39m(parsed_hypothesis\u001b[38;5;241m.\u001b[39mkeys())[\u001b[38;5;241m1\u001b[39m]], agent[\u001b[38;5;241m1\u001b[39m], email, n\u001b[38;5;241m=\u001b[39m\u001b[38;5;241m5\u001b[39m, papers_query\u001b[38;5;241m=\u001b[39m\u001b[38;5;241m20\u001b[39m, verbose\u001b[38;5;241m=\u001b[39m\u001b[38;5;28;01mTrue\u001b[39;00m)\n",
      "File \u001b[0;32m~/Documents/git_src/agent_evaluation/services/reference_checker.py:605\u001b[0m, in \u001b[0;36mget_references_for_paragraph\u001b[0;34m(db, dict_value, agent_id, email, n, papers_query, verbose)\u001b[0m\n\u001b[1;32m    602\u001b[0m \u001b[38;5;66;03m# supporting_sentences = list(set(abstract_support_indexes).union(set(title_support_indexes))) #no longer print index support from title\u001b[39;00m\n\u001b[1;32m    603\u001b[0m reference_with_sentencesIDs\u001b[38;5;241m.\u001b[39mappend({\u001b[38;5;124m'\u001b[39m\u001b[38;5;124mcitation\u001b[39m\u001b[38;5;124m'\u001b[39m: get_mla_citation_from_pubmed_id(paper),\n\u001b[1;32m    604\u001b[0m     \u001b[38;5;124m'\u001b[39m\u001b[38;5;124msupport_indexes\u001b[39m\u001b[38;5;124m'\u001b[39m: abstract_support_evidence }) \u001b[38;5;66;03m#CH: added list of support along with paper\u001b[39;00m\n\u001b[0;32m--> 605\u001b[0m processed_papers\u001b[38;5;241m.\u001b[39madd(paper)  \u001b[38;5;66;03m# Add the processed paper to the set\u001b[39;00m\n\u001b[1;32m    606\u001b[0m \u001b[38;5;28;01mfor\u001b[39;00m gene_in_abstract \u001b[38;5;129;01min\u001b[39;00m genes_in_abstract:\n\u001b[1;32m    607\u001b[0m     \u001b[38;5;28;01mif\u001b[39;00m gene_in_abstract \u001b[38;5;129;01min\u001b[39;00m genes_to_be_searched:\n",
      "\u001b[0;31mTypeError\u001b[0m: unhashable type: 'DictionaryElement'"
     ]
    }
   ],
   "source": [
    "from services.reference_checker import get_references_for_paragraph\n",
    "\n",
    "%reload_ext autoreload\n",
    "%autoreload 2\n",
    "\n",
    "email = 'mhu@health.ucsd.edu'\n",
    "ref_dict = get_references_for_paragraph(db, parsed_hypothesis[list(parsed_hypothesis.keys())[1]], agent[1], email, n=5, papers_query=20, verbose=True)"
   ]
  },
  {
   "cell_type": "code",
   "execution_count": 76,
   "metadata": {},
   "outputs": [
    {
     "data": {
      "text/plain": [
       "{'paragraph': \"These proteins are part of the interferon-stimulated gene (ISG) response, which is crucial in the innate immune defense against viral infections, including dengue virus. IFIH1 (also known as MDA5) and RIGI (RIG-I) are cytoplasmic pattern recognition receptors that detect viral RNA, triggering the production of type I interferons. The IFIT family proteins (IFIT1, IFIT2, IFIT3) are induced by interferons and have various antiviral functions, including inhibition of viral protein synthesis and sequestration of viral nucleic acids. MX1 and MX2 are GTPases that interfere with viral replication, particularly for RNA viruses. OAS1 is activated by double-stranded RNA and produces 2'-5' oligoadenylates, which activate RNase L to degrade viral RNA. Together, these proteins form a coordinated antiviral response aimed at inhibiting dengue virus replication at multiple stages of its lifecycle.\",\n",
       " 'keyword': '(IFIH1[Title/Abstract] OR IFIT1[Title/Abstract] OR IFIT2[Title/Abstract] OR IFIT3[Title/Abstract] OR MX1[Title/Abstract] OR MX2[Title/Abstract] OR OAS1[Title/Abstract] OR RIGI[Title/Abstract]) AND (innate immune defense[Title/Abstract] OR pattern recognition[Title/Abstract] OR antiviral response[Title/Abstract] OR viral RNA detection[Title/Abstract] OR interferon-stimulated response[Title/Abstract])',\n",
       " 'references': [{'citation': 'Schoggins, John W, Wilson, Sam J, Panis, Maryline, Murphy, Mary Y, Jones, Christopher T, Bieniasz, Paul, Rice, Charles M. \"A diverse range of gene products are effectors of the type I interferon antiviral response.\" Nature, 2011, pp. 481-5, doi: https://doi.org/10.1038/nature09907',\n",
       "   'support_indexes': {'0': ['The cellular factors that mediate this defence are the products of interferon-stimulated genes (ISGs).'],\n",
       "    '1': ['Broadly acting effectors included... RIG-I (also known as DDX58), MDA5 (also known as IFIH1)...'],\n",
       "    '2': ['Mechanistic studies uncovered a common theme of translational inhibition for numerous effectors.'],\n",
       "    '4': ['...OASL...'],\n",
       "    '5': ['We find that each viral species is susceptible to multiple antiviral genes, which together encompass a range of inhibitory activities.']}}]}"
      ]
     },
     "execution_count": 76,
     "metadata": {},
     "output_type": "execute_result"
    }
   ],
   "source": [
    "ref_dict"
   ]
  },
  {
   "cell_type": "code",
   "execution_count": 79,
   "metadata": {},
   "outputs": [
    {
     "name": "stdout",
     "output_type": "stream",
     "text": [
      "Previous Symbols: []\n",
      "Alias Symbols: ['MDA-5', 'Hlcd', 'MDA5', 'IDDM19']\n"
     ]
    }
   ],
   "source": [
    "import json\n",
    "import urllib.request\n",
    "\n",
    "def get_all_gene_symbols(gene_symbol):\n",
    "    url = f\"https://rest.genenames.org/fetch/symbol/{gene_symbol}\"\n",
    "    headers = {\"Accept\": \"application/json\"}\n",
    "    \n",
    "    request = urllib.request.Request(url, headers=headers)\n",
    "    try:\n",
    "        with urllib.request.urlopen(request) as response:\n",
    "            result = json.loads(response.read().decode())\n",
    "            # Extract relevant information from the response\n",
    "            if 'response' in result and 'docs' in result['response'] and len(result['response']['docs']) > 0:\n",
    "                gene_info = result['response']['docs'][0]\n",
    "                prev_symbols = gene_info.get('prev_symbol', [])\n",
    "                alias_symbols = gene_info.get('alias_symbol', [])\n",
    "                return prev_symbols, alias_symbols  # Return both previous and alias symbols\n",
    "            else:\n",
    "                return None, None  # No symbols found\n",
    "    except Exception as e:\n",
    "        print(\"Error detail: \", e)\n",
    "        return None, None\n",
    "\n",
    "# Example usage\n",
    "prev_symbols, alias_symbols = get_all_gene_symbols(\"IFIH1\")\n",
    "print(\"Previous Symbols:\", prev_symbols)  # Output: Previous symbols\n",
    "print(\"Alias Symbols:\", alias_symbols)      # Output: Alias symbols"
   ]
  },
  {
   "cell_type": "code",
   "execution_count": null,
   "metadata": {},
   "outputs": [],
   "source": []
  },
  {
   "cell_type": "code",
   "execution_count": null,
   "metadata": {},
   "outputs": [],
   "source": [
    "references = ref_dict['references']"
   ]
  },
  {
   "cell_type": "code",
   "execution_count": null,
   "metadata": {},
   "outputs": [],
   "source": [
    "j = 1\n",
    "formated_citations = ''\n",
    "formated_paragraph = ''\n",
    "# sentence list \n",
    "paragraph = parsed_hypothesis['Interferon-Stimulated Gene (ISG) Antiviral Response']['analysis']\n",
    "sentence_list = paragraph.split('.')\n",
    "# Create a mapping of sentence index to citations\n",
    "citation_map = {i: [] for i in range(len(sentence_list))}\n",
    "# format the citations and the paragraph\n",
    "\n",
    "for reference in references:\n",
    "    citation = reference['citation']\n",
    "    support_indexes = reference['support_indexes']\n",
    "    for index in support_indexes:\n",
    "        citation_map[index].append(f\"[{j}] {citation}\")  # Map citation to the corresponding sentence index\n",
    "    j += 1\n",
    "\n",
    "# Build the formatted paragraph\n",
    "for i, sentence in enumerate(sentence_list):\n",
    "    sentence = sentence.strip()  # Clean up whitespace\n",
    "    if citation_map[i]:  # If there are citations for this sentence\n",
    "        citations = ' '.join(citation_map[i])  # Join all citations for this sentence\n",
    "        formated_paragraph += f\"{sentence} {citations}\\n\"  # Append the sentence with its citations\n",
    "    else:\n",
    "        formated_paragraph += f\"{sentence}\\n\"  # Append the sentence without citations\n",
    "\n",
    "        \n",
    "        \n",
    "    j+=1"
   ]
  },
  {
   "cell_type": "code",
   "execution_count": 60,
   "metadata": {},
   "outputs": [
    {
     "data": {
      "text/plain": [
       "{'paragraph': 'These proteins are key components of the interferon-induced antiviral response. IFIH1 (also known as MDA5) and RIGI (RIG-I) are pattern recognition receptors that detect viral RNA. The IFIT family proteins (IFIT1, IFIT2, IFIT3) inhibit viral replication by binding to viral RNA or proteins. MX1 and MX2 are GTPases that interfere with viral replication. OAS1 activates RNase L, which degrades viral RNA.',\n",
       " 'keyword': '(IFIH1[Title/Abstract] OR IFIT1[Title/Abstract] OR IFIT2[Title/Abstract] OR IFIT3[Title/Abstract] OR MX1[Title/Abstract] OR MX2[Title/Abstract] OR OAS1[Title/Abstract] OR RIGI[Title/Abstract]) AND (antiviral[Title/Abstract] OR interferon[Title/Abstract] OR replication[Title/Abstract])',\n",
       " 'references': [{'citation': 'Yang, Yiying, Song, Jie, Zhao, Hongjun, Zhang, Huali, Guo, Muyao. \"Patients with dermatomyositis shared partially similar transcriptome signature with COVID-19 infection.\" Autoimmunity, 2023, pp. 2220984, doi: https://doi.org/10.1080/08916934.2023.2220984',\n",
       "   'support_indexes': {'0': ['Virus infection and type I interferon-related signaling pathways play an important role in the pathogenesis of dermatomyositis.'],\n",
       "    '2': ['These hub-genes might be served as potential biomarkers for the early diagnosis and therapy of DM, including <i>MX1, ISG15, IFIT3, IFIT1, RSAD2, IFIT2, IFI6, XAF1, IRF9, MX2</i>.'],\n",
       "    '3': ['These hub-genes might be served as potential biomarkers for the early diagnosis and therapy of DM, including <i>MX1, ISG15, IFIT3, IFIT1, RSAD2, IFIT2, IFI6, XAF1, IRF9, MX2</i>.']}},\n",
       "  {'citation': 'Assou, Said, Ahmed, Engi, Morichon, Lisa, Nasri, Amel, Foisset, Florent, Bourdais, Carine, Gros, Nathalie, Tieo, Sonia, Petit, Aurelie, Vachier, Isabelle, Muriaux, Delphine, Bourdin, Arnaud, De Vos, John. \"The Transcriptome Landscape of the In Vitro Human Airway Epithelium Response to SARS-CoV-2.\" International journal of molecular sciences, 2023, pp.  , doi: https://doi.org/10.3390/ijms241512017',\n",
       "   'support_indexes': {'0': ['SARS-CoV-2 infection significantly increased the expression of interferon-stimulated genes (<i>IFI44</i>, <i>IFIT1</i>, <i>IFIT3</i>, <i>IFI35</i>, <i>IRF9</i>, <i>MX1</i>, <i>OAS1</i>, <i>OAS3</i> and <i>ISG15</i>) and inflammatory genes (<i>NFKBIA</i>, <i>CSF1</i>, <i>FOSL1</i>, <i>IL32</i> and <i>CXCL10</i>) by day 4 post-infection, indicating activation of the interferon and immune responses to the virus.'],\n",
       "    '2': ['SARS-CoV-2 infection significantly increased the expression of interferon-stimulated genes (<i>IFI44</i>, <i>IFIT1</i>, <i>IFIT3</i>, <i>IFI35</i>, <i>IRF9</i>, <i>MX1</i>, <i>OAS1</i>, <i>OAS3</i> and <i>ISG15</i>)'],\n",
       "    '3': ['SARS-CoV-2 infection significantly increased the expression of interferon-stimulated genes (<i>IFI44</i>, <i>IFIT1</i>, <i>IFIT3</i>, <i>IFI35</i>, <i>IRF9</i>, <i>MX1</i>, <i>OAS1</i>, <i>OAS3</i> and <i>ISG15</i>)'],\n",
       "    '4': ['SARS-CoV-2 infection significantly increased the expression of interferon-stimulated genes (<i>IFI44</i>, <i>IFIT1</i>, <i>IFIT3</i>, <i>IFI35</i>, <i>IRF9</i>, <i>MX1</i>, <i>OAS1</i>, <i>OAS3</i> and <i>ISG15</i>)']}},\n",
       "  {'citation': 'Dias Junior, Antonio Gregorio, Sampaio, Natalia G, Rehwinkel, Jan. \"A Balancing Act: MDA5 in Antiviral Immunity and Autoinflammation.\" Trends in microbiology, 2019, pp. 75-85, doi: https://doi.org/10.1016/j.tim.2018.08.007',\n",
       "   'support_indexes': {'1': ['MDA5 is one such sensor of virus presence and is activated by RNA. MDA5 is required for immunity against several classes of viruses, including picornaviruses.']}}]}"
      ]
     },
     "execution_count": 60,
     "metadata": {},
     "output_type": "execute_result"
    }
   ],
   "source": [
    "ref_dict"
   ]
  },
  {
   "cell_type": "code",
   "execution_count": null,
   "metadata": {},
   "outputs": [],
   "source": []
  },
  {
   "cell_type": "code",
   "execution_count": 35,
   "metadata": {},
   "outputs": [
    {
     "name": "stdout",
     "output_type": "stream",
     "text": [
      "Extracting keywords from paragraph\n",
      "Paragraph:\n",
      "These proteins are key components of the interferon-induced antiviral response. IFIH1 (also known as MDA5) and RIGI (RIG-I) are pattern recognition receptors that detect viral RNA. The IFIT family proteins (IFIT1, IFIT2, IFIT3) inhibit viral replication by binding to viral RNA or proteins. MX1 and MX2 are GTPases that interfere with viral replication. OAS1 activates RNase L, which degrades viral RNA.\n",
      "===========================================================================\n",
      "Query:  \n",
      "I would like to search PubMed to find supporting evidence for the statements in a paragraph. Give me a maximum of 3 keywords related to the functions or biological processes in the statements. \n",
      "\n",
      "Example paragraph:  Involvement of pattern recognition receptors: TLR1, TLR2, and TLR3 are part of the Toll-like receptor family, which recognize pathogen-associated molecular patterns and initiate innate immune responses. NOD2 and NLRP3 are intracellular sensors that also contribute to immune activation.\n",
      "Example response: immune response,receptors,pathogen\n",
      "\n",
      "Please don't include gene symbols. Please order keywords by their importance in the paragraph, from high importance to low importance. Return the keywords as a comma separated list without spaces. If there are no keywords matching the criteria, return \"Unknown\" \n",
      "\n",
      "Please find keywords for this paragraph:\n",
      "These proteins are key components of the interferon-induced antiviral response. IFIH1 (also known as MDA5) and RIGI (RIG-I) are pattern recognition receptors that detect viral RNA. The IFIT family proteins (IFIT1, IFIT2, IFIT3) inhibit viral replication by binding to viral RNA or proteins. MX1 and MX2 are GTPases that interfere with viral replication. OAS1 activates RNase L, which degrades viral RNA.\n",
      "    \n",
      "Result:  antiviral,interferon,replication\n",
      "PubMed Keywords:  (IFIH1[Title/Abstract] OR IFIT1[Title/Abstract] OR IFIT2[Title/Abstract] OR IFIT3[Title/Abstract] OR MX1[Title/Abstract] OR MX2[Title/Abstract] OR OAS1[Title/Abstract] OR RIGI[Title/Abstract]) AND (antiviral[Title/Abstract] OR interferon[Title/Abstract] OR replication[Title/Abstract])\n",
      "Serching paper with keywords...\n",
      "20 references are queried\n"
     ]
    },
    {
     "ename": "KeyboardInterrupt",
     "evalue": "",
     "output_type": "error",
     "traceback": [
      "\u001b[0;31m---------------------------------------------------------------------------\u001b[0m",
      "\u001b[0;31mKeyboardInterrupt\u001b[0m                         Traceback (most recent call last)",
      "Cell \u001b[0;32mIn[35], line 8\u001b[0m\n\u001b[1;32m      6\u001b[0m hypothesis_id \u001b[38;5;241m=\u001b[39m hypothesis\n\u001b[1;32m      7\u001b[0m agent_id \u001b[38;5;241m=\u001b[39m agent \u001b[38;5;66;03m# because I only use the context for this purpose so it doesn't matter which agent I use\u001b[39;00m\n\u001b[0;32m----> 8\u001b[0m \u001b[38;5;28mdict\u001b[39m, stored_refs \u001b[38;5;241m=\u001b[39m \u001b[43mget_references_for_paragraphs\u001b[49m\u001b[43m(\u001b[49m\u001b[43mdb\u001b[49m\u001b[43m,\u001b[49m\u001b[43m \u001b[49m\u001b[43mhypothesis_id\u001b[49m\u001b[43m,\u001b[49m\u001b[43m \u001b[49m\u001b[43magent_id\u001b[49m\u001b[43m,\u001b[49m\u001b[43m \u001b[49m\u001b[43mn\u001b[49m\u001b[38;5;241;43m=\u001b[39;49m\u001b[38;5;241;43m5\u001b[39;49m\u001b[43m,\u001b[49m\u001b[43m \u001b[49m\u001b[43mpapers_query\u001b[49m\u001b[38;5;241;43m=\u001b[39;49m\u001b[38;5;241;43m20\u001b[39;49m\u001b[43m,\u001b[49m\u001b[43m \u001b[49m\u001b[43mverbose\u001b[49m\u001b[38;5;241;43m=\u001b[39;49m\u001b[38;5;28;43;01mTrue\u001b[39;49;00m\u001b[43m)\u001b[49m\n",
      "File \u001b[0;32m~/Projects/agent_evaluation/services/reference_checker.py:516\u001b[0m, in \u001b[0;36mget_references_for_paragraphs\u001b[0;34m(db, hypothesis_id, agent_id, n, papers_query, verbose)\u001b[0m\n\u001b[1;32m    514\u001b[0m response_dict = parse_text_to_json(hypothesis_text)\n\u001b[1;32m    515\u001b[0m \n\u001b[0;32m--> 516\u001b[0m \n\u001b[1;32m    517\u001b[0m references_paragraphs = []\n\u001b[1;32m    518\u001b[0m paragraph_ref_data = {}\n",
      "File \u001b[0;32m~/Projects/agent_evaluation/services/reference_checker.py:424\u001b[0m, in \u001b[0;36mget_references_for_paragraph\u001b[0;34m(db, dict_value, agent_id, email, n, papers_query, verbose)\u001b[0m\n\u001b[1;32m    422\u001b[0m genes_in_abstract = get_genes_in_abstract(paper, genes, verbose=verbose)\n\u001b[1;32m    423\u001b[0m title = paper['MedlineCitation']['Article']['ArticleTitle']\n\u001b[0;32m--> 424\u001b[0m if len(genes)==1:\n\u001b[1;32m    425\u001b[0m     single_gene = True\n\u001b[1;32m    426\u001b[0m else:\n",
      "File \u001b[0;32m~/Projects/agent_evaluation/services/reference_checker.py:245\u001b[0m, in \u001b[0;36mcheck_title_matching\u001b[0;34m(db, paper, dict_value, agent_id, n, verbose)\u001b[0m\n\u001b[1;32m    243\u001b[0m \"\"\"    \n\u001b[1;32m    244\u001b[0m     try:\n\u001b[0;32m--> 245\u001b[0m         result = llm.query(agent.context, message)\n\u001b[1;32m    246\u001b[0m     except Exception as e:\n\u001b[1;32m    247\u001b[0m         print(\"Error in query title matching\")\n",
      "File \u001b[0;32m~/Projects/agent_evaluation/models/llm.py:64\u001b[0m, in \u001b[0;36mLLM.query\u001b[0;34m(self, context, prompt)\u001b[0m\n\u001b[1;32m     62\u001b[0m     \u001b[38;5;28;01mreturn\u001b[39;00m \u001b[38;5;28mself\u001b[39m\u001b[38;5;241m.\u001b[39mquery_openai(context, prompt)\n\u001b[1;32m     63\u001b[0m \u001b[38;5;28;01melif\u001b[39;00m \u001b[38;5;28mself\u001b[39m\u001b[38;5;241m.\u001b[39mtype \u001b[38;5;241m==\u001b[39m \u001b[38;5;124m'\u001b[39m\u001b[38;5;124mAnthropic\u001b[39m\u001b[38;5;124m'\u001b[39m:\n\u001b[0;32m---> 64\u001b[0m     \u001b[38;5;28;01mreturn\u001b[39;00m \u001b[38;5;28;43mself\u001b[39;49m\u001b[38;5;241;43m.\u001b[39;49m\u001b[43mquery_anthropic\u001b[49m\u001b[43m(\u001b[49m\u001b[43mcontext\u001b[49m\u001b[43m,\u001b[49m\u001b[43m \u001b[49m\u001b[43mprompt\u001b[49m\u001b[43m)\u001b[49m\n\u001b[1;32m     65\u001b[0m \u001b[38;5;28;01melif\u001b[39;00m \u001b[38;5;28mself\u001b[39m\u001b[38;5;241m.\u001b[39mtype \u001b[38;5;241m==\u001b[39m \u001b[38;5;124m'\u001b[39m\u001b[38;5;124mGroq\u001b[39m\u001b[38;5;124m'\u001b[39m:\n\u001b[1;32m     66\u001b[0m     \u001b[38;5;28;01mreturn\u001b[39;00m \u001b[38;5;28mself\u001b[39m\u001b[38;5;241m.\u001b[39mquery_groq(context, prompt)\n",
      "File \u001b[0;32m~/Projects/agent_evaluation/models/llm.py:158\u001b[0m, in \u001b[0;36mLLM.query_anthropic\u001b[0;34m(self, context, prompt)\u001b[0m\n\u001b[1;32m    156\u001b[0m \u001b[38;5;28;01mwhile\u001b[39;00m retries \u001b[38;5;241m<\u001b[39m max_retries:\n\u001b[1;32m    157\u001b[0m     \u001b[38;5;28;01mtry\u001b[39;00m:\n\u001b[0;32m--> 158\u001b[0m         response \u001b[38;5;241m=\u001b[39m \u001b[43mclient\u001b[49m\u001b[38;5;241;43m.\u001b[39;49m\u001b[43mmessages\u001b[49m\u001b[38;5;241;43m.\u001b[39;49m\u001b[43mcreate\u001b[49m\u001b[43m(\u001b[49m\n\u001b[1;32m    159\u001b[0m \u001b[43m            \u001b[49m\u001b[43mmodel\u001b[49m\u001b[38;5;241;43m=\u001b[39;49m\u001b[38;5;28;43mself\u001b[39;49m\u001b[38;5;241;43m.\u001b[39;49m\u001b[43mmodel_name\u001b[49m\u001b[43m,\u001b[49m\n\u001b[1;32m    160\u001b[0m \u001b[43m            \u001b[49m\u001b[43mmax_tokens\u001b[49m\u001b[38;5;241;43m=\u001b[39;49m\u001b[38;5;28;43mself\u001b[39;49m\u001b[38;5;241;43m.\u001b[39;49m\u001b[43mmax_tokens\u001b[49m\u001b[43m,\u001b[49m\n\u001b[1;32m    161\u001b[0m \u001b[43m            \u001b[49m\u001b[43mtemperature\u001b[49m\u001b[38;5;241;43m=\u001b[39;49m\u001b[38;5;28;43mself\u001b[39;49m\u001b[38;5;241;43m.\u001b[39;49m\u001b[43mtemperature\u001b[49m\u001b[43m,\u001b[49m\n\u001b[1;32m    162\u001b[0m \u001b[43m            \u001b[49m\u001b[43msystem\u001b[49m\u001b[38;5;241;43m=\u001b[39;49m\u001b[43mcontext\u001b[49m\u001b[43m,\u001b[49m\n\u001b[1;32m    163\u001b[0m \u001b[43m            \u001b[49m\u001b[43mmessages\u001b[49m\u001b[38;5;241;43m=\u001b[39;49m\u001b[43m[\u001b[49m\n\u001b[1;32m    164\u001b[0m \u001b[43m                \u001b[49m\u001b[43m{\u001b[49m\u001b[38;5;124;43m\"\u001b[39;49m\u001b[38;5;124;43mrole\u001b[39;49m\u001b[38;5;124;43m\"\u001b[39;49m\u001b[43m:\u001b[49m\u001b[43m \u001b[49m\u001b[38;5;124;43m\"\u001b[39;49m\u001b[38;5;124;43muser\u001b[39;49m\u001b[38;5;124;43m\"\u001b[39;49m\u001b[43m,\u001b[49m\u001b[43m \u001b[49m\u001b[38;5;124;43m\"\u001b[39;49m\u001b[38;5;124;43mcontent\u001b[39;49m\u001b[38;5;124;43m\"\u001b[39;49m\u001b[43m:\u001b[49m\u001b[43m \u001b[49m\u001b[43mprompt\u001b[49m\u001b[43m}\u001b[49m\n\u001b[1;32m    165\u001b[0m \u001b[43m            \u001b[49m\u001b[43m]\u001b[49m\n\u001b[1;32m    166\u001b[0m \u001b[43m        \u001b[49m\u001b[43m)\u001b[49m\n\u001b[1;32m    167\u001b[0m         response_content \u001b[38;5;241m=\u001b[39m response\u001b[38;5;241m.\u001b[39mcontent[\u001b[38;5;241m0\u001b[39m]\u001b[38;5;241m.\u001b[39mtext\n\u001b[1;32m    169\u001b[0m         \u001b[38;5;28;01mreturn\u001b[39;00m response_content\n",
      "File \u001b[0;32m~/miniconda3/envs/llm_agent/lib/python3.11/site-packages/anthropic/_utils/_utils.py:277\u001b[0m, in \u001b[0;36mrequired_args.<locals>.inner.<locals>.wrapper\u001b[0;34m(*args, **kwargs)\u001b[0m\n\u001b[1;32m    275\u001b[0m             msg \u001b[38;5;241m=\u001b[39m \u001b[38;5;124mf\u001b[39m\u001b[38;5;124m\"\u001b[39m\u001b[38;5;124mMissing required argument: \u001b[39m\u001b[38;5;132;01m{\u001b[39;00mquote(missing[\u001b[38;5;241m0\u001b[39m])\u001b[38;5;132;01m}\u001b[39;00m\u001b[38;5;124m\"\u001b[39m\n\u001b[1;32m    276\u001b[0m     \u001b[38;5;28;01mraise\u001b[39;00m \u001b[38;5;167;01mTypeError\u001b[39;00m(msg)\n\u001b[0;32m--> 277\u001b[0m \u001b[38;5;28;01mreturn\u001b[39;00m \u001b[43mfunc\u001b[49m\u001b[43m(\u001b[49m\u001b[38;5;241;43m*\u001b[39;49m\u001b[43margs\u001b[49m\u001b[43m,\u001b[49m\u001b[43m \u001b[49m\u001b[38;5;241;43m*\u001b[39;49m\u001b[38;5;241;43m*\u001b[39;49m\u001b[43mkwargs\u001b[49m\u001b[43m)\u001b[49m\n",
      "File \u001b[0;32m~/miniconda3/envs/llm_agent/lib/python3.11/site-packages/anthropic/resources/messages.py:904\u001b[0m, in \u001b[0;36mMessages.create\u001b[0;34m(self, max_tokens, messages, model, metadata, stop_sequences, stream, system, temperature, tool_choice, tools, top_k, top_p, extra_headers, extra_query, extra_body, timeout)\u001b[0m\n\u001b[1;32m    870\u001b[0m \u001b[38;5;129m@required_args\u001b[39m([\u001b[38;5;124m\"\u001b[39m\u001b[38;5;124mmax_tokens\u001b[39m\u001b[38;5;124m\"\u001b[39m, \u001b[38;5;124m\"\u001b[39m\u001b[38;5;124mmessages\u001b[39m\u001b[38;5;124m\"\u001b[39m, \u001b[38;5;124m\"\u001b[39m\u001b[38;5;124mmodel\u001b[39m\u001b[38;5;124m\"\u001b[39m], [\u001b[38;5;124m\"\u001b[39m\u001b[38;5;124mmax_tokens\u001b[39m\u001b[38;5;124m\"\u001b[39m, \u001b[38;5;124m\"\u001b[39m\u001b[38;5;124mmessages\u001b[39m\u001b[38;5;124m\"\u001b[39m, \u001b[38;5;124m\"\u001b[39m\u001b[38;5;124mmodel\u001b[39m\u001b[38;5;124m\"\u001b[39m, \u001b[38;5;124m\"\u001b[39m\u001b[38;5;124mstream\u001b[39m\u001b[38;5;124m\"\u001b[39m])\n\u001b[1;32m    871\u001b[0m \u001b[38;5;28;01mdef\u001b[39;00m \u001b[38;5;21mcreate\u001b[39m(\n\u001b[1;32m    872\u001b[0m     \u001b[38;5;28mself\u001b[39m,\n\u001b[0;32m   (...)\u001b[0m\n\u001b[1;32m    902\u001b[0m     timeout: \u001b[38;5;28mfloat\u001b[39m \u001b[38;5;241m|\u001b[39m httpx\u001b[38;5;241m.\u001b[39mTimeout \u001b[38;5;241m|\u001b[39m \u001b[38;5;28;01mNone\u001b[39;00m \u001b[38;5;241m|\u001b[39m NotGiven \u001b[38;5;241m=\u001b[39m \u001b[38;5;241m600\u001b[39m,\n\u001b[1;32m    903\u001b[0m ) \u001b[38;5;241m-\u001b[39m\u001b[38;5;241m>\u001b[39m Message \u001b[38;5;241m|\u001b[39m Stream[RawMessageStreamEvent]:\n\u001b[0;32m--> 904\u001b[0m     \u001b[38;5;28;01mreturn\u001b[39;00m \u001b[38;5;28;43mself\u001b[39;49m\u001b[38;5;241;43m.\u001b[39;49m\u001b[43m_post\u001b[49m\u001b[43m(\u001b[49m\n\u001b[1;32m    905\u001b[0m \u001b[43m        \u001b[49m\u001b[38;5;124;43m\"\u001b[39;49m\u001b[38;5;124;43m/v1/messages\u001b[39;49m\u001b[38;5;124;43m\"\u001b[39;49m\u001b[43m,\u001b[49m\n\u001b[1;32m    906\u001b[0m \u001b[43m        \u001b[49m\u001b[43mbody\u001b[49m\u001b[38;5;241;43m=\u001b[39;49m\u001b[43mmaybe_transform\u001b[49m\u001b[43m(\u001b[49m\n\u001b[1;32m    907\u001b[0m \u001b[43m            \u001b[49m\u001b[43m{\u001b[49m\n\u001b[1;32m    908\u001b[0m \u001b[43m                \u001b[49m\u001b[38;5;124;43m\"\u001b[39;49m\u001b[38;5;124;43mmax_tokens\u001b[39;49m\u001b[38;5;124;43m\"\u001b[39;49m\u001b[43m:\u001b[49m\u001b[43m \u001b[49m\u001b[43mmax_tokens\u001b[49m\u001b[43m,\u001b[49m\n\u001b[1;32m    909\u001b[0m \u001b[43m                \u001b[49m\u001b[38;5;124;43m\"\u001b[39;49m\u001b[38;5;124;43mmessages\u001b[39;49m\u001b[38;5;124;43m\"\u001b[39;49m\u001b[43m:\u001b[49m\u001b[43m \u001b[49m\u001b[43mmessages\u001b[49m\u001b[43m,\u001b[49m\n\u001b[1;32m    910\u001b[0m \u001b[43m                \u001b[49m\u001b[38;5;124;43m\"\u001b[39;49m\u001b[38;5;124;43mmodel\u001b[39;49m\u001b[38;5;124;43m\"\u001b[39;49m\u001b[43m:\u001b[49m\u001b[43m \u001b[49m\u001b[43mmodel\u001b[49m\u001b[43m,\u001b[49m\n\u001b[1;32m    911\u001b[0m \u001b[43m                \u001b[49m\u001b[38;5;124;43m\"\u001b[39;49m\u001b[38;5;124;43mmetadata\u001b[39;49m\u001b[38;5;124;43m\"\u001b[39;49m\u001b[43m:\u001b[49m\u001b[43m \u001b[49m\u001b[43mmetadata\u001b[49m\u001b[43m,\u001b[49m\n\u001b[1;32m    912\u001b[0m \u001b[43m                \u001b[49m\u001b[38;5;124;43m\"\u001b[39;49m\u001b[38;5;124;43mstop_sequences\u001b[39;49m\u001b[38;5;124;43m\"\u001b[39;49m\u001b[43m:\u001b[49m\u001b[43m \u001b[49m\u001b[43mstop_sequences\u001b[49m\u001b[43m,\u001b[49m\n\u001b[1;32m    913\u001b[0m \u001b[43m                \u001b[49m\u001b[38;5;124;43m\"\u001b[39;49m\u001b[38;5;124;43mstream\u001b[39;49m\u001b[38;5;124;43m\"\u001b[39;49m\u001b[43m:\u001b[49m\u001b[43m \u001b[49m\u001b[43mstream\u001b[49m\u001b[43m,\u001b[49m\n\u001b[1;32m    914\u001b[0m \u001b[43m                \u001b[49m\u001b[38;5;124;43m\"\u001b[39;49m\u001b[38;5;124;43msystem\u001b[39;49m\u001b[38;5;124;43m\"\u001b[39;49m\u001b[43m:\u001b[49m\u001b[43m \u001b[49m\u001b[43msystem\u001b[49m\u001b[43m,\u001b[49m\n\u001b[1;32m    915\u001b[0m \u001b[43m                \u001b[49m\u001b[38;5;124;43m\"\u001b[39;49m\u001b[38;5;124;43mtemperature\u001b[39;49m\u001b[38;5;124;43m\"\u001b[39;49m\u001b[43m:\u001b[49m\u001b[43m \u001b[49m\u001b[43mtemperature\u001b[49m\u001b[43m,\u001b[49m\n\u001b[1;32m    916\u001b[0m \u001b[43m                \u001b[49m\u001b[38;5;124;43m\"\u001b[39;49m\u001b[38;5;124;43mtool_choice\u001b[39;49m\u001b[38;5;124;43m\"\u001b[39;49m\u001b[43m:\u001b[49m\u001b[43m \u001b[49m\u001b[43mtool_choice\u001b[49m\u001b[43m,\u001b[49m\n\u001b[1;32m    917\u001b[0m \u001b[43m                \u001b[49m\u001b[38;5;124;43m\"\u001b[39;49m\u001b[38;5;124;43mtools\u001b[39;49m\u001b[38;5;124;43m\"\u001b[39;49m\u001b[43m:\u001b[49m\u001b[43m \u001b[49m\u001b[43mtools\u001b[49m\u001b[43m,\u001b[49m\n\u001b[1;32m    918\u001b[0m \u001b[43m                \u001b[49m\u001b[38;5;124;43m\"\u001b[39;49m\u001b[38;5;124;43mtop_k\u001b[39;49m\u001b[38;5;124;43m\"\u001b[39;49m\u001b[43m:\u001b[49m\u001b[43m \u001b[49m\u001b[43mtop_k\u001b[49m\u001b[43m,\u001b[49m\n\u001b[1;32m    919\u001b[0m \u001b[43m                \u001b[49m\u001b[38;5;124;43m\"\u001b[39;49m\u001b[38;5;124;43mtop_p\u001b[39;49m\u001b[38;5;124;43m\"\u001b[39;49m\u001b[43m:\u001b[49m\u001b[43m \u001b[49m\u001b[43mtop_p\u001b[49m\u001b[43m,\u001b[49m\n\u001b[1;32m    920\u001b[0m \u001b[43m            \u001b[49m\u001b[43m}\u001b[49m\u001b[43m,\u001b[49m\n\u001b[1;32m    921\u001b[0m \u001b[43m            \u001b[49m\u001b[43mmessage_create_params\u001b[49m\u001b[38;5;241;43m.\u001b[39;49m\u001b[43mMessageCreateParams\u001b[49m\u001b[43m,\u001b[49m\n\u001b[1;32m    922\u001b[0m \u001b[43m        \u001b[49m\u001b[43m)\u001b[49m\u001b[43m,\u001b[49m\n\u001b[1;32m    923\u001b[0m \u001b[43m        \u001b[49m\u001b[43moptions\u001b[49m\u001b[38;5;241;43m=\u001b[39;49m\u001b[43mmake_request_options\u001b[49m\u001b[43m(\u001b[49m\n\u001b[1;32m    924\u001b[0m \u001b[43m            \u001b[49m\u001b[43mextra_headers\u001b[49m\u001b[38;5;241;43m=\u001b[39;49m\u001b[43mextra_headers\u001b[49m\u001b[43m,\u001b[49m\u001b[43m \u001b[49m\u001b[43mextra_query\u001b[49m\u001b[38;5;241;43m=\u001b[39;49m\u001b[43mextra_query\u001b[49m\u001b[43m,\u001b[49m\u001b[43m \u001b[49m\u001b[43mextra_body\u001b[49m\u001b[38;5;241;43m=\u001b[39;49m\u001b[43mextra_body\u001b[49m\u001b[43m,\u001b[49m\u001b[43m \u001b[49m\u001b[43mtimeout\u001b[49m\u001b[38;5;241;43m=\u001b[39;49m\u001b[43mtimeout\u001b[49m\n\u001b[1;32m    925\u001b[0m \u001b[43m        \u001b[49m\u001b[43m)\u001b[49m\u001b[43m,\u001b[49m\n\u001b[1;32m    926\u001b[0m \u001b[43m        \u001b[49m\u001b[43mcast_to\u001b[49m\u001b[38;5;241;43m=\u001b[39;49m\u001b[43mMessage\u001b[49m\u001b[43m,\u001b[49m\n\u001b[1;32m    927\u001b[0m \u001b[43m        \u001b[49m\u001b[43mstream\u001b[49m\u001b[38;5;241;43m=\u001b[39;49m\u001b[43mstream\u001b[49m\u001b[43m \u001b[49m\u001b[38;5;129;43;01mor\u001b[39;49;00m\u001b[43m \u001b[49m\u001b[38;5;28;43;01mFalse\u001b[39;49;00m\u001b[43m,\u001b[49m\n\u001b[1;32m    928\u001b[0m \u001b[43m        \u001b[49m\u001b[43mstream_cls\u001b[49m\u001b[38;5;241;43m=\u001b[39;49m\u001b[43mStream\u001b[49m\u001b[43m[\u001b[49m\u001b[43mRawMessageStreamEvent\u001b[49m\u001b[43m]\u001b[49m\u001b[43m,\u001b[49m\n\u001b[1;32m    929\u001b[0m \u001b[43m    \u001b[49m\u001b[43m)\u001b[49m\n",
      "File \u001b[0;32m~/miniconda3/envs/llm_agent/lib/python3.11/site-packages/anthropic/_base_client.py:1249\u001b[0m, in \u001b[0;36mSyncAPIClient.post\u001b[0;34m(self, path, cast_to, body, options, files, stream, stream_cls)\u001b[0m\n\u001b[1;32m   1235\u001b[0m \u001b[38;5;28;01mdef\u001b[39;00m \u001b[38;5;21mpost\u001b[39m(\n\u001b[1;32m   1236\u001b[0m     \u001b[38;5;28mself\u001b[39m,\n\u001b[1;32m   1237\u001b[0m     path: \u001b[38;5;28mstr\u001b[39m,\n\u001b[0;32m   (...)\u001b[0m\n\u001b[1;32m   1244\u001b[0m     stream_cls: \u001b[38;5;28mtype\u001b[39m[_StreamT] \u001b[38;5;241m|\u001b[39m \u001b[38;5;28;01mNone\u001b[39;00m \u001b[38;5;241m=\u001b[39m \u001b[38;5;28;01mNone\u001b[39;00m,\n\u001b[1;32m   1245\u001b[0m ) \u001b[38;5;241m-\u001b[39m\u001b[38;5;241m>\u001b[39m ResponseT \u001b[38;5;241m|\u001b[39m _StreamT:\n\u001b[1;32m   1246\u001b[0m     opts \u001b[38;5;241m=\u001b[39m FinalRequestOptions\u001b[38;5;241m.\u001b[39mconstruct(\n\u001b[1;32m   1247\u001b[0m         method\u001b[38;5;241m=\u001b[39m\u001b[38;5;124m\"\u001b[39m\u001b[38;5;124mpost\u001b[39m\u001b[38;5;124m\"\u001b[39m, url\u001b[38;5;241m=\u001b[39mpath, json_data\u001b[38;5;241m=\u001b[39mbody, files\u001b[38;5;241m=\u001b[39mto_httpx_files(files), \u001b[38;5;241m*\u001b[39m\u001b[38;5;241m*\u001b[39moptions\n\u001b[1;32m   1248\u001b[0m     )\n\u001b[0;32m-> 1249\u001b[0m     \u001b[38;5;28;01mreturn\u001b[39;00m cast(ResponseT, \u001b[38;5;28;43mself\u001b[39;49m\u001b[38;5;241;43m.\u001b[39;49m\u001b[43mrequest\u001b[49m\u001b[43m(\u001b[49m\u001b[43mcast_to\u001b[49m\u001b[43m,\u001b[49m\u001b[43m \u001b[49m\u001b[43mopts\u001b[49m\u001b[43m,\u001b[49m\u001b[43m \u001b[49m\u001b[43mstream\u001b[49m\u001b[38;5;241;43m=\u001b[39;49m\u001b[43mstream\u001b[49m\u001b[43m,\u001b[49m\u001b[43m \u001b[49m\u001b[43mstream_cls\u001b[49m\u001b[38;5;241;43m=\u001b[39;49m\u001b[43mstream_cls\u001b[49m\u001b[43m)\u001b[49m)\n",
      "File \u001b[0;32m~/miniconda3/envs/llm_agent/lib/python3.11/site-packages/anthropic/_base_client.py:931\u001b[0m, in \u001b[0;36mSyncAPIClient.request\u001b[0;34m(self, cast_to, options, remaining_retries, stream, stream_cls)\u001b[0m\n\u001b[1;32m    922\u001b[0m \u001b[38;5;28;01mdef\u001b[39;00m \u001b[38;5;21mrequest\u001b[39m(\n\u001b[1;32m    923\u001b[0m     \u001b[38;5;28mself\u001b[39m,\n\u001b[1;32m    924\u001b[0m     cast_to: Type[ResponseT],\n\u001b[0;32m   (...)\u001b[0m\n\u001b[1;32m    929\u001b[0m     stream_cls: \u001b[38;5;28mtype\u001b[39m[_StreamT] \u001b[38;5;241m|\u001b[39m \u001b[38;5;28;01mNone\u001b[39;00m \u001b[38;5;241m=\u001b[39m \u001b[38;5;28;01mNone\u001b[39;00m,\n\u001b[1;32m    930\u001b[0m ) \u001b[38;5;241m-\u001b[39m\u001b[38;5;241m>\u001b[39m ResponseT \u001b[38;5;241m|\u001b[39m _StreamT:\n\u001b[0;32m--> 931\u001b[0m     \u001b[38;5;28;01mreturn\u001b[39;00m \u001b[38;5;28;43mself\u001b[39;49m\u001b[38;5;241;43m.\u001b[39;49m\u001b[43m_request\u001b[49m\u001b[43m(\u001b[49m\n\u001b[1;32m    932\u001b[0m \u001b[43m        \u001b[49m\u001b[43mcast_to\u001b[49m\u001b[38;5;241;43m=\u001b[39;49m\u001b[43mcast_to\u001b[49m\u001b[43m,\u001b[49m\n\u001b[1;32m    933\u001b[0m \u001b[43m        \u001b[49m\u001b[43moptions\u001b[49m\u001b[38;5;241;43m=\u001b[39;49m\u001b[43moptions\u001b[49m\u001b[43m,\u001b[49m\n\u001b[1;32m    934\u001b[0m \u001b[43m        \u001b[49m\u001b[43mstream\u001b[49m\u001b[38;5;241;43m=\u001b[39;49m\u001b[43mstream\u001b[49m\u001b[43m,\u001b[49m\n\u001b[1;32m    935\u001b[0m \u001b[43m        \u001b[49m\u001b[43mstream_cls\u001b[49m\u001b[38;5;241;43m=\u001b[39;49m\u001b[43mstream_cls\u001b[49m\u001b[43m,\u001b[49m\n\u001b[1;32m    936\u001b[0m \u001b[43m        \u001b[49m\u001b[43mremaining_retries\u001b[49m\u001b[38;5;241;43m=\u001b[39;49m\u001b[43mremaining_retries\u001b[49m\u001b[43m,\u001b[49m\n\u001b[1;32m    937\u001b[0m \u001b[43m    \u001b[49m\u001b[43m)\u001b[49m\n",
      "File \u001b[0;32m~/miniconda3/envs/llm_agent/lib/python3.11/site-packages/anthropic/_base_client.py:962\u001b[0m, in \u001b[0;36mSyncAPIClient._request\u001b[0;34m(self, cast_to, options, remaining_retries, stream, stream_cls)\u001b[0m\n\u001b[1;32m    959\u001b[0m log\u001b[38;5;241m.\u001b[39mdebug(\u001b[38;5;124m\"\u001b[39m\u001b[38;5;124mSending HTTP Request: \u001b[39m\u001b[38;5;132;01m%s\u001b[39;00m\u001b[38;5;124m \u001b[39m\u001b[38;5;132;01m%s\u001b[39;00m\u001b[38;5;124m\"\u001b[39m, request\u001b[38;5;241m.\u001b[39mmethod, request\u001b[38;5;241m.\u001b[39murl)\n\u001b[1;32m    961\u001b[0m \u001b[38;5;28;01mtry\u001b[39;00m:\n\u001b[0;32m--> 962\u001b[0m     response \u001b[38;5;241m=\u001b[39m \u001b[38;5;28;43mself\u001b[39;49m\u001b[38;5;241;43m.\u001b[39;49m\u001b[43m_client\u001b[49m\u001b[38;5;241;43m.\u001b[39;49m\u001b[43msend\u001b[49m\u001b[43m(\u001b[49m\n\u001b[1;32m    963\u001b[0m \u001b[43m        \u001b[49m\u001b[43mrequest\u001b[49m\u001b[43m,\u001b[49m\n\u001b[1;32m    964\u001b[0m \u001b[43m        \u001b[49m\u001b[43mstream\u001b[49m\u001b[38;5;241;43m=\u001b[39;49m\u001b[43mstream\u001b[49m\u001b[43m \u001b[49m\u001b[38;5;129;43;01mor\u001b[39;49;00m\u001b[43m \u001b[49m\u001b[38;5;28;43mself\u001b[39;49m\u001b[38;5;241;43m.\u001b[39;49m\u001b[43m_should_stream_response_body\u001b[49m\u001b[43m(\u001b[49m\u001b[43mrequest\u001b[49m\u001b[38;5;241;43m=\u001b[39;49m\u001b[43mrequest\u001b[49m\u001b[43m)\u001b[49m\u001b[43m,\u001b[49m\n\u001b[1;32m    965\u001b[0m \u001b[43m        \u001b[49m\u001b[38;5;241;43m*\u001b[39;49m\u001b[38;5;241;43m*\u001b[39;49m\u001b[43mkwargs\u001b[49m\u001b[43m,\u001b[49m\n\u001b[1;32m    966\u001b[0m \u001b[43m    \u001b[49m\u001b[43m)\u001b[49m\n\u001b[1;32m    967\u001b[0m \u001b[38;5;28;01mexcept\u001b[39;00m httpx\u001b[38;5;241m.\u001b[39mTimeoutException \u001b[38;5;28;01mas\u001b[39;00m err:\n\u001b[1;32m    968\u001b[0m     log\u001b[38;5;241m.\u001b[39mdebug(\u001b[38;5;124m\"\u001b[39m\u001b[38;5;124mEncountered httpx.TimeoutException\u001b[39m\u001b[38;5;124m\"\u001b[39m, exc_info\u001b[38;5;241m=\u001b[39m\u001b[38;5;28;01mTrue\u001b[39;00m)\n",
      "File \u001b[0;32m~/miniconda3/envs/llm_agent/lib/python3.11/site-packages/httpx/_client.py:914\u001b[0m, in \u001b[0;36mClient.send\u001b[0;34m(self, request, stream, auth, follow_redirects)\u001b[0m\n\u001b[1;32m    906\u001b[0m follow_redirects \u001b[38;5;241m=\u001b[39m (\n\u001b[1;32m    907\u001b[0m     \u001b[38;5;28mself\u001b[39m\u001b[38;5;241m.\u001b[39mfollow_redirects\n\u001b[1;32m    908\u001b[0m     \u001b[38;5;28;01mif\u001b[39;00m \u001b[38;5;28misinstance\u001b[39m(follow_redirects, UseClientDefault)\n\u001b[1;32m    909\u001b[0m     \u001b[38;5;28;01melse\u001b[39;00m follow_redirects\n\u001b[1;32m    910\u001b[0m )\n\u001b[1;32m    912\u001b[0m auth \u001b[38;5;241m=\u001b[39m \u001b[38;5;28mself\u001b[39m\u001b[38;5;241m.\u001b[39m_build_request_auth(request, auth)\n\u001b[0;32m--> 914\u001b[0m response \u001b[38;5;241m=\u001b[39m \u001b[38;5;28;43mself\u001b[39;49m\u001b[38;5;241;43m.\u001b[39;49m\u001b[43m_send_handling_auth\u001b[49m\u001b[43m(\u001b[49m\n\u001b[1;32m    915\u001b[0m \u001b[43m    \u001b[49m\u001b[43mrequest\u001b[49m\u001b[43m,\u001b[49m\n\u001b[1;32m    916\u001b[0m \u001b[43m    \u001b[49m\u001b[43mauth\u001b[49m\u001b[38;5;241;43m=\u001b[39;49m\u001b[43mauth\u001b[49m\u001b[43m,\u001b[49m\n\u001b[1;32m    917\u001b[0m \u001b[43m    \u001b[49m\u001b[43mfollow_redirects\u001b[49m\u001b[38;5;241;43m=\u001b[39;49m\u001b[43mfollow_redirects\u001b[49m\u001b[43m,\u001b[49m\n\u001b[1;32m    918\u001b[0m \u001b[43m    \u001b[49m\u001b[43mhistory\u001b[49m\u001b[38;5;241;43m=\u001b[39;49m\u001b[43m[\u001b[49m\u001b[43m]\u001b[49m\u001b[43m,\u001b[49m\n\u001b[1;32m    919\u001b[0m \u001b[43m\u001b[49m\u001b[43m)\u001b[49m\n\u001b[1;32m    920\u001b[0m \u001b[38;5;28;01mtry\u001b[39;00m:\n\u001b[1;32m    921\u001b[0m     \u001b[38;5;28;01mif\u001b[39;00m \u001b[38;5;129;01mnot\u001b[39;00m stream:\n",
      "File \u001b[0;32m~/miniconda3/envs/llm_agent/lib/python3.11/site-packages/httpx/_client.py:942\u001b[0m, in \u001b[0;36mClient._send_handling_auth\u001b[0;34m(self, request, auth, follow_redirects, history)\u001b[0m\n\u001b[1;32m    939\u001b[0m request \u001b[38;5;241m=\u001b[39m \u001b[38;5;28mnext\u001b[39m(auth_flow)\n\u001b[1;32m    941\u001b[0m \u001b[38;5;28;01mwhile\u001b[39;00m \u001b[38;5;28;01mTrue\u001b[39;00m:\n\u001b[0;32m--> 942\u001b[0m     response \u001b[38;5;241m=\u001b[39m \u001b[38;5;28;43mself\u001b[39;49m\u001b[38;5;241;43m.\u001b[39;49m\u001b[43m_send_handling_redirects\u001b[49m\u001b[43m(\u001b[49m\n\u001b[1;32m    943\u001b[0m \u001b[43m        \u001b[49m\u001b[43mrequest\u001b[49m\u001b[43m,\u001b[49m\n\u001b[1;32m    944\u001b[0m \u001b[43m        \u001b[49m\u001b[43mfollow_redirects\u001b[49m\u001b[38;5;241;43m=\u001b[39;49m\u001b[43mfollow_redirects\u001b[49m\u001b[43m,\u001b[49m\n\u001b[1;32m    945\u001b[0m \u001b[43m        \u001b[49m\u001b[43mhistory\u001b[49m\u001b[38;5;241;43m=\u001b[39;49m\u001b[43mhistory\u001b[49m\u001b[43m,\u001b[49m\n\u001b[1;32m    946\u001b[0m \u001b[43m    \u001b[49m\u001b[43m)\u001b[49m\n\u001b[1;32m    947\u001b[0m     \u001b[38;5;28;01mtry\u001b[39;00m:\n\u001b[1;32m    948\u001b[0m         \u001b[38;5;28;01mtry\u001b[39;00m:\n",
      "File \u001b[0;32m~/miniconda3/envs/llm_agent/lib/python3.11/site-packages/httpx/_client.py:979\u001b[0m, in \u001b[0;36mClient._send_handling_redirects\u001b[0;34m(self, request, follow_redirects, history)\u001b[0m\n\u001b[1;32m    976\u001b[0m \u001b[38;5;28;01mfor\u001b[39;00m hook \u001b[38;5;129;01min\u001b[39;00m \u001b[38;5;28mself\u001b[39m\u001b[38;5;241m.\u001b[39m_event_hooks[\u001b[38;5;124m\"\u001b[39m\u001b[38;5;124mrequest\u001b[39m\u001b[38;5;124m\"\u001b[39m]:\n\u001b[1;32m    977\u001b[0m     hook(request)\n\u001b[0;32m--> 979\u001b[0m response \u001b[38;5;241m=\u001b[39m \u001b[38;5;28;43mself\u001b[39;49m\u001b[38;5;241;43m.\u001b[39;49m\u001b[43m_send_single_request\u001b[49m\u001b[43m(\u001b[49m\u001b[43mrequest\u001b[49m\u001b[43m)\u001b[49m\n\u001b[1;32m    980\u001b[0m \u001b[38;5;28;01mtry\u001b[39;00m:\n\u001b[1;32m    981\u001b[0m     \u001b[38;5;28;01mfor\u001b[39;00m hook \u001b[38;5;129;01min\u001b[39;00m \u001b[38;5;28mself\u001b[39m\u001b[38;5;241m.\u001b[39m_event_hooks[\u001b[38;5;124m\"\u001b[39m\u001b[38;5;124mresponse\u001b[39m\u001b[38;5;124m\"\u001b[39m]:\n",
      "File \u001b[0;32m~/miniconda3/envs/llm_agent/lib/python3.11/site-packages/httpx/_client.py:1015\u001b[0m, in \u001b[0;36mClient._send_single_request\u001b[0;34m(self, request)\u001b[0m\n\u001b[1;32m   1010\u001b[0m     \u001b[38;5;28;01mraise\u001b[39;00m \u001b[38;5;167;01mRuntimeError\u001b[39;00m(\n\u001b[1;32m   1011\u001b[0m         \u001b[38;5;124m\"\u001b[39m\u001b[38;5;124mAttempted to send an async request with a sync Client instance.\u001b[39m\u001b[38;5;124m\"\u001b[39m\n\u001b[1;32m   1012\u001b[0m     )\n\u001b[1;32m   1014\u001b[0m \u001b[38;5;28;01mwith\u001b[39;00m request_context(request\u001b[38;5;241m=\u001b[39mrequest):\n\u001b[0;32m-> 1015\u001b[0m     response \u001b[38;5;241m=\u001b[39m \u001b[43mtransport\u001b[49m\u001b[38;5;241;43m.\u001b[39;49m\u001b[43mhandle_request\u001b[49m\u001b[43m(\u001b[49m\u001b[43mrequest\u001b[49m\u001b[43m)\u001b[49m\n\u001b[1;32m   1017\u001b[0m \u001b[38;5;28;01massert\u001b[39;00m \u001b[38;5;28misinstance\u001b[39m(response\u001b[38;5;241m.\u001b[39mstream, SyncByteStream)\n\u001b[1;32m   1019\u001b[0m response\u001b[38;5;241m.\u001b[39mrequest \u001b[38;5;241m=\u001b[39m request\n",
      "File \u001b[0;32m~/miniconda3/envs/llm_agent/lib/python3.11/site-packages/httpx/_transports/default.py:233\u001b[0m, in \u001b[0;36mHTTPTransport.handle_request\u001b[0;34m(self, request)\u001b[0m\n\u001b[1;32m    220\u001b[0m req \u001b[38;5;241m=\u001b[39m httpcore\u001b[38;5;241m.\u001b[39mRequest(\n\u001b[1;32m    221\u001b[0m     method\u001b[38;5;241m=\u001b[39mrequest\u001b[38;5;241m.\u001b[39mmethod,\n\u001b[1;32m    222\u001b[0m     url\u001b[38;5;241m=\u001b[39mhttpcore\u001b[38;5;241m.\u001b[39mURL(\n\u001b[0;32m   (...)\u001b[0m\n\u001b[1;32m    230\u001b[0m     extensions\u001b[38;5;241m=\u001b[39mrequest\u001b[38;5;241m.\u001b[39mextensions,\n\u001b[1;32m    231\u001b[0m )\n\u001b[1;32m    232\u001b[0m \u001b[38;5;28;01mwith\u001b[39;00m map_httpcore_exceptions():\n\u001b[0;32m--> 233\u001b[0m     resp \u001b[38;5;241m=\u001b[39m \u001b[38;5;28;43mself\u001b[39;49m\u001b[38;5;241;43m.\u001b[39;49m\u001b[43m_pool\u001b[49m\u001b[38;5;241;43m.\u001b[39;49m\u001b[43mhandle_request\u001b[49m\u001b[43m(\u001b[49m\u001b[43mreq\u001b[49m\u001b[43m)\u001b[49m\n\u001b[1;32m    235\u001b[0m \u001b[38;5;28;01massert\u001b[39;00m \u001b[38;5;28misinstance\u001b[39m(resp\u001b[38;5;241m.\u001b[39mstream, typing\u001b[38;5;241m.\u001b[39mIterable)\n\u001b[1;32m    237\u001b[0m \u001b[38;5;28;01mreturn\u001b[39;00m Response(\n\u001b[1;32m    238\u001b[0m     status_code\u001b[38;5;241m=\u001b[39mresp\u001b[38;5;241m.\u001b[39mstatus,\n\u001b[1;32m    239\u001b[0m     headers\u001b[38;5;241m=\u001b[39mresp\u001b[38;5;241m.\u001b[39mheaders,\n\u001b[1;32m    240\u001b[0m     stream\u001b[38;5;241m=\u001b[39mResponseStream(resp\u001b[38;5;241m.\u001b[39mstream),\n\u001b[1;32m    241\u001b[0m     extensions\u001b[38;5;241m=\u001b[39mresp\u001b[38;5;241m.\u001b[39mextensions,\n\u001b[1;32m    242\u001b[0m )\n",
      "File \u001b[0;32m~/miniconda3/envs/llm_agent/lib/python3.11/site-packages/httpcore/_sync/connection_pool.py:216\u001b[0m, in \u001b[0;36mConnectionPool.handle_request\u001b[0;34m(self, request)\u001b[0m\n\u001b[1;32m    213\u001b[0m         closing \u001b[38;5;241m=\u001b[39m \u001b[38;5;28mself\u001b[39m\u001b[38;5;241m.\u001b[39m_assign_requests_to_connections()\n\u001b[1;32m    215\u001b[0m     \u001b[38;5;28mself\u001b[39m\u001b[38;5;241m.\u001b[39m_close_connections(closing)\n\u001b[0;32m--> 216\u001b[0m     \u001b[38;5;28;01mraise\u001b[39;00m exc \u001b[38;5;28;01mfrom\u001b[39;00m \u001b[38;5;28;01mNone\u001b[39;00m\n\u001b[1;32m    218\u001b[0m \u001b[38;5;66;03m# Return the response. Note that in this case we still have to manage\u001b[39;00m\n\u001b[1;32m    219\u001b[0m \u001b[38;5;66;03m# the point at which the response is closed.\u001b[39;00m\n\u001b[1;32m    220\u001b[0m \u001b[38;5;28;01massert\u001b[39;00m \u001b[38;5;28misinstance\u001b[39m(response\u001b[38;5;241m.\u001b[39mstream, Iterable)\n",
      "File \u001b[0;32m~/miniconda3/envs/llm_agent/lib/python3.11/site-packages/httpcore/_sync/connection_pool.py:196\u001b[0m, in \u001b[0;36mConnectionPool.handle_request\u001b[0;34m(self, request)\u001b[0m\n\u001b[1;32m    192\u001b[0m connection \u001b[38;5;241m=\u001b[39m pool_request\u001b[38;5;241m.\u001b[39mwait_for_connection(timeout\u001b[38;5;241m=\u001b[39mtimeout)\n\u001b[1;32m    194\u001b[0m \u001b[38;5;28;01mtry\u001b[39;00m:\n\u001b[1;32m    195\u001b[0m     \u001b[38;5;66;03m# Send the request on the assigned connection.\u001b[39;00m\n\u001b[0;32m--> 196\u001b[0m     response \u001b[38;5;241m=\u001b[39m \u001b[43mconnection\u001b[49m\u001b[38;5;241;43m.\u001b[39;49m\u001b[43mhandle_request\u001b[49m\u001b[43m(\u001b[49m\n\u001b[1;32m    197\u001b[0m \u001b[43m        \u001b[49m\u001b[43mpool_request\u001b[49m\u001b[38;5;241;43m.\u001b[39;49m\u001b[43mrequest\u001b[49m\n\u001b[1;32m    198\u001b[0m \u001b[43m    \u001b[49m\u001b[43m)\u001b[49m\n\u001b[1;32m    199\u001b[0m \u001b[38;5;28;01mexcept\u001b[39;00m ConnectionNotAvailable:\n\u001b[1;32m    200\u001b[0m     \u001b[38;5;66;03m# In some cases a connection may initially be available to\u001b[39;00m\n\u001b[1;32m    201\u001b[0m     \u001b[38;5;66;03m# handle a request, but then become unavailable.\u001b[39;00m\n\u001b[1;32m    202\u001b[0m     \u001b[38;5;66;03m#\u001b[39;00m\n\u001b[1;32m    203\u001b[0m     \u001b[38;5;66;03m# In this case we clear the connection and try again.\u001b[39;00m\n\u001b[1;32m    204\u001b[0m     pool_request\u001b[38;5;241m.\u001b[39mclear_connection()\n",
      "File \u001b[0;32m~/miniconda3/envs/llm_agent/lib/python3.11/site-packages/httpcore/_sync/connection.py:101\u001b[0m, in \u001b[0;36mHTTPConnection.handle_request\u001b[0;34m(self, request)\u001b[0m\n\u001b[1;32m     98\u001b[0m     \u001b[38;5;28mself\u001b[39m\u001b[38;5;241m.\u001b[39m_connect_failed \u001b[38;5;241m=\u001b[39m \u001b[38;5;28;01mTrue\u001b[39;00m\n\u001b[1;32m     99\u001b[0m     \u001b[38;5;28;01mraise\u001b[39;00m exc\n\u001b[0;32m--> 101\u001b[0m \u001b[38;5;28;01mreturn\u001b[39;00m \u001b[38;5;28;43mself\u001b[39;49m\u001b[38;5;241;43m.\u001b[39;49m\u001b[43m_connection\u001b[49m\u001b[38;5;241;43m.\u001b[39;49m\u001b[43mhandle_request\u001b[49m\u001b[43m(\u001b[49m\u001b[43mrequest\u001b[49m\u001b[43m)\u001b[49m\n",
      "File \u001b[0;32m~/miniconda3/envs/llm_agent/lib/python3.11/site-packages/httpcore/_sync/http11.py:143\u001b[0m, in \u001b[0;36mHTTP11Connection.handle_request\u001b[0;34m(self, request)\u001b[0m\n\u001b[1;32m    141\u001b[0m     \u001b[38;5;28;01mwith\u001b[39;00m Trace(\u001b[38;5;124m\"\u001b[39m\u001b[38;5;124mresponse_closed\u001b[39m\u001b[38;5;124m\"\u001b[39m, logger, request) \u001b[38;5;28;01mas\u001b[39;00m trace:\n\u001b[1;32m    142\u001b[0m         \u001b[38;5;28mself\u001b[39m\u001b[38;5;241m.\u001b[39m_response_closed()\n\u001b[0;32m--> 143\u001b[0m \u001b[38;5;28;01mraise\u001b[39;00m exc\n",
      "File \u001b[0;32m~/miniconda3/envs/llm_agent/lib/python3.11/site-packages/httpcore/_sync/http11.py:113\u001b[0m, in \u001b[0;36mHTTP11Connection.handle_request\u001b[0;34m(self, request)\u001b[0m\n\u001b[1;32m    102\u001b[0m     \u001b[38;5;28;01mpass\u001b[39;00m\n\u001b[1;32m    104\u001b[0m \u001b[38;5;28;01mwith\u001b[39;00m Trace(\n\u001b[1;32m    105\u001b[0m     \u001b[38;5;124m\"\u001b[39m\u001b[38;5;124mreceive_response_headers\u001b[39m\u001b[38;5;124m\"\u001b[39m, logger, request, kwargs\n\u001b[1;32m    106\u001b[0m ) \u001b[38;5;28;01mas\u001b[39;00m trace:\n\u001b[1;32m    107\u001b[0m     (\n\u001b[1;32m    108\u001b[0m         http_version,\n\u001b[1;32m    109\u001b[0m         status,\n\u001b[1;32m    110\u001b[0m         reason_phrase,\n\u001b[1;32m    111\u001b[0m         headers,\n\u001b[1;32m    112\u001b[0m         trailing_data,\n\u001b[0;32m--> 113\u001b[0m     ) \u001b[38;5;241m=\u001b[39m \u001b[38;5;28;43mself\u001b[39;49m\u001b[38;5;241;43m.\u001b[39;49m\u001b[43m_receive_response_headers\u001b[49m\u001b[43m(\u001b[49m\u001b[38;5;241;43m*\u001b[39;49m\u001b[38;5;241;43m*\u001b[39;49m\u001b[43mkwargs\u001b[49m\u001b[43m)\u001b[49m\n\u001b[1;32m    114\u001b[0m     trace\u001b[38;5;241m.\u001b[39mreturn_value \u001b[38;5;241m=\u001b[39m (\n\u001b[1;32m    115\u001b[0m         http_version,\n\u001b[1;32m    116\u001b[0m         status,\n\u001b[1;32m    117\u001b[0m         reason_phrase,\n\u001b[1;32m    118\u001b[0m         headers,\n\u001b[1;32m    119\u001b[0m     )\n\u001b[1;32m    121\u001b[0m network_stream \u001b[38;5;241m=\u001b[39m \u001b[38;5;28mself\u001b[39m\u001b[38;5;241m.\u001b[39m_network_stream\n",
      "File \u001b[0;32m~/miniconda3/envs/llm_agent/lib/python3.11/site-packages/httpcore/_sync/http11.py:186\u001b[0m, in \u001b[0;36mHTTP11Connection._receive_response_headers\u001b[0;34m(self, request)\u001b[0m\n\u001b[1;32m    183\u001b[0m timeout \u001b[38;5;241m=\u001b[39m timeouts\u001b[38;5;241m.\u001b[39mget(\u001b[38;5;124m\"\u001b[39m\u001b[38;5;124mread\u001b[39m\u001b[38;5;124m\"\u001b[39m, \u001b[38;5;28;01mNone\u001b[39;00m)\n\u001b[1;32m    185\u001b[0m \u001b[38;5;28;01mwhile\u001b[39;00m \u001b[38;5;28;01mTrue\u001b[39;00m:\n\u001b[0;32m--> 186\u001b[0m     event \u001b[38;5;241m=\u001b[39m \u001b[38;5;28;43mself\u001b[39;49m\u001b[38;5;241;43m.\u001b[39;49m\u001b[43m_receive_event\u001b[49m\u001b[43m(\u001b[49m\u001b[43mtimeout\u001b[49m\u001b[38;5;241;43m=\u001b[39;49m\u001b[43mtimeout\u001b[49m\u001b[43m)\u001b[49m\n\u001b[1;32m    187\u001b[0m     \u001b[38;5;28;01mif\u001b[39;00m \u001b[38;5;28misinstance\u001b[39m(event, h11\u001b[38;5;241m.\u001b[39mResponse):\n\u001b[1;32m    188\u001b[0m         \u001b[38;5;28;01mbreak\u001b[39;00m\n",
      "File \u001b[0;32m~/miniconda3/envs/llm_agent/lib/python3.11/site-packages/httpcore/_sync/http11.py:224\u001b[0m, in \u001b[0;36mHTTP11Connection._receive_event\u001b[0;34m(self, timeout)\u001b[0m\n\u001b[1;32m    221\u001b[0m     event \u001b[38;5;241m=\u001b[39m \u001b[38;5;28mself\u001b[39m\u001b[38;5;241m.\u001b[39m_h11_state\u001b[38;5;241m.\u001b[39mnext_event()\n\u001b[1;32m    223\u001b[0m \u001b[38;5;28;01mif\u001b[39;00m event \u001b[38;5;129;01mis\u001b[39;00m h11\u001b[38;5;241m.\u001b[39mNEED_DATA:\n\u001b[0;32m--> 224\u001b[0m     data \u001b[38;5;241m=\u001b[39m \u001b[38;5;28;43mself\u001b[39;49m\u001b[38;5;241;43m.\u001b[39;49m\u001b[43m_network_stream\u001b[49m\u001b[38;5;241;43m.\u001b[39;49m\u001b[43mread\u001b[49m\u001b[43m(\u001b[49m\n\u001b[1;32m    225\u001b[0m \u001b[43m        \u001b[49m\u001b[38;5;28;43mself\u001b[39;49m\u001b[38;5;241;43m.\u001b[39;49m\u001b[43mREAD_NUM_BYTES\u001b[49m\u001b[43m,\u001b[49m\u001b[43m \u001b[49m\u001b[43mtimeout\u001b[49m\u001b[38;5;241;43m=\u001b[39;49m\u001b[43mtimeout\u001b[49m\n\u001b[1;32m    226\u001b[0m \u001b[43m    \u001b[49m\u001b[43m)\u001b[49m\n\u001b[1;32m    228\u001b[0m     \u001b[38;5;66;03m# If we feed this case through h11 we'll raise an exception like:\u001b[39;00m\n\u001b[1;32m    229\u001b[0m     \u001b[38;5;66;03m#\u001b[39;00m\n\u001b[1;32m    230\u001b[0m     \u001b[38;5;66;03m#     httpcore.RemoteProtocolError: can't handle event type\u001b[39;00m\n\u001b[0;32m   (...)\u001b[0m\n\u001b[1;32m    234\u001b[0m     \u001b[38;5;66;03m# perspective. Instead we handle this case distinctly and treat\u001b[39;00m\n\u001b[1;32m    235\u001b[0m     \u001b[38;5;66;03m# it as a ConnectError.\u001b[39;00m\n\u001b[1;32m    236\u001b[0m     \u001b[38;5;28;01mif\u001b[39;00m data \u001b[38;5;241m==\u001b[39m \u001b[38;5;124mb\u001b[39m\u001b[38;5;124m\"\u001b[39m\u001b[38;5;124m\"\u001b[39m \u001b[38;5;129;01mand\u001b[39;00m \u001b[38;5;28mself\u001b[39m\u001b[38;5;241m.\u001b[39m_h11_state\u001b[38;5;241m.\u001b[39mtheir_state \u001b[38;5;241m==\u001b[39m h11\u001b[38;5;241m.\u001b[39mSEND_RESPONSE:\n",
      "File \u001b[0;32m~/miniconda3/envs/llm_agent/lib/python3.11/site-packages/httpcore/_backends/sync.py:126\u001b[0m, in \u001b[0;36mSyncStream.read\u001b[0;34m(self, max_bytes, timeout)\u001b[0m\n\u001b[1;32m    124\u001b[0m \u001b[38;5;28;01mwith\u001b[39;00m map_exceptions(exc_map):\n\u001b[1;32m    125\u001b[0m     \u001b[38;5;28mself\u001b[39m\u001b[38;5;241m.\u001b[39m_sock\u001b[38;5;241m.\u001b[39msettimeout(timeout)\n\u001b[0;32m--> 126\u001b[0m     \u001b[38;5;28;01mreturn\u001b[39;00m \u001b[38;5;28;43mself\u001b[39;49m\u001b[38;5;241;43m.\u001b[39;49m\u001b[43m_sock\u001b[49m\u001b[38;5;241;43m.\u001b[39;49m\u001b[43mrecv\u001b[49m\u001b[43m(\u001b[49m\u001b[43mmax_bytes\u001b[49m\u001b[43m)\u001b[49m\n",
      "File \u001b[0;32m~/miniconda3/envs/llm_agent/lib/python3.11/ssl.py:1295\u001b[0m, in \u001b[0;36mSSLSocket.recv\u001b[0;34m(self, buflen, flags)\u001b[0m\n\u001b[1;32m   1291\u001b[0m     \u001b[38;5;28;01mif\u001b[39;00m flags \u001b[38;5;241m!=\u001b[39m \u001b[38;5;241m0\u001b[39m:\n\u001b[1;32m   1292\u001b[0m         \u001b[38;5;28;01mraise\u001b[39;00m \u001b[38;5;167;01mValueError\u001b[39;00m(\n\u001b[1;32m   1293\u001b[0m             \u001b[38;5;124m\"\u001b[39m\u001b[38;5;124mnon-zero flags not allowed in calls to recv() on \u001b[39m\u001b[38;5;132;01m%s\u001b[39;00m\u001b[38;5;124m\"\u001b[39m \u001b[38;5;241m%\u001b[39m\n\u001b[1;32m   1294\u001b[0m             \u001b[38;5;28mself\u001b[39m\u001b[38;5;241m.\u001b[39m\u001b[38;5;18m__class__\u001b[39m)\n\u001b[0;32m-> 1295\u001b[0m     \u001b[38;5;28;01mreturn\u001b[39;00m \u001b[38;5;28;43mself\u001b[39;49m\u001b[38;5;241;43m.\u001b[39;49m\u001b[43mread\u001b[49m\u001b[43m(\u001b[49m\u001b[43mbuflen\u001b[49m\u001b[43m)\u001b[49m\n\u001b[1;32m   1296\u001b[0m \u001b[38;5;28;01melse\u001b[39;00m:\n\u001b[1;32m   1297\u001b[0m     \u001b[38;5;28;01mreturn\u001b[39;00m \u001b[38;5;28msuper\u001b[39m()\u001b[38;5;241m.\u001b[39mrecv(buflen, flags)\n",
      "File \u001b[0;32m~/miniconda3/envs/llm_agent/lib/python3.11/ssl.py:1168\u001b[0m, in \u001b[0;36mSSLSocket.read\u001b[0;34m(self, len, buffer)\u001b[0m\n\u001b[1;32m   1166\u001b[0m         \u001b[38;5;28;01mreturn\u001b[39;00m \u001b[38;5;28mself\u001b[39m\u001b[38;5;241m.\u001b[39m_sslobj\u001b[38;5;241m.\u001b[39mread(\u001b[38;5;28mlen\u001b[39m, buffer)\n\u001b[1;32m   1167\u001b[0m     \u001b[38;5;28;01melse\u001b[39;00m:\n\u001b[0;32m-> 1168\u001b[0m         \u001b[38;5;28;01mreturn\u001b[39;00m \u001b[38;5;28;43mself\u001b[39;49m\u001b[38;5;241;43m.\u001b[39;49m\u001b[43m_sslobj\u001b[49m\u001b[38;5;241;43m.\u001b[39;49m\u001b[43mread\u001b[49m\u001b[43m(\u001b[49m\u001b[38;5;28;43mlen\u001b[39;49m\u001b[43m)\u001b[49m\n\u001b[1;32m   1169\u001b[0m \u001b[38;5;28;01mexcept\u001b[39;00m SSLError \u001b[38;5;28;01mas\u001b[39;00m x:\n\u001b[1;32m   1170\u001b[0m     \u001b[38;5;28;01mif\u001b[39;00m x\u001b[38;5;241m.\u001b[39margs[\u001b[38;5;241m0\u001b[39m] \u001b[38;5;241m==\u001b[39m SSL_ERROR_EOF \u001b[38;5;129;01mand\u001b[39;00m \u001b[38;5;28mself\u001b[39m\u001b[38;5;241m.\u001b[39msuppress_ragged_eofs:\n",
      "\u001b[0;31mKeyboardInterrupt\u001b[0m: "
     ]
    }
   ],
   "source": [
    "from services.reference_checker import get_references_for_paragraphs\n",
    "%reload_ext autoreload\n",
    "%autoreload 2\n",
    "\n",
    "\n",
    "hypothesis_id = hypothesis\n",
    "agent_id = agent # because I only use the context for this purpose so it doesn't matter which agent I use\n",
    "dict, stored_refs = get_references_for_paragraphs(db, hypothesis_id, agent_id, n=5, papers_query=20, verbose=True)"
   ]
  },
  {
   "cell_type": "code",
   "execution_count": null,
   "metadata": {},
   "outputs": [],
   "source": []
  },
  {
   "cell_type": "code",
   "execution_count": 24,
   "metadata": {},
   "outputs": [
    {
     "data": {
      "text/plain": [
       "{'Interferon-induced antiviral response': {'proteins': ['IFIH1',\n",
       "   'IFIT1',\n",
       "   'IFIT2',\n",
       "   'IFIT3',\n",
       "   'MX1',\n",
       "   'MX2',\n",
       "   'OAS1',\n",
       "   'RIGI'],\n",
       "  'analysis': 'These proteins are key components of the interferon-induced antiviral response. IFIH1 (also known as MDA5) and RIGI (RIG-I) are pattern recognition receptors that detect viral RNA. The IFIT family proteins (IFIT1, IFIT2, IFIT3) inhibit viral replication by binding to viral RNA or proteins. MX1 and MX2 are GTPases that interfere with viral replication. OAS1 activates RNase L, which degrades viral RNA.',\n",
       "  'citations': '[1] Assou, Said, Ahmed, Engi, Morichon, Lisa, Nasri, Amel, Foisset, Florent, Bourdais, Carine, Gros, Nathalie, Tieo, Sonia, Petit, Aurelie, Vachier, Isabelle, Muriaux, Delphine, Bourdin, Arnaud, De Vos, John. \"The Transcriptome Landscape of the In Vitro Human Airway Epithelium Response to SARS-CoV-2.\" International journal of molecular sciences, 2023, pp.  , doi: https://doi.org/10.3390/ijms241512017\\n[2] Fleith, Renata C, Mears, Harriet V, Leong, Xin Yun, Sanford, Thomas J, Emmott, Edward, Graham, Stephen C, Mansur, Daniel S, Sweeney, Trevor R. \"IFIT3 and IFIT2/3 promote IFIT1-mediated translation inhibition by enhancing binding to non-self RNA.\" Nucleic acids research, 2018, pp. 5269-5285, doi: https://doi.org/10.1093/nar/gky191\\n[3] Schoggins, John W, Wilson, Sam J, Panis, Maryline, Murphy, Mary Y, Jones, Christopher T, Bieniasz, Paul, Rice, Charles M. \"A diverse range of gene products are effectors of the type I interferon antiviral response.\" Nature, 2011, pp. 481-5, doi: https://doi.org/10.1038/nature09907\\n[4] Zhang, Wentao, Li, Yanling, Xin, Shuyu, Yang, Li, Jiang, Mingjuan, Xin, Yujie, Wang, Yiwei, Cao, Pengfei, Zhang, Senmiao, Yang, Yang, Lu, Jianhong. \"The emerging roles of IFIT3 in antiviral innate immunity and cellular biology.\" Journal of medical virology, 2023, pp. e28259, doi: https://doi.org/10.1002/jmv.28259\\n[5] Li, Heng, Liu, Yao, Cheng, Can, Wu, Yang, Liang, Shu-Hang, Wu, Liang, Wang, Hong, Tu, Cong-Yin, Yao, Han-Hui, Meng, Fan-Zheng, Zhang, Bo, Wang, Wei, Wang, Jia-Bei, Liu, Lian-Xin. \"UBE2O reduces the effectiveness of interferon-α via degradation of IFIT3 in hepatocellular carcinoma.\" Cell death & disease, 2023, pp. 854, doi: https://doi.org/10.1038/s41419-023-06369-9\\n'},\n",
       " 'Nucleotide metabolism': {'proteins': ['CMPK2', 'NT5C3A'],\n",
       "  'analysis': \"CMPK2 and NT5C3A are involved in nucleotide metabolism. CMPK2 is a mitochondrial nucleotide kinase that phosphorylates dUMP and dCMP, while NT5C3A is a cytosolic 5'-nucleotidase. Their upregulation may be related to increased nucleotide demand during viral replication or cellular stress response.\",\n",
       "  'citations': '[1] Pawlak, Joanna B, Hsu, Jack Chun-Chieh, Xia, Hongjie, Han, Patrick, Suh, Hee-Won, Grove, Tyler L, Morrison, Juliet, Shi, Pei-Yong, Cresswell, Peter, Laurent-Rolle, Maudry. \"CMPK2 restricts Zika virus replication by inhibiting viral translation.\" PLoS pathogens, 2023, pp. e1011286, doi: https://doi.org/10.1371/journal.ppat.1011286\\n'},\n",
       " 'Cellular stress response': {'proteins': ['PRKACA', 'TXNRD2'],\n",
       "  'analysis': 'PRKACA is the catalytic subunit of protein kinase A, involved in various cellular signaling pathways including stress response. TXNRD2 is a mitochondrial thioredoxin reductase that plays a role in maintaining cellular redox balance and protecting against oxidative stress, which can be induced during viral infection.',\n",
       "  'citations': '[1] Arnér, Elias S J. \"Focus on mammalian thioredoxin reductases--important selenoproteins with versatile functions.\" Biochimica et biophysica acta, 2009, pp. 495-526, doi: https://doi.org/10.1016/j.bbagen.2009.01.014\\n'}}"
      ]
     },
     "execution_count": 24,
     "metadata": {},
     "output_type": "execute_result"
    }
   ],
   "source": [
    "dict"
   ]
  },
  {
   "cell_type": "code",
   "execution_count": null,
   "metadata": {},
   "outputs": [],
   "source": []
  }
 ],
 "metadata": {
  "kernelspec": {
   "display_name": "llm_agent",
   "language": "python",
   "name": "python3"
  },
  "language_info": {
   "codemirror_mode": {
    "name": "ipython",
    "version": 3
   },
   "file_extension": ".py",
   "mimetype": "text/x-python",
   "name": "python",
   "nbconvert_exporter": "python",
   "pygments_lexer": "ipython3",
   "version": "3.11.9"
  }
 },
 "nbformat": 4,
 "nbformat_minor": 2
}
