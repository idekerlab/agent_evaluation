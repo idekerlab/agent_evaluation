{
 "cells": [
  {
   "cell_type": "markdown",
   "metadata": {},
   "source": [
    "Run the following in your Terminal to get the gene names\n",
    "\n",
    "curl -o ../hgnc_genes.tsv 'https://www.genenames.org/cgi-bin/download/custom?col=gd_app_sym&col=gd_prev_sym&col=gd_aliases&status=Approved&hgnc_dbtag=on&order_by=gd_app_sym_sort&format=text&submit=submit'"
   ]
  },
  {
   "cell_type": "code",
   "execution_count": 8,
   "metadata": {},
   "outputs": [],
   "source": [
    "from collections import defaultdict\n",
    "import csv\n",
    "class GeneValidator:\n",
    "    def __init__(self, file_path):\n",
    "        self.gene_symbol_set = set()\n",
    "        self.alias_map = defaultdict(str)\n",
    "\n",
    "        with open(file_path, 'r') as file:\n",
    "            reader = csv.reader(file, delimiter='\\t')\n",
    "            next(reader)  # Skip header row\n",
    "            for cells in reader:\n",
    "                if cells[0]:\n",
    "                    gene = cells[0].upper()\n",
    "                    self.gene_symbol_set.add(gene)\n",
    "\n",
    "                    if len(cells) > 1 and cells[1]:\n",
    "                        previous_symbols = cells[1].split(\", \")\n",
    "                        for symbol in previous_symbols:\n",
    "                            self.alias_map[symbol.upper()] = gene\n",
    "\n",
    "                    if len(cells) > 2 and cells[2]:\n",
    "                        alias_symbols = cells[2].split(\", \")\n",
    "                        for alias in alias_symbols:\n",
    "                            self.alias_map[alias.upper()] = gene\n",
    "\n",
    "    def validate_human_genes(self, genes):\n",
    "        official_genes = set()\n",
    "        invalid_genes = set()\n",
    "        updated_genes = {}\n",
    "\n",
    "        for raw_term in genes:\n",
    "            # print(f'validate Hugo symbol for {raw_term}')\n",
    "            term = raw_term.upper()\n",
    "            if term in self.gene_symbol_set:\n",
    "                official_genes.add(term)\n",
    "            elif term in self.alias_map:\n",
    "                official_gene = self.alias_map[term]\n",
    "                official_genes.add(official_gene)\n",
    "                updated_genes[term] = official_gene\n",
    "                invalid_genes.add(term)\n",
    "            else:\n",
    "                invalid_genes.add(term)\n",
    "\n",
    "        return {\n",
    "            'official_genes': official_genes,\n",
    "            'invalid': invalid_genes,\n",
    "            'updated_genes': updated_genes\n",
    "        }\n"
   ]
  },
  {
   "cell_type": "code",
   "execution_count": 9,
   "metadata": {},
   "outputs": [
    {
     "name": "stdout",
     "output_type": "stream",
     "text": [
      "{'official_genes': {'IFIT1', 'OAS2', 'WWOX', 'CELP', 'OAS1', 'OASL', 'SPARC', 'CD44', 'IFIT3', 'SPI1', 'OAS3', 'IFIT2', 'NR4A2'}, 'invalid': {'DENGUE', 'STRONG', 'REMAINING', 'ANTIVIRAL', 'PROTEINS', 'INCREASE', 'OF', 'VIRUS', 'SUGGESTS', 'AND', 'IN', 'PROTEINS,', 'ADDITIONALLY,', 'SHOWS', '(3.580865407', 'CRUCIAL', 'PROTEIN', 'INDICATES', 'INFECTION.', 'THEIR', 'VALIDATE', 'RNA,', 'TRANSLATION', 'KNOCKDOWN', \"2'-5'-OLIGOADENYLATES.\", 'SEQUENCING.', 'COULD', '(OAS)', 'DEGRADING', 'ACTIVATED', 'AT', 'INTO', 'IFIT1-3', '(2.916732074', 'EFFECT', 'WHEN', '(3.175544218', 'WORK', 'BE', 'CELL', '2.327680098', 'FAMILY', 'ITS', 'SIGNIFICANT', 'MECHANISM.', 'ALSO', 'SYNTHETASES', 'THROUGH', 'BUT', 'DATA', 'THAT', 'HYPOTHESIZE', 'STATE.', 'INNATE', 'BY', 'OAS3,', 'RNASE', 'L,', 'DEFENSE', 'KNOWN', 'IMMUNE', 'VIRAL', 'TO', \"2'-5'-OLIGOADENYLATE\", 'OLIGOADENYLATES', \"CELL'S\", 'NOT', 'MULTI-LAYERED', 'MAY', 'THAT,', 'ANY', 'POTENTIAL', 'CELLS.', '(3.494644087', 'INSIGHTS', 'REPLICATION.', 'PATHWAY', 'TARGETS', '5.69825699', 'SYNERGISTICALLY', 'ROLE', 'UPREGULATION', 'PROTECTIVE', 'INHIBITING', 'ABILITY', 'OAS', 'WITH', '(2.309110681', 'AGAINST', 'ROBUST', 'VIRUS.\\n', 'INTERFERON-INDUCED', 'ALONG', 'TARGETING', '(3.884688719', 'ENZYMES', 'WHILE', 'FOR', 'ACTIVATION', 'THIS', 'EXPLAIN', 'PREVENTING', 'MEMBERS', 'PREVENT', 'OVEREXPRESSION', 'INCLUDING', 'LINES', 'WE', 'SUSCEPTIBLE', 'THE', '6.283329563', 'PARTICULARLY', 'CREATE', 'COORDINATED', 'EXPLAINS', 'DEGRADES', 'PERFORMED', 'REPLICATION', 'RNAS,', '6.643829723', '48H),', 'MOUNT', 'A', 'INFECTIONS.', 'ON', '24H,', 'VIRUS.', 'DOUBLE-STRANDED', 'ENHANCING', 'IFIT', 'HYPOTHESIS,', 'INTERESTINGLY,', 'RESPONSE', 'ARE', 'ASSESSED', 'RNA', 'OAS1,', 'VIRUS-INFECTED', 'PROVIDE', 'RESPONSIBLE', 'SIRNA', '\\n\\tTHE', 'RECOGNIZE', 'HYPOTHESIS', 'PRODUCE', 'PLAY', 'TRANSLATION.', 'DEGRADATION', 'PRIMARILY', 'THESE', 'OAS2,', 'SEQUESTER', 'MULTIPLE', 'IS', '(3.970117068', 'EFFECTS', 'EXPERIMENTS', 'WHICH', 'L', 'ACTIVATE', 'SYNTHESIS', 'QRT-PCR', 'ONLY', 'CELLULAR', 'OBSERVED', '48H).', 'OAS-RNASE'}, 'updated_genes': {'OF': 'SPI1', 'IN': 'CD44', 'FOR': 'WWOX', 'ON': 'SPARC', 'CELL': 'CELP', 'NOT': 'NR4A2'}}\n",
      "{'OF': 'SPI1', 'IN': 'CD44', 'FOR': 'WWOX', 'ON': 'SPARC', 'CELL': 'CELP', 'NOT': 'NR4A2'}\n"
     ]
    }
   ],
   "source": [
    "# Usage example:\n",
    "file_path = \"./hgnc_genes.tsv\"\n",
    "\n",
    "text = '''\n",
    "\tThe significant upregulation of OAS family proteins, including OAS1 (2.309110681 at 24h, 2.327680098 at 48h), OAS2 (3.580865407 at 48h), and OAS3 (3.175544218 at 48h), along with OASL (2.916732074 at 48h), suggests a coordinated activation of the OAS-RNase L pathway in response to Dengue virus infection. This pathway is known to play a crucial role in the innate immune response against viral infections. The 2'-5'-oligoadenylate synthetases (OAS) are interferon-induced enzymes that, when activated by viral double-stranded RNA, produce 2'-5'-oligoadenylates. These oligoadenylates activate RNase L, which degrades viral and cellular RNAs, inhibiting protein synthesis and viral replication. The observed upregulation of multiple OAS family members indicates a robust activation of this antiviral mechanism. Interestingly, the data also shows a significant increase in IFIT family proteins, particularly IFIT1 (3.970117068 at 24h, 6.283329563 at 48h), IFIT2 (3.884688719 at 24h, 6.643829723 at 48h), and IFIT3 (3.494644087 at 24h, 5.69825699 at 48h). These proteins are known to recognize and sequester viral RNA, preventing its translation and replication. We hypothesize that the OAS-RNase L pathway and the IFIT family proteins work synergistically to create a multi-layered defense against Dengue virus. The OAS proteins may be primarily responsible for degrading viral RNA, while the IFIT proteins sequester any remaining viral RNA and prevent its translation. This coordinated response could explain the cell's ability to mount a strong antiviral state. To validate this hypothesis, siRNA knockdown experiments targeting OAS1, OAS2, OAS3, and IFIT1-3 could be performed in Dengue virus-infected cells. The effect on viral replication and cellular RNA degradation could be assessed through qRT-PCR and RNA sequencing. Additionally, overexpression of these proteins in susceptible cell lines could provide insights into their protective effects against Dengue virus infection. This hypothesis not only explains the observed upregulation of multiple antiviral proteins but also suggests potential targets for enhancing the cellular defense against Dengue virus.\n",
    "'''\n",
    "\n",
    "total_genes_set = text.split(' ')\n",
    "validator = GeneValidator(file_path)\n",
    "result = validator.validate_human_genes(total_genes_set)\n",
    "# print(result)\n",
    "\n",
    "updated_gene_symbols = list(result['official_genes'])\n",
    "invalid_gene_symbols = list(result['invalid'])\n",
    "updated_genes_mapping = result['updated_genes']\n",
    "\n",
    "print(result['official_genes'])"
   ]
  }
 ],
 "metadata": {
  "kernelspec": {
   "display_name": "Python 3",
   "language": "python",
   "name": "python3"
  },
  "language_info": {
   "codemirror_mode": {
    "name": "ipython",
    "version": 3
   },
   "file_extension": ".py",
   "mimetype": "text/x-python",
   "name": "python",
   "nbconvert_exporter": "python",
   "pygments_lexer": "ipython3",
   "version": "3.11.6"
  }
 },
 "nbformat": 4,
 "nbformat_minor": 2
}
