{
 "cells": [
  {
   "cell_type": "markdown",
   "metadata": {},
   "source": [
    "### Set up parent directory and db connection"
   ]
  },
  {
   "cell_type": "code",
   "execution_count": 1,
   "metadata": {},
   "outputs": [
    {
     "name": "stdout",
     "output_type": "stream",
     "text": [
      "/Users/rudi/agent_evaluation/notebooks\n",
      "/Users/rudi/agent_evaluation\n",
      "['/Users/rudi/anaconda3/envs/agent_eval/lib/python311.zip', '/Users/rudi/anaconda3/envs/agent_eval/lib/python3.11', '/Users/rudi/anaconda3/envs/agent_eval/lib/python3.11/lib-dynload', '', '/Users/rudi/anaconda3/envs/agent_eval/lib/python3.11/site-packages', '/Users/rudi/agent_evaluation']\n"
     ]
    }
   ],
   "source": [
    "import sys\n",
    "import os\n",
    "\n",
    "# Add the parent directory of the current script to the Python path\n",
    "cwd = os.getcwd()\n",
    "dirname = os.path.dirname(cwd)\n",
    "print(cwd)\n",
    "print(dirname)\n",
    "sys.path.append(dirname)\n",
    "\n",
    "print(sys.path)"
   ]
  },
  {
   "cell_type": "code",
   "execution_count": 2,
   "metadata": {},
   "outputs": [],
   "source": [
    "from models.analysis_plan import AnalysisPlan\n",
    "from services.analysisrunner import AnalysisRunner\n",
    "from app.sqlite_database import SqliteDatabase\n",
    "from app.config import load_database_config\n",
    "\n",
    "# Load the db connection details\n",
    "# db_type, uri, user, password = load_database_config(path='~/ae_config/test_config.ini')\n",
    "# self.db = Database(uri, db_type, user, password)\n",
    "\n",
    "_, database_uri, _, _ = load_database_config()\n",
    "db = SqliteDatabase(database_uri)"
   ]
  },
  {
   "cell_type": "markdown",
   "metadata": {},
   "source": [
    "### Update an analysis plan to bypass interface issues (optional)"
   ]
  },
  {
   "cell_type": "code",
   "execution_count": null,
   "metadata": {},
   "outputs": [],
   "source": [
    "# dengue filtered (John Wayne only): analysis_plan_7e5add26-0b1e-497e-9677-0a57999addab\n",
    "# dengue filtered (Jack, Henry & Clint): analysis_plan_ec89630c-edcc-4519-9009-d016969d493b\n",
    "# dengue filtered (4 analysts): analysis_plan_da4c27ef-5fd6-4e5d-a735-fca573dea4f7\n",
    "# dengue fiull - Laura top 10: analysis_plan_5bd88a52-4142-491d-ac11-78d5cbb86aea\n",
    "# dengue full - Laura top 10 (Clint eastwood only): analysis_plan_226cfb61-b755-4069-aa30-000f5b0d7cba\n",
    "\n",
    "analysis_plan = AnalysisPlan.load(db, \"\")\n",
    "\n",
    "plan_id = analysis_plan.object_id\n",
    "\n",
    "analysis_plan.update(analyst_ids=[\"analyst_0f22c52a-357c-4b86-ab47-73393681638b\",\n",
    "                                  \"analyst_ff001a14-a993-4498-ba45-09ab9800f2b1\", \n",
    "                                  \"analyst_fd2c14ef-6819-4f57-8c88-133c8176282b\"])\n",
    "\n",
    "# analysis_plan.update(description=\"bla bla bla\"\n",
    "\n",
    "analysis_plan.update(object_id=plan_id)"
   ]
  },
  {
   "cell_type": "code",
   "execution_count": null,
   "metadata": {},
   "outputs": [],
   "source": [
    "# to verify that things are not messed up\n",
    "\n",
    "print(analysis_plan.n_hypotheses_per_analyst)\n",
    "print(analysis_plan.analyst_ids)"
   ]
  },
  {
   "cell_type": "markdown",
   "metadata": {},
   "source": [
    "### Load an analysis plan"
   ]
  },
  {
   "cell_type": "code",
   "execution_count": 3,
   "metadata": {},
   "outputs": [
    {
     "data": {
      "text/plain": [
       "<models.analysis_plan.AnalysisPlan at 0x10b704250>"
      ]
     },
     "execution_count": 3,
     "metadata": {},
     "output_type": "execute_result"
    }
   ],
   "source": [
    "analysis_plan = AnalysisPlan.load(db, \"analysis_plan_6aa1a099-3800-4f41-9f81-9ebcf9ce8f28\")\n",
    "\n",
    "analysis_plan"
   ]
  },
  {
   "cell_type": "markdown",
   "metadata": {},
   "source": [
    "### Set up the analysis run for each biologicasl context (community name) defined.\n",
    "Each name will be used as biological context to create an analysis run and execute the run."
   ]
  },
  {
   "cell_type": "code",
   "execution_count": null,
   "metadata": {},
   "outputs": [],
   "source": [
    "list_of_contexts = [\"Chromatin remodelling and transcriptional regulation (or Transcriptional regulation and chromatin remodelling)\",\n",
    "                    \"DNA repair and maintenance in response to viral infection\",\n",
    "                    \"Endothelial barrier function and viral entry modulation\",\n",
    "                    \"Extracellular matrix organization and cell adhesion in response to viral infection\",\n",
    "                    \"Kynurenine pathway modulation and immune response regulation\",\n",
    "                    \"Oxidative stress response and protein quality control in neurodegeneration\",\n",
    "                    \"Protein quality control and intracellular signalling\",\n",
    "                    \"RAS pathway modulation and apoptosis regulation\",\n",
    "                    \"RNA metabolism (and modification in viral infection/and viral defense mechanism)\",\n",
    "                    \"Urea cycle and redox homeostasis\"]\n",
    "\n",
    "for item in list_of_contexts:\n",
    "    analysis_run = analysis_plan.generate_analysis_run(biological_context=item)\n",
    "    analysis_run\n",
    "\n",
    "    runner = AnalysisRunner(db, analysis_run.object_id)\n",
    "    result = runner.run()\n",
    "    print(result)\n",
    "\"\""
   ]
  },
  {
   "cell_type": "markdown",
   "metadata": {},
   "source": [
    "### Create an analysis_run and execute it (optional)\n",
    "The analysis_run has all the metadata but no hypotheses yet."
   ]
  },
  {
   "cell_type": "code",
   "execution_count": 4,
   "metadata": {},
   "outputs": [
    {
     "data": {
      "text/plain": [
       "<models.analysis_run.AnalysisRun at 0x10b09cc90>"
      ]
     },
     "execution_count": 4,
     "metadata": {},
     "output_type": "execute_result"
    }
   ],
   "source": [
    " # Generate an AnalysisRun from the AnalysisPlan\n",
    "\n",
    "analysis_run = analysis_plan.generate_analysis_run(biological_context=\"double-stranded RNA binding\")\n",
    "analysis_run"
   ]
  },
  {
   "cell_type": "code",
   "execution_count": 5,
   "metadata": {},
   "outputs": [
    {
     "name": "stdout",
     "output_type": "stream",
     "text": [
      "1 new hypothesis generated by analyst analyst_fd2c14ef-6819-4f57-8c88-133c8176282b.\n",
      "No more hypotheses needed.\n",
      "\n"
     ]
    }
   ],
   "source": [
    "# Run the analysis using AnalysisRunner\n",
    "\n",
    "runner = AnalysisRunner(db, analysis_run.object_id)\n",
    "result = runner.run()\n",
    "print(result)"
   ]
  },
  {
   "cell_type": "markdown",
   "metadata": {},
   "source": [
    "### Update a hypothesis (optional)"
   ]
  },
  {
   "cell_type": "code",
   "execution_count": null,
   "metadata": {},
   "outputs": [],
   "source": [
    "from models.hypothesis import Hypothesis\n",
    "\n",
    "my_hypothesis= Hypothesis.load(db, \"hypothesis_3be5dc5c-e0a2-4596-8c26-196547459520\")\n",
    "my_hypothesis.update(description=\"Directed by Clint Eastwood (Llama3-70b)\")"
   ]
  },
  {
   "cell_type": "code",
   "execution_count": null,
   "metadata": {},
   "outputs": [],
   "source": [
    "my_hypothesis= Hypothesis.load(db, \"hypothesis_63967df5-e9ad-44ba-8f77-582765751368\")\n",
    "my_hypothesis.update(description=\"Directed by Jack Nicholson (GPT-4)\")\n",
    "\n"
   ]
  },
  {
   "cell_type": "code",
   "execution_count": null,
   "metadata": {},
   "outputs": [],
   "source": [
    "my_hypothesis= Hypothesis.load(db, \"hypothesis_c934fa0d-c5d9-4fd5-9658-9acd7f63d671\")\n",
    "my_hypothesis.update(description=\"Directed by Henry Fonda (Llama3-8b)\") \n",
    "\n"
   ]
  },
  {
   "cell_type": "code",
   "execution_count": null,
   "metadata": {},
   "outputs": [],
   "source": [
    "from models.hypothesis import Hypothesis\n",
    "\n",
    "my_hypothesis= Hypothesis.load(db, \"hypothesis_0c505968-45ac-4092-b897-ee2aa9b27112\")\n",
    "my_hypothesis.update(description=\"Directed by John Wayne (Gemini Pro)\") "
   ]
  }
 ],
 "metadata": {
  "kernelspec": {
   "display_name": "base",
   "language": "python",
   "name": "python3"
  },
  "language_info": {
   "codemirror_mode": {
    "name": "ipython",
    "version": 3
   },
   "file_extension": ".py",
   "mimetype": "text/x-python",
   "name": "python",
   "nbconvert_exporter": "python",
   "pygments_lexer": "ipython3",
   "version": "3.11.0"
  }
 },
 "nbformat": 4,
 "nbformat_minor": 2
}
