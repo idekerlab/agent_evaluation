{
 "cells": [
  {
   "cell_type": "code",
   "execution_count": null,
   "metadata": {},
   "outputs": [],
   "source": [
    "import sys\n",
    "import os\n",
    "\n",
    "# Add the parent directory of the current script to the Python path\n",
    "cwd = os.getcwd()\n",
    "dirname = os.path.dirname(cwd)\n",
    "print(cwd)\n",
    "print(dirname)\n",
    "sys.path.append(dirname)\n",
    "\n",
    "print(sys.path)\n"
   ]
  },
  {
   "cell_type": "markdown",
   "metadata": {},
   "source": []
  },
  {
   "cell_type": "markdown",
   "metadata": {},
   "source": [
    "## Datasets"
   ]
  },
  {
   "cell_type": "code",
   "execution_count": null,
   "metadata": {},
   "outputs": [],
   "source": [
    "\n",
    "from hre.analysis.dataset import Dataset\n",
    "dataset_1_csv = 'MECOM,0.0\\nRING1,1.150034561\\nRPS18,0.0\\nSLC30A1,-2.114594111\\nSLC39A7,0.0\\nTCEB2,0.0'\n",
    "dataset_1 = Dataset(data=dataset_1_csv, experiment_description=\"dataset_1\")\n",
    "dataset_2_csv = 'BAP1,0.0\\nBARD1,0.0\\nBRAP,0.950359927\\nBRCA1,0.0\\nLYAR,1.381904766\\nRELA,0.0\\nRING1,1.150034561\\nRPS27A,0.0\\nUBA52,0.0\\nUBC,0.0\\nUBE2O,1.145852987'\n",
    "dataset_2 = Dataset(data=dataset_2_csv, experiment_description=\"dataset_2\")\n",
    "print(dataset_1.data)  \n",
    "print(\"---\")\n",
    "print(dataset_2.data)  "
   ]
  },
  {
   "cell_type": "markdown",
   "metadata": {},
   "source": [
    "## Analyst Agents"
   ]
  },
  {
   "cell_type": "code",
   "execution_count": null,
   "metadata": {},
   "outputs": [],
   "source": [
    "from hre.analysis.analyst import Analyst\n",
    "\n",
    "analyst_1_context = \"\"\"\n",
    "You are a helpful analyst of genomic, proteomic, and other biological data. \n",
    "\"\"\"\n",
    "\n",
    "analyst_1_prompt_template = \"\"\" \n",
    "The attached proteomics \"dataset\" includes interacting proteins and the measurements of their differential abundance as a ratio between treated and non-treated samples, where the treatment is the infection of human cells with Dengue virus. \n",
    "Not all proteins in the dataset have differential abundance measurements.\n",
    "\n",
    "The dataset has 2 columns with the following headers: name, DV3_24h-Mock_24h. \n",
    "The first column contains the protein names and the last columns contains the abundance data. \n",
    "\n",
    "Your task is to leverage this dataset to analyze a subset of interacting proteins that are defined as “proteins of interest\".\n",
    "\n",
    "First, determine what proteins of interest show a differential abundance recorded in the dataset. \n",
    "Then, based on this information and on the known functions of all other proteins of interest, \n",
    "I want you to generate a novel hypothesis describing the mechanisms that may contribute to the disease state \n",
    "and could potentially be targeted by drug therapies. \n",
    "\n",
    "When presenting your results, please adhere to the following guidelines:\n",
    "\n",
    "- Avoid including any code.\n",
    "- Do not describe the analytical steps you took.\n",
    "- Do not merely list the proteins of interest, regardless whether they show a differential abundance recorded in the dataset or not.\n",
    "- Build your hypotheses taking into consideration the interplay among all proteins of interest, not only those that show a differential abundance in the dataset.\n",
    "\n",
    "- Your output should consist solely of the identified proteins of interest with changed abundance levels, the hypotheses you propose, and the reasons supporting these hypotheses.\n",
    "\n",
    "Here is the set of proteins of interest: \n",
    "{data}\n",
    "\"\"\"\n",
    "\n",
    "analyst_1 = Analyst(\"gpt-3.5-turbo-1106\", analyst_1_context, analyst_1_prompt_template, \"Jane\", \"The first analyst\")\n",
    "\n",
    "analyst_2_context = \"\"\"\n",
    "You are a helpful analyst of genomic, proteomic, and other biological data. \n",
    "\"\"\"\n",
    "\n",
    "analyst_2_prompt_template = \"\"\"\n",
    "The differential abundance of the following proteins were measured in a dengue infection experiment. \n",
    "Propose a novel hypothesis for the mechanism of action of these proteins in the context of dengue infection, \n",
    "given the known functions of these proteins and the observed changes in abundance.\n",
    "{data}\n",
    "\"\"\"\n",
    "\n",
    "analyst_2 = Analyst(\"gpt-3.5-turbo-1106\", analyst_2_context, analyst_2_prompt_template, \"John\", \"The second analyst\")"
   ]
  },
  {
   "cell_type": "markdown",
   "metadata": {},
   "source": [
    "## The TestPlan"
   ]
  },
  {
   "cell_type": "code",
   "execution_count": null,
   "metadata": {},
   "outputs": [],
   "source": [
    "from hre.analysis.test import TestPlan\n",
    "test_plan = TestPlan(analysts=[analyst_1, analyst_2], datasets=[dataset_1, dataset_2])\n"
   ]
  },
  {
   "cell_type": "markdown",
   "metadata": {},
   "source": [
    "## Run the Test"
   ]
  },
  {
   "cell_type": "code",
   "execution_count": null,
   "metadata": {},
   "outputs": [],
   "source": [
    "from hre.analysis.test import Test\n",
    "\n",
    "test = Test(test_plan)\n",
    "test.run()"
   ]
  },
  {
   "cell_type": "markdown",
   "metadata": {},
   "source": [
    "## dataset_1 hypotheses"
   ]
  },
  {
   "cell_type": "code",
   "execution_count": null,
   "metadata": {},
   "outputs": [],
   "source": [
    "for hypothesis in test.hypotheses:\n",
    "    if hypothesis.dataset == dataset_1:\n",
    "        print(hypothesis.analyst.name)\n",
    "        print(hypothesis.description)\n",
    "        print(\"---\")"
   ]
  },
  {
   "cell_type": "markdown",
   "metadata": {},
   "source": [
    "## dataset_2 hypotheses"
   ]
  },
  {
   "cell_type": "code",
   "execution_count": null,
   "metadata": {},
   "outputs": [],
   "source": [
    "for hypothesis in test.hypotheses:\n",
    "    if hypothesis.dataset == dataset_2:\n",
    "        print(hypothesis.analyst.name)\n",
    "        print(hypothesis.description)\n",
    "        print(\"---\")"
   ]
  },
  {
   "cell_type": "markdown",
   "metadata": {},
   "source": [
    "## Reviewer Agents"
   ]
  },
  {
   "cell_type": "markdown",
   "metadata": {},
   "source": []
  },
  {
   "cell_type": "code",
   "execution_count": null,
   "metadata": {},
   "outputs": [],
   "source": [
    "from hre.analysis.test import Reviewer\n",
    "\n",
    "reviewer_1_context = \"\"\n",
    "reviewer_1_prompt_template = \"\"\n",
    "\n",
    "reviewer_1 = Reviewer(llm=\"GPT-3.5\", context=\"\", prompt_template=\"\", name=\"The first reviewer\")\n",
    "\n",
    "reviewer_2_context = \"\"\n",
    "reviewer_2_prompt_template = \"\"\n",
    "reviewer_2 = Reviewer(llm=\"GPT-3.5\", context=\"\", prompt_template=\"\", name=\"The second reviewer\")\n",
    "\n"
   ]
  },
  {
   "cell_type": "markdown",
   "metadata": {},
   "source": [
    "## The ReviewPlan"
   ]
  },
  {
   "cell_type": "code",
   "execution_count": null,
   "metadata": {},
   "outputs": [],
   "source": [
    "from hre.analysis.review import ReviewPlan\n",
    "\n",
    "review_plan = ReviewPlan(reviewers=[reviewer_1, reviewer_2], test=test, description=\"This is a review plan\")\n"
   ]
  },
  {
   "cell_type": "markdown",
   "metadata": {},
   "source": [
    "## Run the Review"
   ]
  },
  {
   "cell_type": "code",
   "execution_count": null,
   "metadata": {},
   "outputs": [],
   "source": [
    "from hre.analysis.review import Review\n",
    "\n",
    "review = Review(review_plan)    \n",
    "review.run()\n"
   ]
  },
  {
   "cell_type": "markdown",
   "metadata": {},
   "source": [
    "## The Review"
   ]
  }
 ],
 "metadata": {
  "kernelspec": {
   "display_name": "base",
   "language": "python",
   "name": "python3"
  },
  "language_info": {
   "codemirror_mode": {
    "name": "ipython",
    "version": 3
   },
   "file_extension": ".py",
   "mimetype": "text/x-python",
   "name": "python",
   "nbconvert_exporter": "python",
   "pygments_lexer": "ipython3",
   "version": "3.11.8"
  }
 },
 "nbformat": 4,
 "nbformat_minor": 2
}
