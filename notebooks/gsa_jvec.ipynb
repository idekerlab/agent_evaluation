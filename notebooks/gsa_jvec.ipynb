{
 "cells": [
  {
   "cell_type": "markdown",
   "metadata": {},
   "source": [
    "## Gene Set Analysis Hypotheses and Judges"
   ]
  },
  {
   "cell_type": "markdown",
   "metadata": {},
   "source": [
    "### Hypothesis Criteria for Gene Set Analysis\n",
    "\n",
    "Clearly Stated:\n",
    "- Uses simple language that's easy for everyone to understand, and avoid vague terms \n",
    "Specific:\n",
    "- Makes specific predictions\n",
    "- Define the variables, the relationship between them, and the specific group being studied \n",
    "Testable:\n",
    "- Is verifiable or falsifiable\n",
    "Grounded in past knowledge\n",
    "- Supported by literature knowledge and prior experimental findings \n",
    "Parsimonius\n",
    "- A good hypothesis should also obey the rule of parsimony, or simplicity\n",
    "Generalizable\n",
    "- It should be able to make non-obvious predictions and be heavily constrained by the data. \n"
   ]
  },
  {
   "cell_type": "code",
   "execution_count": null,
   "metadata": {
    "vscode": {
     "languageId": "plaintext"
    }
   },
   "outputs": [],
   "source": []
  },
  {
   "cell_type": "markdown",
   "metadata": {},
   "source": [
    "### Use the Gene Sets from the GSAI paper"
   ]
  },
  {
   "cell_type": "markdown",
   "metadata": {},
   "source": [
    "### Generate Hypotheses: 5 Analysts"
   ]
  },
  {
   "cell_type": "markdown",
   "metadata": {},
   "source": [
    "### Judgement Vector from 1 Reviewer"
   ]
  }
 ],
 "metadata": {
  "language_info": {
   "name": "python"
  }
 },
 "nbformat": 4,
 "nbformat_minor": 2
}
