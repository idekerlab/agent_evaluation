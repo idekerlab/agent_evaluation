{
 "cells": [
  {
   "cell_type": "code",
   "execution_count": 11,
   "metadata": {},
   "outputs": [
    {
     "name": "stdout",
     "output_type": "stream",
     "text": [
      "[{'CXVersion': '2.0', 'hasFragments': False}, {'metaData': [{'elementCount': 1, 'name': 'attributeDeclarations'}, {'elementCount': 3, 'name': 'nodes'}, {'elementCount': 2, 'name': 'edges'}]}, {'attributeDeclarations': [{'nodes': {'size': {'d': 'integer'}, 'name': {'d': 'string'}}, 'edges': {'weight': {'d': 'double'}, 'interaction': {'d': 'string'}}}]}, {'nodes': [{'id': 0, 'v': {'size': 5, 'name': 'A'}}, {'id': 1, 'v': {'size': 6, 'name': 'B'}}, {'id': 2, 'v': {'size': 7, 'name': 'C'}}]}, {'edges': [{'id': 0, 's': 0, 't': 1, 'v': {'weight': 1.0, 'interaction': 'phospho'}}, {'id': 1, 's': 1, 't': 2, 'v': {'weight': 0.9, 'interaction': 'binds'}}]}, {'status': [{'error': '', 'success': True}]}]\n"
     ]
    }
   ],
   "source": [
    "import pandas as pd\n",
    "from ndex2.cx2 import PandasDataFrameToCX2NetworkFactory, CX2Network\n",
    "\n",
    "# # DataFrame with source, target, and other columns\n",
    "# data = {'source': [1, 2], 'target': [2, 3],\n",
    "#         'weight': [1.0, 0.9],\n",
    "#         'source_size': [5, 6], 'target_size': [6, 7]}\n",
    "# df = pd.DataFrame(data)\n",
    "\n",
    "# DataFrame with source, target, and other columns\n",
    "data = {'source': ['A', 'B'], 'target': ['B', 'C'],\n",
    "        'weight': [1.0, 0.9],\n",
    "        'interaction': ['phospho', 'binds'],\n",
    "        'source_size': [5, 6], 'target_size': [6, 7]}\n",
    "df = pd.DataFrame(data)\n",
    "\n",
    "# Creating an instance of PandasDataFrameToCX2NetworkFactory\n",
    "factory = PandasDataFrameToCX2NetworkFactory()\n",
    "\n",
    "# Converting DataFrame to CX2Network\n",
    "#cx2_network = factory.get_cx2network(df, source='source_field', target='target_field')\n",
    "# Converting DataFrame to CX2Network\n",
    "cx2_network = factory.get_cx2network(df, source_field='source', target_field='target', edge_interaction=\"association\")\n",
    "\n",
    "# cx2_network is now a CX2Network instance based on the DataFrame data\n",
    "print(cx2_network.to_cx2())"
   ]
  },
  {
   "cell_type": "code",
   "execution_count": 12,
   "metadata": {},
   "outputs": [
    {
     "data": {
      "text/html": [
       "<div>\n",
       "<style scoped>\n",
       "    .dataframe tbody tr th:only-of-type {\n",
       "        vertical-align: middle;\n",
       "    }\n",
       "\n",
       "    .dataframe tbody tr th {\n",
       "        vertical-align: top;\n",
       "    }\n",
       "\n",
       "    .dataframe thead th {\n",
       "        text-align: right;\n",
       "    }\n",
       "</style>\n",
       "<table border=\"1\" class=\"dataframe\">\n",
       "  <thead>\n",
       "    <tr style=\"text-align: right;\">\n",
       "      <th></th>\n",
       "      <th>source</th>\n",
       "      <th>target</th>\n",
       "      <th>weight</th>\n",
       "      <th>interaction</th>\n",
       "      <th>source_size</th>\n",
       "      <th>target_size</th>\n",
       "    </tr>\n",
       "  </thead>\n",
       "  <tbody>\n",
       "    <tr>\n",
       "      <th>0</th>\n",
       "      <td>A</td>\n",
       "      <td>B</td>\n",
       "      <td>1.0</td>\n",
       "      <td>phospho</td>\n",
       "      <td>5</td>\n",
       "      <td>6</td>\n",
       "    </tr>\n",
       "    <tr>\n",
       "      <th>1</th>\n",
       "      <td>B</td>\n",
       "      <td>C</td>\n",
       "      <td>0.9</td>\n",
       "      <td>binds</td>\n",
       "      <td>6</td>\n",
       "      <td>7</td>\n",
       "    </tr>\n",
       "  </tbody>\n",
       "</table>\n",
       "</div>"
      ],
      "text/plain": [
       "  source target  weight interaction  source_size  target_size\n",
       "0      A      B     1.0     phospho            5            6\n",
       "1      B      C     0.9       binds            6            7"
      ]
     },
     "execution_count": 12,
     "metadata": {},
     "output_type": "execute_result"
    }
   ],
   "source": [
    "df"
   ]
  },
  {
   "cell_type": "code",
   "execution_count": 13,
   "metadata": {},
   "outputs": [],
   "source": [
    "import ndex2\n",
    "# Set name of network\n",
    "cx2_network.set_name('Upload new network to NDEx')\n",
    "\n",
    "\n",
    "#cx2_network.set_name('Upload new network to NDEx')\n",
    "\n",
    "\n",
    "# Create client, be sure to replace <USERNAME> and <PASSWORD> with NDEx username & password\n",
    "client = ndex2.client.Ndex2(username='dexterpratt', password='cytoscaperules')\n",
    "\n",
    "# Save network to NDEx, value returned is link to raw CX data on server.\n",
    "res = client.save_new_cx2_network(cx2_network.to_cx2(), visibility='PRIVATE')\n"
   ]
  }
 ],
 "metadata": {
  "kernelspec": {
   "display_name": "ae2",
   "language": "python",
   "name": "python3"
  },
  "language_info": {
   "codemirror_mode": {
    "name": "ipython",
    "version": 3
   },
   "file_extension": ".py",
   "mimetype": "text/x-python",
   "name": "python",
   "nbconvert_exporter": "python",
   "pygments_lexer": "ipython3",
   "version": "3.11.8"
  }
 },
 "nbformat": 4,
 "nbformat_minor": 2
}
