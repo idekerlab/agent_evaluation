{
 "cells": [
  {
   "cell_type": "code",
   "execution_count": 1,
   "metadata": {},
   "outputs": [
    {
     "name": "stdout",
     "output_type": "stream",
     "text": [
<<<<<<< HEAD
      "/Users/rudi/agent_evaluation/notebooks\n",
      "/Users/rudi/agent_evaluation\n",
      "['/Users/rudi/anaconda3/envs/agent_eval/lib/python311.zip', '/Users/rudi/anaconda3/envs/agent_eval/lib/python3.11', '/Users/rudi/anaconda3/envs/agent_eval/lib/python3.11/lib-dynload', '', '/Users/rudi/anaconda3/envs/agent_eval/lib/python3.11/site-packages', '/Users/rudi/agent_evaluation']\n"
=======
      "/Users/samuelpeccoud/Documents/Development/Cytoscape_internship/agent_evaluation/notebooks\n",
      "/Users/samuelpeccoud/Documents/Development/Cytoscape_internship/agent_evaluation\n",
      "['/usr/local/Cellar/python@3.11/3.11.6_1/Frameworks/Python.framework/Versions/3.11/lib/python311.zip', '/usr/local/Cellar/python@3.11/3.11.6_1/Frameworks/Python.framework/Versions/3.11/lib/python3.11', '/usr/local/Cellar/python@3.11/3.11.6_1/Frameworks/Python.framework/Versions/3.11/lib/python3.11/lib-dynload', '', '/Users/samuelpeccoud/Library/Python/3.11/lib/python/site-packages', '/usr/local/lib/python3.11/site-packages', '/usr/local/opt/python-tk@3.11/libexec', '/Users/samuelpeccoud/Documents/Development/Cytoscape_internship/agent_evaluation']\n"
>>>>>>> f35ade2 (Fix issues with generating hypotheses for certain models)
     ]
    }
   ],
   "source": [
    "import sys\n",
    "import os\n",
    "\n",
    "# Add the parent directory of the current script to the Python path\n",
    "cwd = os.getcwd()\n",
    "dirname = os.path.dirname(cwd)\n",
    "print(cwd)\n",
    "print(dirname)\n",
    "sys.path.append(dirname)\n",
    "\n",
    "print(sys.path)"
   ]
  },
  {
   "cell_type": "markdown",
   "metadata": {},
   "source": [
    "### Load database and analysis plan\n",
    "The analysis plan contains all the necessary info (analysts, dataset, number of hypotheses to generate)"
   ]
  },
  {
   "cell_type": "code",
   "execution_count": 2,
   "metadata": {},
   "outputs": [
    {
     "name": "stderr",
     "output_type": "stream",
     "text": [
<<<<<<< HEAD
      "/Users/rudi/anaconda3/envs/agent_eval/lib/python3.11/site-packages/tqdm/auto.py:21: TqdmWarning: IProgress not found. Please update jupyter and ipywidgets. See https://ipywidgets.readthedocs.io/en/stable/user_install.html\n",
=======
      "/usr/local/lib/python3.11/site-packages/tqdm/auto.py:21: TqdmWarning: IProgress not found. Please update jupyter and ipywidgets. See https://ipywidgets.readthedocs.io/en/stable/user_install.html\n",
>>>>>>> f35ade2 (Fix issues with generating hypotheses for certain models)
      "  from .autonotebook import tqdm as notebook_tqdm\n"
     ]
    }
   ],
   "source": [
    "from models.analysis_plan import AnalysisPlan\n",
    "from services.analysisrunner import AnalysisRunner\n",
    "from app.sqlite_database import SqliteDatabase\n",
    "from app.config import load_database_config\n",
    "\n",
    "# Load the db connection details\n",
    "# db_type, uri, user, password = load_database_config(path='~/ae_config/test_config.ini')\n",
    "# self.db = Database(uri, db_type, user, password)\n",
    "\n",
    "_, database_uri, _, _ = load_database_config()\n",
    "db = SqliteDatabase(database_uri)"
   ]
  },
  {
   "cell_type": "code",
   "execution_count": 3,
   "metadata": {},
   "outputs": [
    {
     "data": {
      "text/plain": [
<<<<<<< HEAD
       "<models.analysis_plan.AnalysisPlan at 0x110be2690>"
=======
       "<models.analysis_plan.AnalysisPlan at 0x1161fa850>"
>>>>>>> f35ade2 (Fix issues with generating hypotheses for certain models)
      ]
     },
     "execution_count": 3,
     "metadata": {},
     "output_type": "execute_result"
    }
   ],
   "source": [
<<<<<<< HEAD
    "analysis_plan = AnalysisPlan.load(db, \"analysis_plan_82f220f5-d1de-4ef5-a53c-b73b70430dab\")\n",
=======
    "analysis_plan = AnalysisPlan.load(db, \"analysis_plan_ec03798d-6f3a-499d-81c5-4ae189386382\") \n",
    "analysis_plan.update(analyst_ids=[\"analyst_3182584a-e9d4-40dd-a23d-49a6b9222df1\"])\n",
>>>>>>> f35ade2 (Fix issues with generating hypotheses for certain models)
    "analysis_plan"
   ]
  },
  {
   "cell_type": "markdown",
   "metadata": {},
   "source": [
    "### Create an analysis_run\n",
    "The analysis_run has all the metadata but no hypotheses yet."
   ]
  },
  {
   "cell_type": "code",
   "execution_count": 4,
   "metadata": {},
   "outputs": [
    {
     "data": {
      "text/plain": [
<<<<<<< HEAD
       "<models.analysis_run.AnalysisRun at 0x110bf9250>"
=======
       "<models.analysis_run.AnalysisRun at 0x116209650>"
>>>>>>> f35ade2 (Fix issues with generating hypotheses for certain models)
      ]
     },
     "execution_count": 4,
     "metadata": {},
     "output_type": "execute_result"
    }
   ],
   "source": [
    " # Generate an AnalysisRun from the AnalysisPlan\n",
    "analysis_run = analysis_plan.generate_analysis_run()\n",
    "analysis_run"
   ]
  },
  {
   "cell_type": "code",
   "execution_count": 5,
   "metadata": {},
   "outputs": [
    {
     "data": {
      "text/plain": [
       "'New hypothesis generated by analyst analyst_3182584a-e9d4-40dd-a23d-49a6b9222df1.'"
      ]
     },
     "execution_count": 5,
     "metadata": {},
     "output_type": "execute_result"
    }
   ],
   "source": [
    "# Run the analysis using AnalysisRunner\n",
    "runner = AnalysisRunner(db, analysis_run.object_id)\n",
    "result = runner.run()\n",
    "result"
   ]
<<<<<<< HEAD
=======
  },
  {
   "cell_type": "code",
   "execution_count": null,
   "metadata": {},
   "outputs": [],
   "source": []
  },
  {
   "cell_type": "code",
   "execution_count": null,
   "metadata": {},
   "outputs": [],
   "source": []
>>>>>>> f35ade2 (Fix issues with generating hypotheses for certain models)
  }
 ],
 "metadata": {
  "kernelspec": {
   "display_name": "base",
   "language": "python",
   "name": "python3"
  },
  "language_info": {
   "codemirror_mode": {
    "name": "ipython",
    "version": 3
   },
   "file_extension": ".py",
   "mimetype": "text/x-python",
   "name": "python",
   "nbconvert_exporter": "python",
   "pygments_lexer": "ipython3",
<<<<<<< HEAD
   "version": "3.11.0"
=======
   "version": "3.11.6"
>>>>>>> f35ade2 (Fix issues with generating hypotheses for certain models)
  }
 },
 "nbformat": 4,
 "nbformat_minor": 2
}
