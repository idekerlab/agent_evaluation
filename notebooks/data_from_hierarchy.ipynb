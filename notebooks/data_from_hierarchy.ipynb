{
 "cells": [
  {
   "cell_type": "markdown",
   "metadata": {},
   "source": [
    "## Creating Datasets from the Dengue Hierarchy and interactome.\n",
    "- The goal is to generate datasets in various formats based on the assemblies in a hierarchical model.\n",
    "- This involves:\n",
    "    - filtering the assemblies on assembly names, min size, and max size\n",
    "    - filtering the data by columns and by row values\n",
    "    - changing column names\n",
    "    - generating/adding experiment, assembly, and content descriptions\n",
    "    - cleaning the data, such as non-numeric values\n",
    "    - limiting the precision of numeric values\n",
    "    - optionaly saving the datasets to the database\n",
    "    - optionally adding interaction data\n",
    "    - optionally adding information from other sources, such as genecards\n",
    "- The Dengue data is on the STRING+diffusion based interactome\n",
    "- We can also get the data directly from the dengue_with_uniprot.csv\n",
    "- Laura Martin-Sancho is most interested in the assemblies listed in the interesting_dengue_communities.xlsx spreadsheet"
   ]
  },
  {
   "cell_type": "code",
   "execution_count": 1,
   "metadata": {},
   "outputs": [
    {
     "name": "stdout",
     "output_type": "stream",
     "text": [
      "/Users/idekeradmin/Dropbox/GitHub/agent_evaluation/notebooks\n",
      "/Users/idekeradmin/Dropbox/GitHub/agent_evaluation\n",
      "['/opt/anaconda3/envs/ae2/lib/python311.zip', '/opt/anaconda3/envs/ae2/lib/python3.11', '/opt/anaconda3/envs/ae2/lib/python3.11/lib-dynload', '', '/Users/idekeradmin/.local/lib/python3.11/site-packages', '/opt/anaconda3/envs/ae2/lib/python3.11/site-packages', '/Users/idekeradmin/Dropbox/GitHub/agent_evaluation']\n"
     ]
    },
    {
     "name": "stderr",
     "output_type": "stream",
     "text": [
      "/opt/anaconda3/envs/ae2/lib/python3.11/site-packages/tqdm/auto.py:21: TqdmWarning: IProgress not found. Please update jupyter and ipywidgets. See https://ipywidgets.readthedocs.io/en/stable/user_install.html\n",
      "  from .autonotebook import tqdm as notebook_tqdm\n"
     ]
    }
   ],
   "source": [
    "import sys\n",
    "import os\n",
    "\n",
    "# Add the parent directory of the current script to the Python path\n",
    "cwd = os.getcwd()\n",
    "dirname = os.path.dirname(cwd)\n",
    "print(cwd)\n",
    "print(dirname)\n",
    "sys.path.append(dirname)\n",
    "\n",
    "print(sys.path)\n",
    "\n",
    "from models.analysis_plan import AnalysisPlan\n",
    "from services.analysisrunner import AnalysisRunner\n",
    "from models.review_plan import ReviewPlan\n",
    "from services.reviewrunner import ReviewRunner\n",
    "from app.sqlite_database import SqliteDatabase\n",
    "from app.config import load_database_uri\n",
    "\n",
    "# Load the db connection details\n",
    "# db_type, uri, user, password = load_database_config(path='~/ae_config/test_config.ini')\n",
    "# self.db = Database(uri, db_type, user, password)\n",
    "\n",
    "database_uri = load_database_uri()\n",
    "db = SqliteDatabase(database_uri)"
   ]
  },
  {
   "cell_type": "code",
   "execution_count": 2,
   "metadata": {},
   "outputs": [],
   "source": [
    "\n",
    "\n",
    "dengue_column_name_mapping ={}"
   ]
  },
  {
   "cell_type": "markdown",
   "metadata": {},
   "source": [
    "## Get the assemblies of interest"
   ]
  },
  {
   "cell_type": "code",
   "execution_count": 3,
   "metadata": {},
   "outputs": [],
   "source": [
    "import pandas as pd\n",
    "cwd = os.getcwd()\n",
    "dirname = os.path.dirname(cwd)\n",
    "assembly_spreadsheet_filename = \"interesting_dengue_communities.xlsx\"\n",
    "top_20_assembly_names_df = pd.read_excel(os.path.join(dirname, \n",
    "                                                      \"data\", \n",
    "                                                      assembly_spreadsheet_filename),\n",
    "                                                      sheet_name=0)\n",
    "top_10_assembly_names_df = pd.read_excel(os.path.join(dirname, \n",
    "                                                      \"data\", \n",
    "                                                      assembly_spreadsheet_filename),\n",
    "                                                      sheet_name=1)"
   ]
  },
  {
   "cell_type": "markdown",
   "metadata": {},
   "source": [
    "## Get the model and the interactome from NDEx in CX2"
   ]
  },
  {
   "cell_type": "code",
   "execution_count": 4,
   "metadata": {},
   "outputs": [
    {
     "name": "stdout",
     "output_type": "stream",
     "text": [
      "Name: Dengue model - hidef string 12.0 0.7 (GPT-4 annotated) - L2R\n",
      "Number of nodes: 203\n",
      "Number of nodes: 249\n",
      "Name: dengue string 12.0 0.7\n",
      "Number of nodes: 1375\n",
      "Number of nodes: 2792\n"
     ]
    }
   ],
   "source": [
    "from models.hierarchy import Hierarchy\n",
    "import json\n",
    "import ndex2 \n",
    "from ndex2.cx2 import RawCX2NetworkFactory\n",
    "\n",
    "# Create NDEx2 python client\n",
    "client = ndex2.client.Ndex2()\n",
    "\n",
    "# Create CX2Network factory\n",
    "factory = RawCX2NetworkFactory()\n",
    "\n",
    "# Download BioGRID: Protein-Protein Interactions (SARS-CoV) from NDEx\n",
    "# https://www.ndexbio.org/viewer/networks/669f30a3-cee6-11ea-aaef-0ac135e8bacf\n",
    "# client_resp = client.get_network_as_cx2_stream('669f30a3-cee6-11ea-aaef-0ac135e8bacf')\n",
    "\n",
    "# Dengue string interactome network c223d6db-b0e2-11ee-8a13-005056ae23aa\n",
    "client_resp = client.get_network_as_cx2_stream('c223d6db-b0e2-11ee-8a13-005056ae23aa')\n",
    "\n",
    "# Convert downloaded interactome network to CX2Network object\n",
    "interactome = factory.get_cx2network(json.loads(client_resp.content))\n",
    "\n",
    "# Dengue hierarchy\n",
    "# https://www.ndexbio.org/viewer/networks/59bbb9f1-e029-11ee-9621-005056ae23aa\n",
    "client_resp = client.get_network_as_cx2_stream('59bbb9f1-e029-11ee-9621-005056ae23aa')\n",
    "\n",
    "# Convert downloaded interactome network to CX2Network object\n",
    "hierarchy = factory.get_cx2network(json.loads(client_resp.content))\n",
    "\n",
    "# Display information about the hierarchy network and output 1st 100 characters of CX2\n",
    "print('Name: ' + hierarchy.get_name())\n",
    "print('Number of nodes: ' + str(len(hierarchy.get_nodes())))\n",
    "print('Number of nodes: ' + str(len(hierarchy.get_edges())))\n",
    "\n",
    "# Display information about the interactome network \n",
    "print('Name: ' + interactome.get_name())\n",
    "print('Number of nodes: ' + str(len(interactome.get_nodes())))\n",
    "print('Number of nodes: ' + str(len(interactome.get_edges())))\n",
    "\n",
    "# this is brief so that it will help keep the context small for fast operation.\n",
    "brief_dengue_dataset_description = \"\"\"\n",
    "\n",
    "This data integrates four datasets and is intended to identify factors that negatively support the dengue virus and are supported by other orthogonal datasets.\n",
    "\n",
    "The study created the following novel datasets. Primary human dendritic cells, were infected with dengue virus (serotype 3), and were subjected to: \n",
    "(1) siRNA screening to identify human host factors that act to restrict viral replication, \n",
    "(2) Proteomics (Protein Abundance) to look at human proteins that change in abundance following infection. This was done at 24h and 48h post-infection.\n",
    "Jeff Johnson, Krogan lab\n",
    "(3) RNAseq was used to examine cellular mRNAs that are differently expressed following infection. This was done 24h and 48h post-infection. \n",
    "Stephen Wolinski, NWU\n",
    "\n",
    "In this analysis, we are also incorporating Priya Shah’s published dengue protein-protein interaction (PPI) dataset (Shah et al., Cell 2018). \n",
    "\n",
    "The dataset includes the following columns: \n",
    "\n",
    "\"binds\": Dengue virus proteins bound to the human protein\n",
    "\"knockdown_inhbits\": 1 = siRNA knockdown inhibits dengue virus infection, 2 = no effect\n",
    "\n",
    "rna and protein expression changes following dengue virus infection:\n",
    "\"protein_logFC_24h\"\n",
    "\"protein_log2FC_48h\"\n",
    "\"rna_logFC_24h\"\n",
    "\"rna_log2FC_48h\"\n",
    "\n",
    "Missing values for measurements of a given gene/protein indicate that change was below the significance threshold chosen for that modality.\n",
    "\"\"\"\n",
    "      \n",
    "hierarchy.add_network_attribute(\"experiment_description\", brief_dengue_dataset_description)\n"
   ]
  },
  {
   "cell_type": "markdown",
   "metadata": {},
   "source": [
    "## Preview the data columns"
   ]
  },
  {
   "cell_type": "code",
   "execution_count": 5,
   "metadata": {},
   "outputs": [
    {
     "data": {
      "text/plain": [
       "{'GeneID': 'GeneID',\n",
       " 'UniprotID': 'UniprotID',\n",
       " 'GeneSymbol': 'GeneSymbol',\n",
       " 'siRNA_GeneSymbol': 'siRNA_GeneSymbol',\n",
       " 'DV3_24h-Mock_24h': 'DV3_24h-Mock_24h',\n",
       " 'DV3_48h-Mock_48h': 'DV3_48h-Mock_48h',\n",
       " 'siRNA_Screen_Average_Zscore': 'siRNA_Screen_Average_Zscore',\n",
       " 'log2FC': 'log2FC',\n",
       " 'Condition': 'Condition',\n",
       " 'GeneSymbol_48hpi': 'GeneSymbol_48hpi',\n",
       " 'log2FC_48hpi': 'log2FC_48hpi',\n",
       " 'Condition_48hpi': 'Condition_48hpi',\n",
       " 'dengue_protein_list': 'dengue_protein_list',\n",
       " 'dengue_MiST_list': 'dengue_MiST_list',\n",
       " 'PPI_GeneSymbol': 'PPI_GeneSymbol',\n",
       " 'viral_interaction': 'viral_interaction',\n",
       " 'has_siRNA': 'has_siRNA',\n",
       " 'has_protein_24hr': 'has_protein_24hr',\n",
       " 'has_protein_48hr': 'has_protein_48hr',\n",
       " 'has_rnaSeq_24hr': 'has_rnaSeq_24hr',\n",
       " 'has_rnaSeq_48hr': 'has_rnaSeq_48hr',\n",
       " 'UniProtID': 'UniProtID',\n",
       " 'HGNC': 'HGNC'}"
      ]
     },
     "execution_count": 5,
     "metadata": {},
     "output_type": "execute_result"
    }
   ],
   "source": [
    "# csv_path = os.path.join(dirname, \"data\", \"dengue_with_uniprot.csv\")\n",
    "# data = pd.read_csv(csv_path)\n",
    "\n",
    "excel_path = os.path.join(dirname, \"data\", \"dengue_with_uniprot_full.xlsx\")\n",
    "data = pd.read_excel(excel_path)\n",
    "\n",
    "# data.columns.to_list()\n",
    "column_dict = {}\n",
    "for column in data.columns:\n",
    "    column_dict[column] = column\n",
    "column_dict"
   ]
  },
  {
   "cell_type": "markdown",
   "metadata": {},
   "source": [
    "## Make the Hierarchy object and annotate it with data\n",
    "- Select the columns and optionally rename them\n",
    "- Only annotate those selected by the optional filter, based on name and size range\n",
    "- Optionally reduce the precision of floats\n"
   ]
  },
  {
   "cell_type": "code",
   "execution_count": 6,
   "metadata": {},
   "outputs": [
    {
     "name": "stdout",
     "output_type": "stream",
     "text": [
      "{'GeneID': 'GeneID', 'DV3_24h-Mock_24h': 'protein_log2FC_24h', 'DV3_48h-Mock_48h': 'protein_log2FC_48h', 'log2FC': 'rna_log2FC_24h', 'log2FC_48hpi': 'rna_log2FC_48h', 'dengue_protein_list': 'binds', 'has_siRNA': 'knockdown_inhibits', 'HGNC': 'GeneSymbol'}\n",
      "mapped key column GeneSymbol is not in data row {'GeneSymbol': 'ZNF724', 'GeneID': 440519, 'rna_log2FC_48h': -2.46518191325064, 'knockdown_inhibits': 0}\n",
      "mapped key column GeneSymbol is not in data row {'GeneSymbol': 'ZNF724', 'GeneID': 440519, 'rna_log2FC_48h': -2.46518191325064, 'knockdown_inhibits': 0}\n",
      "mapped key column GeneSymbol is not in data row {'GeneSymbol': 'ZNF724', 'GeneID': 440519, 'rna_log2FC_48h': -2.46518191325064, 'knockdown_inhibits': 0}\n",
      "mapped key column GeneSymbol is not in data row {'GeneSymbol': 'ZNF724', 'GeneID': 440519, 'rna_log2FC_48h': -2.46518191325064, 'knockdown_inhibits': 0}\n",
      "mapped key column GeneSymbol is not in data row {'GeneSymbol': 'ZNF724', 'GeneID': 440519, 'rna_log2FC_48h': -2.46518191325064, 'knockdown_inhibits': 0}\n",
      "mapped key column GeneSymbol is not in data row {'GeneSymbol': 'ZNF724', 'GeneID': 440519, 'rna_log2FC_48h': -2.46518191325064, 'knockdown_inhibits': 0}\n",
      "mapped key column GeneSymbol is not in data row {'GeneSymbol': 'ZNF724', 'GeneID': 440519, 'rna_log2FC_48h': -2.46518191325064, 'knockdown_inhibits': 0}\n",
      "mapped key column GeneSymbol is not in data row {'GeneSymbol': 'ZNF724', 'GeneID': 440519, 'rna_log2FC_48h': -2.46518191325064, 'knockdown_inhibits': 0}\n",
      "mapped key column GeneSymbol is not in data row {'GeneSymbol': 'ZNF724', 'GeneID': 440519, 'rna_log2FC_48h': -2.46518191325064, 'knockdown_inhibits': 0}\n",
      "mapped key column GeneSymbol is not in data row {'GeneSymbol': 'ZNF724', 'GeneID': 440519, 'rna_log2FC_48h': -2.46518191325064, 'knockdown_inhibits': 0}\n"
     ]
    },
    {
     "data": {
      "text/plain": [
       "{'id': 5971062,\n",
       " 'v': {'CD_Labeled': True,\n",
       "  'CD_AnnotatedAlgorithm': 'Annotated by gProfiler [Docker: coleslawndex/cdgprofilergenestoterm:0.3.0] {{--organism=hsapiens, --maxpval=0.00001, --minoverlap=0.05, --maxgenelistsize=5000}} via CyCommunityDetection Cytoscape App (1.10.0-SNAPSHOT)',\n",
       "  'name': 'C4493683',\n",
       "  'CommunityDetectionTally::viral_interaction': 1,\n",
       "  'CD_AnnotatedMembers_Pvalue': 7.71565013380798e-21,\n",
       "  'CD_AnnotatedMembers_Size': 11,\n",
       "  'CD_AnnotatedMembers_Overlap': 0.091,\n",
       "  'CommunityDetectionTally::has_protein_24hr': 0,\n",
       "  'CD_MemberList_LogSize': 5.459,\n",
       "  'CommunityDetectionTally::has_protein_48hr': 2,\n",
       "  'CommunityDetectionTally::has_siRNA': 19,\n",
       "  'CD_MemberList': 'BMP2 CAV1 CLDN5 COL15A1 COL6A2 COL6A5 DCC DMP1 ESPNL F13A1 FLNA FSTL1 IGFBP7 ITGA11 ITGA2 ITGA9 ITGAD ITGB3 ITGB8 LAMA3 LAMC2 MSN MSX1 NBL1 NCF1 NEO1 OSR2 PF4V1 PHEX PLS1 PTPN13 RND3 SAT1 SELP SERPINH1 SMAD6 SNX17 SPARC STAB1 STOM SYNPO2 UNC5C VCAM1 VWF',\n",
       "  'LLM Name': 'Extracellular Matrix Organization and Cell Adhesion in Response to Viral Infection (0.85)',\n",
       "  'CommunityDetectionTally::Unmatched': 0,\n",
       "  'CD_AnnotatedMembers': 'COL6A2 COL6A5 DMP1 ITGA11 ITGA2 ITGA9 ITGB3 ITGB8 LAMA3 LAMC2 VWF',\n",
       "  'CD_CommunityName': 'ECM-receptor interaction',\n",
       "  'HiDeF_persistence': 14,\n",
       "  'CD_AnnotatedMembers_SourceTerm': 'KEGG:04512',\n",
       "  'CommunityDetectionTally::has_rnaSeq_48hr': 25,\n",
       "  'CommunityDetectionTally::has_rnaSeq_24hr': 3,\n",
       "  'LLM Analysis': '1. BMP2 (Bone Morphogenetic Protein 2) is involved in the regulation of cell growth and differentiation in both embryonic and adult tissues. It has roles in bone formation and may also play a role in the immune response to viral infections.\\n\\n2. CAV1 (Caveolin 1) is implicated in the regulation of endocytosis and signal transduction pathways, which can be hijacked by viruses to enter cells or propagate signals during infection.\\n\\n3. CLDN5 (Claudin 5) is a component of tight junctions, which are crucial for maintaining cell polarity and barrier function. Viral infections can disrupt tight junctions, affecting vascular permeability and inflammation.\\n\\n4. COL15A1, COL6A2, and COL6A5 are collagen proteins that contribute to the structural integrity of the extracellular matrix (ECM). The ECM can be remodeled during viral infections, affecting tissue repair and the immune response.\\n\\n5. DCC (Deleted in Colorectal Carcinoma) is involved in cell adhesion and migration. Viral infections can alter cell migration, potentially aiding in the spread of infection.\\n\\n6. DMP1 (Dentin Matrix Protein 1) is involved in bone mineralization and may have a role in the immune response to pathogens.\\n\\n7. ESPNL (Espin-like) is associated with actin cytoskeleton organization, which can be targeted by viruses to facilitate their replication and spread.\\n\\n8. F13A1 (Coagulation Factor XIII A Chain) is involved in blood clotting, which can be affected during severe viral infections, leading to coagulopathies.\\n\\n9. FLNA (Filamin A) is an actin-binding protein involved in cell shape and migration, processes that can be manipulated by viruses during infection.\\n\\n10. FSTL1 (Follistatin-like 1) is involved in inflammation and immune responses, which are critical during viral infections.\\n\\n11. IGFBP7 (Insulin-like Growth Factor Binding Protein 7) modulates cell growth and can be involved in the cellular response to viral infection.\\n\\n12. Integrins (ITGA11, ITGA2, ITGA9, ITGAD, ITGB3, ITGB8) are cell surface receptors that mediate cell-ECM and cell-cell adhesions. They can be involved in viral entry, spread, and the immune response.\\n\\n13. Laminins (LAMA3, LAMC2) are major components of the basal lamina and are involved in cell differentiation, migration, and adhesion. Viral infections can disrupt the basal lamina, affecting tissue integrity.\\n\\n14. MSN (Moesin) is involved in linking the actin cytoskeleton to the plasma membrane, which can be exploited by viruses for cell entry or release.\\n\\n15. NCF1 (Neutrophil Cytosolic Factor 1) is part of the NADPH oxidase complex and plays a role in the respiratory burst, an important aspect of the innate immune response to pathogens.\\n\\n16. SPARC (Secreted Protein Acidic and Rich in Cysteine) is involved in ECM assembly and can modulate the immune response, which is crucial during viral infections.\\n\\n17. VCAM1 (Vascular Cell Adhesion Molecule 1) and SELP (Selectin P) are involved in leukocyte trafficking and endothelial cell interactions, which are important for the immune response to viral infections.\\n\\n18. VWF (von Willebrand Factor) is involved in blood coagulation, which can be affected by severe viral infections.\\n\\nTo summarize, the proteins in this system are predominantly involved in the organization of the extracellular matrix and cell adhesion, with several proteins also playing roles in the immune response and inflammation, which are critical during viral infections such as Dengue fever. The system suggests a coordinated response to maintain tissue integrity and facilitate an immune response during viral infection, particularly with respect to endothelial function and leukocyte trafficking, which are known to be affected in Dengue virus infection.',\n",
       "  'CD_MemberList_Size': 44,\n",
       "  'CD_NonAnnotatedMembers': 'BMP2 CAV1 CLDN5 COL15A1 DCC ESPNL F13A1 FLNA FSTL1 IGFBP7 ITGAD MSN MSX1 NBL1 NCF1 NEO1 OSR2 PF4V1 PHEX PLS1 PTPN13 RND3 SAT1 SELP SERPINH1 SMAD6 SNX17 SPARC STAB1 STOM SYNPO2 UNC5C VCAM1',\n",
       "  'CD_AnnotatedMembers_SourceDB': 'KEGG',\n",
       "  'data': '{\"STOM\": {\"GeneSymbol\": \"STOM\", \"GeneID\": 2040, \"protein_log2FC_48h\": 1.878361517, \"rna_log2FC_48h\": 2.08376029143115, \"binds\": \"DENV2 16681 NS4A,ZIKVfp NS4A,ZIKVug NS4A\", \"knockdown_inhibits\": 0}, \"SERPINH1\": {\"GeneSymbol\": \"SERPINH1\", \"GeneID\": 871, \"protein_log2FC_48h\": 1.071614534, \"knockdown_inhibits\": 0}, \"CLDN5\": {\"GeneSymbol\": \"CLDN5\", \"GeneID\": 7122, \"knockdown_inhibits\": 1}, \"COL15A1\": {\"GeneSymbol\": \"COL15A1\", \"GeneID\": 1306, \"knockdown_inhibits\": 1}, \"DCC\": {\"GeneSymbol\": \"DCC\", \"GeneID\": 1630, \"knockdown_inhibits\": 1}, \"COL6A5\": {\"GeneSymbol\": \"COL6A5\", \"GeneID\": 256076, \"knockdown_inhibits\": 1}, \"IGFBP7\": {\"GeneSymbol\": \"IGFBP7\", \"GeneID\": 3490, \"knockdown_inhibits\": 1}, \"ITGA11\": {\"GeneSymbol\": \"ITGA11\", \"GeneID\": 22801, \"knockdown_inhibits\": 1}, \"ITGAD\": {\"GeneSymbol\": \"ITGAD\", \"GeneID\": 3681, \"knockdown_inhibits\": 1}, \"LAMC2\": {\"GeneSymbol\": \"LAMC2\", \"GeneID\": 3918, \"knockdown_inhibits\": 1}, \"MSN\": {\"GeneSymbol\": \"MSN\", \"GeneID\": 4478, \"knockdown_inhibits\": 1}, \"MSX1\": {\"GeneSymbol\": \"MSX1\", \"GeneID\": 4487, \"knockdown_inhibits\": 1}, \"NBL1\": {\"GeneSymbol\": \"NBL1\", \"GeneID\": 4681, \"knockdown_inhibits\": 1}, \"NEO1\": {\"GeneSymbol\": \"NEO1\", \"GeneID\": 4756, \"knockdown_inhibits\": 1}, \"PF4V1\": {\"GeneSymbol\": \"PF4V1\", \"GeneID\": 5197, \"knockdown_inhibits\": 1}, \"PHEX\": {\"GeneSymbol\": \"PHEX\", \"GeneID\": 5251, \"knockdown_inhibits\": 1}, \"PLS1\": {\"GeneSymbol\": \"PLS1\", \"GeneID\": 5357, \"rna_log2FC_48h\": -2.10668704825303, \"knockdown_inhibits\": 1}, \"SELP\": {\"GeneSymbol\": \"SELP\", \"GeneID\": 6403, \"knockdown_inhibits\": 1}, \"SMAD6\": {\"GeneSymbol\": \"SMAD6\", \"GeneID\": 4091, \"knockdown_inhibits\": 1}, \"SNX17\": {\"GeneSymbol\": \"SNX17\", \"GeneID\": 9784, \"knockdown_inhibits\": 1}, \"SYNPO2\": {\"GeneSymbol\": \"SYNPO2\", \"GeneID\": 171024, \"rna_log2FC_48h\": 5.00419781318211, \"knockdown_inhibits\": 1}, \"NCF1\": {\"GeneSymbol\": \"NCF1\", \"GeneID\": 653361, \"rna_log2FC_24h\": 2.30710712368644, \"rna_log2FC_48h\": 3.2652729947864, \"knockdown_inhibits\": 0}, \"ESPNL\": {\"GeneSymbol\": \"ESPNL\", \"GeneID\": 339768, \"rna_log2FC_24h\": -2.46610507958088, \"knockdown_inhibits\": 0}, \"OSR2\": {\"GeneSymbol\": \"OSR2\", \"GeneID\": 116039, \"rna_log2FC_24h\": 5.18836762083554, \"rna_log2FC_48h\": 6.56592109751703, \"knockdown_inhibits\": 0}, \"BMP2\": {\"GeneSymbol\": \"BMP2\", \"GeneID\": 650, \"rna_log2FC_48h\": 3.92475097971562, \"knockdown_inhibits\": 0}, \"CAV1\": {\"GeneSymbol\": \"CAV1\", \"GeneID\": 857, \"rna_log2FC_48h\": 2.86442179303004, \"knockdown_inhibits\": 0}, \"COL6A2\": {\"GeneSymbol\": \"COL6A2\", \"GeneID\": 1292, \"rna_log2FC_48h\": -2.49857203207265, \"knockdown_inhibits\": 0}, \"DMP1\": {\"GeneSymbol\": \"DMP1\", \"GeneID\": 1758, \"rna_log2FC_48h\": -2.16723827862054, \"knockdown_inhibits\": 0}, \"F13A1\": {\"GeneSymbol\": \"F13A1\", \"GeneID\": 2162, \"rna_log2FC_48h\": -3.48636807321906, \"knockdown_inhibits\": 0}, \"FLNA\": {\"GeneSymbol\": \"FLNA\", \"GeneID\": 2316, \"rna_log2FC_48h\": -2.58851284862048, \"knockdown_inhibits\": 0}, \"FSTL1\": {\"GeneSymbol\": \"FSTL1\", \"GeneID\": 11167, \"rna_log2FC_48h\": 2.42086040405924, \"knockdown_inhibits\": 0}, \"ITGA2\": {\"GeneSymbol\": \"ITGA2\", \"GeneID\": 3673, \"rna_log2FC_48h\": 2.5911840680301, \"knockdown_inhibits\": 0}, \"ITGA9\": {\"GeneSymbol\": \"ITGA9\", \"GeneID\": 3680, \"rna_log2FC_48h\": -2.51928044115281, \"knockdown_inhibits\": 0}, \"ITGB3\": {\"GeneSymbol\": \"ITGB3\", \"GeneID\": 3690, \"rna_log2FC_48h\": -2.05379230405333, \"knockdown_inhibits\": 0}, \"ITGB8\": {\"GeneSymbol\": \"ITGB8\", \"GeneID\": 3696, \"rna_log2FC_48h\": 3.10768055067734, \"knockdown_inhibits\": 0}, \"LAMA3\": {\"GeneSymbol\": \"LAMA3\", \"GeneID\": 3909, \"rna_log2FC_48h\": 3.12295851048993, \"knockdown_inhibits\": 0}, \"PTPN13\": {\"GeneSymbol\": \"PTPN13\", \"GeneID\": 5783, \"rna_log2FC_48h\": -2.10754206704487, \"knockdown_inhibits\": 0}, \"RND3\": {\"GeneSymbol\": \"RND3\", \"GeneID\": 390, \"rna_log2FC_48h\": 3.33120987691088, \"knockdown_inhibits\": 0}, \"SAT1\": {\"GeneSymbol\": \"SAT1\", \"GeneID\": 6303, \"rna_log2FC_48h\": 2.01832607616007, \"knockdown_inhibits\": 0}, \"SPARC\": {\"GeneSymbol\": \"SPARC\", \"GeneID\": 6678, \"rna_log2FC_48h\": -2.26842332883377, \"knockdown_inhibits\": 0}, \"STAB1\": {\"GeneSymbol\": \"STAB1\", \"GeneID\": 23166, \"rna_log2FC_48h\": -2.82294598529882, \"knockdown_inhibits\": 0}, \"UNC5C\": {\"GeneSymbol\": \"UNC5C\", \"GeneID\": 8633, \"rna_log2FC_48h\": 4.00926228924616, \"knockdown_inhibits\": 0}, \"VCAM1\": {\"GeneSymbol\": \"VCAM1\", \"GeneID\": 7412, \"rna_log2FC_48h\": 2.33999789459771, \"knockdown_inhibits\": 0}, \"VWF\": {\"GeneSymbol\": \"VWF\", \"GeneID\": 7450, \"rna_log2FC_48h\": -3.17481525602609, \"knockdown_inhibits\": 0}}'},\n",
       " 'x': 912.0124613997759,\n",
       " 'y': 28.82337234291481,\n",
       " 'z': None}"
      ]
     },
     "execution_count": 6,
     "metadata": {},
     "output_type": "execute_result"
    }
   ],
   "source": [
    "import os\n",
    "\n",
    "dengue_hierarchy = Hierarchy(hierarchy, interactome)\n",
    "\n",
    "# csv_path = os.path.join(dirname, \"data\", \"dengue_with_uniprot.csv\")\n",
    "excel_path = os.path.join(dirname, \"data\", \"dengue_with_uniprot_full.xlsx\")\n",
    "\n",
    "assembly_list = top_10_assembly_names_df[\"Community\"].to_list()\n",
    "\n",
    "# This is for testing with just one assembly\n",
    "#assembly_list = [\"RAS pathway modulation and apoptosis regulation\"]\n",
    "\n",
    "data_columns = columns={'GeneID': 'GeneID',\n",
    "                        'DV3_24h-Mock_24h': 'protein_log2FC_24h',\n",
    "                        'DV3_48h-Mock_48h': 'protein_log2FC_48h',\n",
    "                        'log2FC': 'rna_log2FC_24h',\n",
    "                        'log2FC_48hpi': 'rna_log2FC_48h',\n",
    "                        'dengue_protein_list': 'binds',\n",
    "                        'has_siRNA': 'knockdown_inhibits',\n",
    "                        'HGNC': 'GeneSymbol'}\n",
    "\n",
    "print(data_columns)\n",
    "# add_data_from_file(self, file_path, key_column='name', columns=None, filter=None, sheet_name=0, delimiter=None):\n",
    "dengue_assemblies = dengue_hierarchy.add_data_from_file(excel_path,\n",
    "                                                 key_column=\"HGNC\",\n",
    "                                                 filter={\"names\": assembly_list},\n",
    "                                                 columns=data_columns)\n",
    "\n",
    "dengue_assemblies[0]"
   ]
  },
  {
   "cell_type": "code",
   "execution_count": 7,
   "metadata": {},
   "outputs": [],
   "source": [
    "# properties = dengue_assemblies[0].get(\"v\")\n",
    "# data = json.loads(properties.get(\"data\"))\n",
    "# for gene, properties in data.items():\n",
    "#     print(f'{gene}  :  {properties}')\n",
    "\n",
    "# thing = data_dict_to_csv(data, \n",
    "#                        columns={'GeneID': 'GeneID',\n",
    "#                         'rna_log2FC-24h': 'rna_log2FC-24h',\n",
    "#                         'rna_log2FC_48h': 'rna_log2FC_48h',\n",
    "#                         'protein_log2FC_24h': 'protein_log2FC_24h',\n",
    "#                         'protein_log2FC_48h': 'protein_log2FC_48h',\n",
    "#                         'binds': 'binds',\n",
    "#                         'knockdown_inhibits': 'knockdown_inhibits',\n",
    "#                         'name': 'GeneSymbol'}, \n",
    "#                         decimal_places=None)\n",
    "\n",
    "# thing"
   ]
  },
  {
   "cell_type": "markdown",
   "metadata": {},
   "source": [
    "## Generate Datasets for a list of assemblies\n",
    "- optionally selecting columns\n",
    "- get a list of their ids to use elsewhere"
   ]
  },
  {
   "cell_type": "code",
   "execution_count": 8,
   "metadata": {},
   "outputs": [
    {
     "name": "stdout",
     "output_type": "stream",
     "text": [
      "Extracellular Matrix Organization and Cell Adhesion in Response to Viral Infection\n",
      "Extracellular Matrix Organization and Cell Adhesion in Response to Viral Infection\n",
      "Urea cycle and redox homeostasis\n",
      "DNA Repair and Maintenance in Response to Viral Infection\n",
      "RAS Pathway Modulation and Apoptosis Regulation\n",
      "Oxidative Stress Response and Protein Quality Control in Neurodegeneration\n",
      "RNA Metabolism and Viral Defense Mechanism\n",
      "Kynurenine Pathway Modulation and Immune Response Regulation\n",
      "RNA Metabolism and Modification in Viral Infection\n",
      "Endothelial Barrier Function and Viral Entry Modulation\n"
     ]
    }
   ],
   "source": [
    "from models.hierarchy import dataset_from_assembly\n",
    "\n",
    "dataset_ids = []\n",
    "\n",
    "dataset_columns = {'GeneID': 'GeneID',\n",
    "                        'rna_log2FC-24h': 'rna_log2FC-24h',\n",
    "                        'rna_log2FC_48h': 'rna_log2FC_48h',\n",
    "                        'protein_log2FC_24h': 'protein_log2FC_24h',\n",
    "                        'protein_log2FC_48h': 'protein_log2FC_48h',\n",
    "                        'binds': 'binds',\n",
    "                        'knockdown_inhibits': 'knockdown_inhibits',\n",
    "                        'name': 'GeneSymbol'}\n",
    "\n",
    "for assembly in dengue_assemblies:\n",
    "    dataset = dataset_from_assembly(db, assembly, \n",
    "                                    type=\"csv\",\n",
    "                                    columns=dataset_columns,\n",
    "                                    experiment_description=brief_dengue_dataset_description)\n",
    "    print(dataset.name)\n",
    "    dataset_ids.append(dataset.object_id)\n",
    " "
   ]
  }
 ],
 "metadata": {
  "kernelspec": {
   "display_name": "base",
   "language": "python",
   "name": "python3"
  },
  "language_info": {
   "codemirror_mode": {
    "name": "ipython",
    "version": 3
   },
   "file_extension": ".py",
   "mimetype": "text/x-python",
   "name": "python",
   "nbconvert_exporter": "python",
   "pygments_lexer": "ipython3",
   "version": "3.11.8"
  }
 },
 "nbformat": 4,
 "nbformat_minor": 2
}
