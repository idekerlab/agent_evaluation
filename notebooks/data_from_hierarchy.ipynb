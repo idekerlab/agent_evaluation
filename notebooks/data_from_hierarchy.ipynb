{
 "cells": [
  {
   "cell_type": "markdown",
   "metadata": {},
   "source": [
    "## Creating Datasets from the Dengue Hierarchy and interactome.\n",
    "- The goal is to generate datasets in various formats based on the assemblies in a hierarchical model.\n",
    "- This involves:\n",
    "    - filtering the assemblies on assembly names, min size, and max size\n",
    "    - filtering the data by columns and by row values\n",
    "    - changing column names\n",
    "    - generating/adding experiment, assembly, and content descriptions\n",
    "    - cleaning the data, such as non-numeric values\n",
    "    - limiting the precision of numeric values\n",
    "    - optionaly saving the datasets to the database\n",
    "    - optionally adding interaction data\n",
    "    - optionally adding information from other sources, such as genecards\n",
    "- The Dengue data is on the STRING+diffusion based interactome\n",
    "- We can also get the data directly from the dengue_with_uniprot.csv\n",
    "- Laura Martin-Sancho is most interested in the assemblies listed in the interesting_dengue_communities.xlsx spreadsheet"
   ]
  },
  {
   "cell_type": "code",
   "execution_count": 44,
   "metadata": {},
   "outputs": [
    {
     "name": "stdout",
     "output_type": "stream",
     "text": [
      "/Users/idekeradmin/Dropbox/GitHub/agent_evaluation/notebooks\n",
      "/Users/idekeradmin/Dropbox/GitHub/agent_evaluation\n",
      "['/opt/anaconda3/envs/ae2/lib/python311.zip', '/opt/anaconda3/envs/ae2/lib/python3.11', '/opt/anaconda3/envs/ae2/lib/python3.11/lib-dynload', '', '/Users/idekeradmin/.local/lib/python3.11/site-packages', '/opt/anaconda3/envs/ae2/lib/python3.11/site-packages', '/Users/idekeradmin/Dropbox/GitHub/agent_evaluation', '/Users/idekeradmin/Dropbox/GitHub/agent_evaluation', '/Users/idekeradmin/Dropbox/GitHub/agent_evaluation', '/Users/idekeradmin/Dropbox/GitHub/agent_evaluation', '/Users/idekeradmin/Dropbox/GitHub/agent_evaluation']\n"
     ]
    }
   ],
   "source": [
    "import sys\n",
    "import os\n",
    "\n",
    "# Add the parent directory of the current script to the Python path\n",
    "cwd = os.getcwd()\n",
    "dirname = os.path.dirname(cwd)\n",
    "print(cwd)\n",
    "print(dirname)\n",
    "sys.path.append(dirname)\n",
    "\n",
    "print(sys.path)\n",
    "\n",
    "from models.analysis_plan import AnalysisPlan\n",
    "from services.analysisrunner import AnalysisRunner\n",
    "from models.review_plan import ReviewPlan\n",
    "from services.reviewrunner import ReviewRunner\n",
    "from app.sqlite_database import SqliteDatabase\n",
    "from app.config import load_database_uri\n",
    "\n",
    "# Load the db connection details\n",
    "# db_type, uri, user, password = load_database_config(path='~/ae_config/test_config.ini')\n",
    "# self.db = Database(uri, db_type, user, password)\n",
    "\n",
    "database_uri = load_database_uri()\n",
    "db = SqliteDatabase(database_uri)"
   ]
  },
  {
   "cell_type": "code",
   "execution_count": 45,
   "metadata": {},
   "outputs": [],
   "source": [
    "\n",
    "\n",
    "dengue_column_name_mapping ={}"
   ]
  },
  {
   "cell_type": "markdown",
   "metadata": {},
   "source": [
    "## Get the assemblies of interest"
   ]
  },
  {
   "cell_type": "code",
   "execution_count": 46,
   "metadata": {},
   "outputs": [],
   "source": [
    "import pandas as pd\n",
    "cwd = os.getcwd()\n",
    "dirname = os.path.dirname(cwd)\n",
    "assembly_spreadsheet_filename = \"interesting_dengue_communities.xlsx\"\n",
    "top_20_assembly_names_df = pd.read_excel(os.path.join(dirname, \n",
    "                                                      \"data\", \n",
    "                                                      assembly_spreadsheet_filename),\n",
    "                                                      sheet_name=0)\n",
    "top_10_assembly_names_df = pd.read_excel(os.path.join(dirname, \n",
    "                                                      \"data\", \n",
    "                                                      assembly_spreadsheet_filename),\n",
    "                                                      sheet_name=1)"
   ]
  },
  {
   "cell_type": "markdown",
   "metadata": {},
   "source": [
    "## Get the model and the interactome from NDEx in CX2"
   ]
  },
  {
   "cell_type": "code",
   "execution_count": 47,
   "metadata": {},
   "outputs": [
    {
     "name": "stdout",
     "output_type": "stream",
     "text": [
      "Name: Dengue model - hidef string 12.0 0.7 (GPT-4 annotated) - L2R\n",
      "Number of nodes: 203\n",
      "Number of nodes: 249\n",
      "Name: dengue string 12.0 0.7\n",
      "Number of nodes: 1375\n",
      "Number of nodes: 2792\n"
     ]
    }
   ],
   "source": [
    "from models.hierarchy import Hierarchy\n",
    "import json\n",
    "import ndex2 \n",
    "from ndex2.cx2 import RawCX2NetworkFactory\n",
    "\n",
    "# Create NDEx2 python client\n",
    "client = ndex2.client.Ndex2()\n",
    "\n",
    "# Create CX2Network factory\n",
    "factory = RawCX2NetworkFactory()\n",
    "\n",
    "# Download BioGRID: Protein-Protein Interactions (SARS-CoV) from NDEx\n",
    "# https://www.ndexbio.org/viewer/networks/669f30a3-cee6-11ea-aaef-0ac135e8bacf\n",
    "# client_resp = client.get_network_as_cx2_stream('669f30a3-cee6-11ea-aaef-0ac135e8bacf')\n",
    "\n",
    "# Dengue string interactome network c223d6db-b0e2-11ee-8a13-005056ae23aa\n",
    "client_resp = client.get_network_as_cx2_stream('c223d6db-b0e2-11ee-8a13-005056ae23aa')\n",
    "\n",
    "# Convert downloaded interactome network to CX2Network object\n",
    "interactome = factory.get_cx2network(json.loads(client_resp.content))\n",
    "\n",
    "# Dengue hierarchy\n",
    "# https://www.ndexbio.org/viewer/networks/59bbb9f1-e029-11ee-9621-005056ae23aa\n",
    "client_resp = client.get_network_as_cx2_stream('59bbb9f1-e029-11ee-9621-005056ae23aa')\n",
    "\n",
    "# Convert downloaded interactome network to CX2Network object\n",
    "hierarchy = factory.get_cx2network(json.loads(client_resp.content))\n",
    "\n",
    "# Display information about the hierarchy network and output 1st 100 characters of CX2\n",
    "print('Name: ' + hierarchy.get_name())\n",
    "print('Number of nodes: ' + str(len(hierarchy.get_nodes())))\n",
    "print('Number of nodes: ' + str(len(hierarchy.get_edges())))\n",
    "\n",
    "# Display information about the interactome network \n",
    "print('Name: ' + interactome.get_name())\n",
    "print('Number of nodes: ' + str(len(interactome.get_nodes())))\n",
    "print('Number of nodes: ' + str(len(interactome.get_edges())))\n",
    "\n",
    "# this is brief so that it will help keep the context small for fast operation.\n",
    "brief_dengue_dataset_description = \"\"\"\n",
    "\n",
    "This data integrates four datasets and is intended to identify factors that negatively support the dengue virus and are supported by other orthogonal datasets.\n",
    "\n",
    "The study created the following novel datasets. Primary human dendritic cells, were infected with dengue virus (serotype 3), and were subjected to: \n",
    "(1) siRNA screening to identify human host factors that act to restrict viral replication, \n",
    "(2) Proteomics (Protein Abundance) to look at human proteins that change in abundance following infection. This was done at 24h and 48h post-infection.\n",
    "Jeff Johnson, Krogan lab\n",
    "(3) RNAseq was used to examine cellular mRNAs that are differently expressed following infection. This was done 24h and 48h post-infection. \n",
    "Stephen Wolinski, NWU\n",
    "\n",
    "In this analysis, we are also incorporating Priya Shah’s published dengue protein-protein interaction (PPI) dataset (Shah et al., Cell 2018). \n",
    "\n",
    "The dataset includes the following columns: \n",
    "\n",
    "\"binds\": Dengue virus proteins bound to the human protein\n",
    "\"knockdown_inhbits\": 1 = siRNA knockdown inhibits dengue virus infection, 2 = no effect\n",
    "\n",
    "rna and protein expression changes following dengue virus infection:\n",
    "\"protein_logFC_24h\"\n",
    "\"protein_log2FC_48h\"\n",
    "\"rna_logFC_24h\"\n",
    "\"rna_log2FC_48h\"\n",
    "\n",
    "Missing values for measurements of a given gene/protein indicate that change was below the significance threshold chosen for that modality.\n",
    "\"\"\"\n",
    "      \n",
    "hierarchy.add_network_attribute(\"experiment_description\", brief_dengue_dataset_description)\n"
   ]
  },
  {
   "cell_type": "markdown",
   "metadata": {},
   "source": [
    "## Preview the data columns"
   ]
  },
  {
   "cell_type": "code",
   "execution_count": 48,
   "metadata": {},
   "outputs": [
    {
     "data": {
      "text/plain": [
       "{'GeneID': 'GeneID',\n",
       " 'UniprotID': 'UniprotID',\n",
       " 'GeneSymbol': 'GeneSymbol',\n",
       " 'siRNA_GeneSymbol': 'siRNA_GeneSymbol',\n",
       " 'DV3_24h-Mock_24h': 'DV3_24h-Mock_24h',\n",
       " 'DV3_48h-Mock_48h': 'DV3_48h-Mock_48h',\n",
       " 'siRNA_Screen_Average_Zscore': 'siRNA_Screen_Average_Zscore',\n",
       " 'log2FC': 'log2FC',\n",
       " 'Condition': 'Condition',\n",
       " 'GeneSymbol_48hpi': 'GeneSymbol_48hpi',\n",
       " 'log2FC_48hpi': 'log2FC_48hpi',\n",
       " 'Condition_48hpi': 'Condition_48hpi',\n",
       " 'dengue_protein_list': 'dengue_protein_list',\n",
       " 'dengue_MiST_list': 'dengue_MiST_list',\n",
       " 'PPI_GeneSymbol': 'PPI_GeneSymbol',\n",
       " 'viral_interaction': 'viral_interaction',\n",
       " 'has_siRNA': 'has_siRNA',\n",
       " 'has_protein_24hr': 'has_protein_24hr',\n",
       " 'has_protein_48hr': 'has_protein_48hr',\n",
       " 'has_rnaSeq_24hr': 'has_rnaSeq_24hr',\n",
       " 'has_rnaSeq_48hr': 'has_rnaSeq_48hr',\n",
       " 'UniProtID': 'UniProtID',\n",
       " 'HGNC': 'HGNC'}"
      ]
     },
     "execution_count": 48,
     "metadata": {},
     "output_type": "execute_result"
    }
   ],
   "source": [
    "# csv_path = os.path.join(dirname, \"data\", \"dengue_with_uniprot.csv\")\n",
    "# data = pd.read_csv(csv_path)\n",
    "\n",
    "excel_path = os.path.join(dirname, \"data\", \"dengue_with_uniprot_full.xlsx\")\n",
    "data = pd.read_excel(excel_path)\n",
    "\n",
    "# data.columns.to_list()\n",
    "column_dict = {}\n",
    "for column in data.columns:\n",
    "    column_dict[column] = column\n",
    "column_dict"
   ]
  },
  {
   "cell_type": "markdown",
   "metadata": {},
   "source": [
    "## Make the Hierarchy object and annotate it with data\n",
    "- Select the columns and optionally rename them\n",
    "- Only annotate those selected by the optional filter, based on name and size range\n",
    "- Optionally reduce the precision of floats\n"
   ]
  },
  {
   "cell_type": "code",
   "execution_count": 49,
   "metadata": {},
   "outputs": [
    {
     "name": "stdout",
     "output_type": "stream",
     "text": [
      "{'GeneID': 'GeneID', 'DV3_24h-Mock_24h': 'protein_log2FC_24h', 'DV3_48h-Mock_48h': 'protein_log2FC_48h', 'log2FC': 'rna_log2FC_24h', 'log2FC_48hpi': 'rna_log2FC_48h', 'dengue_protein_list': 'binds', 'has_siRNA': 'knockdown_inhibits', 'HGNC': 'GeneSymbol'}\n",
      "mapped key column GeneSymbol is not in data row {'GeneSymbol': 'ZNF724', 'GeneID': 440519, 'rna_log2FC_48h': -2.46518191325064, 'knockdown_inhibits': 0}\n"
     ]
    },
    {
     "data": {
      "text/plain": [
       "{'id': 5971216,\n",
       " 'v': {'CD_Labeled': True,\n",
       "  'CD_AnnotatedAlgorithm': 'Annotated by gProfiler [Docker: coleslawndex/cdgprofilergenestoterm:0.3.0] {{--organism=hsapiens, --maxpval=0.00001, --minoverlap=0.05, --maxgenelistsize=5000}} via CyCommunityDetection Cytoscape App (1.10.0-SNAPSHOT)',\n",
       "  'name': 'C4493760',\n",
       "  'CommunityDetectionTally::viral_interaction': 0,\n",
       "  'CD_AnnotatedMembers_Pvalue': 0.0,\n",
       "  'CD_AnnotatedMembers_Size': 0,\n",
       "  'CD_AnnotatedMembers_Overlap': 0.0,\n",
       "  'CommunityDetectionTally::has_protein_24hr': 1,\n",
       "  'CD_MemberList_LogSize': 3.322,\n",
       "  'CommunityDetectionTally::has_protein_48hr': 0,\n",
       "  'CommunityDetectionTally::has_siRNA': 7,\n",
       "  'CD_MemberList': 'BRAP HRAS MOAP1 RASAL1 RASSF5 RASSF7 RCE1 RGL1 RGL4 RPS6KA1',\n",
       "  'LLM Name': 'RAS Pathway Modulation and Apoptosis Regulation (0.92)',\n",
       "  'CommunityDetectionTally::Unmatched': 0,\n",
       "  'CD_CommunityName': '(none)',\n",
       "  'HiDeF_persistence': 42,\n",
       "  'CommunityDetectionTally::has_rnaSeq_48hr': 4,\n",
       "  'CommunityDetectionTally::has_rnaSeq_24hr': 1,\n",
       "  'LLM Analysis': \"1. BRAP (BRCA1 associated protein) is involved in the regulation of the MAP kinase signaling pathway, which is a key player in cellular responses to growth signals. BRAP has been shown to interact with proteins in the RAS signaling pathway, modulating signal transduction and potentially influencing cell proliferation and survival.\\n\\n2. HRAS (Harvey rat sarcoma viral oncogene homolog) is a small GTPase and a critical component of the RAS/MAPK signaling pathway. It plays a pivotal role in the transduction of mitogenic signals from the cell membrane to the nucleus, influencing cell growth, differentiation, and survival. Mutations in HRAS are associated with various types of cancers.\\n\\n3. MOAP1 (Modulator of apoptosis 1) is a pro-apoptotic protein that interacts with BAX, a member of the Bcl-2 family, to promote apoptosis. It is involved in the intrinsic pathway of apoptosis and is regulated by the RAS signaling pathway.\\n\\n4. RASAL1 (RAS protein activator like 1) is a GTPase-activating protein (GAP) that negatively regulates RAS by accelerating the conversion of RAS-GTP to RAS-GDP, thereby inhibiting RAS signaling. It functions as a tumor suppressor by reducing cell growth, proliferation, and survival.\\n\\n5. RASSF5 (Ras association domain family member 5) and RASSF7 (Ras association domain family member 7) are part of the RASSF family of proteins, which are known to interact with RAS and modulate its signaling. They are involved in cell cycle control, apoptosis, and microtubule stabilization. RASSF5, also known as Nore1, forms complexes with RAS and can induce apoptosis.\\n\\n6. RCE1 (Ras converting CAAX endopeptidase 1) is involved in the post-translational processing of RAS and other CAAX box-containing proteins. This processing is essential for the proper localization and function of RAS on the cell membrane.\\n\\n7. RGL1 (Ral guanine nucleotide dissociation stimulator-like 1) and RGL4 (Ral guanine nucleotide dissociation stimulator-like 4) are RAL guanine nucleotide exchange factors (GEFs) that activate RAL GTPases, which are downstream effectors of RAS. They are implicated in vesicle trafficking, cytoskeletal dynamics, and transcriptional regulation.\\n\\n8. RPS6KA1 (Ribosomal protein S6 kinase alpha-1) is a serine/threonine kinase that is activated by the MAPK signaling pathway. It is involved in the regulation of cell growth and proliferation by phosphorylating the S6 ribosomal protein, leading to increased protein synthesis.\\n\\nIn summary, the proteins in this system are primarily involved in the modulation of the RAS signaling pathway and the regulation of apoptosis. The RAS pathway is a critical mediator of cell proliferation and survival, and its modulation by these proteins can have significant implications for cellular responses to growth signals and apoptotic stimuli. The system's involvement in both RAS pathway modulation and apoptosis regulation is reflected in the proposed process name.\",\n",
       "  'CD_MemberList_Size': 10,\n",
       "  'data': '{\"BRAP\": {\"GeneSymbol\": \"BRAP\", \"GeneID\": 8315, \"protein_log2FC_24h\": 0.950359927, \"knockdown_inhibits\": 1}, \"RASSF7\": {\"GeneSymbol\": \"RASSF7\", \"GeneID\": 8045, \"rna_log2FC_48h\": -2.06135628015433, \"knockdown_inhibits\": 1}, \"RASSF5\": {\"GeneSymbol\": \"RASSF5\", \"GeneID\": 83593, \"knockdown_inhibits\": 1}, \"RCE1\": {\"GeneSymbol\": \"RCE1\", \"GeneID\": 9986, \"knockdown_inhibits\": 1}, \"RGL1\": {\"GeneSymbol\": \"RGL1\", \"GeneID\": 23179, \"rna_log2FC_48h\": 2.19953743578913, \"knockdown_inhibits\": 1}, \"RGL4\": {\"GeneSymbol\": \"RGL4\", \"GeneID\": 266747, \"knockdown_inhibits\": 1}, \"RPS6KA1\": {\"GeneSymbol\": \"RPS6KA1\", \"GeneID\": 6195, \"knockdown_inhibits\": 1}, \"MOAP1\": {\"GeneSymbol\": \"MOAP1\", \"GeneID\": 64112, \"rna_log2FC_24h\": -3.66471169775522, \"knockdown_inhibits\": 0}, \"HRAS\": {\"GeneSymbol\": \"HRAS\", \"GeneID\": 3265, \"rna_log2FC_48h\": -2.36235453750278, \"knockdown_inhibits\": 0}, \"RASAL1\": {\"GeneSymbol\": \"RASAL1\", \"GeneID\": 8437, \"rna_log2FC_48h\": -2.30780503072521, \"knockdown_inhibits\": 0}}'},\n",
       " 'x': 1562.749592814478,\n",
       " 'y': 922.1289278984186,\n",
       " 'z': None}"
      ]
     },
     "execution_count": 49,
     "metadata": {},
     "output_type": "execute_result"
    }
   ],
   "source": [
    "import os\n",
    "\n",
    "dengue_hierarchy = Hierarchy(hierarchy, interactome)\n",
    "\n",
    "# csv_path = os.path.join(dirname, \"data\", \"dengue_with_uniprot.csv\")\n",
    "excel_path = os.path.join(dirname, \"data\", \"dengue_with_uniprot_full.xlsx\")\n",
    "\n",
    "# assembly_list = top_10_assembly_names_df[\"Community\"].to_list()\n",
    "\n",
    "# This is for testing with just one assembly\n",
    "assembly_list = [\"RAS pathway modulation and apoptosis regulation\"]\n",
    "\n",
    "data_columns = columns={'GeneID': 'GeneID',\n",
    "                        'DV3_24h-Mock_24h': 'protein_log2FC_24h',\n",
    "                        'DV3_48h-Mock_48h': 'protein_log2FC_48h',\n",
    "                        'log2FC': 'rna_log2FC_24h',\n",
    "                        'log2FC_48hpi': 'rna_log2FC_48h',\n",
    "                        'dengue_protein_list': 'binds',\n",
    "                        'has_siRNA': 'knockdown_inhibits',\n",
    "                        'HGNC': 'GeneSymbol'}\n",
    "\n",
    "print(data_columns)\n",
    "# add_data_from_file(self, file_path, key_column='name', columns=None, filter=None, sheet_name=0, delimiter=None):\n",
    "dengue_assemblies = dengue_hierarchy.add_data_from_file(excel_path,\n",
    "                                                 key_column=\"HGNC\",\n",
    "                                                 filter={\"names\": assembly_list},\n",
    "                                                 columns=data_columns)\n",
    "\n",
    "dengue_assemblies[0]"
   ]
  },
  {
   "cell_type": "code",
   "execution_count": 50,
   "metadata": {},
   "outputs": [],
   "source": [
    "# properties = dengue_assemblies[0].get(\"v\")\n",
    "# data = json.loads(properties.get(\"data\"))\n",
    "# for gene, properties in data.items():\n",
    "#     print(f'{gene}  :  {properties}')\n",
    "\n",
    "# thing = data_dict_to_csv(data, \n",
    "#                        columns={'GeneID': 'GeneID',\n",
    "#                         'rna_log2FC-24h': 'rna_log2FC-24h',\n",
    "#                         'rna_log2FC_48h': 'rna_log2FC_48h',\n",
    "#                         'protein_log2FC_24h': 'protein_log2FC_24h',\n",
    "#                         'protein_log2FC_48h': 'protein_log2FC_48h',\n",
    "#                         'binds': 'binds',\n",
    "#                         'knockdown_inhibits': 'knockdown_inhibits',\n",
    "#                         'name': 'GeneSymbol'}, \n",
    "#                         decimal_places=None)\n",
    "\n",
    "# thing"
   ]
  },
  {
   "cell_type": "markdown",
   "metadata": {},
   "source": [
    "## Generate Datasets for a list of assemblies\n",
    "- optionally selecting columns\n",
    "- get a list of their ids to use elsewhere"
   ]
  },
  {
   "cell_type": "code",
   "execution_count": 51,
   "metadata": {},
   "outputs": [
    {
     "name": "stdout",
     "output_type": "stream",
     "text": [
      "RAS Pathway Modulation and Apoptosis Regulation\n"
     ]
    }
   ],
   "source": [
    "from models.hierarchy import dataset_from_assembly\n",
    "\n",
    "dataset_ids = []\n",
    "\n",
    "dataset_columns = {'GeneID': 'GeneID',\n",
    "                        'rna_log2FC-24h': 'rna_log2FC-24h',\n",
    "                        'rna_log2FC_48h': 'rna_log2FC_48h',\n",
    "                        'protein_log2FC_24h': 'protein_log2FC_24h',\n",
    "                        'protein_log2FC_48h': 'protein_log2FC_48h',\n",
    "                        'binds': 'binds',\n",
    "                        'knockdown_inhibits': 'knockdown_inhibits',\n",
    "                        'name': 'GeneSymbol'}\n",
    "\n",
    "for assembly in dengue_assemblies:\n",
    "    dataset = dataset_from_assembly(db, assembly, \n",
    "                                    type=\"csv\",\n",
    "                                    columns=dataset_columns,\n",
    "                                    experiment_description=brief_dengue_dataset_description)\n",
    "    print(dataset.name)\n",
    "    dataset_ids.append(dataset.object_id)\n",
    " "
   ]
  }
 ],
 "metadata": {
  "kernelspec": {
   "display_name": "base",
   "language": "python",
   "name": "python3"
  },
  "language_info": {
   "codemirror_mode": {
    "name": "ipython",
    "version": 3
   },
   "file_extension": ".py",
   "mimetype": "text/x-python",
   "name": "python",
   "nbconvert_exporter": "python",
   "pygments_lexer": "ipython3",
   "version": "3.11.8"
  }
 },
 "nbformat": 4,
 "nbformat_minor": 2
}
