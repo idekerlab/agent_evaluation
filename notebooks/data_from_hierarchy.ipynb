{
 "cells": [
  {
   "cell_type": "markdown",
   "metadata": {},
   "source": [
    "## Creating Datasets from the Dengue Hierarchy and interactome.\n",
    "- The goal is to generate datasets in various formats based on the assemblies in a hierarchical model.\n",
    "- This involves:\n",
    "    - filtering the assemblies on assembly names, min size, and max size\n",
    "    - filtering the data by columns and by row values\n",
    "    - changing column names\n",
    "    - generating/adding experiment, assembly, and content descriptions\n",
    "    - cleaning the data, such as non-numeric values\n",
    "    - limiting the precision of numeric values\n",
    "    - optionaly saving the datasets to the database\n",
    "    - optionally adding interaction data\n",
    "    - optionally adding information from other sources, such as genecards\n",
    "- The Dengue data is on the STRING+diffusion based interactome\n",
    "- We can also get the data directly from the dengue_with_uniprot.csv\n",
    "- Laura Martin-Sancho is most interested in the assemblies listed in the interesting_dengue_communities.xlsx spreadsheet"
   ]
  },
  {
   "cell_type": "code",
   "execution_count": 12,
   "metadata": {},
   "outputs": [
    {
     "name": "stdout",
     "output_type": "stream",
     "text": [
      "/Users/idekeradmin/Dropbox/GitHub/agent_evaluation/notebooks\n",
      "/Users/idekeradmin/Dropbox/GitHub/agent_evaluation\n",
      "['/Users/idekeradmin/Dropbox/GitHub/agent_evaluation/notebooks', '/opt/anaconda3/lib/python311.zip', '/opt/anaconda3/lib/python3.11', '/opt/anaconda3/lib/python3.11/lib-dynload', '', '/Users/idekeradmin/.local/lib/python3.11/site-packages', '/opt/anaconda3/lib/python3.11/site-packages', '/opt/anaconda3/lib/python3.11/site-packages/aeosa', '/Users/idekeradmin/Dropbox/GitHub/agent_evaluation', '/Users/idekeradmin/Dropbox/GitHub/agent_evaluation']\n"
     ]
    }
   ],
   "source": [
    "import sys\n",
    "import os\n",
    "\n",
    "# Add the parent directory of the current script to the Python path\n",
    "cwd = os.getcwd()\n",
    "dirname = os.path.dirname(cwd)\n",
    "print(cwd)\n",
    "print(dirname)\n",
    "sys.path.append(dirname)\n",
    "\n",
    "print(sys.path)\n",
    "\n",
    "from models.analysis_plan import AnalysisPlan\n",
    "from services.analysisrunner import AnalysisRunner\n",
    "from models.review_plan import ReviewPlan\n",
    "from services.reviewrunner import ReviewRunner\n",
    "from app.sqlite_database import SqliteDatabase\n",
    "from app.config import load_database_config\n",
    "\n",
    "# Load the db connection details\n",
    "# db_type, uri, user, password = load_database_config(path='~/ae_config/test_config.ini')\n",
    "# self.db = Database(uri, db_type, user, password)\n",
    "\n",
    "_, database_uri, _, _ = load_database_config()\n",
    "db = SqliteDatabase(database_uri)"
   ]
  },
  {
   "cell_type": "code",
   "execution_count": 13,
   "metadata": {},
   "outputs": [],
   "source": [
    "\n",
    "\n",
    "dengue_column_name_mapping ={}"
   ]
  },
  {
   "cell_type": "markdown",
   "metadata": {},
   "source": [
    "## Get the assemblies of interest"
   ]
  },
  {
   "cell_type": "code",
   "execution_count": 14,
   "metadata": {},
   "outputs": [],
   "source": [
    "import pandas as pd\n",
    "cwd = os.getcwd()\n",
    "dirname = os.path.dirname(cwd)\n",
    "assembly_spreadsheet_filename = \"interesting_dengue_communities.xlsx\"\n",
    "top_20_assembly_names_df = pd.read_excel(os.path.join(dirname, \n",
    "                                                      \"files\", \n",
    "                                                      assembly_spreadsheet_filename),\n",
    "                                                      sheet_name=0)\n",
    "top_10_assembly_names_df = pd.read_excel(os.path.join(dirname, \n",
    "                                                      \"files\", \n",
    "                                                      assembly_spreadsheet_filename),\n",
    "                                                      sheet_name=1)"
   ]
  },
  {
   "cell_type": "markdown",
   "metadata": {},
   "source": [
    "## Get the model and the interactome from NDEx in CX2"
   ]
  },
  {
   "cell_type": "code",
   "execution_count": 15,
   "metadata": {},
   "outputs": [
    {
     "name": "stdout",
     "output_type": "stream",
     "text": [
      "Name: Dengue model - hidef string 12.0 0.7 (GPT-4 annotated) - L2R\n",
      "Number of nodes: 203\n",
      "Number of nodes: 249\n",
      "Name: dengue string 12.0 0.7\n",
      "Number of nodes: 1375\n",
      "Number of nodes: 2792\n"
     ]
    }
   ],
   "source": [
    "from models.hierarchy import Hierarchy\n",
    "import json\n",
    "import ndex2 \n",
    "from ndex2.cx2 import RawCX2NetworkFactory\n",
    "\n",
    "# Create NDEx2 python client\n",
    "client = ndex2.client.Ndex2()\n",
    "\n",
    "# Create CX2Network factory\n",
    "factory = RawCX2NetworkFactory()\n",
    "\n",
    "# Download BioGRID: Protein-Protein Interactions (SARS-CoV) from NDEx\n",
    "# https://www.ndexbio.org/viewer/networks/669f30a3-cee6-11ea-aaef-0ac135e8bacf\n",
    "# client_resp = client.get_network_as_cx2_stream('669f30a3-cee6-11ea-aaef-0ac135e8bacf')\n",
    "\n",
    "# Dengue string interactome network c223d6db-b0e2-11ee-8a13-005056ae23aa\n",
    "client_resp = client.get_network_as_cx2_stream('c223d6db-b0e2-11ee-8a13-005056ae23aa')\n",
    "\n",
    "# Convert downloaded interactome network to CX2Network object\n",
    "interactome = factory.get_cx2network(json.loads(client_resp.content))\n",
    "\n",
    "# Dengue hierarchy\n",
    "# https://www.ndexbio.org/viewer/networks/59bbb9f1-e029-11ee-9621-005056ae23aa\n",
    "client_resp = client.get_network_as_cx2_stream('59bbb9f1-e029-11ee-9621-005056ae23aa')\n",
    "\n",
    "# Convert downloaded interactome network to CX2Network object\n",
    "hierarchy = factory.get_cx2network(json.loads(client_resp.content))\n",
    "\n",
    "# Display information about the hierarchy network and output 1st 100 characters of CX2\n",
    "print('Name: ' + hierarchy.get_name())\n",
    "print('Number of nodes: ' + str(len(hierarchy.get_nodes())))\n",
    "print('Number of nodes: ' + str(len(hierarchy.get_edges())))\n",
    "\n",
    "# Display information about the interactome network \n",
    "print('Name: ' + interactome.get_name())\n",
    "print('Number of nodes: ' + str(len(interactome.get_nodes())))\n",
    "print('Number of nodes: ' + str(len(interactome.get_edges())))\n",
    "\n",
    "# this is brief so that it will help keep the context small for fast operation.\n",
    "brief_dengue_dataset_description = \"\"\"\n",
    "The dataset includes the following for genes/proteins: \n",
    "\n",
    "\"binds\": Dengue virus proteins bound to the human protein\n",
    "\"knockdown_inhbits\": 1 = siRNA knockdown inhibits dengue virus infection, 2 = no effect\n",
    "\n",
    "rna and protein expression changes following dengue virus infection:\n",
    "\"protein_logFC_24h\"\n",
    "\"protein_log2FC_48h\"\n",
    "\"rna_logFC_24h\"\n",
    "\"rna_log2FC_48h\"\n",
    "\"\"\"\n",
    "      \n",
    "hierarchy.add_network_attribute(\"experiment_description\", brief_dengue_dataset_description)\n"
   ]
  },
  {
   "cell_type": "markdown",
   "metadata": {},
   "source": [
    "## Preview the data columns"
   ]
  },
  {
   "cell_type": "code",
   "execution_count": 16,
   "metadata": {},
   "outputs": [
    {
     "data": {
      "text/plain": [
       "{'GeneID': 'GeneID',\n",
       " 'UniprotID': 'UniprotID',\n",
       " 'GeneSymbol': 'GeneSymbol',\n",
       " 'siRNA_GeneSymbol': 'siRNA_GeneSymbol',\n",
       " 'DV3_24h-Mock_24h': 'DV3_24h-Mock_24h',\n",
       " 'DV3_48h-Mock_48h': 'DV3_48h-Mock_48h',\n",
       " 'siRNA_Screen_Average_Zscore': 'siRNA_Screen_Average_Zscore',\n",
       " 'log2FC': 'log2FC',\n",
       " 'Condition': 'Condition',\n",
       " 'GeneSymbol_48hpi': 'GeneSymbol_48hpi',\n",
       " 'log2FC_48hpi': 'log2FC_48hpi',\n",
       " 'Condition_48hpi': 'Condition_48hpi',\n",
       " 'dengue_protein_list': 'dengue_protein_list',\n",
       " 'dengue_MiST_list': 'dengue_MiST_list',\n",
       " 'PPI_GeneSymbol': 'PPI_GeneSymbol',\n",
       " 'viral_interaction': 'viral_interaction',\n",
       " 'has_siRNA': 'has_siRNA',\n",
       " 'has_protein_24hr': 'has_protein_24hr',\n",
       " 'has_protein_48hr': 'has_protein_48hr',\n",
       " 'has_rnaSeq_24hr': 'has_rnaSeq_24hr',\n",
       " 'has_rnaSeq_48hr': 'has_rnaSeq_48hr',\n",
       " 'UniProtID': 'UniProtID',\n",
       " 'HGNC': 'HGNC'}"
      ]
     },
     "execution_count": 16,
     "metadata": {},
     "output_type": "execute_result"
    }
   ],
   "source": [
    "# csv_path = os.path.join(dirname, \"files\", \"dengue_with_uniprot.csv\")\n",
    "# data = pd.read_csv(csv_path)\n",
    "\n",
    "excel_path = os.path.join(dirname, \"files\", \"dengue_with_uniprot_full.xlsx\")\n",
    "data = pd.read_excel(excel_path)\n",
    "\n",
    "# data.columns.to_list()\n",
    "column_dict = {}\n",
    "for column in data.columns:\n",
    "    column_dict[column] = column\n",
    "column_dict"
   ]
  },
  {
   "cell_type": "markdown",
   "metadata": {},
   "source": [
    "## Make the Hierarchy object and annotate it with data\n",
    "- Select the columns and optionally rename them\n",
    "- Only annotate those selected by the optional filter, based on name and size range\n",
    "- Optionally reduce the precision of floats\n"
   ]
  },
  {
   "cell_type": "code",
   "execution_count": 17,
   "metadata": {},
   "outputs": [
    {
     "name": "stdout",
     "output_type": "stream",
     "text": [
      "{'GeneID': 'GeneID', 'DV3_24h-Mock_24h': 'rna_log2FC-24h', 'DV3_48h-Mock_48h': 'rna_log2FC_48h', 'log2FC': 'protein_log2FC_24h', 'log2FC_48hpi': 'protein_log2FC_48h', 'dengue_protein_list': 'binds', 'has_siRNA': 'knockdown_inhibits', 'HGNC': 'GeneSymbol'}\n",
      "mapped key column GeneSymbol is not in data row {'GeneID': 440519, 'protein_log2FC_48h': -2.47, 'knockdown_inhibits': 0, 'GeneSymbol': 'ZNF724'}\n",
      "mapped key column GeneSymbol is not in data row {'GeneID': 440519, 'protein_log2FC_48h': -2.47, 'knockdown_inhibits': 0, 'GeneSymbol': 'ZNF724'}\n",
      "mapped key column GeneSymbol is not in data row {'GeneID': 440519, 'protein_log2FC_48h': -2.47, 'knockdown_inhibits': 0, 'GeneSymbol': 'ZNF724'}\n",
      "mapped key column GeneSymbol is not in data row {'GeneID': 440519, 'protein_log2FC_48h': -2.47, 'knockdown_inhibits': 0, 'GeneSymbol': 'ZNF724'}\n",
      "mapped key column GeneSymbol is not in data row {'GeneID': 440519, 'protein_log2FC_48h': -2.47, 'knockdown_inhibits': 0, 'GeneSymbol': 'ZNF724'}\n",
      "mapped key column GeneSymbol is not in data row {'GeneID': 440519, 'protein_log2FC_48h': -2.47, 'knockdown_inhibits': 0, 'GeneSymbol': 'ZNF724'}\n",
      "mapped key column GeneSymbol is not in data row {'GeneID': 440519, 'protein_log2FC_48h': -2.47, 'knockdown_inhibits': 0, 'GeneSymbol': 'ZNF724'}\n",
      "mapped key column GeneSymbol is not in data row {'GeneID': 440519, 'protein_log2FC_48h': -2.47, 'knockdown_inhibits': 0, 'GeneSymbol': 'ZNF724'}\n",
      "mapped key column GeneSymbol is not in data row {'GeneID': 440519, 'protein_log2FC_48h': -2.47, 'knockdown_inhibits': 0, 'GeneSymbol': 'ZNF724'}\n",
      "mapped key column GeneSymbol is not in data row {'GeneID': 440519, 'protein_log2FC_48h': -2.47, 'knockdown_inhibits': 0, 'GeneSymbol': 'ZNF724'}\n"
     ]
    },
    {
     "data": {
      "text/plain": [
       "{'id': 5971062,\n",
       " 'v': {'CD_Labeled': True,\n",
       "  'CD_AnnotatedAlgorithm': 'Annotated by gProfiler [Docker: coleslawndex/cdgprofilergenestoterm:0.3.0] {{--organism=hsapiens, --maxpval=0.00001, --minoverlap=0.05, --maxgenelistsize=5000}} via CyCommunityDetection Cytoscape App (1.10.0-SNAPSHOT)',\n",
       "  'name': 'C4493683',\n",
       "  'CommunityDetectionTally::viral_interaction': 1,\n",
       "  'CD_AnnotatedMembers_Pvalue': 7.71565013380798e-21,\n",
       "  'CD_AnnotatedMembers_Size': 11,\n",
       "  'CD_AnnotatedMembers_Overlap': 0.091,\n",
       "  'CommunityDetectionTally::has_protein_24hr': 0,\n",
       "  'CD_MemberList_LogSize': 5.459,\n",
       "  'CommunityDetectionTally::has_protein_48hr': 2,\n",
       "  'CommunityDetectionTally::has_siRNA': 19,\n",
       "  'CD_MemberList': 'BMP2 CAV1 CLDN5 COL15A1 COL6A2 COL6A5 DCC DMP1 ESPNL F13A1 FLNA FSTL1 IGFBP7 ITGA11 ITGA2 ITGA9 ITGAD ITGB3 ITGB8 LAMA3 LAMC2 MSN MSX1 NBL1 NCF1 NEO1 OSR2 PF4V1 PHEX PLS1 PTPN13 RND3 SAT1 SELP SERPINH1 SMAD6 SNX17 SPARC STAB1 STOM SYNPO2 UNC5C VCAM1 VWF',\n",
       "  'LLM Name': 'Extracellular Matrix Organization and Cell Adhesion in Response to Viral Infection (0.85)',\n",
       "  'CommunityDetectionTally::Unmatched': 0,\n",
       "  'CD_AnnotatedMembers': 'COL6A2 COL6A5 DMP1 ITGA11 ITGA2 ITGA9 ITGB3 ITGB8 LAMA3 LAMC2 VWF',\n",
       "  'CD_CommunityName': 'ECM-receptor interaction',\n",
       "  'HiDeF_persistence': 14,\n",
       "  'CD_AnnotatedMembers_SourceTerm': 'KEGG:04512',\n",
       "  'CommunityDetectionTally::has_rnaSeq_48hr': 25,\n",
       "  'CommunityDetectionTally::has_rnaSeq_24hr': 3,\n",
       "  'LLM Analysis': '1. BMP2 (Bone Morphogenetic Protein 2) is involved in the regulation of cell growth and differentiation in both embryonic and adult tissues. It has roles in bone formation and may also play a role in the immune response to viral infections.\\n\\n2. CAV1 (Caveolin 1) is implicated in the regulation of endocytosis and signal transduction pathways, which can be hijacked by viruses to enter cells or propagate signals during infection.\\n\\n3. CLDN5 (Claudin 5) is a component of tight junctions, which are crucial for maintaining cell polarity and barrier function. Viral infections can disrupt tight junctions, affecting vascular permeability and inflammation.\\n\\n4. COL15A1, COL6A2, and COL6A5 are collagen proteins that contribute to the structural integrity of the extracellular matrix (ECM). The ECM can be remodeled during viral infections, affecting tissue repair and the immune response.\\n\\n5. DCC (Deleted in Colorectal Carcinoma) is involved in cell adhesion and migration. Viral infections can alter cell migration, potentially aiding in the spread of infection.\\n\\n6. DMP1 (Dentin Matrix Protein 1) is involved in bone mineralization and may have a role in the immune response to pathogens.\\n\\n7. ESPNL (Espin-like) is associated with actin cytoskeleton organization, which can be targeted by viruses to facilitate their replication and spread.\\n\\n8. F13A1 (Coagulation Factor XIII A Chain) is involved in blood clotting, which can be affected during severe viral infections, leading to coagulopathies.\\n\\n9. FLNA (Filamin A) is an actin-binding protein involved in cell shape and migration, processes that can be manipulated by viruses during infection.\\n\\n10. FSTL1 (Follistatin-like 1) is involved in inflammation and immune responses, which are critical during viral infections.\\n\\n11. IGFBP7 (Insulin-like Growth Factor Binding Protein 7) modulates cell growth and can be involved in the cellular response to viral infection.\\n\\n12. Integrins (ITGA11, ITGA2, ITGA9, ITGAD, ITGB3, ITGB8) are cell surface receptors that mediate cell-ECM and cell-cell adhesions. They can be involved in viral entry, spread, and the immune response.\\n\\n13. Laminins (LAMA3, LAMC2) are major components of the basal lamina and are involved in cell differentiation, migration, and adhesion. Viral infections can disrupt the basal lamina, affecting tissue integrity.\\n\\n14. MSN (Moesin) is involved in linking the actin cytoskeleton to the plasma membrane, which can be exploited by viruses for cell entry or release.\\n\\n15. NCF1 (Neutrophil Cytosolic Factor 1) is part of the NADPH oxidase complex and plays a role in the respiratory burst, an important aspect of the innate immune response to pathogens.\\n\\n16. SPARC (Secreted Protein Acidic and Rich in Cysteine) is involved in ECM assembly and can modulate the immune response, which is crucial during viral infections.\\n\\n17. VCAM1 (Vascular Cell Adhesion Molecule 1) and SELP (Selectin P) are involved in leukocyte trafficking and endothelial cell interactions, which are important for the immune response to viral infections.\\n\\n18. VWF (von Willebrand Factor) is involved in blood coagulation, which can be affected by severe viral infections.\\n\\nTo summarize, the proteins in this system are predominantly involved in the organization of the extracellular matrix and cell adhesion, with several proteins also playing roles in the immune response and inflammation, which are critical during viral infections such as Dengue fever. The system suggests a coordinated response to maintain tissue integrity and facilitate an immune response during viral infection, particularly with respect to endothelial function and leukocyte trafficking, which are known to be affected in Dengue virus infection.',\n",
       "  'CD_MemberList_Size': 44,\n",
       "  'CD_NonAnnotatedMembers': 'BMP2 CAV1 CLDN5 COL15A1 DCC ESPNL F13A1 FLNA FSTL1 IGFBP7 ITGAD MSN MSX1 NBL1 NCF1 NEO1 OSR2 PF4V1 PHEX PLS1 PTPN13 RND3 SAT1 SELP SERPINH1 SMAD6 SNX17 SPARC STAB1 STOM SYNPO2 UNC5C VCAM1',\n",
       "  'CD_AnnotatedMembers_SourceDB': 'KEGG',\n",
       "  'data': '{\"STOM\": {\"GeneID\": 2040, \"rna_log2FC_48h\": 1.88, \"protein_log2FC_48h\": 2.08, \"binds\": \"DENV2 16681 NS4A,ZIKVfp NS4A,ZIKVug NS4A\", \"knockdown_inhibits\": 0, \"GeneSymbol\": \"STOM\"}, \"SERPINH1\": {\"GeneID\": 871, \"rna_log2FC_48h\": 1.07, \"knockdown_inhibits\": 0, \"GeneSymbol\": \"SERPINH1\"}, \"CLDN5\": {\"GeneID\": 7122, \"knockdown_inhibits\": 1, \"GeneSymbol\": \"CLDN5\"}, \"COL15A1\": {\"GeneID\": 1306, \"knockdown_inhibits\": 1, \"GeneSymbol\": \"COL15A1\"}, \"DCC\": {\"GeneID\": 1630, \"knockdown_inhibits\": 1, \"GeneSymbol\": \"DCC\"}, \"COL6A5\": {\"GeneID\": 256076, \"knockdown_inhibits\": 1, \"GeneSymbol\": \"COL6A5\"}, \"IGFBP7\": {\"GeneID\": 3490, \"knockdown_inhibits\": 1, \"GeneSymbol\": \"IGFBP7\"}, \"ITGA11\": {\"GeneID\": 22801, \"knockdown_inhibits\": 1, \"GeneSymbol\": \"ITGA11\"}, \"ITGAD\": {\"GeneID\": 3681, \"knockdown_inhibits\": 1, \"GeneSymbol\": \"ITGAD\"}, \"LAMC2\": {\"GeneID\": 3918, \"knockdown_inhibits\": 1, \"GeneSymbol\": \"LAMC2\"}, \"MSN\": {\"GeneID\": 4478, \"knockdown_inhibits\": 1, \"GeneSymbol\": \"MSN\"}, \"MSX1\": {\"GeneID\": 4487, \"knockdown_inhibits\": 1, \"GeneSymbol\": \"MSX1\"}, \"NBL1\": {\"GeneID\": 4681, \"knockdown_inhibits\": 1, \"GeneSymbol\": \"NBL1\"}, \"NEO1\": {\"GeneID\": 4756, \"knockdown_inhibits\": 1, \"GeneSymbol\": \"NEO1\"}, \"PF4V1\": {\"GeneID\": 5197, \"knockdown_inhibits\": 1, \"GeneSymbol\": \"PF4V1\"}, \"PHEX\": {\"GeneID\": 5251, \"knockdown_inhibits\": 1, \"GeneSymbol\": \"PHEX\"}, \"PLS1\": {\"GeneID\": 5357, \"protein_log2FC_48h\": -2.11, \"knockdown_inhibits\": 1, \"GeneSymbol\": \"PLS1\"}, \"SELP\": {\"GeneID\": 6403, \"knockdown_inhibits\": 1, \"GeneSymbol\": \"SELP\"}, \"SMAD6\": {\"GeneID\": 4091, \"knockdown_inhibits\": 1, \"GeneSymbol\": \"SMAD6\"}, \"SNX17\": {\"GeneID\": 9784, \"knockdown_inhibits\": 1, \"GeneSymbol\": \"SNX17\"}, \"SYNPO2\": {\"GeneID\": 171024, \"protein_log2FC_48h\": 5.0, \"knockdown_inhibits\": 1, \"GeneSymbol\": \"SYNPO2\"}, \"NCF1\": {\"GeneID\": 653361, \"protein_log2FC_24h\": 2.31, \"protein_log2FC_48h\": 3.27, \"knockdown_inhibits\": 0, \"GeneSymbol\": \"NCF1\"}, \"ESPNL\": {\"GeneID\": 339768, \"protein_log2FC_24h\": -2.47, \"knockdown_inhibits\": 0, \"GeneSymbol\": \"ESPNL\"}, \"OSR2\": {\"GeneID\": 116039, \"protein_log2FC_24h\": 5.19, \"protein_log2FC_48h\": 6.57, \"knockdown_inhibits\": 0, \"GeneSymbol\": \"OSR2\"}, \"BMP2\": {\"GeneID\": 650, \"protein_log2FC_48h\": 3.92, \"knockdown_inhibits\": 0, \"GeneSymbol\": \"BMP2\"}, \"CAV1\": {\"GeneID\": 857, \"protein_log2FC_48h\": 2.86, \"knockdown_inhibits\": 0, \"GeneSymbol\": \"CAV1\"}, \"COL6A2\": {\"GeneID\": 1292, \"protein_log2FC_48h\": -2.5, \"knockdown_inhibits\": 0, \"GeneSymbol\": \"COL6A2\"}, \"DMP1\": {\"GeneID\": 1758, \"protein_log2FC_48h\": -2.17, \"knockdown_inhibits\": 0, \"GeneSymbol\": \"DMP1\"}, \"F13A1\": {\"GeneID\": 2162, \"protein_log2FC_48h\": -3.49, \"knockdown_inhibits\": 0, \"GeneSymbol\": \"F13A1\"}, \"FLNA\": {\"GeneID\": 2316, \"protein_log2FC_48h\": -2.59, \"knockdown_inhibits\": 0, \"GeneSymbol\": \"FLNA\"}, \"FSTL1\": {\"GeneID\": 11167, \"protein_log2FC_48h\": 2.42, \"knockdown_inhibits\": 0, \"GeneSymbol\": \"FSTL1\"}, \"ITGA2\": {\"GeneID\": 3673, \"protein_log2FC_48h\": 2.59, \"knockdown_inhibits\": 0, \"GeneSymbol\": \"ITGA2\"}, \"ITGA9\": {\"GeneID\": 3680, \"protein_log2FC_48h\": -2.52, \"knockdown_inhibits\": 0, \"GeneSymbol\": \"ITGA9\"}, \"ITGB3\": {\"GeneID\": 3690, \"protein_log2FC_48h\": -2.05, \"knockdown_inhibits\": 0, \"GeneSymbol\": \"ITGB3\"}, \"ITGB8\": {\"GeneID\": 3696, \"protein_log2FC_48h\": 3.11, \"knockdown_inhibits\": 0, \"GeneSymbol\": \"ITGB8\"}, \"LAMA3\": {\"GeneID\": 3909, \"protein_log2FC_48h\": 3.12, \"knockdown_inhibits\": 0, \"GeneSymbol\": \"LAMA3\"}, \"PTPN13\": {\"GeneID\": 5783, \"protein_log2FC_48h\": -2.11, \"knockdown_inhibits\": 0, \"GeneSymbol\": \"PTPN13\"}, \"RND3\": {\"GeneID\": 390, \"protein_log2FC_48h\": 3.33, \"knockdown_inhibits\": 0, \"GeneSymbol\": \"RND3\"}, \"SAT1\": {\"GeneID\": 6303, \"protein_log2FC_48h\": 2.02, \"knockdown_inhibits\": 0, \"GeneSymbol\": \"SAT1\"}, \"SPARC\": {\"GeneID\": 6678, \"protein_log2FC_48h\": -2.27, \"knockdown_inhibits\": 0, \"GeneSymbol\": \"SPARC\"}, \"STAB1\": {\"GeneID\": 23166, \"protein_log2FC_48h\": -2.82, \"knockdown_inhibits\": 0, \"GeneSymbol\": \"STAB1\"}, \"UNC5C\": {\"GeneID\": 8633, \"protein_log2FC_48h\": 4.01, \"knockdown_inhibits\": 0, \"GeneSymbol\": \"UNC5C\"}, \"VCAM1\": {\"GeneID\": 7412, \"protein_log2FC_48h\": 2.34, \"knockdown_inhibits\": 0, \"GeneSymbol\": \"VCAM1\"}, \"VWF\": {\"GeneID\": 7450, \"protein_log2FC_48h\": -3.17, \"knockdown_inhibits\": 0, \"GeneSymbol\": \"VWF\"}}'},\n",
       " 'x': 912.0124613997759,\n",
       " 'y': 28.82337234291481,\n",
       " 'z': None}"
      ]
     },
     "execution_count": 17,
     "metadata": {},
     "output_type": "execute_result"
    }
   ],
   "source": [
    "import os\n",
    "\n",
    "dengue_hierarchy = Hierarchy(hierarchy, interactome)\n",
    "\n",
    "# csv_path = os.path.join(dirname, \"files\", \"dengue_with_uniprot.csv\")\n",
    "excel_path = os.path.join(dirname, \"files\", \"dengue_with_uniprot_full.xlsx\")\n",
    "\n",
    "assembly_list = top_10_assembly_names_df[\"Community\"].to_list()\n",
    "\n",
    "data_columns = columns={'GeneID': 'GeneID',\n",
    "                        # 'UniprotID': 'UniprotID',\n",
    "                        # 'GeneSymbol': 'GeneSymbol',\n",
    "                        # 'siRNA_GeneSymbol': 'siRNA_GeneSymbol',\n",
    "                        'DV3_24h-Mock_24h': 'rna_log2FC-24h',\n",
    "                        'DV3_48h-Mock_48h': 'rna_log2FC_48h',\n",
    "                        # 'siRNA_Screen_Average_Zscore': 'siRNA_Screen_Average_Zscore',\n",
    "                        'log2FC': 'protein_log2FC_24h',\n",
    "                        #'Condition': 'Condition',\n",
    "                        # 'GeneSymbol_48hpi': 'GeneSymbol_48hpi',\n",
    "                        'log2FC_48hpi': 'protein_log2FC_48h',\n",
    "                        # 'Condition_48hpi': 'Condition_48hpi',\n",
    "                        'dengue_protein_list': 'binds',\n",
    "                        # 'dengue_MiST_list': 'dengue_MiST_list',\n",
    "                        # 'PPI_GeneSymbol': 'PPI_GeneSymbol',\n",
    "                        # 'viral_interaction': 'viral_interaction',\n",
    "                        'has_siRNA': 'knockdown_inhibits',\n",
    "                        # 'has_protein_24hr': 'has_protein_24hr',\n",
    "                        # 'has_protein_48hr': 'has_protein_48hr',\n",
    "                        # 'has_rnaSeq_24hr': 'has_rnaSeq_24hr',\n",
    "                        # 'has_rnaSeq_48hr': 'has_rnaSeq_48hr',\n",
    "                        # 'UniProtID': 'UniProtID',\n",
    "                        'HGNC': 'GeneSymbol'}\n",
    "\n",
    "print(data_columns)\n",
    "# add_data_from_file(self, file_path, key_column='name', columns=None, filter=None, sheet_name=0, delimiter=None):\n",
    "dengue_assemblies = dengue_hierarchy.add_data_from_file(excel_path,\n",
    "                                                 key_column=\"HGNC\",\n",
    "                                                 filter={\"names\": assembly_list},\n",
    "                                                 columns=data_columns,\n",
    "                                                 decimal_places=2)\n",
    "\n",
    "dengue_assemblies[0]"
   ]
  },
  {
   "cell_type": "markdown",
   "metadata": {},
   "source": [
    "## Generate Datasets for a list of assemblies\n",
    "- optionally selecting columns\n",
    "- get a list of their ids to use elsewhere"
   ]
  },
  {
   "cell_type": "code",
   "execution_count": null,
   "metadata": {},
   "outputs": [],
   "source": []
  },
  {
   "cell_type": "code",
   "execution_count": 18,
   "metadata": {},
   "outputs": [
    {
     "name": "stdout",
     "output_type": "stream",
     "text": [
      "\"Extracellular Matrix Organization and Cell Adhesion in Response to Viral Infection\"\n",
      "\"Extracellular Matrix Organization and Cell Adhesion in Response to Viral Infection\"\n",
      "\"Urea cycle and redox homeostasis\"\n",
      "\"DNA Repair and Maintenance in Response to Viral Infection\"\n",
      "\"RAS Pathway Modulation and Apoptosis Regulation\"\n",
      "\"Oxidative Stress Response and Protein Quality Control in Neurodegeneration\"\n",
      "\"RNA Metabolism and Viral Defense Mechanism\"\n",
      "\"Kynurenine Pathway Modulation and Immune Response Regulation\"\n",
      "\"RNA Metabolism and Modification in Viral Infection\"\n",
      "\"Endothelial Barrier Function and Viral Entry Modulation\"\n"
     ]
    }
   ],
   "source": [
    "from models.hierarchy import dataset_from_assembly\n",
    "\n",
    "dataset_ids = []\n",
    "\n",
    "for assembly in dengue_assemblies:\n",
    "    dataset = dataset_from_assembly(db, assembly, experiment_description=brief_dengue_dataset_description)\n",
    "    print(dataset.name)\n",
    "    dataset_ids.append(dataset.object_id)\n",
    " "
   ]
  },
  {
   "cell_type": "code",
   "execution_count": 19,
   "metadata": {},
   "outputs": [
    {
     "name": "stdout",
     "output_type": "stream",
     "text": [
      "C4493683\n",
      "--LLM-> Extracellular Matrix Organization and Cell Adhesion in Response to Viral Infection (0.85)\n",
      "--ENR-> ECM-receptor interaction\n",
      "{\"STOM\": {\"GeneID\": 2040, \"rna_log2FC_48h\": 1.88, \"protein_log2FC_48h\": 2.08, \"binds\": \"DENV2 16681 NS4A,ZIKVfp NS4A,ZIKVug NS4A\", \"knockdown_inhibits\": 0, \"GeneSymbol\": \"STOM\"}, \"SERPINH1\": {\"GeneID\": 871, \"rna_log2FC_48h\": 1.07, \"knockdown_inhibits\": 0, \"GeneSymbol\": \"SERPINH1\"}, \"CLDN5\": {\"GeneID\": 7122, \"knockdown_inhibits\": 1, \"GeneSymbol\": \"CLDN5\"}, \"COL15A1\": {\"GeneID\": 1306, \"knockdown_inhibits\": 1, \"GeneSymbol\": \"COL15A1\"}, \"DCC\": {\"GeneID\": 1630, \"knockdown_inhibits\": 1, \"GeneSymbol\": \"DCC\"}, \"COL6A5\": {\"GeneID\": 256076, \"knockdown_inhibits\": 1, \"GeneSymbol\": \"COL6A5\"}, \"IGFBP7\": {\"GeneID\": 3490, \"knockdown_inhibits\": 1, \"GeneSymbol\": \"IGFBP7\"}, \"ITGA11\": {\"GeneID\": 22801, \"knockdown_inhibits\": 1, \"GeneSymbol\": \"ITGA11\"}, \"ITGAD\": {\"GeneID\": 3681, \"knockdown_inhibits\": 1, \"GeneSymbol\": \"ITGAD\"}, \"LAMC2\": {\"GeneID\": 3918, \"knockdown_inhibits\": 1, \"GeneSymbol\": \"LAMC2\"}, \"MSN\": {\"GeneID\": 4478, \"knockdown_inhibits\": 1, \"GeneSymbol\": \"MSN\"}, \"MSX1\": {\"GeneID\": 4487, \"knockdown_inhibits\": 1, \"GeneSymbol\": \"MSX1\"}, \"NBL1\": {\"GeneID\": 4681, \"knockdown_inhibits\": 1, \"GeneSymbol\": \"NBL1\"}, \"NEO1\": {\"GeneID\": 4756, \"knockdown_inhibits\": 1, \"GeneSymbol\": \"NEO1\"}, \"PF4V1\": {\"GeneID\": 5197, \"knockdown_inhibits\": 1, \"GeneSymbol\": \"PF4V1\"}, \"PHEX\": {\"GeneID\": 5251, \"knockdown_inhibits\": 1, \"GeneSymbol\": \"PHEX\"}, \"PLS1\": {\"GeneID\": 5357, \"protein_log2FC_48h\": -2.11, \"knockdown_inhibits\": 1, \"GeneSymbol\": \"PLS1\"}, \"SELP\": {\"GeneID\": 6403, \"knockdown_inhibits\": 1, \"GeneSymbol\": \"SELP\"}, \"SMAD6\": {\"GeneID\": 4091, \"knockdown_inhibits\": 1, \"GeneSymbol\": \"SMAD6\"}, \"SNX17\": {\"GeneID\": 9784, \"knockdown_inhibits\": 1, \"GeneSymbol\": \"SNX17\"}, \"SYNPO2\": {\"GeneID\": 171024, \"protein_log2FC_48h\": 5.0, \"knockdown_inhibits\": 1, \"GeneSymbol\": \"SYNPO2\"}, \"NCF1\": {\"GeneID\": 653361, \"protein_log2FC_24h\": 2.31, \"protein_log2FC_48h\": 3.27, \"knockdown_inhibits\": 0, \"GeneSymbol\": \"NCF1\"}, \"ESPNL\": {\"GeneID\": 339768, \"protein_log2FC_24h\": -2.47, \"knockdown_inhibits\": 0, \"GeneSymbol\": \"ESPNL\"}, \"OSR2\": {\"GeneID\": 116039, \"protein_log2FC_24h\": 5.19, \"protein_log2FC_48h\": 6.57, \"knockdown_inhibits\": 0, \"GeneSymbol\": \"OSR2\"}, \"BMP2\": {\"GeneID\": 650, \"protein_log2FC_48h\": 3.92, \"knockdown_inhibits\": 0, \"GeneSymbol\": \"BMP2\"}, \"CAV1\": {\"GeneID\": 857, \"protein_log2FC_48h\": 2.86, \"knockdown_inhibits\": 0, \"GeneSymbol\": \"CAV1\"}, \"COL6A2\": {\"GeneID\": 1292, \"protein_log2FC_48h\": -2.5, \"knockdown_inhibits\": 0, \"GeneSymbol\": \"COL6A2\"}, \"DMP1\": {\"GeneID\": 1758, \"protein_log2FC_48h\": -2.17, \"knockdown_inhibits\": 0, \"GeneSymbol\": \"DMP1\"}, \"F13A1\": {\"GeneID\": 2162, \"protein_log2FC_48h\": -3.49, \"knockdown_inhibits\": 0, \"GeneSymbol\": \"F13A1\"}, \"FLNA\": {\"GeneID\": 2316, \"protein_log2FC_48h\": -2.59, \"knockdown_inhibits\": 0, \"GeneSymbol\": \"FLNA\"}, \"FSTL1\": {\"GeneID\": 11167, \"protein_log2FC_48h\": 2.42, \"knockdown_inhibits\": 0, \"GeneSymbol\": \"FSTL1\"}, \"ITGA2\": {\"GeneID\": 3673, \"protein_log2FC_48h\": 2.59, \"knockdown_inhibits\": 0, \"GeneSymbol\": \"ITGA2\"}, \"ITGA9\": {\"GeneID\": 3680, \"protein_log2FC_48h\": -2.52, \"knockdown_inhibits\": 0, \"GeneSymbol\": \"ITGA9\"}, \"ITGB3\": {\"GeneID\": 3690, \"protein_log2FC_48h\": -2.05, \"knockdown_inhibits\": 0, \"GeneSymbol\": \"ITGB3\"}, \"ITGB8\": {\"GeneID\": 3696, \"protein_log2FC_48h\": 3.11, \"knockdown_inhibits\": 0, \"GeneSymbol\": \"ITGB8\"}, \"LAMA3\": {\"GeneID\": 3909, \"protein_log2FC_48h\": 3.12, \"knockdown_inhibits\": 0, \"GeneSymbol\": \"LAMA3\"}, \"PTPN13\": {\"GeneID\": 5783, \"protein_log2FC_48h\": -2.11, \"knockdown_inhibits\": 0, \"GeneSymbol\": \"PTPN13\"}, \"RND3\": {\"GeneID\": 390, \"protein_log2FC_48h\": 3.33, \"knockdown_inhibits\": 0, \"GeneSymbol\": \"RND3\"}, \"SAT1\": {\"GeneID\": 6303, \"protein_log2FC_48h\": 2.02, \"knockdown_inhibits\": 0, \"GeneSymbol\": \"SAT1\"}, \"SPARC\": {\"GeneID\": 6678, \"protein_log2FC_48h\": -2.27, \"knockdown_inhibits\": 0, \"GeneSymbol\": \"SPARC\"}, \"STAB1\": {\"GeneID\": 23166, \"protein_log2FC_48h\": -2.82, \"knockdown_inhibits\": 0, \"GeneSymbol\": \"STAB1\"}, \"UNC5C\": {\"GeneID\": 8633, \"protein_log2FC_48h\": 4.01, \"knockdown_inhibits\": 0, \"GeneSymbol\": \"UNC5C\"}, \"VCAM1\": {\"GeneID\": 7412, \"protein_log2FC_48h\": 2.34, \"knockdown_inhibits\": 0, \"GeneSymbol\": \"VCAM1\"}, \"VWF\": {\"GeneID\": 7450, \"protein_log2FC_48h\": -3.17, \"knockdown_inhibits\": 0, \"GeneSymbol\": \"VWF\"}}\n",
      "___________________________________________________________________\n",
      "C4493724\n",
      "--LLM-> Extracellular Matrix Organization and Cell Adhesion in Response to Viral Infection (0.85)\n",
      "--ENR-> integrin complex\n",
      "{\"SERPINH1\": {\"GeneID\": 871, \"rna_log2FC_48h\": 1.07, \"knockdown_inhibits\": 0, \"GeneSymbol\": \"SERPINH1\"}, \"COL15A1\": {\"GeneID\": 1306, \"knockdown_inhibits\": 1, \"GeneSymbol\": \"COL15A1\"}, \"COL6A5\": {\"GeneID\": 256076, \"knockdown_inhibits\": 1, \"GeneSymbol\": \"COL6A5\"}, \"ITGA11\": {\"GeneID\": 22801, \"knockdown_inhibits\": 1, \"GeneSymbol\": \"ITGA11\"}, \"LAMC2\": {\"GeneID\": 3918, \"knockdown_inhibits\": 1, \"GeneSymbol\": \"LAMC2\"}, \"PHEX\": {\"GeneID\": 5251, \"knockdown_inhibits\": 1, \"GeneSymbol\": \"PHEX\"}, \"SYNPO2\": {\"GeneID\": 171024, \"protein_log2FC_48h\": 5.0, \"knockdown_inhibits\": 1, \"GeneSymbol\": \"SYNPO2\"}, \"COL6A2\": {\"GeneID\": 1292, \"protein_log2FC_48h\": -2.5, \"knockdown_inhibits\": 0, \"GeneSymbol\": \"COL6A2\"}, \"DMP1\": {\"GeneID\": 1758, \"protein_log2FC_48h\": -2.17, \"knockdown_inhibits\": 0, \"GeneSymbol\": \"DMP1\"}, \"FLNA\": {\"GeneID\": 2316, \"protein_log2FC_48h\": -2.59, \"knockdown_inhibits\": 0, \"GeneSymbol\": \"FLNA\"}, \"ITGA2\": {\"GeneID\": 3673, \"protein_log2FC_48h\": 2.59, \"knockdown_inhibits\": 0, \"GeneSymbol\": \"ITGA2\"}, \"ITGA9\": {\"GeneID\": 3680, \"protein_log2FC_48h\": -2.52, \"knockdown_inhibits\": 0, \"GeneSymbol\": \"ITGA9\"}, \"ITGB3\": {\"GeneID\": 3690, \"protein_log2FC_48h\": -2.05, \"knockdown_inhibits\": 0, \"GeneSymbol\": \"ITGB3\"}, \"ITGB8\": {\"GeneID\": 3696, \"protein_log2FC_48h\": 3.11, \"knockdown_inhibits\": 0, \"GeneSymbol\": \"ITGB8\"}, \"LAMA3\": {\"GeneID\": 3909, \"protein_log2FC_48h\": 3.12, \"knockdown_inhibits\": 0, \"GeneSymbol\": \"LAMA3\"}, \"SAT1\": {\"GeneID\": 6303, \"protein_log2FC_48h\": 2.02, \"knockdown_inhibits\": 0, \"GeneSymbol\": \"SAT1\"}}\n",
      "___________________________________________________________________\n",
      "C4493744\n",
      "--LLM-> Urea cycle and redox homeostasis (0.85)\n",
      "--ENR-> Biomarkers for urea cycle disorders\n",
      "{\"IREB2\": {\"GeneID\": 3658, \"rna_log2FC_48h\": -1.86, \"knockdown_inhibits\": 0, \"GeneSymbol\": \"IREB2\"}, \"TXNRD2\": {\"GeneID\": 10587, \"rna_log2FC-24h\": 2.5, \"knockdown_inhibits\": 0, \"GeneSymbol\": \"TXNRD2\"}, \"ACY1\": {\"GeneID\": 95, \"protein_log2FC_48h\": -2.27, \"knockdown_inhibits\": 1, \"GeneSymbol\": \"ACY1\"}, \"ASS1\": {\"GeneID\": 445, \"knockdown_inhibits\": 1, \"GeneSymbol\": \"ASS1\"}, \"CS\": {\"GeneID\": 1431, \"knockdown_inhibits\": 1, \"GeneSymbol\": \"CS\"}, \"GOT1\": {\"GeneID\": 2805, \"knockdown_inhibits\": 1, \"GeneSymbol\": \"GOT1\"}, \"IL4I1\": {\"GeneID\": 259307, \"protein_log2FC_48h\": 2.15, \"knockdown_inhibits\": 1, \"GeneSymbol\": \"IL4I1\"}, \"LDHAL6A\": {\"GeneID\": 160287, \"knockdown_inhibits\": 1, \"GeneSymbol\": \"LDHAL6A\"}, \"MCCC1\": {\"GeneID\": 56922, \"knockdown_inhibits\": 1, \"GeneSymbol\": \"MCCC1\"}, \"OTC\": {\"GeneID\": 5009, \"knockdown_inhibits\": 1, \"GeneSymbol\": \"OTC\"}, \"LDHD\": {\"GeneID\": 197257, \"protein_log2FC_48h\": -2.72, \"knockdown_inhibits\": 0, \"GeneSymbol\": \"LDHD\"}, \"ME3\": {\"GeneID\": 10873, \"protein_log2FC_48h\": -2.86, \"knockdown_inhibits\": 0, \"GeneSymbol\": \"ME3\"}}\n",
      "___________________________________________________________________\n",
      "C4493759\n",
      "--LLM-> DNA Repair and Maintenance in Response to Viral Infection (0.92)\n",
      "--ENR-> Homologous recombination\n",
      "{\"ATRX\": {\"GeneID\": 546, \"knockdown_inhibits\": 1, \"GeneSymbol\": \"ATRX\"}, \"ERCC1\": {\"GeneID\": 2067, \"protein_log2FC_48h\": -2.25, \"knockdown_inhibits\": 1, \"GeneSymbol\": \"ERCC1\"}, \"FANCI\": {\"GeneID\": 55215, \"knockdown_inhibits\": 1, \"GeneSymbol\": \"FANCI\"}, \"RPA4\": {\"GeneID\": 29935, \"knockdown_inhibits\": 1, \"GeneSymbol\": \"RPA4\"}, \"LIG4\": {\"GeneID\": 3981, \"knockdown_inhibits\": 1, \"GeneSymbol\": \"LIG4\"}, \"RAD54B\": {\"GeneID\": 25788, \"knockdown_inhibits\": 1, \"GeneSymbol\": \"RAD54B\"}, \"BRIP1\": {\"GeneID\": 83990, \"protein_log2FC_24h\": 4.02, \"protein_log2FC_48h\": 4.6, \"knockdown_inhibits\": 0, \"GeneSymbol\": \"BRIP1\"}, \"BRCA2\": {\"GeneID\": 675, \"protein_log2FC_48h\": 2.82, \"binds\": \"ZIKVug NS3\", \"knockdown_inhibits\": 0, \"GeneSymbol\": \"BRCA2\"}, \"NBN\": {\"GeneID\": 4683, \"protein_log2FC_48h\": 2.54, \"knockdown_inhibits\": 0, \"GeneSymbol\": \"NBN\"}, \"RMI2\": {\"GeneID\": 116028, \"protein_log2FC_48h\": 3.75, \"knockdown_inhibits\": 0, \"GeneSymbol\": \"RMI2\"}}\n",
      "___________________________________________________________________\n",
      "C4493760\n",
      "--LLM-> RAS Pathway Modulation and Apoptosis Regulation (0.92)\n",
      "--ENR-> (none)\n",
      "{\"BRAP\": {\"GeneID\": 8315, \"rna_log2FC-24h\": 0.95, \"knockdown_inhibits\": 1, \"GeneSymbol\": \"BRAP\"}, \"RASSF7\": {\"GeneID\": 8045, \"protein_log2FC_48h\": -2.06, \"knockdown_inhibits\": 1, \"GeneSymbol\": \"RASSF7\"}, \"RASSF5\": {\"GeneID\": 83593, \"knockdown_inhibits\": 1, \"GeneSymbol\": \"RASSF5\"}, \"RCE1\": {\"GeneID\": 9986, \"knockdown_inhibits\": 1, \"GeneSymbol\": \"RCE1\"}, \"RGL1\": {\"GeneID\": 23179, \"protein_log2FC_48h\": 2.2, \"knockdown_inhibits\": 1, \"GeneSymbol\": \"RGL1\"}, \"RGL4\": {\"GeneID\": 266747, \"knockdown_inhibits\": 1, \"GeneSymbol\": \"RGL4\"}, \"RPS6KA1\": {\"GeneID\": 6195, \"knockdown_inhibits\": 1, \"GeneSymbol\": \"RPS6KA1\"}, \"MOAP1\": {\"GeneID\": 64112, \"protein_log2FC_24h\": -3.66, \"knockdown_inhibits\": 0, \"GeneSymbol\": \"MOAP1\"}, \"HRAS\": {\"GeneID\": 3265, \"protein_log2FC_48h\": -2.36, \"knockdown_inhibits\": 0, \"GeneSymbol\": \"HRAS\"}, \"RASAL1\": {\"GeneID\": 8437, \"protein_log2FC_48h\": -2.31, \"knockdown_inhibits\": 0, \"GeneSymbol\": \"RASAL1\"}}\n",
      "___________________________________________________________________\n",
      "C4493770\n",
      "--LLM-> Oxidative Stress Response and Protein Quality Control in Neurodegeneration (0.85)\n",
      "--ENR-> Detoxification of Reactive Oxygen Species\n",
      "{\"ATOX1\": {\"GeneID\": 475, \"knockdown_inhibits\": 1, \"GeneSymbol\": \"ATOX1\"}, \"BACE1\": {\"GeneID\": 23621, \"knockdown_inhibits\": 1, \"GeneSymbol\": \"BACE1\"}, \"ITM2C\": {\"GeneID\": 81618, \"knockdown_inhibits\": 1, \"GeneSymbol\": \"ITM2C\"}, \"NAT8\": {\"GeneID\": 9027, \"protein_log2FC_24h\": 4.21, \"protein_log2FC_48h\": 5.94, \"knockdown_inhibits\": 1, \"GeneSymbol\": \"NAT8\"}, \"PEBP1\": {\"GeneID\": 5037, \"knockdown_inhibits\": 1, \"GeneSymbol\": \"PEBP1\"}, \"PRDX6\": {\"GeneID\": 9588, \"knockdown_inhibits\": 1, \"GeneSymbol\": \"PRDX6\"}, \"SOD1\": {\"GeneID\": 6647, \"knockdown_inhibits\": 1, \"GeneSymbol\": \"SOD1\"}, \"TXNDC12\": {\"GeneID\": 51060, \"knockdown_inhibits\": 1, \"GeneSymbol\": \"TXNDC12\"}, \"PRDX2\": {\"GeneID\": 7001, \"protein_log2FC_48h\": -2.4, \"knockdown_inhibits\": 0, \"GeneSymbol\": \"PRDX2\"}, \"SOD2\": {\"GeneID\": 6648, \"protein_log2FC_48h\": 3.11, \"knockdown_inhibits\": 0, \"GeneSymbol\": \"SOD2\"}}\n",
      "___________________________________________________________________\n",
      "C4493809\n",
      "--LLM-> RNA Metabolism and Viral Defense Mechanism (0.92)\n",
      "--ENR-> miRNA degrading enzymes\n",
      "{\"CLPP\": {\"GeneID\": 8192, \"rna_log2FC_48h\": 0.9, \"knockdown_inhibits\": 0, \"GeneSymbol\": \"CLPP\"}, \"XRN1\": {\"GeneID\": 54464, \"rna_log2FC_48h\": 1.83, \"protein_log2FC_48h\": 2.24, \"knockdown_inhibits\": 0, \"GeneSymbol\": \"XRN1\"}, \"PNPT1\": {\"GeneID\": 87178, \"protein_log2FC_24h\": 2.98, \"protein_log2FC_48h\": 3.86, \"knockdown_inhibits\": 0, \"GeneSymbol\": \"PNPT1\"}, \"HELZ2\": {\"GeneID\": 85441, \"protein_log2FC_24h\": 3.02, \"protein_log2FC_48h\": 3.12, \"knockdown_inhibits\": 0, \"GeneSymbol\": \"HELZ2\"}, \"EXOSC6\": {\"GeneID\": 118460, \"protein_log2FC_24h\": 5.14, \"knockdown_inhibits\": 0, \"GeneSymbol\": \"EXOSC6\"}, \"EXOSC5\": {\"GeneID\": 56915, \"protein_log2FC_48h\": -2.21, \"binds\": \"DENV2 16681 Capsid\", \"knockdown_inhibits\": 0, \"GeneSymbol\": \"EXOSC5\"}, \"ZC3HAV1\": {\"GeneID\": 56829, \"protein_log2FC_48h\": 2.21, \"binds\": \"DENV2 16681 Capsid,DENV2 16681 Capsid Anchor\", \"knockdown_inhibits\": 0, \"GeneSymbol\": \"ZC3HAV1\"}}\n",
      "___________________________________________________________________\n",
      "C4493823\n",
      "--LLM-> Kynurenine Pathway Modulation and Immune Response Regulation (0.85)\n",
      "--ENR-> 'de novo' NAD biosynthetic process from tryptophan\n",
      "{\"AFMID\": {\"GeneID\": 125061, \"knockdown_inhibits\": 1, \"GeneSymbol\": \"AFMID\"}, \"KMO\": {\"GeneID\": 8564, \"knockdown_inhibits\": 1, \"GeneSymbol\": \"KMO\"}, \"IDO1\": {\"GeneID\": 3620, \"protein_log2FC_48h\": 5.68, \"knockdown_inhibits\": 0, \"GeneSymbol\": \"IDO1\"}, \"IDO2\": {\"GeneID\": 169355, \"protein_log2FC_48h\": 4.18, \"knockdown_inhibits\": 0, \"GeneSymbol\": \"IDO2\"}, \"TNFRSF9\": {\"GeneID\": 3604, \"protein_log2FC_48h\": 3.5, \"knockdown_inhibits\": 0, \"GeneSymbol\": \"TNFRSF9\"}, \"TNFSF18\": {\"GeneID\": 8995, \"protein_log2FC_48h\": 4.8, \"knockdown_inhibits\": 0, \"GeneSymbol\": \"TNFSF18\"}}\n",
      "___________________________________________________________________\n",
      "C4493827\n",
      "--LLM-> RNA Metabolism and Modification in Viral Infection (0.85)\n",
      "--ENR-> (none)\n",
      "{\"ALKBH1\": {\"GeneID\": 8846, \"knockdown_inhibits\": 1, \"GeneSymbol\": \"ALKBH1\"}, \"ALKBH5\": {\"GeneID\": 54890, \"knockdown_inhibits\": 1, \"GeneSymbol\": \"ALKBH5\"}, \"RBM15B\": {\"GeneID\": 29890, \"knockdown_inhibits\": 1, \"GeneSymbol\": \"RBM15B\"}, \"IGF2BP3\": {\"GeneID\": 10643, \"protein_log2FC_24h\": 2.99, \"protein_log2FC_48h\": 3.26, \"binds\": \"DENV2 16681 Capsid\", \"knockdown_inhibits\": 0, \"GeneSymbol\": \"IGF2BP3\"}, \"TRMT10C\": {\"GeneID\": 54931, \"protein_log2FC_48h\": 5.56, \"knockdown_inhibits\": 0, \"GeneSymbol\": \"TRMT10C\"}}\n",
      "___________________________________________________________________\n",
      "C4493830\n",
      "--LLM-> Endothelial Barrier Function and Viral Entry Modulation (0.85)\n",
      "--ENR-> RND3 GTPase cycle\n",
      "{\"STOM\": {\"GeneID\": 2040, \"rna_log2FC_48h\": 1.88, \"protein_log2FC_48h\": 2.08, \"binds\": \"DENV2 16681 NS4A,ZIKVfp NS4A,ZIKVug NS4A\", \"knockdown_inhibits\": 0, \"GeneSymbol\": \"STOM\"}, \"CLDN5\": {\"GeneID\": 7122, \"knockdown_inhibits\": 1, \"GeneSymbol\": \"CLDN5\"}, \"CAV1\": {\"GeneID\": 857, \"protein_log2FC_48h\": 2.86, \"knockdown_inhibits\": 0, \"GeneSymbol\": \"CAV1\"}, \"PTPN13\": {\"GeneID\": 5783, \"protein_log2FC_48h\": -2.11, \"knockdown_inhibits\": 0, \"GeneSymbol\": \"PTPN13\"}, \"RND3\": {\"GeneID\": 390, \"protein_log2FC_48h\": 3.33, \"knockdown_inhibits\": 0, \"GeneSymbol\": \"RND3\"}}\n",
      "___________________________________________________________________\n"
     ]
    }
   ],
   "source": [
    "#```python\n",
    "def list_assemblies(db, hierarchy, filter=None):\n",
    "    for assembly in hierarchy.get_assemblies(filter=filter):\n",
    "        #print(json.dumps(assembly, indent=4))\n",
    "        print(assembly[\"v\"].get(\"name\"))\n",
    "        print(f'--LLM-> {assembly[\"v\"].get(\"LLM Name\")}')\n",
    "        print(f'--ENR-> {assembly[\"v\"].get(\"CD_CommunityName\")}')\n",
    "        print(assembly['v'].get('data'))\n",
    "        #print(dataset_from_assembly(db, assembly))\n",
    "        print('___________________________________________________________________')\n",
    "\n",
    "list_assemblies(db, dengue_hierarchy, filter={\"names\": top_10_assembly_names_df[\"Community\"].to_list(),\n",
    "                                              \"columns\": [\"binds\", \n",
    "                                                          \"knockdown_inhbits\", \n",
    "                                                          \"protein_logFC_24h\", \"protein_log2FC_48h\",\n",
    "                                                          \"rna_logFC_24h\", \"rna_log2FC_48h\"]})\n",
    "#```"
   ]
  },
  {
   "cell_type": "markdown",
   "metadata": {},
   "source": [
    "```\n",
    "from models.dataset import Dataset\n",
    "\n",
    "c4493827 = Dataset.load(db, \"dataset_ac5bf71e-9e92-4004-8c49-3d62f538044a\")\n",
    "\n",
    "print(c4493827.data)\n",
    "```"
   ]
  },
  {
   "cell_type": "markdown",
   "metadata": {},
   "source": [
    "```\n",
    "You are a brilliant graduate student in molecular biology. Your work is reviewed by your world-renowned advisor, who is very demanding. You will need to give your very best effort in this project.\n",
    "```\n",
    "----------\n",
    "\n",
    "```\n",
    "<task>\n",
    "Based on the experiment description, analyze the dataset and develop a mechanistic, causal hypothesis for the processes that led to the observed data. The proteins/genes in the dataset are hypothesized to be known to interact; use your knowledge of these proteins and their interactions to develop chains of events that connect experimental perturbations with molecular and phenotypic observations. The hypothesis should make specific predictions that could be experimentally validated. \n",
    "</task>\n",
    "\n",
    "<biological_context>\n",
    "The hypothesis should support the higher-level goal of developing drug therapies for the disease.\n",
    "</biological_context>\n",
    "\n",
    "<detailed_instructions>\n",
    "1. Review the data to ensure that you understand the meaning of each observation. In your hypothesis, be sure that you correctly use the data and do not hallucinate any observations.\n",
    "\n",
    "2. Review your knowledge of the functions of these proteins and the known interactions between them.\n",
    "\n",
    "3. Based on the data and your knowledge, construct the hypothesis that you think best meets these criteria:\n",
    "- Plausible\n",
    "- Non-trivial\n",
    "- Supports the higher-level goal of drug development\n",
    "- Novel\n",
    "- Actionable: is cost-effective in both time and money\n",
    "\n",
    "4. Your lab has limited resources in both reagents, equipment, and your time. Remember, your time is precious. You must use it well if you are to get your doctorate. If you do not think that there is any hypothesis that is worth following up with a validation experiment, say so.\n",
    "\n",
    "5. Output your hypothesis as follows:\n",
    "\n",
    "## Knowledge Graph:\n",
    "concise knowledge graph of as a list of the causal relationships between proteins, complexes, events, disease states, etc. \"Therefore:\" indicates hypothesized relationships. For example:\n",
    "\n",
    "(A binds B) inactivates B\n",
    "B performs (phosphorylation C)\n",
    "(phosphorylation C) increases (active C)\n",
    "Therefore: A decreases (active C)\n",
    "\n",
    "\n",
    "## Hypothesis:\n",
    "short descriptive paragraph. \n",
    "\n",
    "</detailed_instructions>\n",
    "\n",
    "<experiment_description>\n",
    "{experiment_description}\n",
    "</experiment_description>\n",
    "\n",
    "<dataset>\n",
    "{data}\n",
    "</data>\n",
    "```"
   ]
  }
 ],
 "metadata": {
  "kernelspec": {
   "display_name": "base",
   "language": "python",
   "name": "python3"
  },
  "language_info": {
   "codemirror_mode": {
    "name": "ipython",
    "version": 3
   },
   "file_extension": ".py",
   "mimetype": "text/x-python",
   "name": "python",
   "nbconvert_exporter": "python",
   "pygments_lexer": "ipython3",
   "version": "3.11.7"
  }
 },
 "nbformat": 4,
 "nbformat_minor": 2
}
