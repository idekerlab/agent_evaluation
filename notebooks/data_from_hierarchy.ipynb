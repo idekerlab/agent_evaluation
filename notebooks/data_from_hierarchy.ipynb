{
 "cells": [
  {
   "cell_type": "markdown",
   "metadata": {},
   "source": [
    "## Creating Datasets from the Dengue Hierarchy and interactome.\n",
    "- The goal is to generate datasets in various formats based on the assemblies in a hierarchical model.\n",
    "- This involves:\n",
    "    - filtering the assemblies on assembly names, min size, and max size\n",
    "    - filtering the data by columns and by row values\n",
    "    - changing column names\n",
    "    - generating/adding experiment, assembly, and content descriptions\n",
    "    - cleaning the data, such as non-numeric values\n",
    "    - limiting the precision of numeric values\n",
    "    - optionaly saving the datasets to the database\n",
    "    - optionally adding interaction data\n",
    "    - optionally adding information from other sources, such as genecards\n",
    "- The Dengue data is on the STRING+diffusion based interactome\n",
    "- We can also get the data directly from the dengue_with_uniprot.csv\n",
    "- Laura Martin-Sancho is most interested in the assemblies listed in the interesting_dengue_communities.xlsx spreadsheet"
   ]
  },
  {
   "cell_type": "code",
   "execution_count": 1,
   "metadata": {},
   "outputs": [
    {
     "name": "stdout",
     "output_type": "stream",
     "text": [
      "/Users/idekeradmin/Dropbox/GitHub/agent_evaluation/notebooks\n",
      "/Users/idekeradmin/Dropbox/GitHub/agent_evaluation\n",
      "['/Users/idekeradmin/Dropbox/GitHub/agent_evaluation/notebooks', '/opt/anaconda3/lib/python311.zip', '/opt/anaconda3/lib/python3.11', '/opt/anaconda3/lib/python3.11/lib-dynload', '', '/Users/idekeradmin/.local/lib/python3.11/site-packages', '/opt/anaconda3/lib/python3.11/site-packages', '/opt/anaconda3/lib/python3.11/site-packages/aeosa', '/Users/idekeradmin/Dropbox/GitHub/agent_evaluation']\n"
     ]
    }
   ],
   "source": [
    "import sys\n",
    "import os\n",
    "\n",
    "# Add the parent directory of the current script to the Python path\n",
    "cwd = os.getcwd()\n",
    "dirname = os.path.dirname(cwd)\n",
    "print(cwd)\n",
    "print(dirname)\n",
    "sys.path.append(dirname)\n",
    "\n",
    "print(sys.path)\n",
    "\n",
    "from models.analysis_plan import AnalysisPlan\n",
    "from services.analysisrunner import AnalysisRunner\n",
    "from models.review_plan import ReviewPlan\n",
    "from services.reviewrunner import ReviewRunner\n",
    "from app.sqlite_database import SqliteDatabase\n",
    "from app.config import load_database_config\n",
    "\n",
    "# Load the db connection details\n",
    "# db_type, uri, user, password = load_database_config(path='~/ae_config/test_config.ini')\n",
    "# self.db = Database(uri, db_type, user, password)\n",
    "\n",
    "_, database_uri, _, _ = load_database_config()\n",
    "db = SqliteDatabase(database_uri)"
   ]
  },
  {
   "cell_type": "code",
   "execution_count": 2,
   "metadata": {},
   "outputs": [],
   "source": [
    "# this is brief so that it will help keep the context small for fast operation.\n",
    "brief_dengue_dataset_description = \"\"\"\n",
    "The dataset includes measurements of “protein abundance” and “mRNA expression”\n",
    "changes after infection of human cells with Dengue virus as compared to mock \n",
    "infected controls. The dataset also includes an siRNA screen average Z-score \n",
    "as well as information about viral interacting proteins for each given human gene.\n",
    "\n",
    "The data has 2 time points: 24 hours after infection or 48 hours after infection.\n",
    "\n",
    "Here is a detailed description of the columns in the dataset:\n",
    "\n",
    "A- Official human gene symbol (HGNC)\n",
    "B- Protein abundance 24 hours after infection\n",
    "C- Protein abundance 48 hours after infection\n",
    "D- siRNA screen average Z-score\n",
    "E- mRNA expression 24 after infection\n",
    "F- mRNA expression 48 hurs after infection\n",
    "\n",
    "Please note:\n",
    "\n",
    "“Protein abundance” and “mRNA expression” measurements <0 reflect a \"decrease\" while measurements >0 indicate an \"increase\".\n",
    "\n",
    "For the siRNA Z-scores in column D: the higher the score, the stronger the negative effect on viral replication caused by that gene's silencing. The Z-score can range from 1.1 (minor negative effect on viral replication) to 2.9 (strong negative effect on viral replication). If this datapoint is available for a certain gene, it means that siRNA experiments have already been performed and you should not include this approach in the \"Actionablity\" criteria described below.\n",
    "Usually, if a gene has a Z-score value in column D, it will not have values in the other columns within the dataset.\n",
    "\n",
    "\"\"\"\n",
    "\n",
    "dengue_column_name_mapping ={}"
   ]
  },
  {
   "cell_type": "code",
   "execution_count": 3,
   "metadata": {},
   "outputs": [
    {
     "data": {
      "text/html": [
       "<div>\n",
       "<style scoped>\n",
       "    .dataframe tbody tr th:only-of-type {\n",
       "        vertical-align: middle;\n",
       "    }\n",
       "\n",
       "    .dataframe tbody tr th {\n",
       "        vertical-align: top;\n",
       "    }\n",
       "\n",
       "    .dataframe thead th {\n",
       "        text-align: right;\n",
       "    }\n",
       "</style>\n",
       "<table border=\"1\" class=\"dataframe\">\n",
       "  <thead>\n",
       "    <tr style=\"text-align: right;\">\n",
       "      <th></th>\n",
       "      <th>Community</th>\n",
       "    </tr>\n",
       "  </thead>\n",
       "  <tbody>\n",
       "    <tr>\n",
       "      <th>0</th>\n",
       "      <td>Chromatin remodelling and transcriptional regu...</td>\n",
       "    </tr>\n",
       "    <tr>\n",
       "      <th>1</th>\n",
       "      <td>DNA repair and maintenance in response to vira...</td>\n",
       "    </tr>\n",
       "    <tr>\n",
       "      <th>2</th>\n",
       "      <td>Endothelial barrier function and viral entry m...</td>\n",
       "    </tr>\n",
       "    <tr>\n",
       "      <th>3</th>\n",
       "      <td>Extracellular matrix organization and cell adh...</td>\n",
       "    </tr>\n",
       "    <tr>\n",
       "      <th>4</th>\n",
       "      <td>Kynurenine pathway modulation and immune respo...</td>\n",
       "    </tr>\n",
       "    <tr>\n",
       "      <th>5</th>\n",
       "      <td>Oxidative stress response and protein quality ...</td>\n",
       "    </tr>\n",
       "    <tr>\n",
       "      <th>6</th>\n",
       "      <td>Protein quality control and intracellular sign...</td>\n",
       "    </tr>\n",
       "    <tr>\n",
       "      <th>7</th>\n",
       "      <td>RAS pathway modulation and apoptosis regulation</td>\n",
       "    </tr>\n",
       "    <tr>\n",
       "      <th>8</th>\n",
       "      <td>RNA metabolism (and modification in viral infe...</td>\n",
       "    </tr>\n",
       "    <tr>\n",
       "      <th>9</th>\n",
       "      <td>Urea cycle and redox homeostasis</td>\n",
       "    </tr>\n",
       "  </tbody>\n",
       "</table>\n",
       "</div>"
      ],
      "text/plain": [
       "                                           Community\n",
       "0  Chromatin remodelling and transcriptional regu...\n",
       "1  DNA repair and maintenance in response to vira...\n",
       "2  Endothelial barrier function and viral entry m...\n",
       "3  Extracellular matrix organization and cell adh...\n",
       "4  Kynurenine pathway modulation and immune respo...\n",
       "5  Oxidative stress response and protein quality ...\n",
       "6  Protein quality control and intracellular sign...\n",
       "7    RAS pathway modulation and apoptosis regulation\n",
       "8  RNA metabolism (and modification in viral infe...\n",
       "9                   Urea cycle and redox homeostasis"
      ]
     },
     "execution_count": 3,
     "metadata": {},
     "output_type": "execute_result"
    }
   ],
   "source": [
    "import pandas as pd\n",
    "cwd = os.getcwd()\n",
    "dirname = os.path.dirname(cwd)\n",
    "assembly_spreadsheet_filename = \"interesting_dengue_communities.xlsx\"\n",
    "top_20_assembly_names_df = pd.read_excel(os.path.join(dirname, \n",
    "                                                      \"files\", \n",
    "                                                      assembly_spreadsheet_filename),\n",
    "                                                      sheet_name=0)\n",
    "top_10_assembly_names_df = pd.read_excel(os.path.join(dirname, \n",
    "                                                      \"files\", \n",
    "                                                      assembly_spreadsheet_filename),\n",
    "                                                      sheet_name=1)\n",
    "top_10_assembly_names_df"
   ]
  },
  {
   "cell_type": "code",
   "execution_count": 4,
   "metadata": {},
   "outputs": [
    {
     "name": "stdout",
     "output_type": "stream",
     "text": [
      "Name: Dengue model - hidef string 12.0 0.7 (GPT-4 annotated) - L2R\n",
      "Number of nodes: 203\n",
      "Number of nodes: 249\n",
      "Name: dengue string 12.0 0.7\n",
      "Number of nodes: 1375\n",
      "Number of nodes: 2792\n"
     ]
    }
   ],
   "source": [
    "from models.hierarchy import Hierarchy\n",
    "import json\n",
    "import ndex2 \n",
    "from ndex2.cx2 import RawCX2NetworkFactory\n",
    "\n",
    "# Create NDEx2 python client\n",
    "client = ndex2.client.Ndex2()\n",
    "\n",
    "# Create CX2Network factory\n",
    "factory = RawCX2NetworkFactory()\n",
    "\n",
    "# Download BioGRID: Protein-Protein Interactions (SARS-CoV) from NDEx\n",
    "# https://www.ndexbio.org/viewer/networks/669f30a3-cee6-11ea-aaef-0ac135e8bacf\n",
    "# client_resp = client.get_network_as_cx2_stream('669f30a3-cee6-11ea-aaef-0ac135e8bacf')\n",
    "\n",
    "# Dengue string interactome network c223d6db-b0e2-11ee-8a13-005056ae23aa\n",
    "client_resp = client.get_network_as_cx2_stream('c223d6db-b0e2-11ee-8a13-005056ae23aa')\n",
    "\n",
    "# Convert downloaded interactome network to CX2Network object\n",
    "interactome = factory.get_cx2network(json.loads(client_resp.content))\n",
    "\n",
    "# Dengue hierarchy\n",
    "# https://www.ndexbio.org/viewer/networks/59bbb9f1-e029-11ee-9621-005056ae23aa\n",
    "client_resp = client.get_network_as_cx2_stream('59bbb9f1-e029-11ee-9621-005056ae23aa')\n",
    "\n",
    "# Convert downloaded interactome network to CX2Network object\n",
    "hierarchy = factory.get_cx2network(json.loads(client_resp.content))\n",
    "\n",
    "# Display information about the hierarchy network and output 1st 100 characters of CX2\n",
    "print('Name: ' + hierarchy.get_name())\n",
    "print('Number of nodes: ' + str(len(hierarchy.get_nodes())))\n",
    "print('Number of nodes: ' + str(len(hierarchy.get_edges())))\n",
    "\n",
    "# Display information about the interactome network \n",
    "print('Name: ' + interactome.get_name())\n",
    "print('Number of nodes: ' + str(len(interactome.get_nodes())))\n",
    "print('Number of nodes: ' + str(len(interactome.get_edges())))\n",
    "      \n",
    "\n",
    "\n"
   ]
  },
  {
   "cell_type": "code",
   "execution_count": 5,
   "metadata": {},
   "outputs": [
    {
     "name": "stdout",
     "output_type": "stream",
     "text": [
      "(10, 1)\n",
      "DNA repair and maintenance in response to viral infection\n"
     ]
    },
    {
     "data": {
      "text/plain": [
       "[]"
      ]
     },
     "execution_count": 5,
     "metadata": {},
     "output_type": "execute_result"
    }
   ],
   "source": [
    "# print(json.dumps(list(hierarchy.get_nodes().values())[0], indent=2))\n",
    "hierearchy_object = Hierarchy(hierarchy)\n",
    "print(top_10_assembly_names_df.shape)\n",
    "print(top_10_assembly_names_df[\"Community\"][1])\n",
    "\n",
    "hierearchy_object.get_assemblies(filter={\"names\": [top_10_assembly_names_df[\"Community\"][0]]})"
   ]
  },
  {
   "cell_type": "markdown",
   "metadata": {},
   "source": [
    "## Hierarchy Class"
   ]
  },
  {
   "cell_type": "code",
   "execution_count": 6,
   "metadata": {},
   "outputs": [],
   "source": [
    "hierarchy.add_network_attribute(\"experiment_description\", \"in this experiment, cells were infected with dengue virus and 'omics and phenotypic screening data  was measured\", \"string\")"
   ]
  },
  {
   "cell_type": "code",
   "execution_count": 7,
   "metadata": {},
   "outputs": [
    {
     "data": {
      "text/plain": [
       "{'nodes': {'has_rnaSeq_48hr': {'d': 'integer'},\n",
       "  'has_rnaSeq_24hr': {'d': 'integer'},\n",
       "  'Condition_48hpi': {'d': 'string'},\n",
       "  'type': {'v': 'protein', 'd': 'string'},\n",
       "  'GeneSymbol_48hpi': {'d': 'string'},\n",
       "  'represents': {'a': 'r', 'd': 'string'},\n",
       "  'has_protein_24hr': {'d': 'integer'},\n",
       "  'has_protein_48hr': {'d': 'integer'},\n",
       "  'UniprotID': {'d': 'string'},\n",
       "  'siRNA_GeneSymbol': {'d': 'string'},\n",
       "  'alias': {'d': 'list_of_string'},\n",
       "  'PPI_GeneSymbol': {'d': 'string'},\n",
       "  'dengue_MiST_list': {'d': 'string'},\n",
       "  'GeneSymbol': {'d': 'string'},\n",
       "  'Condition': {'d': 'string'},\n",
       "  'viral_interaction': {'d': 'integer'},\n",
       "  'DV3_24h-Mock_24h': {'d': 'double'},\n",
       "  'log2FC_48hpi': {'d': 'double'},\n",
       "  'has_siRNA': {'d': 'integer'},\n",
       "  'dengue_protein_list': {'d': 'string'},\n",
       "  'siRNA_Screen_Average_Zscore': {'d': 'double'},\n",
       "  'name': {'a': 'n', 'd': 'string'},\n",
       "  'GeneID': {'d': 'integer'},\n",
       "  'log2FC': {'d': 'double'},\n",
       "  'DV3_48h-Mock_48h': {'d': 'double'}},\n",
       " 'networkAttributes': {'disease': {'d': 'string'},\n",
       "  'organism': {'d': 'string'},\n",
       "  'name': {'d': 'string'},\n",
       "  'description': {'d': 'string'},\n",
       "  'version': {'d': 'string'}},\n",
       " 'edges': {'homology': {'d': 'double'},\n",
       "  'coexpression_transferred': {'d': 'double'},\n",
       "  'cooccurence': {'d': 'double'},\n",
       "  'experiments': {'d': 'double'},\n",
       "  'textmining_transferred': {'d': 'double'},\n",
       "  'combined_score': {'d': 'double'},\n",
       "  'fusion': {'d': 'double'},\n",
       "  'experiments_transferred': {'d': 'double'},\n",
       "  'database': {'d': 'double'},\n",
       "  'interaction': {'a': 'i', 'd': 'string'},\n",
       "  'name': {'d': 'string'},\n",
       "  'neighborhood': {'d': 'double'},\n",
       "  'neighborhood_transferred': {'d': 'double'},\n",
       "  'coexpression': {'d': 'double'},\n",
       "  'database_transferred': {'d': 'double'},\n",
       "  'textmining': {'d': 'double'}}}"
      ]
     },
     "execution_count": 7,
     "metadata": {},
     "output_type": "execute_result"
    }
   ],
   "source": [
    "interactome.get_attribute_declarations()"
   ]
  },
  {
   "cell_type": "code",
   "execution_count": 9,
   "metadata": {},
   "outputs": [
    {
     "name": "stdout",
     "output_type": "stream",
     "text": [
      "in this experiment, cells were infected with dengue virus and 'omics and phenotypic screening data  was measured\n"
     ]
    }
   ],
   "source": [
    "dengue_hierarchy = Hierarchy(hierarchy, interactome)\n",
    "print(dengue_hierarchy.get_experiment_description())\n",
    "assemblies = dengue_hierarchy.add_data_to_assemblies(\n",
    "    member_attributes=[\"name\", \"GeneSymbol\", \"GeneID\", \"log2FC_48hpi\", \"pvalue_48hpi\", \"log2FC_72hpi\", \"pvalue_72hpi\"],\n",
    "    filter={\"max_size\": 4})\n",
    "assemblies[0]\n"
   ]
  },
  {
   "cell_type": "code",
   "execution_count": null,
   "metadata": {},
   "outputs": [
    {
     "data": {
      "text/plain": [
       "[{'name': 'PEMT', 'log2FC_48hpi': -2.09090804358616, 'GeneID': 10400},\n",
       " {'name': 'CHKA', 'GeneSymbol': 'CHKA', 'GeneID': 1119},\n",
       " {'name': 'PTDSS2', 'GeneSymbol': 'PTDSS2', 'GeneID': 81490},\n",
       " {'name': 'PLA1A', 'log2FC_48hpi': 4.07675395617054, 'GeneID': 51365}]"
      ]
     },
     "execution_count": 15,
     "metadata": {},
     "output_type": "execute_result"
    }
   ],
   "source": [
    "datasets[1].name\n"
   ]
  }
 ],
 "metadata": {
  "kernelspec": {
   "display_name": "base",
   "language": "python",
   "name": "python3"
  },
  "language_info": {
   "codemirror_mode": {
    "name": "ipython",
    "version": 3
   },
   "file_extension": ".py",
   "mimetype": "text/x-python",
   "name": "python",
   "nbconvert_exporter": "python",
   "pygments_lexer": "ipython3",
   "version": "3.11.7"
  }
 },
 "nbformat": 4,
 "nbformat_minor": 2
}
