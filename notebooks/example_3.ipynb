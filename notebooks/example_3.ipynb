{
 "cells": [
  {
   "cell_type": "markdown",
   "metadata": {},
   "source": [
    "## Path Setup\n",
    "Add the parent directory to the Python path so that the notebook can find the modules"
   ]
  },
  {
   "cell_type": "code",
   "execution_count": 1,
   "metadata": {},
   "outputs": [
    {
     "name": "stdout",
     "output_type": "stream",
     "text": [
      "/Users/rudi/Documents/GitHub/agent_evaluation/notebooks\n",
      "/Users/rudi/Documents/GitHub/agent_evaluation\n",
      "['/Users/rudi/Documents/GitHub/agent_evaluation/notebooks', '/Users/rudi/anaconda3/envs/dengue/lib/python311.zip', '/Users/rudi/anaconda3/envs/dengue/lib/python3.11', '/Users/rudi/anaconda3/envs/dengue/lib/python3.11/lib-dynload', '', '/Users/rudi/anaconda3/envs/dengue/lib/python3.11/site-packages', '/Users/rudi/Documents/GitHub/agent_evaluation']\n"
     ]
    }
   ],
   "source": [
    "import sys\n",
    "import os\n",
    "\n",
    "cwd = os.getcwd() # Current working directory\n",
    "dirname = os.path.dirname(cwd) # Parent directory\n",
    "print(cwd)\n",
    "print(dirname)\n",
    "sys.path.append(dirname)# Add the parent directory to the Python path\n",
    "print(sys.path)"
   ]
  },
  {
   "cell_type": "markdown",
   "metadata": {},
   "source": [
    "## Get a Hierarchy\n"
   ]
  },
  {
   "cell_type": "code",
   "execution_count": 2,
   "metadata": {},
   "outputs": [
    {
     "name": "stdout",
     "output_type": "stream",
     "text": [
      "Name: Dengue model - hidef string 12.0 0.7 (GPT-4 annotated) - L2R\n",
      "Number of nodes: 203\n",
      "Number of nodes: 249\n",
      "Name: dengue string 12.0 0.7\n",
      "Number of nodes: 1375\n",
      "Number of nodes: 2792\n"
     ]
    }
   ],
   "source": [
    "from agent_evaluation.hierarchy import Hierarchy\n",
    "import json\n",
    "import ndex2 \n",
    "from ndex2.cx2 import RawCX2NetworkFactory\n",
    "\n",
    "# Create NDEx2 python client\n",
    "client = ndex2.client.Ndex2()\n",
    "\n",
    "# Create CX2Network factory\n",
    "factory = RawCX2NetworkFactory()\n",
    "\n",
    "# Download BioGRID: Protein-Protein Interactions (SARS-CoV) from NDEx\n",
    "# https://www.ndexbio.org/viewer/networks/669f30a3-cee6-11ea-aaef-0ac135e8bacf\n",
    "# client_resp = client.get_network_as_cx2_stream('669f30a3-cee6-11ea-aaef-0ac135e8bacf')\n",
    "\n",
    "# Dengue string interactome network c223d6db-b0e2-11ee-8a13-005056ae23aa\n",
    "client_resp = client.get_network_as_cx2_stream('c223d6db-b0e2-11ee-8a13-005056ae23aa')\n",
    "\n",
    "# Convert downloaded interactome network to CX2Network object\n",
    "interactome = factory.get_cx2network(json.loads(client_resp.content))\n",
    "\n",
    "# Dengue hierarchy\n",
    "# https://www.ndexbio.org/viewer/networks/59bbb9f1-e029-11ee-9621-005056ae23aa\n",
    "client_resp = client.get_network_as_cx2_stream('59bbb9f1-e029-11ee-9621-005056ae23aa')\n",
    "\n",
    "# Convert downloaded interactome network to CX2Network object\n",
    "hierarchy = factory.get_cx2network(json.loads(client_resp.content))\n",
    "\n",
    "# Display information about the hierarchy network and output 1st 100 characters of CX2\n",
    "print('Name: ' + hierarchy.get_name())\n",
    "print('Number of nodes: ' + str(len(hierarchy.get_nodes())))\n",
    "print('Number of nodes: ' + str(len(hierarchy.get_edges())))\n",
    "\n",
    "# Display information about the interactome network \n",
    "print('Name: ' + interactome.get_name())\n",
    "print('Number of nodes: ' + str(len(interactome.get_nodes())))\n",
    "print('Number of nodes: ' + str(len(interactome.get_edges())))\n"
   ]
  },
  {
   "cell_type": "markdown",
   "metadata": {},
   "source": [
    "## Get Datasets"
   ]
  },
  {
   "cell_type": "code",
   "execution_count": 3,
   "metadata": {},
   "outputs": [
    {
     "name": "stdout",
     "output_type": "stream",
     "text": [
      "None\n",
      "[{'name': 'SP110', 'DV3_24h-Mock_24h': 0.842989962}, {'name': 'PARP9', 'DV3_24h-Mock_24h': 0.971403167}, {'name': 'SAMD9L', 'DV3_24h-Mock_24h': 1.172951102}, {'name': 'DTX3L'}, {'name': 'PARP15'}]\n"
     ]
    }
   ],
   "source": [
    "dengue_hierarchy = Hierarchy(hierarchy, interactome)\n",
    "print(dengue_hierarchy.get_experiment_description())\n",
    "datasets = dengue_hierarchy.get_datasets(member_attributes=[\"name\", \"DV3_24h-Mock_24h\"],\n",
    "                                         filter={\"max_size\": 6})[32:33:]   #[1:33:31]          \n",
    "for dataset in datasets:\n",
    "    print(dataset.data)"
   ]
  },
  {
   "cell_type": "markdown",
   "metadata": {},
   "source": [
    "## Analyst Agents"
   ]
  },
  {
   "cell_type": "code",
   "execution_count": 4,
   "metadata": {},
   "outputs": [
    {
     "name": "stdout",
     "output_type": "stream",
     "text": [
      "Model: gpt-3.5-turbo-1106, Temperature: 0, Max Tokens: 2048, Seed: 42\n",
      "Model: gpt-4-0125-preview, Temperature: 0, Max Tokens: 2048, Seed: 42\n"
     ]
    }
   ],
   "source": [
    "from agent_evaluation.analyst import Analyst\n",
    "from agent_evaluation.llm import OpenAI_LLM\n",
    "\n",
    "gpt3_5 = OpenAI_LLM(\"gpt-3.5-turbo-1106\")\n",
    "gpt4 = OpenAI_LLM(\"gpt-4-0125-preview\")"
   ]
  },
  {
   "cell_type": "code",
   "execution_count": 5,
   "metadata": {},
   "outputs": [],
   "source": [
    "# Analist 1 > Jane (GPT-3.5-turbo-1106)\n",
    "\n",
    "analyst_1_context = \"\"\"\n",
    "You are a helpful analyst of genomic, proteomic, and other biological data. \n",
    "\"\"\"\n",
    "\n",
    "analyst_1_prompt_template = \"\"\" \n",
    "The provided proteomics \"dataset\" includes interacting proteins and the measurements of their differential abundance as a ratio between treated and non-treated samples, where the treatment is the infection of human cells with Dengue virus. \n",
    "Not all proteins in the dataset have differential abundance measurements.\n",
    "\n",
    "The dataset has 2 columns with the following headers: name, DV3_24h-Mock_24h. \n",
    "The first column contains the protein names and the last columns contains the abundance measurements.\n",
    "Please note that measurements <0 reflect a \"decreased abundance\" while measurements >0 indicate an \"increased abundance\".\n",
    "\n",
    "Your task is to leverage this dataset to analyze a subset of interacting proteins that are defined as “proteins of interest\".\n",
    "\n",
    "First, determine what proteins of interest show a differential abundance recorded in the dataset. \n",
    "Then, based on this information and on the known functions of all other proteins of interest, \n",
    "I want you to generate a hypothesis describing the mechanisms that may contribute to the disease state \n",
    "and could potentially be targeted by drug therapies.\n",
    "\n",
    "Your hypothesis should meet the following criteria:\n",
    "1) Include one or more molecular mechanism involving one or more proteins of interest\n",
    "2) Be plausible - grounded in known molecular functions and interactions\n",
    "3) Be novel - proposing mechanisms either not known or not known to be relevant to the experimental context\n",
    "4) Be actionable - can be validated with relatively low-cost experimental techniques\n",
    "\n",
    "When presenting your results, please adhere to the following guidelines:\n",
    "\n",
    "- Avoid including any code.\n",
    "- Do not describe the analytical steps you took.\n",
    "- Do not merely list the proteins of interest, regardless whether they show a differential abundance recorded in the dataset or not.\n",
    "- Build your hypotheses taking into consideration the interplay among all proteins of interest, not only those that show a differential abundance in the dataset.\n",
    "\n",
    "- Your output should consist solely of the identified proteins of interest with changed abundance levels, and the hypothesis you propose.\n",
    "\n",
    "Here is the set of proteins of interest: \n",
    "{data}\n",
    "\"\"\"\n",
    "\n",
    "analyst_1 = Analyst(gpt3_5, analyst_1_context, analyst_1_prompt_template, \"Jane\", \"The first analyst\")\n"
   ]
  },
  {
   "cell_type": "code",
   "execution_count": 6,
   "metadata": {},
   "outputs": [],
   "source": [
    "# Analist 2 > John (GPT-4-0125-preview)\n",
    "\n",
    "analyst_2_context = analyst_1_context\n",
    "\n",
    "analyst_2_prompt_template = analyst_1_prompt_template\n",
    "\n",
    "\n",
    "analyst_2 = Analyst(gpt4, analyst_2_context, analyst_2_prompt_template, \"John\", \"The second analyst\")"
   ]
  },
  {
   "cell_type": "markdown",
   "metadata": {},
   "source": [
    "## The TestPlan"
   ]
  },
  {
   "cell_type": "code",
   "execution_count": 7,
   "metadata": {},
   "outputs": [],
   "source": [
    "from agent_evaluation.test import TestPlan\n",
    "\n",
    "test_plan = TestPlan(analysts=[analyst_1, analyst_2], datasets=datasets)\n"
   ]
  },
  {
   "cell_type": "markdown",
   "metadata": {},
   "source": [
    "## Run the Test\n",
    "\n",
    "OpenAi python package cannot be > 0.28.\n",
    "\n",
    "- https://github.com/openai/openai-python\n",
    "\n",
    "- https://github.com/openai/openai-python/discussions/742\n",
    "\n",
    "If Genai package is used, Openai must be 0.27.x "
   ]
  },
  {
   "cell_type": "code",
   "execution_count": 8,
   "metadata": {},
   "outputs": [
    {
     "name": "stdout",
     "output_type": "stream",
     "text": [
      "Generating hypothesis by Jane on [{'name': 'SP110', 'DV3_24h-Mock_24h': 0.842989962}, {'name': 'PARP9', 'DV3_24h-Mock_24h': 0.971403167}, {'name': 'SAMD9L', 'DV3_24h-Mock_24h': 1.172951102}, {'name': 'DTX3L'}, {'name': 'PARP15'}]\n",
      "Generating hypothesis by John on [{'name': 'SP110', 'DV3_24h-Mock_24h': 0.842989962}, {'name': 'PARP9', 'DV3_24h-Mock_24h': 0.971403167}, {'name': 'SAMD9L', 'DV3_24h-Mock_24h': 1.172951102}, {'name': 'DTX3L'}, {'name': 'PARP15'}]\n"
     ]
    }
   ],
   "source": [
    "from agent_evaluation.test import Test\n",
    "\n",
    "test = Test(test_plan)\n",
    "test.run()"
   ]
  },
  {
   "cell_type": "code",
   "execution_count": 9,
   "metadata": {},
   "outputs": [
    {
     "name": "stdout",
     "output_type": "stream",
     "text": [
      "Jane (gpt-3.5-turbo-1106):\n",
      "('The proteins of interest with recorded differential abundance in the dataset are:\\n- SP110 (DV3_24h-Mock_24h: 0.842989962, indicating decreased abundance)\\n- PARP9 (DV3_24h-Mock_24h: 0.971403167, indicating decreased abundance)\\n- SAMD9L (DV3_24h-Mock_24h: 1.172951102, indicating increased abundance)\\n\\nBased on the known functions of these proteins and the potential interplay among them, a hypothesis for the mechanisms contributing to the disease state and potential drug targets could be as follows:\\n\\nHypothesis:\\nThe differential abundance of SP110, PARP9, and SAMD9L in response to Dengue virus infection suggests a potential role in modulating the host immune response. SP110 is known to be involved in regulating innate immune responses, particularly in the context of viral infections. PARP9, a member of the PARP family, has been implicated in modulating immune signaling pathways. SAMD9L has been associated with antiviral responses and innate immunity. The observed changes in their abundance levels may indicate a coordinated response to the viral infection, potentially aimed at dampening the host immune defense mechanisms. This coordinated action could contribute to the establishment and progression of the disease state.\\n\\nFurthermore, the potential interplay among these proteins may suggest a novel mechanism involving the modulation of immune signaling pathways, particularly those related to interferon responses and antiviral defense. Targeting the interactions and functions of these proteins could represent a promising avenue for drug therapies aimed at restoring the host immune response to combat Dengue virus infection. Experimental validation of this hypothesis could involve assessing the impact of modulating the abundance or activity of these proteins on the host immune response to viral infection, using relatively low-cost techniques such as gene expression analysis, protein-protein interaction assays, and functional assays of immune signaling pathways.\\n\\nThis hypothesis proposes a novel perspective on the role of these proteins in the context of Dengue virus infection and suggests potential actionable targets for further investigation and therapeutic intervention.', 'fp_592ef5907d', 945)\n",
      "---\n",
      "John (gpt-4-0125-preview):\n",
      "('Identified Proteins of Interest with Changed Abundance Levels:\\n- SP110: Increased abundance (0.842989962)\\n- PARP9: Increased abundance (0.971403167)\\n- SAMD9L: Increased abundance (1.172951102)\\n\\nHypothesis:\\nThe interaction and increased abundance of SP110, PARP9, and SAMD9L in response to Dengue virus (DV) infection suggest a novel molecular mechanism that could contribute to the disease state through modulation of the innate immune response and apoptosis pathways, which could be targeted for therapeutic intervention.\\n\\nSP110 is known to play a role in the innate immune response, acting as a nuclear body protein that can influence the expression of virus-responsive genes. The increased abundance of SP110 upon DV infection suggests an enhanced cellular attempt to mount an antiviral response. PARP9 and its interaction partner, DTX3L (not measured but relevant due to its functional association with PARP9), are involved in the regulation of DNA damage responses and inflammation. The increased abundance of PARP9 could indicate a role in promoting inflammation and possibly affecting DNA repair processes during DV infection. SAMD9L, similarly showing increased abundance, is implicated in antiviral responses and has been suggested to suppress viral replication.\\n\\nGiven these roles, we hypothesize that the increased abundance of SP110, PARP9, and SAMD9L during DV infection represents a coordinated cellular effort to counteract the virus through both enhancing the innate immune response (via SP110 and SAMD9L) and modulating inflammation and DNA damage responses (via PARP9). This response, however, may inadvertently contribute to the disease state by promoting excessive inflammation or by interfering with normal cell functions due to the altered DNA damage response.\\n\\nThis hypothesis can be validated through relatively low-cost experimental techniques such as siRNA knockdown of SP110, PARP9, and SAMD9L in DV-infected human cell lines, followed by assays to measure changes in viral replication, inflammatory cytokine production, and markers of DNA damage. Additionally, overexpression studies could help to further elucidate the roles of these proteins in DV infection. The outcome of these experiments could reveal novel targets for drug therapies aimed at modulating the host response to DV infection, potentially reducing disease severity without directly targeting the virus.', 'fp_f38f4d6482', 992)\n",
      "---\n"
     ]
    }
   ],
   "source": [
    "for hypothesis in test.hypotheses:\n",
    "    print(f\"{hypothesis.analyst.name} ({hypothesis.analyst.llm.model_name}):\")\n",
    "    print(hypothesis.description)\n",
    "    print(\"---\")"
   ]
  },
  {
   "cell_type": "code",
   "execution_count": 10,
   "metadata": {},
   "outputs": [
    {
     "data": {
      "text/plain": [
       "2"
      ]
     },
     "execution_count": 10,
     "metadata": {},
     "output_type": "execute_result"
    }
   ],
   "source": [
    "# Check the number of hypotheses generated (should be just 2, 1 by Jane and 1 by John)\n",
    "\n",
    "len(test.hypotheses)"
   ]
  },
  {
   "cell_type": "markdown",
   "metadata": {},
   "source": [
    "## Reviewers"
   ]
  },
  {
   "cell_type": "code",
   "execution_count": 11,
   "metadata": {},
   "outputs": [],
   "source": [
    "from agent_evaluation.reviewer import Reviewer\n",
    "\n",
    "\n",
    "# Reviewer 1 > James Watson (GPT-3.5-turbo-1106)\n",
    "\n",
    "reviewer_1_context = \"You are a full professor with extensive knowledge of molecular mechanisms in biology and human diseases\"\n",
    "\n",
    "reviewer_1_prompt_template = \"\"\"\n",
    "Starting from an experimental dataset and a list of proteins of intertest, our analysts have generated 2 hypotheses (A an B)\n",
    "that might explain the observed data upon infection of a human cell line with the Dengue virus.\n",
    "\n",
    "Your task is to carefully review the 2 hypotheses provided, and choose the best one based on the following evaluation criteria:\n",
    "\n",
    "1) Mechanistic - The hypothesis includes one or more molecular mechanisms involving one or more proteins of interest.\n",
    "2) Plausible - The hypothesis is plausible is grounded in known molecular functions and interactions.\n",
    "3) Novel - The hypothesis proposes mechanisms either not known or not known to be relevant to the experimental context.\n",
    "4) Actionable - The hypothesis actionable can be validated with relatively simple, low-cost experimental techniques\".\n",
    "\n",
    "You must execute your evaluation using only the information provided in the 2 hypotheses.\n",
    "\n",
    "When presenting your output, only include the following info:\n",
    "1) Which hypothesis you deem to be the best one (A or B).\n",
    "2) What are the reasons that dictated your decision.\n",
    "\n",
    "Here are the hypotheses:\n",
    "{hypothesis_a}\n",
    "{hypothesis_b}\n",
    "\"\"\"\n",
    "\n",
    "reviewer_1 = Reviewer(gpt3_5, reviewer_1_context, reviewer_1_prompt_template, \"James Watson\", \"The first reviewer\")\n"
   ]
  },
  {
   "cell_type": "code",
   "execution_count": 12,
   "metadata": {},
   "outputs": [],
   "source": [
    "# Reviewer 2 > Francis Crick (GPT-4-0125-preview)\n",
    "\n",
    "reviewer_2_context = reviewer_1_context\n",
    "reviewer_2_prompt_template = reviewer_1_prompt_template\n",
    "\n",
    "reviewer_2 = Reviewer(gpt4, reviewer_2_context, reviewer_2_prompt_template, \"Francis Crick\", \"The second reviewer\")"
   ]
  },
  {
   "cell_type": "markdown",
   "metadata": {},
   "source": [
    "## The ReviewPlan"
   ]
  },
  {
   "cell_type": "code",
   "execution_count": 13,
   "metadata": {},
   "outputs": [],
   "source": [
    "from agent_evaluation.review import ReviewPlan\n",
    "\n",
    "review_plan = ReviewPlan(reviewers=[reviewer_1, reviewer_2], test=test)\n"
   ]
  },
  {
   "cell_type": "markdown",
   "metadata": {},
   "source": [
    "## Run the Review"
   ]
  },
  {
   "cell_type": "code",
   "execution_count": 14,
   "metadata": {},
   "outputs": [
    {
     "name": "stdout",
     "output_type": "stream",
     "text": [
      "Generating comparison by James Watson...\n",
      "Generating comparison by James Watson...\n",
      "Generating comparison by Francis Crick...\n",
      "Generating comparison by Francis Crick...\n"
     ]
    }
   ],
   "source": [
    "from agent_evaluation.review import Review\n",
    "\n",
    "review = Review(review_plan)    \n",
    "review.run()\n"
   ]
  },
  {
   "cell_type": "code",
   "execution_count": 15,
   "metadata": {},
   "outputs": [
    {
     "name": "stdout",
     "output_type": "stream",
     "text": [
      "James Watson (gpt-3.5-turbo-1106)\n",
      "('Based on the evaluation criteria provided, I deem hypothesis B to be the best one. Here are the reasons that dictated my decision:\\n\\n1) Mechanistic: Hypothesis B includes a detailed molecular mechanism involving the proteins of interest (SP110, PARP9, and SAMD9L) in response to Dengue virus infection. It proposes a coordinated cellular effort to counteract the virus through enhancing the innate immune response and modulating inflammation and DNA damage responses.\\n\\n2) Plausible: The hypothesis is grounded in known molecular functions and interactions of the proteins. It provides a plausible explanation for the increased abundance of SP110, PARP9, and SAMD9L in response to Dengue virus infection and their potential roles in modulating the innate immune response and apoptosis pathways.\\n\\n3) Novel: The hypothesis proposes a novel molecular mechanism involving the interplay of SP110, PARP9, and SAMD9L in response to Dengue virus infection, which could contribute to the disease state through modulation of the innate immune response and apoptosis pathways.\\n\\n4) Actionable: The hypothesis provides actionable experimental validation approaches, such as siRNA knockdown of the proteins in Dengue virus-infected human cell lines, followed by assays to measure changes in viral replication, inflammatory cytokine production, and markers of DNA damage. These experiments could reveal novel targets for drug therapies aimed at modulating the host response to Dengue virus infection.\\n\\nTherefore, based on the evaluation criteria, hypothesis B is the best choice.', 'fp_592ef5907d', 1477)\n",
      "----\n",
      "James Watson (gpt-3.5-turbo-1106)\n",
      "('Based on the evaluation criteria provided, I deem hypothesis A to be the best one. Here are the reasons that dictated my decision:\\n\\n1) Mechanistic: Hypothesis A includes a detailed molecular mechanism involving the proteins of interest (SP110, PARP9, and SAMD9L) in response to Dengue virus infection. It proposes that the increased abundance of these proteins contributes to the disease state through modulation of the innate immune response and apoptosis pathways, which could be targeted for therapeutic intervention.\\n\\n2) Plausible: The hypothesis is grounded in known molecular functions and interactions of the proteins. It discusses the roles of SP110 in the innate immune response, PARP9 in the regulation of DNA damage responses and inflammation, and SAMD9L in antiviral responses, all of which are supported by existing literature.\\n\\n3) Novel: The hypothesis proposes mechanisms not known to be relevant to the experimental context, suggesting a novel perspective on the role of these proteins in the context of Dengue virus infection.\\n\\n4) Actionable: The hypothesis is actionable and can be validated with relatively simple, low-cost experimental techniques such as siRNA knockdown of SP110, PARP9, and SAMD9L in DV-infected human cell lines, followed by assays to measure changes in viral replication, inflammatory cytokine production, and markers of DNA damage. Additionally, overexpression studies could help to further elucidate the roles of these proteins in DV infection.\\n\\nTherefore, based on the provided information, hypothesis A is the best choice.', 'fp_592ef5907d', 1483)\n",
      "----\n",
      "Francis Crick (gpt-4-0125-preview)\n",
      "('I deem Hypothesis B to be the best one based on the evaluation criteria provided.\\n\\nReasons for this decision:\\n\\n1) **Mechanistic**: Hypothesis B provides a clear mechanistic explanation of how the increased abundance of SP110, PARP9, and SAMD9L could contribute to the disease state through modulation of the innate immune response and apoptosis pathways. It also introduces the role of DTX3L in association with PARP9, adding depth to the proposed mechanism.\\n\\n2) **Plausible**: The roles of SP110 in the innate immune response, PARP9 (along with DTX3L) in DNA damage responses and inflammation, and SAMD9L in antiviral responses are well-grounded in known molecular functions and interactions. The hypothesis logically extends these roles to explain the observed changes in protein abundance in the context of Dengue virus infection.\\n\\n3) **Novel**: The hypothesis suggests a novel molecular mechanism by proposing that the increased abundance of these proteins represents a coordinated cellular effort to counteract the virus, which may inadvertently contribute to the disease state. This perspective on the interplay between enhancing the innate immune response and modulating inflammation and DNA damage responses in the context of Dengue virus infection is novel.\\n\\n4) **Actionable**: The proposed experiments for validating this hypothesis, including siRNA knockdown and overexpression studies followed by assays to measure changes in viral replication, inflammatory cytokine production, and markers of DNA damage, are relatively simple and low-cost. These experiments are well-designed to test the hypothesis and could reveal novel targets for drug therapies.\\n\\nIn summary, Hypothesis B is chosen because it provides a detailed, plausible, and novel mechanistic explanation of the observed data, and proposes actionable experiments for validation.', 'fp_a7daf7c51e', 1532)\n",
      "----\n",
      "Francis Crick (gpt-4-0125-preview)\n",
      "(\"I deem Hypothesis A to be the best one.\\n\\nThe reasons for my decision are as follows:\\n\\n1) **Mechanistic**: Hypothesis A provides a detailed mechanistic explanation involving the increased abundance of SP110, PARP9, and SAMD9L and how these changes could modulate the innate immune response and apoptosis pathways in the context of Dengue virus infection. It clearly outlines the roles of these proteins and their potential interactions, offering a comprehensive view of the molecular mechanisms at play.\\n\\n2) **Plausible**: The proposed mechanisms in Hypothesis A are grounded in known molecular functions and interactions of the proteins involved. SP110's role in the innate immune response, PARP9's involvement in DNA damage responses and inflammation, and SAMD9L's implication in antiviral responses are all well-documented, making the hypothesis plausible.\\n\\n3) **Novel**: While the roles of SP110, PARP9, and SAMD9L in immune responses and DNA damage are known, their coordinated action in response to Dengue virus infection as a potential contributor to the disease state represents a novel insight. This hypothesis suggests a new angle for understanding the pathogenesis of Dengue virus infection and identifies potential novel targets for therapeutic intervention.\\n\\n4) **Actionable**: The hypothesis outlines specific, relatively low-cost experimental techniques for validation, such as siRNA knockdown and overexpression studies, followed by assays to measure changes in viral replication, inflammatory cytokine production, and markers of DNA damage. These proposed experiments are well within the reach of most molecular biology laboratories and directly address the roles of the proteins in question, making the hypothesis highly actionable.\\n\\nIn summary, Hypothesis A is chosen based on its detailed mechanistic explanation, plausibility based on known protein functions, novelty in the context of Dengue virus infection, and the clear, actionable path it presents for experimental validation.\", 'fp_f38f4d6482', 1559)\n",
      "----\n"
     ]
    }
   ],
   "source": [
    "for comparison in review.comparisons:\n",
    "    print(f\"{comparison.reviewer.name} ({comparison.reviewer.llm.model_name})\")\n",
    "    print(comparison.comment)\n",
    "    print(\"----\")"
   ]
  },
  {
   "cell_type": "code",
   "execution_count": null,
   "metadata": {},
   "outputs": [],
   "source": []
  }
 ],
 "metadata": {
  "kernelspec": {
   "display_name": "Python 3 (ipykernel)",
   "language": "python",
   "name": "python3"
  },
  "language_info": {
   "codemirror_mode": {
    "name": "ipython",
    "version": 3
   },
   "file_extension": ".py",
   "mimetype": "text/x-python",
   "name": "python",
   "nbconvert_exporter": "python",
   "pygments_lexer": "ipython3",
   "version": "3.11.5"
  }
 },
 "nbformat": 4,
 "nbformat_minor": 4
}
