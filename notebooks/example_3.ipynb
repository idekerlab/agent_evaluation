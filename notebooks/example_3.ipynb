{
 "cells": [
  {
   "cell_type": "markdown",
   "metadata": {},
   "source": [
    "## Path Setup\n",
    "Add the parent directory to the Python path so that the notebook can find the modules"
   ]
  },
  {
   "cell_type": "code",
   "execution_count": 1,
   "metadata": {},
   "outputs": [
    {
     "name": "stdout",
     "output_type": "stream",
     "text": [
      "/Users/rudi/Documents/GitHub/agent_evaluation/notebooks\n",
      "/Users/rudi/Documents/GitHub/agent_evaluation\n",
      "['/Users/rudi/Documents/GitHub/agent_evaluation/notebooks', '/Users/rudi/anaconda3/envs/dengue/lib/python311.zip', '/Users/rudi/anaconda3/envs/dengue/lib/python3.11', '/Users/rudi/anaconda3/envs/dengue/lib/python3.11/lib-dynload', '', '/Users/rudi/anaconda3/envs/dengue/lib/python3.11/site-packages', '/Users/rudi/Documents/GitHub/agent_evaluation']\n"
     ]
    }
   ],
   "source": [
    "import sys\n",
    "import os\n",
    "\n",
    "cwd = os.getcwd() # Current working directory\n",
    "dirname = os.path.dirname(cwd) # Parent directory\n",
    "print(cwd)\n",
    "print(dirname)\n",
    "sys.path.append(dirname)# Add the parent directory to the Python path\n",
    "print(sys.path)"
   ]
  },
  {
   "cell_type": "markdown",
   "metadata": {},
   "source": [
    "## Get a Hierarchy\n"
   ]
  },
  {
   "cell_type": "code",
   "execution_count": 2,
   "metadata": {},
   "outputs": [
    {
     "name": "stdout",
     "output_type": "stream",
     "text": [
      "Name: Dengue model - hidef string 12.0 0.7 (GPT-4 annotated) - L2R\n",
      "Number of nodes: 203\n",
      "Number of nodes: 249\n",
      "Name: dengue string 12.0 0.7\n",
      "Number of nodes: 1375\n",
      "Number of nodes: 2792\n"
     ]
    }
   ],
   "source": [
    "from agent_evaluation.hierarchy import Hierarchy\n",
    "import json\n",
    "import ndex2 \n",
    "from ndex2.cx2 import RawCX2NetworkFactory\n",
    "\n",
    "# Create NDEx2 python client\n",
    "client = ndex2.client.Ndex2()\n",
    "\n",
    "# Create CX2Network factory\n",
    "factory = RawCX2NetworkFactory()\n",
    "\n",
    "# Download BioGRID: Protein-Protein Interactions (SARS-CoV) from NDEx\n",
    "# https://www.ndexbio.org/viewer/networks/669f30a3-cee6-11ea-aaef-0ac135e8bacf\n",
    "# client_resp = client.get_network_as_cx2_stream('669f30a3-cee6-11ea-aaef-0ac135e8bacf')\n",
    "\n",
    "# Dengue string interactome network c223d6db-b0e2-11ee-8a13-005056ae23aa\n",
    "client_resp = client.get_network_as_cx2_stream('c223d6db-b0e2-11ee-8a13-005056ae23aa')\n",
    "\n",
    "# Convert downloaded interactome network to CX2Network object\n",
    "interactome = factory.get_cx2network(json.loads(client_resp.content))\n",
    "\n",
    "# Dengue hierarchy\n",
    "# https://www.ndexbio.org/viewer/networks/59bbb9f1-e029-11ee-9621-005056ae23aa\n",
    "client_resp = client.get_network_as_cx2_stream('59bbb9f1-e029-11ee-9621-005056ae23aa')\n",
    "\n",
    "# Convert downloaded interactome network to CX2Network object\n",
    "hierarchy = factory.get_cx2network(json.loads(client_resp.content))\n",
    "\n",
    "# Display information about the hierarchy network and output 1st 100 characters of CX2\n",
    "print('Name: ' + hierarchy.get_name())\n",
    "print('Number of nodes: ' + str(len(hierarchy.get_nodes())))\n",
    "print('Number of nodes: ' + str(len(hierarchy.get_edges())))\n",
    "\n",
    "# Display information about the interactome network \n",
    "print('Name: ' + interactome.get_name())\n",
    "print('Number of nodes: ' + str(len(interactome.get_nodes())))\n",
    "print('Number of nodes: ' + str(len(interactome.get_edges())))\n"
   ]
  },
  {
   "cell_type": "markdown",
   "metadata": {},
   "source": [
    "## Get Datasets"
   ]
  },
  {
   "cell_type": "code",
   "execution_count": 3,
   "metadata": {},
   "outputs": [
    {
     "name": "stdout",
     "output_type": "stream",
     "text": [
      "None\n",
      "[{'name': 'SLC30A3'}, {'name': 'SLC30A9'}, {'name': 'SLC30A4'}, {'name': 'TMC6'}, {'name': 'SLC39A8'}, {'name': 'SLC30A1', 'DV3_24h-Mock_24h': -2.114594111}]\n"
     ]
    }
   ],
   "source": [
    "dengue_hierarchy = Hierarchy(hierarchy, interactome)\n",
    "print(dengue_hierarchy.get_experiment_description())\n",
    "datasets = dengue_hierarchy.get_datasets(member_attributes=[\"name\", \"DV3_24h-Mock_24h\"],\n",
    "                                         filter={\"max_size\": 6})[1:2:]  # [32:33:]   [1:33:31]       \n",
    "for dataset in datasets:\n",
    "    print(dataset.data)"
   ]
  },
  {
   "cell_type": "markdown",
   "metadata": {},
   "source": [
    "## Analyst Agents"
   ]
  },
  {
   "cell_type": "code",
   "execution_count": 4,
   "metadata": {},
   "outputs": [
    {
     "name": "stdout",
     "output_type": "stream",
     "text": [
      "Model: gpt-3.5-turbo-1106, Temperature: 0, Max Tokens: 2048, Seed: 42\n",
      "Model: gpt-4-0125-preview, Temperature: 0, Max Tokens: 2048, Seed: 42\n"
     ]
    }
   ],
   "source": [
    "from agent_evaluation.analyst import Analyst\n",
    "from agent_evaluation.llm import OpenAI_LLM\n",
    "\n",
    "gpt3_5 = OpenAI_LLM(\"gpt-3.5-turbo-1106\")\n",
    "gpt4 = OpenAI_LLM(\"gpt-4-0125-preview\")"
   ]
  },
  {
   "cell_type": "code",
   "execution_count": 5,
   "metadata": {},
   "outputs": [],
   "source": [
    "# Analist 1 > Jane (GPT-3.5-turbo-1106)\n",
    "\n",
    "analyst_1_context = \"\"\"\n",
    "You are a helpful analyst of genomic, proteomic, and other biological data. \n",
    "\"\"\"\n",
    "\n",
    "analyst_1_prompt_template = \"\"\" \n",
    "The provided proteomics \"dataset\" includes interacting proteins and the measurements of their differential abundance as a ratio between treated and non-treated samples, where the treatment is the infection of human cells with Dengue virus. \n",
    "Not all proteins in the dataset have differential abundance measurements.\n",
    "\n",
    "The dataset has 2 columns with the following headers: name, DV3_24h-Mock_24h. \n",
    "The first column contains the protein names and the last columns contains the abundance measurements.\n",
    "Please note that abundance measurements <0 reflect a \"decreased abundance\" while measurements >0 indicate an \"increased abundance\".\n",
    "\n",
    "Your task is to leverage this dataset to analyze a subset of interacting proteins that are defined as “proteins of interest\".\n",
    "\n",
    "First, determine what proteins of interest show a differential abundance recorded in the dataset. \n",
    "Then, based on this information and on the known functions of all other proteins of interest, \n",
    "I want you to generate a hypothesis describing the mechanisms that may contribute to the disease state \n",
    "and could potentially be targeted by drug therapies.\n",
    "\n",
    "Your hypothesis should meet the following criteria:\n",
    "1) Include one or more molecular mechanism involving one or more proteins of interest\n",
    "2) Be plausible - grounded in known molecular functions and interactions\n",
    "3) Be novel - proposing mechanisms either not known or not known to be relevant to the experimental context\n",
    "4) Be actionable - can be validated with relatively low-cost experimental techniques\n",
    "\n",
    "When presenting your results, please adhere to the following guidelines:\n",
    "\n",
    "- Avoid including any code.\n",
    "- Do not describe the analytical steps you took.\n",
    "- Do not merely list the proteins of interest, regardless whether they show a differential abundance recorded in the dataset or not.\n",
    "- Build your hypotheses taking into consideration the interplay among all proteins of interest, not only those that show a differential abundance in the dataset.\n",
    "\n",
    "- Your output should consist solely of the identified proteins of interest with changed abundance levels, and the hypothesis you propose.\n",
    "\n",
    "Here is the set of proteins of interest: \n",
    "{data}\n",
    "\"\"\"\n",
    "\n",
    "analyst_1 = Analyst(gpt3_5, analyst_1_context, analyst_1_prompt_template, \"Jack\", \"The first analyst\")\n"
   ]
  },
  {
   "cell_type": "code",
   "execution_count": 6,
   "metadata": {},
   "outputs": [],
   "source": [
    "# Analist 2 > John (GPT-4-0125-preview)\n",
    "\n",
    "analyst_2_context = analyst_1_context\n",
    "\n",
    "analyst_2_prompt_template = analyst_1_prompt_template\n",
    "\n",
    "\n",
    "analyst_2 = Analyst(gpt4, analyst_2_context, analyst_2_prompt_template, \"John\", \"The second analyst\")"
   ]
  },
  {
   "cell_type": "markdown",
   "metadata": {},
   "source": [
    "## The TestPlan"
   ]
  },
  {
   "cell_type": "code",
   "execution_count": 7,
   "metadata": {},
   "outputs": [],
   "source": [
    "from agent_evaluation.test import TestPlan\n",
    "\n",
    "test_plan = TestPlan(analysts=[analyst_1, analyst_2], datasets=datasets)\n"
   ]
  },
  {
   "cell_type": "markdown",
   "metadata": {},
   "source": [
    "## Run the Test\n",
    "\n",
    "OpenAi python package cannot be > 0.28.\n",
    "\n",
    "- https://github.com/openai/openai-python\n",
    "\n",
    "- https://github.com/openai/openai-python/discussions/742\n",
    "\n",
    "If Genai package is used, Openai must be 0.27.x "
   ]
  },
  {
   "cell_type": "code",
   "execution_count": 8,
   "metadata": {},
   "outputs": [
    {
     "name": "stdout",
     "output_type": "stream",
     "text": [
      "Generating hypothesis by Jack on [{'name': 'SLC30A3'}, {'name': 'SLC30A9'}, {'name': 'SLC30A4'}, {'name': 'TMC6'}, {'name': 'SLC39A8'}, {'name': 'SLC30A1', 'DV3_24h-Mock_24h': -2.114594111}]\n",
      "Generating hypothesis by John on [{'name': 'SLC30A3'}, {'name': 'SLC30A9'}, {'name': 'SLC30A4'}, {'name': 'TMC6'}, {'name': 'SLC39A8'}, {'name': 'SLC30A1', 'DV3_24h-Mock_24h': -2.114594111}]\n"
     ]
    }
   ],
   "source": [
    "from agent_evaluation.test import Test\n",
    "\n",
    "test = Test(test_plan)\n",
    "test.run()"
   ]
  },
  {
   "cell_type": "code",
   "execution_count": 9,
   "metadata": {},
   "outputs": [
    {
     "name": "stdout",
     "output_type": "stream",
     "text": [
      "Jack (gpt-3.5-turbo-1106):\n",
      "('The proteins of interest with differential abundance recorded in the dataset are as follows:\\n\\n1. SLC30A1 (decreased abundance)\\n\\nBased on the known functions of the proteins of interest and their interactions, a hypothesis can be generated to describe a potential mechanism contributing to the disease state and potential drug targets. \\n\\nHypothesis:\\nThe differential abundance of SLC30A1, a zinc transporter, suggests a potential dysregulation of zinc homeostasis in response to Dengue virus infection. This dysregulation may lead to altered immune responses and inflammatory processes, contributing to the pathogenesis of Dengue fever. SLC30A1 is known to play a crucial role in regulating intracellular zinc levels, which in turn modulates the activity of zinc-dependent proteins involved in immune signaling and antiviral defense. The decreased abundance of SLC30A1 may lead to intracellular zinc depletion, impacting the function of zinc-dependent proteins involved in antiviral responses. This dysregulation of zinc homeostasis could potentially be targeted for therapeutic intervention by modulating zinc levels or targeting downstream zinc-dependent pathways to mitigate the inflammatory response and viral replication.\\n\\nThis hypothesis meets the specified criteria:\\n1) It involves a molecular mechanism (zinc homeostasis) involving a protein of interest (SLC30A1).\\n2) It is grounded in known molecular functions and interactions of SLC30A1 and zinc-dependent proteins.\\n3) It proposes a novel mechanism not previously known to be relevant to the experimental context of Dengue virus infection.\\n4) It is actionable and can be validated with relatively low-cost experimental techniques, such as assessing intracellular zinc levels and the activity of zinc-dependent proteins in response to Dengue virus infection.\\n\\nThis hypothesis provides a potential avenue for further investigation and the development of targeted therapies for Dengue fever.', 'fp_77a673219d', 869)\n",
      "---\n",
      "John (gpt-4-0125-preview):\n",
      "('Identified Protein of Interest with Changed Abundance Levels:\\n- SLC30A1: Shows a decreased abundance with a ratio of -2.114594111 in the dataset, indicating a significant reduction in its levels in human cells infected with Dengue virus compared to non-treated (mock) samples.\\n\\nHypothesis:\\nThe decreased abundance of SLC30A1, a zinc transporter, in the context of Dengue virus infection suggests a potential disruption in zinc homeostasis within infected cells. Zinc is a critical trace element that plays essential roles in various cellular processes, including immune function, oxidative stress response, and enzyme function. The reduction in SLC30A1 levels could lead to decreased intracellular zinc levels, which may impair the antiviral response of cells and enhance viral replication and pathogenesis.\\n\\nGiven the known interactions and functions of the other proteins of interest (SLC30A3, SLC30A9, SLC30A4, TMC6, and SLC39A8), which are also involved in metal ion transport and cellular homeostasis, it is plausible that Dengue virus manipulates host cellular zinc levels to create an environment conducive to its replication. This manipulation could involve not only the downregulation of zinc transporters like SLC30A1 but also potential effects on other metal ion transporters and channels to dysregulate cellular ion homeostasis.\\n\\nTherefore, the hypothesis is that Dengue virus infection leads to a targeted disruption of zinc homeostasis through the downregulation of SLC30A1, among potentially other metal ion transporters, contributing to viral pathogenesis and disease state. This disruption could impair cellular processes critical for an effective antiviral response, facilitating viral replication and the progression of Dengue fever.\\n\\nThis hypothesis can be validated through relatively low-cost experimental techniques such as:\\n1. Quantitative PCR and Western blot to confirm the downregulation of SLC30A1 and potentially other metal ion transporters at the mRNA and protein levels, respectively, in Dengue virus-infected cells compared to controls.\\n2. Intracellular zinc measurement using fluorescent zinc indicators to assess the impact of Dengue virus infection on cellular zinc levels.\\n3. Viral replication assays in the presence of zinc supplementation or chelation to determine the effect of zinc homeostasis on Dengue virus replication efficiency.\\n\\nThese experiments could provide insights into the role of zinc and other metal ions in Dengue virus pathogenesis and identify potential targets for therapeutic intervention to restore metal ion homeostasis as a strategy to combat Dengue virus infection.', 'fp_ab004a1a5b', 1020)\n",
      "---\n"
     ]
    }
   ],
   "source": [
    "for hypothesis in test.hypotheses:\n",
    "    print(f\"{hypothesis.analyst.name} ({hypothesis.analyst.llm.model_name}):\")\n",
    "    print(hypothesis.description)\n",
    "    print(\"---\")"
   ]
  },
  {
   "cell_type": "code",
   "execution_count": 10,
   "metadata": {},
   "outputs": [
    {
     "data": {
      "text/plain": [
       "2"
      ]
     },
     "execution_count": 10,
     "metadata": {},
     "output_type": "execute_result"
    }
   ],
   "source": [
    "# Check the number of hypotheses generated (should be just 2, 1 by Jane and 1 by John)\n",
    "\n",
    "len(test.hypotheses)"
   ]
  },
  {
   "cell_type": "markdown",
   "metadata": {},
   "source": [
    "## Reviewers"
   ]
  },
  {
   "cell_type": "code",
   "execution_count": 11,
   "metadata": {},
   "outputs": [],
   "source": [
    "from agent_evaluation.reviewer import Reviewer\n",
    "\n",
    "\n",
    "# Reviewer 1 > James Watson (GPT-3.5-turbo-1106)\n",
    "\n",
    "reviewer_1_context = \"You are a full professor with extensive knowledge of molecular mechanisms in biology and human diseases\"\n",
    "\n",
    "reviewer_1_prompt_template = \"\"\"\n",
    "Starting from an experimental dataset and a list of proteins of intertest, our analysts have generated 2 hypotheses \n",
    "that might explain the observed data upon infection of a human cell line with the Dengue virus.\n",
    "\n",
    "Your task is to carefully review the 2 hypotheses provided, and choose the best one based on the following evaluation criteria:\n",
    "\n",
    "1) Mechanistic - The hypothesis includes one or more molecular mechanisms involving one or more proteins of interest.\n",
    "2) Plausible - The hypothesis is plausible and grounded in known molecular functions and interactions.\n",
    "3) Novel - The hypothesis proposes mechanisms either not known or not known to be relevant to the experimental context.\n",
    "4) Actionable - The hypothesis can be validated with relatively simple, low-cost experimental techniques\".\n",
    "\n",
    "You must execute your evaluation using only the information provided in the 2 hypotheses.\n",
    "Assign a rating between 1 (poor) and 5 (excellent) to each evaluation criteria according to your judgement,\n",
    "but don't include these ratings in your response; instead, average the ratings and calculate the \"Overall Score\".\n",
    "\n",
    "When presenting your output, only include the following info:\n",
    "1) The \"Overall Score\n",
    "2) Which analyst's hypothesis you deem to be the best one ({analyst_a} or {analyst_b}).\n",
    "3) What are the reasons that dictated your decision.\n",
    "4) If the 2 hypotheses are of equivalent quality, don't make a choice and provide a brief explanation supporting your decision.\n",
    "\n",
    "Here are the hypotheses:\n",
    "{analyst_a}: {hypothesis_a}\n",
    "{analyst_b}: {hypothesis_b}\n",
    "\"\"\"\n",
    "\n",
    "reviewer_1 = Reviewer(gpt3_5, reviewer_1_context, reviewer_1_prompt_template, \"James Watson\", \"The first reviewer\")\n"
   ]
  },
  {
   "cell_type": "code",
   "execution_count": 12,
   "metadata": {},
   "outputs": [],
   "source": [
    "# Reviewer 2 > Francis Crick (GPT-4-0125-preview)\n",
    "\n",
    "reviewer_2_context = reviewer_1_context\n",
    "reviewer_2_prompt_template = reviewer_1_prompt_template\n",
    "\n",
    "reviewer_2 = Reviewer(gpt4, reviewer_2_context, reviewer_2_prompt_template, \"Francis Crick\", \"The second reviewer\")"
   ]
  },
  {
   "cell_type": "markdown",
   "metadata": {},
   "source": [
    "## The ReviewPlan"
   ]
  },
  {
   "cell_type": "code",
   "execution_count": 13,
   "metadata": {},
   "outputs": [],
   "source": [
    "from agent_evaluation.review import ReviewPlan\n",
    "\n",
    "review_plan = ReviewPlan(reviewers=[reviewer_1, reviewer_2], test=test)\n"
   ]
  },
  {
   "cell_type": "markdown",
   "metadata": {},
   "source": [
    "## Run the Review"
   ]
  },
  {
   "cell_type": "code",
   "execution_count": 14,
   "metadata": {},
   "outputs": [
    {
     "name": "stdout",
     "output_type": "stream",
     "text": [
      "Generating A-B comparison by James Watson...\n",
      "Generating A-B comparison by Francis Crick...\n"
     ]
    }
   ],
   "source": [
    "from agent_evaluation.review import Review\n",
    "\n",
    "review = Review(review_plan)    \n",
    "review.run()\n"
   ]
  },
  {
   "cell_type": "code",
   "execution_count": 15,
   "metadata": {},
   "outputs": [
    {
     "name": "stdout",
     "output_type": "stream",
     "text": [
      "James Watson (gpt-3.5-turbo-1106)\n",
      "(\"Based on the evaluation criteria, the overall score for each hypothesis is as follows:\\n\\nJack's Hypothesis:\\n1) Mechanistic: 5\\n2) Plausible: 5\\n3) Novel: 5\\n4) Actionable: 5\\n\\nJohn's Hypothesis:\\n1) Mechanistic: 4\\n2) Plausible: 4\\n3) Novel: 4\\n4) Actionable: 5\\n\\nBased on the evaluation, Jack's hypothesis scores slightly higher in all criteria compared to John's hypothesis. Both hypotheses are grounded in known molecular functions and interactions, propose novel mechanisms not previously known to be relevant to the experimental context, and are actionable with relatively low-cost experimental techniques. However, Jack's hypothesis provides a more detailed and focused mechanistic explanation, which contributes to its higher score in the evaluation criteria.\\n\\nTherefore, based on the evaluation, Jack's hypothesis is deemed to be the best one.\", 'fp_ad2b9c6e11', 1449)\n",
      "----\n",
      "Francis Crick (gpt-4-0125-preview)\n",
      "(\"Overall Score: 4.5\\n\\nBest Hypothesis: John\\n\\nReasons for Decision:\\n1. Mechanistic Detail: Both hypotheses propose a mechanism involving the zinc transporter SLC30A1 and its role in zinc homeostasis as a response to Dengue virus infection. However, John's hypothesis extends this mechanism by considering the potential involvement of other metal ion transporters and channels, providing a more comprehensive view of the cellular dysregulation upon infection. This broader approach not only addresses the direct impact of SLC30A1 downregulation but also suggests a systemic manipulation of cellular ion homeostasis by the Dengue virus, which is a more detailed mechanistic insight.\\n\\n2. Plausibility: John's hypothesis is grounded in the known functions of SLC30A1 and extends plausibly to include other proteins involved in metal ion transport, which could be affected by Dengue virus infection. This broader perspective on how the virus might manipulate host cellular mechanisms for its replication is highly plausible given the complex interactions between viruses and host cells.\\n\\n3. Novelty: While both hypotheses propose novel mechanisms related to Dengue virus infection and zinc homeostasis, John's hypothesis introduces the idea that the virus could be targeting a range of metal ion transporters, not just SLC30A1. This concept of a more systemic disruption of metal ion homeostasis is a novel insight that could open up new avenues for research into Dengue virus pathogenesis and treatment strategies.\\n\\n4. Actionability: John's hypothesis is actionable and outlines specific, low-cost experimental techniques to validate the proposed mechanism. The inclusion of quantitative PCR and Western blot for confirming downregulation of metal ion transporters, alongside functional assays to assess the impact on viral replication and cellular zinc levels, provides a clear path for experimental validation. This approach not only targets the validation of the hypothesis but also suggests potential therapeutic interventions to restore metal ion homeostasis.\\n\\nIn summary, John's hypothesis was chosen due to its comprehensive mechanistic insight, plausibility, novelty, and clear path for experimental validation. It provides a broader understanding of the potential strategies employed by the Dengue virus to manipulate host cell processes, offering more avenues for therapeutic intervention.\", 'fp_4aa5f8282e', 1705)\n",
      "----\n"
     ]
    }
   ],
   "source": [
    "for comparison in review.comparisons:\n",
    "    print(f\"{comparison.reviewer.name} ({comparison.reviewer.llm.model_name})\")\n",
    "    print(comparison.comment)\n",
    "    print(\"----\")"
   ]
  },
  {
   "cell_type": "markdown",
   "metadata": {},
   "source": [
    "## Creating a mock analyst, mock hypothesis and comparing to a real one\n",
    "\n",
    "to do: Create a function to wrap up all the below"
   ]
  },
  {
   "cell_type": "code",
   "execution_count": 16,
   "metadata": {},
   "outputs": [
    {
     "name": "stdout",
     "output_type": "stream",
     "text": [
      "Created mock analyst named \"Beavis\"\n"
     ]
    }
   ],
   "source": [
    "#First, create a mock analyst\n",
    "\n",
    "mock_context = \"You are a clueless highschool student with biology 101 level education\"\n",
    "mock_prompt_template = analyst_1_prompt_template\n",
    "mock_name = 'Beavis'\n",
    "    \n",
    "mock_analyst = Analyst(llm=None, context=mock_context, prompt_template=mock_prompt_template, name=mock_name, label=\"A dumb analyst\")\n",
    "\n",
    "print(f'Created mock analyst named \"{mock_analyst.name}\"')"
   ]
  },
  {
   "cell_type": "code",
   "execution_count": 17,
   "metadata": {},
   "outputs": [],
   "source": [
    "# Text of the mock analysis(es) generated by the mock analyst\n",
    "\n",
    "#zinc\n",
    "mock_description_1 = '''\n",
    "The decreased abundance of SLC30A1, a zinc transporter, during Dengue virus infection does not appear to disrupt zinc homeostasis within infected cells. Despite the critical roles of zinc in cellular processes including immune function, oxidative stress response, and enzyme function, the reduction in SLC30A1 levels is unlikely to significantly impact intracellular zinc levels. This is due to the presence of numerous compensatory mechanisms and other zinc transporters (SLC30A3, SLC30A4, SLC30A9, and SLC39A8) that can efficiently maintain zinc homeostasis independent of SLC30A1 activity.\n",
    "Moreover, recent findings suggest that Dengue virus may encode for alternative zinc-binding proteins that can substitute the function of downregulated human zinc transporters, thereby stabilizing zinc levels within the host cells. Additionally, the involvement of TMC6, while linked to cellular ion homeostasis, may play a negligible role in the context of zinc transport and homeostasis altered by Dengue virus infection. Experimental evidence indicates that TMC6’s activity is largely redundant in the presence of viral-encoded ion regulatory mechanisms.\n",
    "\n",
    "Therefore, the decreased abundance of SLC30A1 during Dengue virus infection does not significantly affect zinc homeostasis, nor does it impair cellular antiviral responses. Rather, the viral strategies may include the upregulation of alternative pathways that compensate for or bypass the decreased activity of SLC30A1, thus negating any potential disruption in zinc transport and homeostasis mechanisms.\n",
    "\n",
    "This hypothesis can be explored by:\n",
    "1. Conducting comparative analyses of intracellular zinc levels in Dengue virus-infected cells versus mock-infected cells to determine the redundancy of SLC30A1 in maintaining zinc homeostasis.\n",
    "2. Investigating the expression and functionality of viral proteins that might mimic or compensate for the roles of human zinc transporters in the context of Dengue virus infection.\n",
    "3. Evaluating the role of TMC6 in Dengue virus-infected cells, with a focus on understanding its potential redundancy when viral mechanisms are active.\n",
    "4. Performing studies to determine if Dengue virus replication and pathogenesis are unaffected by modifications in zinc supplementation or chelation, thereby demonstrating the virus’s ability to maintain ion homeostasis independently of host zinc transport systems.\n",
    "\n",
    "These experiments could elucidate alternative mechanisms of Dengue virus pathogenesis and reveal viral adaptive strategies that circumvent disruptions in host cellular mechanisms, potentially providing new targets for therapeutic intervention that focus on viral rather than host processes.\n",
    "'''\n",
    "\n",
    "#SP110\n",
    "mock_description_2 = '''\n",
    "The increased abundance of Increased abundance of SP110 in response to Dengue virus (DV) infection indicates a possible involvement of membrane vescicles in contributing to the disease state.\\n\\nSP110 is a plasma membrane protein involved in protein sorting and sensing of external stimuli. Upon Dengue infection, SP110 is segregated to cholesterol-rich, detergent-resistant microdomains (DRMs), also know as lipid rafts. The Dengue virus can attach itself to these rafts thanks to the interaction between its envelop protein E1 and cholesterol molecules and use the cell membrane as highway to navigate the cell and spread itself to all subcellular structures, thus hijacking essential processes such as energy production, DNA replication and immune response.\n",
    "Besides these effects, all these lipid rafts navigating the plasma membrane can also cause macromolecular traffic jams as well as enzymatic accidents that can further exacerbate the disease state.\\n\\nTo validate this hypothesis, we suggest the following low-cost experimental approaches:\\n1. **DRMs Fractionation**: Using a variety of detergents and sucrose gradients, lipid rafts can be purified and subject to electron microscopy to verify whether Dengue virus is attached. \\n2. **Cholesterol depletion**: By treating infected cells with methyl-β-cyclodextrin (MBCD) for 48h, we can chemically eliminate all cholesterol from the cell and thus preventing diffusion of the Dengue virus and blocking disease progression. depleting infected cells of all their cholesterol content, \n",
    "with and without the knockdown of SP110. \\n3. **DNA Damage Assays**: Perform assays to assess DNA damage (e.g., comet assay, γ-H2AX foci formation) in DV-infected cells with altered expression of SP110. This would help to elucidate the role of SP110 in DNA damage response during DV infection.\n",
    "'''"
   ]
  },
  {
   "cell_type": "code",
   "execution_count": 18,
   "metadata": {},
   "outputs": [],
   "source": [
    "# Now, we generate a mock hypothesis object\n",
    "\n",
    "from agent_evaluation.hypothesis import Hypothesis\n",
    "\n",
    "mock_hypothesis_1 = Hypothesis(dataset, mock_analyst, mock_description_1)\n",
    "# mock_hypothesis_2 = Hypothesis(dataset, mock_analyst, mock_description_2)"
   ]
  },
  {
   "cell_type": "code",
   "execution_count": 19,
   "metadata": {},
   "outputs": [],
   "source": [
    "# Next, we make a mock test plan where we can specify what analysts and datasets we want to use\n",
    "\n",
    "mock_test_plan = TestPlan(analysts=[analyst_2, mock_analyst], datasets=datasets)"
   ]
  },
  {
   "cell_type": "code",
   "execution_count": 20,
   "metadata": {},
   "outputs": [],
   "source": [
    "#Then we make a mock Test instance and specify what hypothesis we want to use...\n",
    "# To compare mock with John:\n",
    "\n",
    "mock_test = Test(mock_test_plan)\n",
    "mock_test.hypotheses=[mock_hypothesis_1, test.hypotheses[1]]\n",
    "\n",
    "# To compare mock with Jack:\n",
    "# mock_test.hypotheses=[mock_hypothesis_1, test.hypotheses[0]]"
   ]
  },
  {
   "cell_type": "code",
   "execution_count": 21,
   "metadata": {},
   "outputs": [],
   "source": [
    "#Create mock review plan\n",
    "\n",
    "mock_review_plan = ReviewPlan(mock_test,reviewers=[reviewer_1, reviewer_2])"
   ]
  },
  {
   "cell_type": "code",
   "execution_count": 22,
   "metadata": {},
   "outputs": [],
   "source": [
    "# Create a mock review instance\n",
    "\n",
    "mock_review = Review(mock_review_plan)"
   ]
  },
  {
   "cell_type": "code",
   "execution_count": 23,
   "metadata": {},
   "outputs": [
    {
     "name": "stdout",
     "output_type": "stream",
     "text": [
      "Generating A-B comparison by James Watson...\n",
      "Generating A-B comparison by Francis Crick...\n"
     ]
    }
   ],
   "source": [
    "# In mock_review.run(), I can specify 'comparison_order' ('AB', 'BA', 'both') and 'reverse' (bool) arguments if I like\n",
    "\n",
    "mock_review.run() "
   ]
  },
  {
   "cell_type": "code",
   "execution_count": 24,
   "metadata": {},
   "outputs": [
    {
     "name": "stdout",
     "output_type": "stream",
     "text": [
      "James Watson (gpt-3.5-turbo-1106)\n",
      "(\"Based on the evaluation criteria provided, the overall score for each hypothesis is as follows:\\n\\nBeavis:\\n1) Mechanistic: 4\\n2) Plausible: 5\\n3) Novel: 4\\n4) Actionable: 5\\n\\nJohn:\\n1) Mechanistic: 3\\n2) Plausible: 4\\n3) Novel: 3\\n4) Actionable: 4\\n\\nBased on the evaluation, the hypothesis presented by Beavis is deemed to be the best one. This decision is based on the fact that Beavis' hypothesis provides a more comprehensive and plausible explanation for the observed data. It takes into account the compensatory mechanisms and viral strategies that may stabilize zinc levels within host cells, as well as the potential redundancy of TMC6 in the context of zinc transport and homeostasis altered by Dengue virus infection. Additionally, Beavis' hypothesis outlines a set of experiments that can be conducted to validate the proposed mechanisms, which are relatively simple and low-cost.\\n\\nIf the 2 hypotheses were of equivalent quality, a brief explanation supporting the decision would be provided.\", 'fp_77a673219d', 1603)\n",
      "----\n",
      "Francis Crick (gpt-4-0125-preview)\n",
      "(\"Overall Score: 4\\n\\nBest Hypothesis: Beavis\\n\\nReasons for Decision:\\n1. Mechanistic Detail: Beavis's hypothesis provides a comprehensive mechanistic explanation involving multiple zinc transporters and introduces the novel concept of Dengue virus encoding alternative zinc-binding proteins. This adds depth to the understanding of how zinc homeostasis might be maintained despite the downregulation of SLC30A1, aligning well with the criteria for mechanistic detail and novelty.\\n\\n2. Plausibility: Both hypotheses are grounded in plausible molecular functions and interactions. However, Beavis's hypothesis edges out by considering compensatory mechanisms within the cell and potential viral strategies that could negate the impact of SLC30A1 downregulation. This broader view of cellular and viral capabilities makes the hypothesis more plausible in the context of the complex interactions during Dengue virus infection.\\n\\n3. Novelty: The suggestion that Dengue virus may encode for alternative zinc-binding proteins to stabilize zinc levels is a novel idea not widely reported in the context of Dengue virus infection. This aspect of Beavis's hypothesis stands out for proposing a mechanism that is not well-known but is biologically plausible, thereby fulfilling the novelty criterion effectively.\\n\\n4. Actionability: Both hypotheses propose actionable experimental approaches. However, Beavis's hypothesis is slightly more compelling in its actionability because it suggests investigating not only the role of human proteins but also the expression and functionality of viral proteins that might mimic human zinc transporters. This approach could reveal new viral targets for therapeutic intervention, making it slightly more actionable in terms of identifying novel strategies to combat Dengue virus infection.\\n\\nIn summary, while both hypotheses offer valuable insights into the potential impact of Dengue virus infection on zinc homeostasis, Beavis's hypothesis is selected as the best one due to its comprehensive mechanistic detail, incorporation of novel concepts regarding viral adaptation strategies, and slightly broader scope for actionable experimental validation.\", 'fp_122114e45f', 1765)\n",
      "----\n"
     ]
    }
   ],
   "source": [
    "for comparison in mock_review.comparisons:\n",
    "    print(f\"{comparison.reviewer.name} ({comparison.reviewer.llm.model_name})\")\n",
    "    print(comparison.comment)\n",
    "    print(\"----\")"
   ]
  },
  {
   "cell_type": "code",
   "execution_count": 25,
   "metadata": {},
   "outputs": [],
   "source": [
    "mock_review.run(reverse=True)"
   ]
  },
  {
   "cell_type": "code",
   "execution_count": 26,
   "metadata": {},
   "outputs": [
    {
     "name": "stdout",
     "output_type": "stream",
     "text": [
      "James Watson (gpt-3.5-turbo-1106)\n",
      "(\"Based on the evaluation criteria provided, the overall score for each hypothesis is as follows:\\n\\nBeavis:\\n1) Mechanistic: 4\\n2) Plausible: 5\\n3) Novel: 4\\n4) Actionable: 5\\n\\nJohn:\\n1) Mechanistic: 3\\n2) Plausible: 4\\n3) Novel: 3\\n4) Actionable: 4\\n\\nBased on the evaluation, the hypothesis presented by Beavis is deemed to be the best one. This decision is based on the fact that Beavis' hypothesis provides a more comprehensive and plausible explanation for the observed data. It takes into account the compensatory mechanisms and viral strategies that may stabilize zinc levels within host cells, as well as the potential redundancy of TMC6 in the context of zinc transport and homeostasis altered by Dengue virus infection. Additionally, Beavis' hypothesis outlines a set of experiments that can be conducted to validate the proposed mechanisms, which are relatively simple and low-cost.\\n\\nIf the 2 hypotheses were of equivalent quality, a brief explanation supporting the decision would be provided.\", 'fp_77a673219d', 1603)\n",
      "----\n",
      "Francis Crick (gpt-4-0125-preview)\n",
      "(\"Overall Score: 4\\n\\nBest Hypothesis: Beavis\\n\\nReasons for Decision:\\n1. Mechanistic Detail: Beavis's hypothesis provides a comprehensive mechanistic explanation involving multiple zinc transporters and introduces the novel concept of Dengue virus encoding alternative zinc-binding proteins. This adds depth to the understanding of how zinc homeostasis might be maintained despite the downregulation of SLC30A1, aligning well with the criteria for mechanistic detail and novelty.\\n\\n2. Plausibility: Both hypotheses are grounded in plausible molecular functions and interactions. However, Beavis's hypothesis edges out by considering compensatory mechanisms within the cell and potential viral strategies that could negate the impact of SLC30A1 downregulation. This broader view of cellular and viral capabilities makes the hypothesis more plausible in the context of the complex interactions during Dengue virus infection.\\n\\n3. Novelty: The suggestion that Dengue virus may encode for alternative zinc-binding proteins to stabilize zinc levels is a novel idea not widely reported in the context of Dengue virus infection. This aspect of Beavis's hypothesis stands out for proposing a mechanism that is not well-known but is biologically plausible, thereby fulfilling the novelty criterion effectively.\\n\\n4. Actionability: Both hypotheses propose actionable experimental approaches. However, Beavis's hypothesis is slightly more compelling in its actionability because it suggests investigating not only the role of human proteins but also the expression and functionality of viral proteins that might mimic human zinc transporters. This approach could reveal new viral targets for therapeutic intervention, making it slightly more actionable in terms of identifying novel strategies to combat Dengue virus infection.\\n\\nIn summary, while both hypotheses offer valuable insights into the potential impact of Dengue virus infection on zinc homeostasis, Beavis's hypothesis is selected as the best one due to its comprehensive mechanistic detail, incorporation of novel concepts regarding viral adaptation strategies, and slightly broader scope for actionable experimental validation.\", 'fp_122114e45f', 1765)\n",
      "----\n"
     ]
    }
   ],
   "source": [
    "for comparison in mock_review.comparisons:\n",
    "    print(f\"{comparison.reviewer.name} ({comparison.reviewer.llm.model_name})\")\n",
    "    print(comparison.comment)\n",
    "    print(\"----\")"
   ]
  },
  {
   "cell_type": "code",
   "execution_count": 27,
   "metadata": {},
   "outputs": [
    {
     "name": "stdout",
     "output_type": "stream",
     "text": [
      "Generating B-A comparison by James Watson...\n",
      "Generating B-A comparison by Francis Crick...\n"
     ]
    }
   ],
   "source": [
    "mock_review.run(comparison_order = 'BA')"
   ]
  },
  {
   "cell_type": "code",
   "execution_count": 28,
   "metadata": {},
   "outputs": [
    {
     "name": "stdout",
     "output_type": "stream",
     "text": [
      "James Watson (gpt-3.5-turbo-1106)\n",
      "(\"Based on the evaluation criteria provided, the overall score for each hypothesis is as follows:\\n\\nBeavis:\\n1) Mechanistic: 4\\n2) Plausible: 5\\n3) Novel: 4\\n4) Actionable: 5\\n\\nJohn:\\n1) Mechanistic: 3\\n2) Plausible: 4\\n3) Novel: 3\\n4) Actionable: 4\\n\\nBased on the evaluation, the hypothesis presented by Beavis is deemed to be the best one. This decision is based on the fact that Beavis' hypothesis provides a more comprehensive and plausible explanation for the observed data. It takes into account the compensatory mechanisms and viral strategies that may stabilize zinc levels within host cells, as well as the potential redundancy of TMC6 in the context of zinc transport and homeostasis altered by Dengue virus infection. Additionally, Beavis' hypothesis outlines a set of experiments that can be conducted to validate the proposed mechanisms, which are relatively simple and low-cost.\\n\\nIf the 2 hypotheses were of equivalent quality, a brief explanation supporting the decision would be provided.\", 'fp_77a673219d', 1603)\n",
      "----\n",
      "Francis Crick (gpt-4-0125-preview)\n",
      "(\"Overall Score: 4\\n\\nBest Hypothesis: Beavis\\n\\nReasons for Decision:\\n1. Mechanistic Detail: Beavis's hypothesis provides a comprehensive mechanistic explanation involving multiple zinc transporters and introduces the novel concept of Dengue virus encoding alternative zinc-binding proteins. This adds depth to the understanding of how zinc homeostasis might be maintained despite the downregulation of SLC30A1, aligning well with the criteria for mechanistic detail and novelty.\\n\\n2. Plausibility: Both hypotheses are grounded in plausible molecular functions and interactions. However, Beavis's hypothesis edges out by considering compensatory mechanisms within the cell and potential viral strategies that could negate the impact of SLC30A1 downregulation. This broader view of cellular and viral capabilities makes the hypothesis more plausible in the context of the complex interactions during Dengue virus infection.\\n\\n3. Novelty: The suggestion that Dengue virus may encode for alternative zinc-binding proteins to stabilize zinc levels is a novel idea not widely reported in the context of Dengue virus infection. This aspect of Beavis's hypothesis stands out for proposing a mechanism that is not well-known but is biologically plausible, thereby fulfilling the novelty criterion effectively.\\n\\n4. Actionability: Both hypotheses propose actionable experimental approaches. However, Beavis's hypothesis is slightly more compelling in its actionability because it suggests investigating not only the role of human proteins but also the expression and functionality of viral proteins that might mimic human zinc transporters. This approach could reveal new viral targets for therapeutic intervention, making it slightly more actionable in terms of identifying novel strategies to combat Dengue virus infection.\\n\\nIn summary, while both hypotheses offer valuable insights into the potential impact of Dengue virus infection on zinc homeostasis, Beavis's hypothesis is selected as the best one due to its comprehensive mechanistic detail, incorporation of novel concepts regarding viral adaptation strategies, and slightly broader scope for actionable experimental validation.\", 'fp_122114e45f', 1765)\n",
      "----\n",
      "James Watson (gpt-3.5-turbo-1106)\n",
      "(\"Based on the evaluation criteria provided, here is the analysis of the two hypotheses:\\n\\nJohn's Hypothesis:\\n1) Mechanistic: The hypothesis involves the molecular mechanism of zinc homeostasis disruption through the downregulation of SLC30A1 and potentially other metal ion transporters, impacting antiviral response and viral replication.\\n2) Plausible: The hypothesis is grounded in the known functions of zinc in cellular processes and the roles of the proteins of interest in metal ion transport and cellular homeostasis.\\n3) Novel: The hypothesis proposes a novel mechanism of Dengue virus pathogenesis involving targeted disruption of zinc homeostasis.\\n4) Actionable: The hypothesis can be validated through relatively simple, low-cost experimental techniques such as quantitative PCR, Western blot, intracellular zinc measurement, and viral replication assays.\\n\\nBeavis's Hypothesis:\\n1) Mechanistic: The hypothesis suggests that the decreased abundance of SLC30A1 during Dengue virus infection does not significantly affect zinc homeostasis due to compensatory mechanisms and viral-encoded alternative zinc-binding proteins.\\n2) Plausible: The hypothesis is grounded in the presence of compensatory mechanisms and viral-encoded proteins that can stabilize zinc levels within host cells.\\n3) Novel: The hypothesis proposes alternative mechanisms of Dengue virus pathogenesis involving viral adaptive strategies that circumvent disruptions in host cellular mechanisms.\\n4) Actionable: The hypothesis can be explored through comparative analyses of intracellular zinc levels, investigation of viral proteins, evaluation of TMC6's role, and studies on the virus's response to modifications in zinc supplementation or chelation.\\n\\nOverall, both hypotheses are well-structured and grounded in known molecular functions and interactions. However, John's hypothesis provides a more detailed mechanistic explanation of how the decreased abundance of SLC30A1 could impact zinc homeostasis and viral pathogenesis. Additionally, John's hypothesis proposes a novel mechanism of Dengue virus pathogenesis involving targeted disruption of zinc homeostasis, which adds to its strength. Therefore, based on the evaluation criteria, John's hypothesis is deemed to be the best one.\\n\\nOverall Score: 4.5\\nReasons for Decision: John's hypothesis provides a more detailed mechanistic explanation and proposes a novel mechanism of Dengue virus pathogenesis involving targeted disruption of zinc homeostasis, which adds to its strength.\\n\\nGiven the evaluation, John's hypothesis is rated higher due to its detailed mechanistic explanation and novel proposal. Therefore, John's hypothesis is considered the best.\", 'fp_ad2b9c6e11', 1881)\n",
      "----\n",
      "Francis Crick (gpt-4-0125-preview)\n",
      "(\"Overall Score: 4.5\\n\\nBest Hypothesis: John\\n\\nReasons for Decision:\\n1. **Mechanistic Detail and Plausibility**: John's hypothesis provides a detailed mechanistic insight into how the Dengue virus might manipulate host cellular mechanisms, specifically targeting zinc homeostasis through the downregulation of SLC30A1. This is well-grounded in the known roles of zinc in cellular processes and its importance in immune function, making the hypothesis highly plausible.\\n\\n2. **Novelty**: The proposed mechanism of disrupting zinc homeostasis as a strategy employed by the Dengue virus to facilitate its replication and pathogenesis is novel in the context provided. It opens up new avenues for understanding the interaction between the virus and host cell ion homeostasis.\\n\\n3. **Actionability**: The experimental approaches suggested to validate this hypothesis are straightforward, cost-effective, and would directly test the proposed mechanism. Techniques such as quantitative PCR, Western blot, and intracellular zinc measurement using fluorescent indicators are well-established and accessible, making the hypothesis highly actionable.\\n\\nBeavis's hypothesis, while providing an interesting counterpoint that emphasizes the redundancy of zinc transport mechanisms and the potential for viral-encoded proteins to compensate for downregulated human zinc transporters, lacks the direct mechanistic insight provided by John's hypothesis. It suggests a broader, more diffuse model of viral adaptation and host interaction that, while plausible, does not offer as clear a pathway for experimental validation. The proposed experiments are more exploratory and less directly tied to a specific, testable mechanism of viral pathogenesis.\\n\\nJohn's hypothesis stands out for its clear, mechanistic explanation of how Dengue virus infection could lead to specific disruptions in host cell processes, its grounding in known biological functions, its novelty in the context of Dengue virus research, and the direct, actionable steps it proposes for experimental validation.\", 'fp_ab004a1a5b', 1753)\n",
      "----\n"
     ]
    }
   ],
   "source": [
    "for comparison in mock_review.comparisons:\n",
    "    print(f\"{comparison.reviewer.name} ({comparison.reviewer.llm.model_name})\")\n",
    "    print(comparison.comment)\n",
    "    print(\"----\")"
   ]
  },
  {
   "cell_type": "code",
   "execution_count": null,
   "metadata": {},
   "outputs": [],
   "source": []
  }
 ],
 "metadata": {
  "kernelspec": {
   "display_name": "Python 3 (ipykernel)",
   "language": "python",
   "name": "python3"
  },
  "language_info": {
   "codemirror_mode": {
    "name": "ipython",
    "version": 3
   },
   "file_extension": ".py",
   "mimetype": "text/x-python",
   "name": "python",
   "nbconvert_exporter": "python",
   "pygments_lexer": "ipython3",
   "version": "3.11.5"
  }
 },
 "nbformat": 4,
 "nbformat_minor": 4
}
