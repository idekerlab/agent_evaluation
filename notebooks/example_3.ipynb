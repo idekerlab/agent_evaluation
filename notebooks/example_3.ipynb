{
 "cells": [
  {
   "cell_type": "markdown",
   "metadata": {},
   "source": [
    "## Path Setup\n",
    "Add the parent directory to the Python path so that the notebook can find the modules"
   ]
  },
  {
   "cell_type": "code",
   "execution_count": null,
   "metadata": {},
   "outputs": [],
   "source": [
    "import sys\n",
    "import os\n",
    "\n",
    "cwd = os.getcwd() # Current working directory\n",
    "dirname = os.path.dirname(cwd) # Parent directory\n",
    "print(cwd)\n",
    "print(dirname)\n",
    "sys.path.append(dirname)# Add the parent directory to the Python path\n",
    "print(sys.path)"
   ]
  },
  {
   "cell_type": "markdown",
   "metadata": {},
   "source": [
    "## Get a Hierarchy\n"
   ]
  },
  {
   "cell_type": "code",
   "execution_count": null,
   "metadata": {},
   "outputs": [],
   "source": [
    "from agent_evaluation.hierarchy import Hierarchy\n",
    "import json\n",
    "import ndex2 \n",
    "from ndex2.cx2 import RawCX2NetworkFactory\n",
    "\n",
    "# Create NDEx2 python client\n",
    "client = ndex2.client.Ndex2()\n",
    "\n",
    "# Create CX2Network factory\n",
    "factory = RawCX2NetworkFactory()\n",
    "\n",
    "# Download BioGRID: Protein-Protein Interactions (SARS-CoV) from NDEx\n",
    "# https://www.ndexbio.org/viewer/networks/669f30a3-cee6-11ea-aaef-0ac135e8bacf\n",
    "# client_resp = client.get_network_as_cx2_stream('669f30a3-cee6-11ea-aaef-0ac135e8bacf')\n",
    "\n",
    "# Dengue string interactome network c223d6db-b0e2-11ee-8a13-005056ae23aa\n",
    "client_resp = client.get_network_as_cx2_stream('c223d6db-b0e2-11ee-8a13-005056ae23aa')\n",
    "\n",
    "# Convert downloaded interactome network to CX2Network object\n",
    "interactome = factory.get_cx2network(json.loads(client_resp.content))\n",
    "\n",
    "# Dengue hierarchy\n",
    "# https://www.ndexbio.org/viewer/networks/59bbb9f1-e029-11ee-9621-005056ae23aa\n",
    "client_resp = client.get_network_as_cx2_stream('59bbb9f1-e029-11ee-9621-005056ae23aa')\n",
    "\n",
    "# Convert downloaded interactome network to CX2Network object\n",
    "hierarchy = factory.get_cx2network(json.loads(client_resp.content))\n",
    "\n",
    "# Display information about the hierarchy network and output 1st 100 characters of CX2\n",
    "print('Name: ' + hierarchy.get_name())\n",
    "print('Number of nodes: ' + str(len(hierarchy.get_nodes())))\n",
    "print('Number of nodes: ' + str(len(hierarchy.get_edges())))\n",
    "\n",
    "# Display information about the interactome network \n",
    "print('Name: ' + interactome.get_name())\n",
    "print('Number of nodes: ' + str(len(interactome.get_nodes())))\n",
    "print('Number of nodes: ' + str(len(interactome.get_edges())))\n"
   ]
  },
  {
   "cell_type": "markdown",
   "metadata": {},
   "source": [
    "## Get Datasets"
   ]
  },
  {
   "cell_type": "code",
   "execution_count": null,
   "metadata": {},
   "outputs": [],
   "source": [
    "dengue_hierarchy = Hierarchy(hierarchy, interactome)\n",
    "print(dengue_hierarchy.get_experiment_description())\n",
    "datasets = dengue_hierarchy.get_datasets(member_attributes=[\"name\", \"DV3_24h-Mock_24h\"],\n",
    "                                         filter={\"max_size\": 6})[32:33:]   #[1:33:31]          \n",
    "for dataset in datasets:\n",
    "    print(dataset.data)"
   ]
  },
  {
   "cell_type": "markdown",
   "metadata": {},
   "source": [
    "## Analyst Agents"
   ]
  },
  {
   "cell_type": "code",
   "execution_count": null,
   "metadata": {},
   "outputs": [],
   "source": [
    "from agent_evaluation.analyst import Analyst\n",
    "from agent_evaluation.llm import OpenAI_LLM\n",
    "\n",
    "gpt3_5 = OpenAI_LLM(\"gpt-3.5-turbo-1106\")\n",
    "gpt4 = OpenAI_LLM(\"gpt-4-0125-preview\")"
   ]
  },
  {
   "cell_type": "code",
   "execution_count": null,
   "metadata": {},
   "outputs": [],
   "source": [
    "# Analist 1 > Jane (GPT-3.5-turbo-1106)\n",
    "\n",
    "analyst_1_context = \"\"\"\n",
    "You are a helpful analyst of genomic, proteomic, and other biological data. \n",
    "\"\"\"\n",
    "\n",
    "analyst_1_prompt_template = \"\"\" \n",
    "The provided proteomics \"dataset\" includes interacting proteins and the measurements of their differential abundance as a ratio between treated and non-treated samples, where the treatment is the infection of human cells with Dengue virus. \n",
    "Not all proteins in the dataset have differential abundance measurements.\n",
    "\n",
    "The dataset has 2 columns with the following headers: name, DV3_24h-Mock_24h. \n",
    "The first column contains the protein names and the last columns contains the abundance measurements.\n",
    "Please note that measurements <0 reflect a \"decreased abundance\" while measurements >0 indicate an \"increased abundance\".\n",
    "\n",
    "Your task is to leverage this dataset to analyze a subset of interacting proteins that are defined as “proteins of interest\".\n",
    "\n",
    "First, determine what proteins of interest show a differential abundance recorded in the dataset. \n",
    "Then, based on this information and on the known functions of all other proteins of interest, \n",
    "I want you to generate a hypothesis describing the mechanisms that may contribute to the disease state \n",
    "and could potentially be targeted by drug therapies.\n",
    "\n",
    "Your hypothesis should meet the following criteria:\n",
    "1) Include one or more molecular mechanism involving one or more proteins of interest\n",
    "2) Be plausible - grounded in known molecular functions and interactions\n",
    "3) Be novel - proposing mechanisms either not known or not known to be relevant to the experimental context\n",
    "4) Be actionable - can be validated with relatively low-cost experimental techniques\n",
    "\n",
    "When presenting your results, please adhere to the following guidelines:\n",
    "\n",
    "- Avoid including any code.\n",
    "- Do not describe the analytical steps you took.\n",
    "- Do not merely list the proteins of interest, regardless whether they show a differential abundance recorded in the dataset or not.\n",
    "- Build your hypotheses taking into consideration the interplay among all proteins of interest, not only those that show a differential abundance in the dataset.\n",
    "\n",
    "- Your output should consist solely of the identified proteins of interest with changed abundance levels, and the hypothesis you propose.\n",
    "\n",
    "Here is the set of proteins of interest: \n",
    "{data}\n",
    "\"\"\"\n",
    "\n",
    "analyst_1 = Analyst(gpt3_5, analyst_1_context, analyst_1_prompt_template, \"Jane\", \"The first analyst\")\n"
   ]
  },
  {
   "cell_type": "code",
   "execution_count": null,
   "metadata": {},
   "outputs": [],
   "source": [
    "# Analyst 2 > John (GPT-4-0125-preview)\n",
    "\n",
    "analyst_2_context = analyst_1_context\n",
    "\n",
    "analyst_2_prompt_template = analyst_1_prompt_template\n",
    "\n",
    "\n",
    "analyst_2 = Analyst(gpt4, analyst_2_context, analyst_2_prompt_template, \"John\", \"The second analyst\")"
   ]
  },
  {
   "cell_type": "markdown",
   "metadata": {},
   "source": [
    "## The TestPlan"
   ]
  },
  {
   "cell_type": "code",
   "execution_count": null,
   "metadata": {},
   "outputs": [],
   "source": [
    "from agent_evaluation.test import TestPlan\n",
    "\n",
    "test_plan = TestPlan(analysts=[analyst_1, analyst_2], datasets=datasets)\n"
   ]
  },
  {
   "cell_type": "markdown",
   "metadata": {},
   "source": [
    "## Run the Test\n",
    "\n",
    "OpenAi python package cannot be > 0.28.\n",
    "\n",
    "- https://github.com/openai/openai-python\n",
    "\n",
    "- https://github.com/openai/openai-python/discussions/742\n",
    "\n",
    "If Genai package is used, Openai must be 0.27.x "
   ]
  },
  {
   "cell_type": "code",
   "execution_count": null,
   "metadata": {},
   "outputs": [],
   "source": [
    "from agent_evaluation.test import Test\n",
    "\n",
    "test = Test(test_plan)\n",
    "test.run()"
   ]
  },
  {
   "cell_type": "code",
   "execution_count": null,
   "metadata": {},
   "outputs": [],
   "source": [
    "for hypothesis in test.hypotheses:\n",
    "    print(f\"{hypothesis.analyst.name} ({hypothesis.analyst.llm.model_name}):\")\n",
    "    print(hypothesis.description)\n",
    "    print(\"---\")"
   ]
  },
  {
   "cell_type": "code",
   "execution_count": null,
   "metadata": {},
   "outputs": [],
   "source": [
    "# Check the number of hypotheses generated (should be just 2, 1 by Jane and 1 by John)\n",
    "\n",
    "len(test.hypotheses)"
   ]
  },
  {
   "cell_type": "markdown",
   "metadata": {},
   "source": [
    "## Reviewers"
   ]
  },
  {
   "cell_type": "code",
   "execution_count": null,
   "metadata": {},
   "outputs": [],
   "source": [
    "from agent_evaluation.reviewer import Reviewer\n",
    "\n",
    "\n",
    "# Reviewer 1 > James Watson (GPT-3.5-turbo-1106)\n",
    "\n",
    "reviewer_1_context = \"You are a full professor with extensive knowledge of molecular mechanisms in biology and human diseases\"\n",
    "\n",
    "reviewer_1_prompt_template = \"\"\"\n",
    "Starting from an experimental dataset and a list of proteins of intertest, our analysts have generated 2 hypotheses anlyst's \n",
    "that might explain the observed data upon infection of a human cell line with the Dengue virus.\n",
    "\n",
    "Your task is to carefully review the 2 hypotheses provided, and choose the best one based on the following evaluation criteria:\n",
    "\n",
    "1) Mechanistic - The hypothesis includes one or more molecular mechanisms involving one or more proteins of interest.\n",
    "2) Plausible - The hypothesis is plausible is grounded in known molecular functions and interactions.\n",
    "3) Novel - The hypothesis proposes mechanisms either not known or not known to be relevant to the experimental context.\n",
    "4) Actionable - The hypothesis actionable can be validated with relatively simple, low-cost experimental techniques\".\n",
    "\n",
    "You must execute your evaluation using only the information provided in the 2 hypotheses.\n",
    "\n",
    "When presenting your output, only include the following info:\n",
    "1) Which analyst's hypothesis you deem to be the best one ({analyst_a} or {analyst_b}).\n",
    "2) What are the reasons that dictated your decision.\n",
    "3) If the 2 hypotheses are of equivalent quality, don't make a choice and provide a brief explanation supporting your decision.\n",
    "\n",
    "Here are the hypotheses:\n",
    "{analyst_a}: {hypothesis_a}\n",
    "{analyst_b}: {hypothesis_b}\n",
    "\"\"\"\n",
    "\n",
    "reviewer_1 = Reviewer(gpt3_5, reviewer_1_context, reviewer_1_prompt_template, \"James Watson\", \"The first reviewer\")\n"
   ]
  },
  {
   "cell_type": "code",
   "execution_count": null,
   "metadata": {},
   "outputs": [],
   "source": [
    "# Reviewer 2 > Francis Crick (GPT-4-0125-preview)\n",
    "\n",
    "reviewer_2_context = reviewer_1_context\n",
    "reviewer_2_prompt_template = reviewer_1_prompt_template\n",
    "\n",
    "reviewer_2 = Reviewer(gpt4, reviewer_2_context, reviewer_2_prompt_template, \"Francis Crick\", \"The second reviewer\")"
   ]
  },
  {
   "cell_type": "markdown",
   "metadata": {},
   "source": [
    "## The ReviewPlan"
   ]
  },
  {
   "cell_type": "code",
   "execution_count": null,
   "metadata": {},
   "outputs": [],
   "source": [
    "from agent_evaluation.review import ReviewPlan\n",
    "\n",
    "review_plan = ReviewPlan(reviewers=[reviewer_1, reviewer_2], test=test)\n"
   ]
  },
  {
   "cell_type": "markdown",
   "metadata": {},
   "source": [
    "## Run the Review"
   ]
  },
  {
   "cell_type": "code",
   "execution_count": null,
   "metadata": {},
   "outputs": [],
   "source": [
    "from agent_evaluation.review import Review\n",
    "\n",
    "review = Review(review_plan)    \n",
    "review.run()\n"
   ]
  },
  {
   "cell_type": "code",
   "execution_count": null,
   "metadata": {},
   "outputs": [],
   "source": [
    "for comparison in review.comparisons:\n",
    "    print(f\"{comparison.reviewer.name} ({comparison.reviewer.llm.model_name})\")\n",
    "    print(comparison.comment)\n",
    "    print(\"----\")"
   ]
  },
  {
   "cell_type": "markdown",
   "metadata": {},
   "source": [
    "## Creating a mock analyst & hypothesis\n",
    "\n",
    "Create a function to wrap up all the below"
   ]
  },
  {
   "cell_type": "code",
   "execution_count": null,
   "metadata": {},
   "outputs": [],
   "source": [
    "mock_analyst = Analyst(llm=None, context=None, prompt_template=None, name=\"Rudi\", description=None)"
   ]
  },
  {
   "cell_type": "code",
   "execution_count": null,
   "metadata": {},
   "outputs": [],
   "source": [
    "mock_analyst.name"
   ]
  },
  {
   "cell_type": "code",
   "execution_count": null,
   "metadata": {},
   "outputs": [],
   "source": [
    "mock_description = \"Identified Proteins of Interest with Changed Abundance Levels:\\n- SP110: Increased abundance (0.842989962)\\nThe interaction and differential abundance of SP110, in response to Dengue virus (DV) infection suggest a novel molecular mechanism that could contribute to the disease state and offer potential targets for drug therapy. \\n\\nSP110 is a nuclear body protein involved in innate immunity and has been implicated in viral defense mechanisms. Its increased abundance upon DV infection suggests an enhanced cellular attempt to mount an antiviral response. SP110 and its interacting partner DTX3L, although DTX3L's abundance was not measured, form a complex known to be involved in the regulation of DNA damage responses and inflammation. The increased abundance of PARP9 could indicate an activation of DNA repair mechanisms and inflammatory responses following DV infection. SAMD9L, similarly, plays a role in antiviral responses and has been shown to be involved in the negative regulation of cell proliferation.\\n\\nGiven the roles of these proteins, we propose that the increased abundance of SP110, PARP9, and SAMD9L upon DV infection leads to a heightened state of antiviral response, DNA repair activation, and inflammation. However, this response might inadvertently contribute to the disease state by promoting excessive inflammation and potentially interfering with normal cell functions, leading to cellular stress and damage. This imbalance could facilitate viral replication or exacerbate disease symptoms.\\n\\nTo validate this hypothesis, we suggest the following low-cost experimental approaches:\\n1. **siRNA Knockdown Experiments**: Use siRNA to knock down SP110, PARP9, and SAMD9L in DV-infected human cell lines to assess changes in viral replication and cell viability. A decrease in viral load or alleviation of cell damage upon knockdown would support the hypothesis that these proteins, while part of the antiviral response, contribute to the disease state.\\n2. **Inflammatory Cytokine Profiling**: Measure the levels of inflammatory cytokines in DV-infected cells with and without the knockdown of SP110. An increase in these proteins should correlate with higher cytokine levels, supporting their role in inflammation during DV infection.\\n3. **DNA Damage Assays**: Perform assays to assess DNA damage (e.g., comet assay, γ-H2AX foci formation) in DV-infected cells with altered expression of PARP9. This would help to elucidate the role of PARP9 in DNA damage response during DV infection.\\n\\nThis hypothesis not only proposes a novel mechanism by which DV infection could exacerbate disease through the interplay of SP110, PARP9, and SAMD9L but also suggests that targeting these proteins could mitigate disease severity, offering a new avenue for therapeutic intervention.\""
   ]
  },
  {
   "cell_type": "code",
   "execution_count": null,
   "metadata": {},
   "outputs": [],
   "source": [
    "from agent_evaluation.hypothesis import Hypothesis\n",
    "mock_hypothesis = Hypothesis(dataset, mock_analyst, mock_description)"
   ]
  },
  {
   "cell_type": "code",
   "execution_count": null,
   "metadata": {},
   "outputs": [],
   "source": [
    "mock_test_plan = TestPlan(analysts=[analyst_2, mock_analyst], datasets=datasets)"
   ]
  },
  {
   "cell_type": "code",
   "execution_count": null,
   "metadata": {},
   "outputs": [],
   "source": [
    "mock_test = Test(mock_test_plan)\n",
    "mock_test.hypotheses=[mock_hypothesis, test.hypotheses[1]]"
   ]
  },
  {
   "cell_type": "code",
   "execution_count": null,
   "metadata": {},
   "outputs": [],
   "source": [
    "mock_review_plan = ReviewPlan(mock_test,reviewers=[reviewer_1, reviewer_2])"
   ]
  },
  {
   "cell_type": "code",
   "execution_count": null,
   "metadata": {},
   "outputs": [],
   "source": [
    "mock_review = Review(mock_review_plan)"
   ]
  },
  {
   "cell_type": "code",
   "execution_count": null,
   "metadata": {},
   "outputs": [],
   "source": [
    "mock_test"
   ]
  },
  {
   "cell_type": "code",
   "execution_count": null,
   "metadata": {},
   "outputs": [],
   "source": [
    "mock_review.run()"
   ]
  },
  {
   "cell_type": "code",
   "execution_count": null,
   "metadata": {},
   "outputs": [],
   "source": [
    "for comparison in mock_review.comparisons:\n",
    "    print(f\"{comparison.reviewer.name} ({comparison.reviewer.llm.model_name})\")\n",
    "    print(comparison.comment)\n",
    "    print(\"----\")"
   ]
  },
  {
   "cell_type": "code",
   "execution_count": null,
   "metadata": {},
   "outputs": [],
   "source": []
  }
 ],
 "metadata": {
  "kernelspec": {
   "display_name": "Python 3 (ipykernel)",
   "language": "python",
   "name": "python3"
  },
  "language_info": {
   "codemirror_mode": {
    "name": "ipython",
    "version": 3
   },
   "file_extension": ".py",
   "mimetype": "text/x-python",
   "name": "python",
   "nbconvert_exporter": "python",
   "pygments_lexer": "ipython3",
   "version": "3.11.5"
  }
 },
 "nbformat": 4,
 "nbformat_minor": 4
}
