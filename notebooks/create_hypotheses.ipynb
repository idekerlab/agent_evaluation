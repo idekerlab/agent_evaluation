{
 "cells": [
  {
   "cell_type": "markdown",
   "metadata": {},
   "source": [
    "## Agent Prompt Ideas\n",
    "- Prompts with hypothesis patterns\n",
    " - Gene up, protein down is suspicious, might indicate protein degradation\n",
    " - interesting chains start with viral interactions\n",
    " - Screening data,  shows meaningful/valuable causal result\n",
    " - Rna seq is the least informative because it reflects many processes \n",
    " - Try asking it for ideas\n",
    "- Contrarian\n",
    "    - make a control that always refuses to generate a hypothesis\n",
    "- Hypothesis namer agent\n",
    "    - make them easier to browse but don't compromise the prompt\n",
    "\n"
   ]
  },
  {
   "cell_type": "markdown",
   "metadata": {},
   "source": [
    "## Create 5 agents\n",
    "#### Different LLMs\n",
    "- LLM:\n",
    "    - Llama 3.1 70b\n",
    "    - Gemini Flash\n",
    "    - Mixtral\n",
    "    - Haiku\n",
    "    - GPT-40-mini\n",
    "\n",
    "### Brief template"
   ]
  }
 ],
 "metadata": {
  "language_info": {
   "name": "python"
  }
 },
 "nbformat": 4,
 "nbformat_minor": 2
}
