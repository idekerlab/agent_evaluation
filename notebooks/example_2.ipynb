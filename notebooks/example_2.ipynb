{
 "cells": [
  {
   "cell_type": "markdown",
   "metadata": {},
   "source": [
    "## Path Setup\n",
    "Add the parent directory to the Python path so that the notebook can find the modules"
   ]
  },
  {
   "cell_type": "code",
   "execution_count": 1,
   "metadata": {},
   "outputs": [
    {
     "name": "stdout",
     "output_type": "stream",
     "text": [
      "/Users/idekeradmin/Dropbox/GitHub/agent_evaluation/notebooks\n",
      "/Users/idekeradmin/Dropbox/GitHub/agent_evaluation\n",
      "['/Users/idekeradmin/Dropbox/GitHub/agent_evaluation/notebooks', '/opt/anaconda3/lib/python311.zip', '/opt/anaconda3/lib/python3.11', '/opt/anaconda3/lib/python3.11/lib-dynload', '', '/Users/idekeradmin/.local/lib/python3.11/site-packages', '/opt/anaconda3/lib/python3.11/site-packages', '/opt/anaconda3/lib/python3.11/site-packages/aeosa', '/Users/idekeradmin/Dropbox/GitHub/agent_evaluation']\n"
     ]
    }
   ],
   "source": [
    "import sys\n",
    "import os\n",
    "\n",
    "cwd = os.getcwd() # Current working directory\n",
    "dirname = os.path.dirname(cwd) # Parent directory\n",
    "print(cwd)\n",
    "print(dirname)\n",
    "sys.path.append(dirname)# Add the parent directory to the Python path\n",
    "print(sys.path)"
   ]
  },
  {
   "cell_type": "markdown",
   "metadata": {},
   "source": [
    "## Get a Hierarchy\n"
   ]
  },
  {
   "cell_type": "code",
   "execution_count": 2,
   "metadata": {},
   "outputs": [
    {
     "name": "stdout",
     "output_type": "stream",
     "text": [
      "Name: Dengue model - hidef string 12.0 0.7 (GPT-4 annotated) - L2R\n",
      "Number of nodes: 203\n",
      "Number of nodes: 249\n",
      "Name: dengue string 12.0 0.7\n",
      "Number of nodes: 1375\n",
      "Number of nodes: 2792\n"
     ]
    }
   ],
   "source": [
    "from agent_evaluation.hierarchy import Hierarchy\n",
    "import json\n",
    "import ndex2 \n",
    "from ndex2.cx2 import RawCX2NetworkFactory\n",
    "\n",
    "# Create NDEx2 python client\n",
    "client = ndex2.client.Ndex2()\n",
    "\n",
    "# Create CX2Network factory\n",
    "factory = RawCX2NetworkFactory()\n",
    "\n",
    "# Download BioGRID: Protein-Protein Interactions (SARS-CoV) from NDEx\n",
    "# https://www.ndexbio.org/viewer/networks/669f30a3-cee6-11ea-aaef-0ac135e8bacf\n",
    "# client_resp = client.get_network_as_cx2_stream('669f30a3-cee6-11ea-aaef-0ac135e8bacf')\n",
    "\n",
    "# Dengue string interactome network c223d6db-b0e2-11ee-8a13-005056ae23aa\n",
    "client_resp = client.get_network_as_cx2_stream('c223d6db-b0e2-11ee-8a13-005056ae23aa')\n",
    "\n",
    "# Convert downloaded interactome network to CX2Network object\n",
    "interactome = factory.get_cx2network(json.loads(client_resp.content))\n",
    "\n",
    "# Dengue hierarchy\n",
    "# https://www.ndexbio.org/viewer/networks/59bbb9f1-e029-11ee-9621-005056ae23aa\n",
    "client_resp = client.get_network_as_cx2_stream('59bbb9f1-e029-11ee-9621-005056ae23aa')\n",
    "\n",
    "# Convert downloaded interactome network to CX2Network object\n",
    "hierarchy = factory.get_cx2network(json.loads(client_resp.content))\n",
    "\n",
    "# Display information about the hierarchy network and output 1st 100 characters of CX2\n",
    "print('Name: ' + hierarchy.get_name())\n",
    "print('Number of nodes: ' + str(len(hierarchy.get_nodes())))\n",
    "print('Number of nodes: ' + str(len(hierarchy.get_edges())))\n",
    "\n",
    "# Display information about the interactome network \n",
    "print('Name: ' + interactome.get_name())\n",
    "print('Number of nodes: ' + str(len(interactome.get_nodes())))\n",
    "print('Number of nodes: ' + str(len(interactome.get_edges())))\n"
   ]
  },
  {
   "cell_type": "markdown",
   "metadata": {},
   "source": [
    "## Get Datasets"
   ]
  },
  {
   "cell_type": "code",
   "execution_count": 3,
   "metadata": {},
   "outputs": [
    {
     "name": "stdout",
     "output_type": "stream",
     "text": [
      "None\n",
      "[{'name': 'DEFB1', 'GeneSymbol': 'DEFB1', 'log2FC_48hpi': 6.97063877863496}, {'name': 'DEFA5', 'GeneSymbol': 'DEFA5'}, {'name': 'BRDT', 'GeneSymbol': 'BRDT'}, {'name': 'DEFB105A', 'GeneSymbol': 'DEFB105'}]\n",
      "[{'name': 'PEMT', 'log2FC_48hpi': -2.09090804358616}, {'name': 'CHKA', 'GeneSymbol': 'CHKA'}, {'name': 'PTDSS2', 'GeneSymbol': 'PTDSS2'}, {'name': 'PLA1A', 'log2FC_48hpi': 4.07675395617054}]\n"
     ]
    }
   ],
   "source": [
    "dengue_hierarchy = Hierarchy(hierarchy, interactome)\n",
    "print(dengue_hierarchy.get_experiment_description())\n",
    "datasets = dengue_hierarchy.get_datasets(member_attributes=[\"name\", \"GeneSymbol\", \"log2FC_48hpi\", \"pvalue_48hpi\", \"log2FC_72hpi\", \"pvalue_72hpi\"],\n",
    "                                         filter={\"max_size\": 4})[0:2]\n",
    "for dataset in datasets:\n",
    "    print(dataset.data)"
   ]
  },
  {
   "cell_type": "markdown",
   "metadata": {},
   "source": [
    "## Analyst Agents"
   ]
  },
  {
   "cell_type": "code",
   "execution_count": 4,
   "metadata": {},
   "outputs": [
    {
     "name": "stdout",
     "output_type": "stream",
     "text": [
      "Model: gpt-3.5-turbo-1106, Temperature: 0, Max Tokens: 2048, Seed: 42\n"
     ]
    }
   ],
   "source": [
    "from agent_evaluation.analyst import Analyst\n",
    "from agent_evaluation.llm import OpenAI_LLM\n",
    "\n",
    "gpt35_turbo_1106 = OpenAI_LLM(\"gpt-3.5-turbo-1106\")\n",
    "\n",
    "\n",
    "analyst_1_context = \"\"\"\n",
    "You are a helpful analyst of genomic, proteomic, and other biological data. \n",
    "\"\"\"\n",
    "\n",
    "analyst_1_prompt_template = \"\"\" \n",
    "The attached proteomics \"dataset\" includes interacting proteins and the measurements of their differential abundance as a ratio between treated and non-treated samples, where the treatment is the infection of human cells with Dengue virus. \n",
    "Not all proteins in the dataset have differential abundance measurements.\n",
    "\n",
    "The dataset has 2 columns with the following headers: name, DV3_24h-Mock_24h. \n",
    "The first column contains the protein names and the last columns contains the abundance data. \n",
    "\n",
    "Your task is to leverage this dataset to analyze a subset of interacting proteins that are defined as “proteins of interest\".\n",
    "\n",
    "First, determine what proteins of interest show a differential abundance recorded in the dataset. \n",
    "Then, based on this information and on the known functions of all other proteins of interest, \n",
    "I want you to generate a novel hypothesis describing the mechanisms that may contribute to the disease state \n",
    "and could potentially be targeted by drug therapies. \n",
    "\n",
    "When presenting your results, please adhere to the following guidelines:\n",
    "\n",
    "- Avoid including any code.\n",
    "- Do not describe the analytical steps you took.\n",
    "- Do not merely list the proteins of interest, regardless whether they show a differential abundance recorded in the dataset or not.\n",
    "- Build your hypotheses taking into consideration the interplay among all proteins of interest, not only those that show a differential abundance in the dataset.\n",
    "\n",
    "- Your output should consist solely of the identified proteins of interest with changed abundance levels, the hypotheses you propose, and the reasons supporting these hypotheses.\n",
    "\n",
    "Here is the set of proteins of interest: \n",
    "{data}\n",
    "\"\"\"\n",
    "\n",
    "analyst_1 = Analyst(gpt35_turbo_1106, analyst_1_context, analyst_1_prompt_template, \"Jane\", \"The first analyst\")\n",
    "\n",
    "analyst_2_context = \"\"\"\n",
    "You are a helpful analyst of genomic, proteomic, and other biological data. \n",
    "\"\"\"\n",
    "\n",
    "analyst_2_prompt_template = \"\"\"\n",
    "The differential abundance of the following proteins were measured in a dengue infection experiment. \n",
    "Propose a novel hypothesis for the mechanism of action of these proteins in the context of dengue infection, \n",
    "given the known functions of these proteins and the observed changes in abundance.\n",
    "{data}\n",
    "\"\"\"\n",
    "\n",
    "analyst_2 = Analyst(gpt35_turbo_1106, analyst_2_context, analyst_2_prompt_template, \"John\", \"The second analyst\")"
   ]
  },
  {
   "cell_type": "markdown",
   "metadata": {},
   "source": [
    "## The TestPlan"
   ]
  },
  {
   "cell_type": "code",
   "execution_count": 5,
   "metadata": {},
   "outputs": [],
   "source": [
    "from agent_evaluation.test import TestPlan\n",
    "test_plan = TestPlan(analysts=[analyst_1, analyst_2], datasets=datasets)\n"
   ]
  },
  {
   "cell_type": "markdown",
   "metadata": {},
   "source": [
    "## Run the Test"
   ]
  },
  {
   "cell_type": "code",
   "execution_count": 6,
   "metadata": {},
   "outputs": [
    {
     "name": "stdout",
     "output_type": "stream",
     "text": [
      "Generating hypothesis by Jane on [{'name': 'DEFB1', 'GeneSymbol': 'DEFB1', 'log2FC_48hpi': 6.97063877863496}, {'name': 'DEFA5', 'GeneSymbol': 'DEFA5'}, {'name': 'BRDT', 'GeneSymbol': 'BRDT'}, {'name': 'DEFB105A', 'GeneSymbol': 'DEFB105'}]\n",
      "Generating hypothesis by John on [{'name': 'DEFB1', 'GeneSymbol': 'DEFB1', 'log2FC_48hpi': 6.97063877863496}, {'name': 'DEFA5', 'GeneSymbol': 'DEFA5'}, {'name': 'BRDT', 'GeneSymbol': 'BRDT'}, {'name': 'DEFB105A', 'GeneSymbol': 'DEFB105'}]\n",
      "Generating hypothesis by Jane on [{'name': 'PEMT', 'log2FC_48hpi': -2.09090804358616}, {'name': 'CHKA', 'GeneSymbol': 'CHKA'}, {'name': 'PTDSS2', 'GeneSymbol': 'PTDSS2'}, {'name': 'PLA1A', 'log2FC_48hpi': 4.07675395617054}]\n",
      "Generating hypothesis by John on [{'name': 'PEMT', 'log2FC_48hpi': -2.09090804358616}, {'name': 'CHKA', 'GeneSymbol': 'CHKA'}, {'name': 'PTDSS2', 'GeneSymbol': 'PTDSS2'}, {'name': 'PLA1A', 'log2FC_48hpi': 4.07675395617054}]\n"
     ]
    }
   ],
   "source": [
    "from agent_evaluation.test import Test\n",
    "\n",
    "test = Test(test_plan)\n",
    "test.run()"
   ]
  },
  {
   "cell_type": "code",
   "execution_count": 7,
   "metadata": {},
   "outputs": [
    {
     "name": "stdout",
     "output_type": "stream",
     "text": [
      "Jane\n",
      "('The proteins of interest with differential abundance recorded in the dataset are DEFB1 and DEFA5. \\n\\nBased on the known functions of all proteins of interest and their potential interplay, a novel hypothesis can be proposed. \\n\\nHypothesis:\\nThe differential abundance of DEFB1 and DEFA5, along with the presence of BRDT and DEFB105A, suggests a potential mechanism contributing to the disease state of Dengue virus infection. DEFB1 and DEFA5 are known to be involved in the immune response and have antimicrobial properties. Their increased abundance may indicate an attempt by the host cells to combat the viral infection. BRDT, a testis-specific protein, has been implicated in chromatin remodeling and transcriptional regulation. Its presence in the context of viral infection may suggest a role in modulating the host cell response to the virus. DEFB105A, a member of the defensin family, may also contribute to the host defense mechanism.\\n\\nGiven these observations, it is hypothesized that the differential abundance of DEFB1 and DEFA5, along with the presence of BRDT and DEFB105A, may indicate a complex interplay between immune response, chromatin remodeling, and host defense mechanisms in the context of Dengue virus infection. Targeting these pathways, such as modulating the immune response or interfering with viral-host interactions mediated by chromatin remodeling proteins, could potentially be explored as strategies for drug therapies to mitigate the disease state caused by Dengue virus infection.', 'fp_592ef5907d', 723)\n",
      "---\n",
      "John\n",
      "(\"Based on the differential abundance of the proteins in the context of dengue infection, a novel hypothesis for their mechanism of action could be as follows:\\n\\n1. DEFB1 (Defensin Beta 1): Defensins are antimicrobial peptides that play a crucial role in the innate immune response. The observed increase in DEFB1 abundance (log2FC_48hpi: 6.97) suggests a potential role in combating dengue virus infection. It is possible that the upregulation of DEFB1 is a host defense mechanism to limit viral replication and spread.\\n\\n2. DEFA5 (Defensin Alpha 5): Similar to DEFB1, DEFA5 is also a defensin with antimicrobial properties. Although the specific log2FC_48hpi value is not provided, if there is an increase in DEFA5 abundance, it could indicate a concerted effort by the host immune system to bolster its antiviral defenses.\\n\\n3. BRDT (Bromodomain Testis Associated): BRDT is a member of the bromodomain and extraterminal (BET) family of proteins, which are involved in chromatin remodeling and gene regulation. The observed change in BRDT abundance could suggest a potential role in modulating the host cell's transcriptional response to dengue virus infection. It is possible that BRDT may be involved in regulating the expression of genes related to antiviral defense or inflammation.\\n\\n4. DEFB105A (Defensin Beta 105A): Defensin Beta 105A is another member of the defensin family. Similar to DEFB1 and DEFA5, an increase in DEFB105A abundance could indicate an enhanced antimicrobial response against dengue virus.\\n\\nBased on the known functions of these proteins and their observed changes in abundance, a hypothesis could be proposed that the host immune system responds to dengue virus infection by upregulating antimicrobial peptides (DEFB1, DEFA5, DEFB105A) to directly combat the virus, while also potentially modulating gene expression (BRDT) to mount an effective antiviral response. This hypothesis suggests a coordinated effort by the host to limit viral replication and spread, and to activate immune defenses to clear the infection. Further experimental validation would be necessary to confirm this hypothesis.\", 'fp_592ef5907d', 648)\n",
      "---\n",
      "Jane\n",
      "('The proteins of interest with differential abundance recorded in the dataset are PEMT and PLA1A. \\n\\nBased on the known functions of all proteins of interest, a novel hypothesis could be proposed:\\n\\nHypothesis: The dysregulation of phospholipid metabolism, particularly the phosphatidylcholine (PC) biosynthesis pathway, contributes to the disease state in Dengue virus infection.\\n\\nReasoning:\\n1. PEMT (Phosphatidylethanolamine N-methyltransferase) is involved in the biosynthesis of phosphatidylcholine (PC) from phosphatidylethanolamine (PE). The downregulation of PEMT (log2FC_48hpi: -2.09090804358616) suggests a potential decrease in PC biosynthesis, which could impact membrane integrity and cellular functions.\\n\\n2. CHKA (Choline Kinase Alpha) and PTDSS2 (Phosphatidylserine Synthase 2) are involved in the Kennedy pathway for PC biosynthesis. Their known functions in PC biosynthesis suggest their potential involvement in the dysregulation of phospholipid metabolism during Dengue virus infection.\\n\\n3. PLA1A (Phospholipase A1 member A) is involved in the hydrolysis of phospholipids, potentially impacting the turnover of membrane phospholipids. The upregulation of PLA1A (log2FC_48hpi: 4.07675395617054) suggests increased phospholipid hydrolysis, which could further disrupt membrane integrity and cellular functions.\\n\\nBased on these observations, it can be hypothesized that the dysregulation of phospholipid metabolism, particularly the PC biosynthesis pathway, contributes to the disease state in Dengue virus infection. Targeting the enzymes involved in PC biosynthesis and phospholipid turnover could be a potential strategy for drug therapies to mitigate the impact of Dengue virus infection on cellular functions and membrane integrity.', 'fp_89448ee5dc', 826)\n",
      "---\n",
      "John\n",
      "('Based on the differential abundance of the proteins in the context of dengue infection, a novel hypothesis for their mechanism of action could be as follows:\\n\\n1. Phosphatidylethanolamine N-methyltransferase (PEMT): The observed decrease in abundance of PEMT suggests a potential role in dengue infection. PEMT is involved in the synthesis of phosphatidylcholine, a major component of cell membranes. The downregulation of PEMT may indicate a disruption in membrane integrity, potentially leading to increased susceptibility to viral entry or altered immune response. Therefore, a hypothesis could be that the decreased abundance of PEMT contributes to the pathogenesis of dengue infection by affecting membrane stability and viral entry.\\n\\n2. Choline kinase alpha (CHKA): CHKA is involved in the biosynthesis of phosphatidylcholine, a key component of cell membranes. The observed changes in CHKA abundance may indicate a potential role in modulating membrane composition during dengue infection. A hypothesis could be that the upregulation of CHKA leads to increased phosphatidylcholine synthesis, potentially altering membrane fluidity and composition, which in turn may impact viral replication and host cell response.\\n\\n3. Phosphatidylserine synthase 2 (PTDSS2): PTDSS2 is involved in the biosynthesis of phosphatidylserine, a phospholipid with diverse cellular functions including membrane structure and signaling. The observed changes in PTDSS2 abundance may suggest a role in modulating membrane properties during dengue infection. A hypothesis could be that the differential abundance of PTDSS2 affects the composition of cellular membranes, potentially influencing viral replication, host cell signaling, or immune response.\\n\\n4. Phospholipase A1 member A (PLA1A): The observed increase in abundance of PLA1A suggests a potential role in dengue infection. PLA1A is involved in the hydrolysis of phospholipids, potentially impacting membrane composition and lipid signaling. A hypothesis could be that the upregulation of PLA1A leads to altered lipid metabolism and membrane remodeling, which may influence viral replication, host cell response, or immune signaling pathways.\\n\\nIn summary, the differential abundance of these proteins in the context of dengue infection suggests potential roles in modulating membrane composition, lipid metabolism, and cellular signaling, which could impact viral replication, host cell response, and immune signaling pathways. Further experimental validation and mechanistic studies would be necessary to confirm these hypotheses.', 'fp_592ef5907d', 688)\n",
      "---\n"
     ]
    }
   ],
   "source": [
    "for hypothesis in test.hypotheses:\n",
    "    print(hypothesis.analyst.name)\n",
    "    print(hypothesis.description)\n",
    "    print(\"---\")"
   ]
  }
 ],
 "metadata": {
  "kernelspec": {
   "display_name": "base",
   "language": "python",
   "name": "python3"
  },
  "language_info": {
   "codemirror_mode": {
    "name": "ipython",
    "version": 3
   },
   "file_extension": ".py",
   "mimetype": "text/x-python",
   "name": "python",
   "nbconvert_exporter": "python",
   "pygments_lexer": "ipython3",
   "version": "3.11.8"
  }
 },
 "nbformat": 4,
 "nbformat_minor": 2
}
