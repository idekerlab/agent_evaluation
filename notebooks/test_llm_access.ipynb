{
 "cells": [
  {
   "cell_type": "code",
   "execution_count": 1,
   "metadata": {},
   "outputs": [
    {
     "ename": "ModuleNotFoundError",
     "evalue": "No module named 'agent_evaluation'",
     "output_type": "error",
     "traceback": [
      "\u001b[0;31m---------------------------------------------------------------------------\u001b[0m",
      "\u001b[0;31mModuleNotFoundError\u001b[0m                       Traceback (most recent call last)",
      "Cell \u001b[0;32mIn[1], line 1\u001b[0m\n\u001b[0;32m----> 1\u001b[0m \u001b[38;5;28;01mfrom\u001b[39;00m \u001b[38;5;21;01magent_evaluation\u001b[39;00m\u001b[38;5;21;01m.\u001b[39;00m\u001b[38;5;21;01mllm\u001b[39;00m \u001b[38;5;28;01mimport\u001b[39;00m OpenAI_LLM\n\u001b[1;32m      3\u001b[0m gpt_35 \u001b[38;5;241m=\u001b[39m OpenAI_LLM(\u001b[38;5;124m\"\u001b[39m\u001b[38;5;124mgpt-3.5-turbo\u001b[39m\u001b[38;5;124m\"\u001b[39m)\n\u001b[1;32m      5\u001b[0m gpt_35\u001b[38;5;241m.\u001b[39mquery()\n",
      "\u001b[0;31mModuleNotFoundError\u001b[0m: No module named 'agent_evaluation'"
     ]
    }
   ],
   "source": [
    "from agent_evaluation.llm import OpenAI_LLM\n",
    "\n",
    "gpt_35 = OpenAI_LLM(\"gpt-3.5-turbo\")\n",
    "\n",
    "gpt_35.query()\n"
   ]
  },
  {
   "cell_type": "code",
   "execution_count": 2,
   "metadata": {},
   "outputs": [
    {
     "ename": "ModuleNotFoundError",
     "evalue": "No module named 'agent_evaluation'",
     "output_type": "error",
     "traceback": [
      "\u001b[0;31m---------------------------------------------------------------------------\u001b[0m",
      "\u001b[0;31mModuleNotFoundError\u001b[0m                       Traceback (most recent call last)",
      "Cell \u001b[0;32mIn[2], line 1\u001b[0m\n\u001b[0;32m----> 1\u001b[0m \u001b[38;5;28;01mfrom\u001b[39;00m \u001b[38;5;21;01magent_evaluation\u001b[39;00m\u001b[38;5;21;01m.\u001b[39;00m\u001b[38;5;21;01mdataset\u001b[39;00m \u001b[38;5;28;01mimport\u001b[39;00m Dataset\n\u001b[1;32m      2\u001b[0m dataset_1_csv \u001b[38;5;241m=\u001b[39m \u001b[38;5;124m'\u001b[39m\u001b[38;5;124mMECOM,0.0\u001b[39m\u001b[38;5;130;01m\\n\u001b[39;00m\u001b[38;5;124mRING1,1.150034561\u001b[39m\u001b[38;5;130;01m\\n\u001b[39;00m\u001b[38;5;124mRPS18,0.0\u001b[39m\u001b[38;5;130;01m\\n\u001b[39;00m\u001b[38;5;124mSLC30A1,-2.114594111\u001b[39m\u001b[38;5;130;01m\\n\u001b[39;00m\u001b[38;5;124mSLC39A7,0.0\u001b[39m\u001b[38;5;130;01m\\n\u001b[39;00m\u001b[38;5;124mTCEB2,0.0\u001b[39m\u001b[38;5;124m'\u001b[39m\n\u001b[1;32m      3\u001b[0m dataset_1 \u001b[38;5;241m=\u001b[39m Dataset(data\u001b[38;5;241m=\u001b[39mdataset_1_csv, experiment_description\u001b[38;5;241m=\u001b[39m\u001b[38;5;124m\"\u001b[39m\u001b[38;5;124mdataset_1\u001b[39m\u001b[38;5;124m\"\u001b[39m)\n",
      "\u001b[0;31mModuleNotFoundError\u001b[0m: No module named 'agent_evaluation'"
     ]
    }
   ],
   "source": [
    "from agent_evaluation.dataset import Dataset\n",
    "dataset_1_csv = 'MECOM,0.0\\nRING1,1.150034561\\nRPS18,0.0\\nSLC30A1,-2.114594111\\nSLC39A7,0.0\\nTCEB2,0.0'\n",
    "dataset_1 = Dataset(data=dataset_1_csv, experiment_description=\"dataset_1\")\n",
    "dataset_2_csv = 'BAP1,0.0\\nBARD1,0.0\\nBRAP,0.950359927\\nBRCA1,0.0\\nLYAR,1.381904766\\nRELA,0.0\\nRING1,1.150034561\\nRPS27A,0.0\\nUBA52,0.0\\nUBC,0.0\\nUBE2O,1.145852987'\n",
    "dataset_2 = Dataset(data=dataset_2_csv, experiment_description=\"dataset_2\")\n",
    "print(dataset_1.data)  \n",
    "print(\"---\")\n",
    "print(dataset_2.data)  "
   ]
  }
 ],
 "metadata": {
  "kernelspec": {
   "display_name": "base",
   "language": "python",
   "name": "python3"
  },
  "language_info": {
   "codemirror_mode": {
    "name": "ipython",
    "version": 3
   },
   "file_extension": ".py",
   "mimetype": "text/x-python",
   "name": "python",
   "nbconvert_exporter": "python",
   "pygments_lexer": "ipython3",
   "version": "3.11.8"
  }
 },
 "nbformat": 4,
 "nbformat_minor": 2
}
