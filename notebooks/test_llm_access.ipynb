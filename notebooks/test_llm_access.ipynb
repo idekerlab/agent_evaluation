{
 "cells": [
  {
   "cell_type": "code",
   "execution_count": 4,
   "metadata": {},
   "outputs": [
    {
     "name": "stdout",
     "output_type": "stream",
     "text": [
      "/Users/idekeradmin/Dropbox/GitHub/agent_evaluation/notebooks\n",
      "/Users/idekeradmin/Dropbox/GitHub/agent_evaluation\n",
      "['/Users/idekeradmin/Dropbox/GitHub/agent_evaluation/notebooks', '/opt/anaconda3/lib/python311.zip', '/opt/anaconda3/lib/python3.11', '/opt/anaconda3/lib/python3.11/lib-dynload', '', '/Users/idekeradmin/.local/lib/python3.11/site-packages', '/opt/anaconda3/lib/python3.11/site-packages', '/opt/anaconda3/lib/python3.11/site-packages/aeosa', '/Users/idekeradmin/Dropbox/GitHub/agent_evaluation', '/Users/idekeradmin/Dropbox/GitHub/agent_evaluation']\n"
     ]
    }
   ],
   "source": [
    "import sys\n",
    "import os\n",
    "\n",
    "# Add the parent directory of the current script to the Python path\n",
    "cwd = os.getcwd()\n",
    "dirname = os.path.dirname(cwd)\n",
    "print(cwd)\n",
    "print(dirname)\n",
    "sys.path.append(dirname)\n",
    "\n",
    "print(sys.path)"
   ]
  },
  {
   "cell_type": "code",
   "execution_count": null,
   "metadata": {},
   "outputs": [],
   "source": [
    "from agent_evaluation.llm import LocalOllama_LLM\n",
    "\n",
    "ollama = LocalOllama_LLM(\"llama2\", temperature=0, max_tokens=1000)\n",
    "\n",
    "# ollama.query(\"You are a helpful assistant. \", \"What is the capital of California? Only return the name of the city.\")    \n",
    "\n",
    "ollama._run_cmd (\"ollama run llama2 'you are a helpful assistant what is the capital of California? Only return the answer.'\")"
   ]
  },
  {
   "cell_type": "code",
   "execution_count": 3,
   "metadata": {},
   "outputs": [
    {
     "name": "stdout",
     "output_type": "stream",
     "text": [
      "Name: BioGRID: Protein-Protein Interactions (SARS-CoV)\n",
      "Number of nodes: 1373\n",
      "Number of nodes: 1642\n",
      "[\n",
      "  {\n",
      "    \"CXVersion\": \"2.0\",\n",
      "    \"hasFragments\": false\n",
      "  },\n",
      "  {\n",
      "    \"metaData\": [\n",
      "      {\n",
      "        \"\n"
     ]
    }
   ],
   "source": [
    "import ndex2\n",
    "from agent_evaluation.hierarchy import Hierarchy, Network\n",
    "import json\n",
    "from ndex2.cx2 import RawCX2NetworkFactory\n",
    "\n",
    "# Create NDEx2 python client\n",
    "client = ndex2.client.Ndex2()\n",
    "\n",
    "# Create CX2Network factory\n",
    "factory = RawCX2NetworkFactory()\n",
    "\n",
    "# Download BioGRID: Protein-Protein Interactions (SARS-CoV) from NDEx\n",
    "# https://www.ndexbio.org/viewer/networks/669f30a3-cee6-11ea-aaef-0ac135e8bacf\n",
    "client_resp = client.get_network_as_cx2_stream('669f30a3-cee6-11ea-aaef-0ac135e8bacf')\n",
    "\n",
    "# Convert downloaded network to CX2Network object\n",
    "net_cx = factory.get_cx2network(json.loads(client_resp.content))\n",
    "\n",
    "# Display information about network and output 1st 100 characters of CX2\n",
    "print('Name: ' + net_cx.get_name())\n",
    "print('Number of nodes: ' + str(len(net_cx.get_nodes())))\n",
    "print('Number of nodes: ' + str(len(net_cx.get_edges())))\n",
    "print(json.dumps(net_cx.to_cx2(), indent=2)[0:100])\n"
   ]
  },
  {
   "cell_type": "code",
   "execution_count": null,
   "metadata": {},
   "outputs": [],
   "source": []
  },
  {
   "cell_type": "code",
   "execution_count": null,
   "metadata": {},
   "outputs": [],
   "source": [
    "import openai\n",
    "\n",
    "response = openai.ChatCompletion.create(\n",
    "                    model=\"gpt-3.5-turbo-1106\",\n",
    "                    messages=[{\"role\": \"system\", \"content\": \"you are a helpful assistant\"},{\"role\": \"user\", \"content\": \"what is the best way to make a cup of coffee?\"}],\n",
    "                    max_tokens=1000,\n",
    "                    n=1,\n",
    "                    stop=None,\n",
    "                    seed=42,\n",
    "                    temperature=0)\n",
    "\n",
    "response"
   ]
  },
  {
   "cell_type": "code",
   "execution_count": 5,
   "metadata": {},
   "outputs": [
    {
     "name": "stdout",
     "output_type": "stream",
     "text": [
      "Model: gpt-3.5-turbo-1106, Temperature: 0, Max Tokens: 2048, Seed: 42\n"
     ]
    },
    {
     "data": {
      "text/plain": [
       "('The number often associated with the meaning of life is 42, as famously suggested in Douglas Adams\\' \"The Hitchhiker\\'s Guide to the Galaxy.\" However, the true meaning of life is a philosophical question that has been pondered by many throughout history, and it may not have a definitive numerical answer.',\n",
       " 'fp_89448ee5dc',\n",
       " 86)"
      ]
     },
     "execution_count": 5,
     "metadata": {},
     "output_type": "execute_result"
    }
   ],
   "source": [
    "from agent_evaluation.llm import OpenAI_LLM\n",
    "\n",
    "gpt_35 = OpenAI_LLM(\"gpt-3.5-turbo-1106\")\n",
    "\n",
    "gpt_35.query()\n"
   ]
  },
  {
   "cell_type": "code",
   "execution_count": null,
   "metadata": {},
   "outputs": [],
   "source": [
    "from agent_evaluation.llm import ServerModel_LLM\n",
    "\n",
    "# mixtral7b = ServerModel_LLM(\"mixtral:instruct\", url=\"https://ollama-api.ideker.ucsd.edu/api/generate\", key=\"Y0hWaWRtbHphWFJ2Y2pveFJHVmhNRFZJTW5BeGJWQXhNRTB3VEZVPQ==\")\n",
    "mixtral7b = ServerModel_LLM(\"mixtral:instruct\", url=\"https://api.llm.ideker.ucsd.edu/api/chat\", key=\"Y0hWaWRtbHphWFJ2Y2pveFJHVmhNRFZJTW5BeGJWQXhNRTB3VEZVPQ==\")\n",
    "\n",
    "mixtral7b.query(\"you are a helpful assistant\", \"what is the best way to make a cup of coffee?\")     "
   ]
  }
 ],
 "metadata": {
  "kernelspec": {
   "display_name": "base",
   "language": "python",
   "name": "python3"
  },
  "language_info": {
   "codemirror_mode": {
    "name": "ipython",
    "version": 3
   },
   "file_extension": ".py",
   "mimetype": "text/x-python",
   "name": "python",
   "nbconvert_exporter": "python",
   "pygments_lexer": "ipython3",
   "version": "3.11.8"
  }
 },
 "nbformat": 4,
 "nbformat_minor": 2
}
